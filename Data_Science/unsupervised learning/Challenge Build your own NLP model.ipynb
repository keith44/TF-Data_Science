{
 "cells": [
  {
   "cell_type": "code",
   "execution_count": 594,
   "metadata": {},
   "outputs": [],
   "source": [
    "%matplotlib inline\n",
    "import numpy as np\n",
    "import pandas as pd\n",
    "import scipy\n",
    "import sklearn\n",
    "import spacy\n",
    "import matplotlib.pyplot as plt\n",
    "import seaborn as sns\n",
    "import re\n",
    "from nltk.corpus import product_reviews_2, stopwords\n",
    "from sklearn.feature_extraction.text import TfidfVectorizer\n",
    "from collections import Counter\n",
    "from urllib.request import urlopen as uReq\n",
    "from bs4 import BeautifulSoup as soup\n",
    "import nltk.corpus"
   ]
  },
  {
   "cell_type": "markdown",
   "metadata": {},
   "source": [
    "## Classifying products using text reviews"
   ]
  },
  {
   "cell_type": "markdown",
   "metadata": {},
   "source": [
    "I will attemt to use bag of words and TF-IDF to create features for prduct reviews that were downloaded from the NLTK database."
   ]
  },
  {
   "cell_type": "code",
   "execution_count": 595,
   "metadata": {},
   "outputs": [
    {
     "data": {
      "text/plain": [
       "['Canon_PowerShot_SD500.txt',\n",
       " 'Canon_S100.txt',\n",
       " 'Diaper_Champ.txt',\n",
       " 'Hitachi_router.txt',\n",
       " 'Linksys_Router.txt',\n",
       " 'MicroMP3.txt',\n",
       " 'Nokia_6600.txt',\n",
       " 'README.txt',\n",
       " 'ipod.txt',\n",
       " 'norton.txt']"
      ]
     },
     "execution_count": 595,
     "metadata": {},
     "output_type": "execute_result"
    }
   ],
   "source": [
    "product_reviews_2.fileids()"
   ]
  },
  {
   "cell_type": "markdown",
   "metadata": {},
   "source": [
    "## Bag Of Words"
   ]
  },
  {
   "cell_type": "code",
   "execution_count": 596,
   "metadata": {},
   "outputs": [],
   "source": [
    "# load reviews\n",
    "Canon_PowerShot_SD500 = product_reviews_2.raw('Canon_PowerShot_SD500.txt')\n",
    "Canon_S100=  product_reviews_2.raw( 'Canon_S100.txt')\n",
    "Diaper_Champ = product_reviews_2.raw('Diaper_Champ.txt')\n",
    "Hitachi_route =  product_reviews_2.raw('Hitachi_router.txt')\n",
    "Linksys_Router = product_reviews_2.raw('Linksys_Router.txt')\n",
    "MicroMP3 = product_reviews_2.raw('Canon_PowerShot_SD500.txt')\n",
    "Nokia_6600 = product_reviews_2.raw('Nokia_6600.txt')\n",
    "ipod = product_reviews_2.raw('ipod.txt')\n",
    "norton = product_reviews_2.raw('norton.txt')\n",
    " "
   ]
  },
  {
   "cell_type": "code",
   "execution_count": 597,
   "metadata": {},
   "outputs": [
    {
     "data": {
      "text/plain": [
       "'[t]\\nSD500[+2]##We really enjoyed shooting with the Canon PowerShot SD500. \\ndesign[+2]##It has an exterior design that combines form and function more elegantly than any point-and-shoot we\\'ve ever tested. \\nimage-processing system[+1]##A Digic II-powered image-processing system enables the SD500 to snap a limitless stream of 7-megapixel photos at a respectable clip, its start-up time is tops in its class, and it delivers decent photos when compared to its competition. \\nimage[+2]##The SD500 rivals the Canon G6 in image quality. \\n##I\\'ve had it for about a month and it is simply the best point-and-shoot your money can buy. \\n##I sincerely question the CNET reviewer\\'s ability and/or their bias. \\n##If you want something resembling a REAL and professional review before plunking down your $500.00, I suggest going to dpreview or dcresource and reading the reviews there. \\n##I post under JTL at dcresource...check out my images if you want to see what this camera can do. \\npricey[-1]##I thought given all the \"10\" reviews about this camera that I would buy it in spite of being a bit pricey. \\nLCD[-1]##I did see the review here and other places about a cracked LCD screen. \\n##I figured that the few people who reported that the LCD screen cracked on them was episodic and it would never happen to me. \\n##I received the SD500 on Monday, charged the battery and inserted the SD card that came with it, took a few pictures and waited until Thursday when the 2 GB SD card came that I had ordered. \\n##The camera was sitting on my home desk waiting for the new digital card and the weekend for the first round of serious shooting. \\n##It was NOT dropped or sat on or subjected to any other trauma -- it just sat on my desk in my home office \\\\u00F4 where no one goes but me. \\nLCD[-1]##When I went to put in the new SD Card I looked at the LCD Screen -- CRACKED-- and the fluid gave a Jackson Pollock type appearance to the screen, black and blue and purple blotches and streaks --useless. \\n##I have called Ca'"
      ]
     },
     "execution_count": 597,
     "metadata": {},
     "output_type": "execute_result"
    }
   ],
   "source": [
    "Canon_PowerShot_SD500[:2000]"
   ]
  },
  {
   "cell_type": "code",
   "execution_count": 598,
   "metadata": {},
   "outputs": [],
   "source": [
    "# a little cleaning\n",
    "def clean_txt(text):    \n",
    "    text = text.lower() \n",
    "    text  = re.sub(r'^[^ ]*', '', text) # removes single letters\n",
    "    text = re.sub(\"[^a-zA-Z.' ]+\", \" \", text) #removes anything that isn't a letter\n",
    "    text = re.sub('\\[.*?\\]', \" \", text)# removes text and brackets if there are words or letters in brackets\n",
    "    text = re.sub('\\w*\\d\\w*', '', text)# removes breaks\n",
    "    text = \" \".join(text.split()).strip()\n",
    "\n",
    "    return text;"
   ]
  },
  {
   "cell_type": "code",
   "execution_count": 599,
   "metadata": {},
   "outputs": [],
   "source": [
    "# apply cleaning to all documents\n",
    "Canon_PowerShot_SD500 = clean_txt(Canon_PowerShot_SD500[:int(len(Canon_PowerShot_SD500)/10)])\n",
    "Canon_S100 = clean_txt(Canon_S100[:int(len(Canon_S100)/10)])\n",
    "Diaper_Champ = clean_txt(Diaper_Champ[:int(len(Diaper_Champ)/5)])\n",
    "Hitachi_route = clean_txt(Hitachi_route[:int(len(Hitachi_route)/10)])\n",
    "Linksys_Router = clean_txt(Linksys_Router[:int(len(Linksys_Router)/10)])\n",
    "MicroMP3 = clean_txt(MicroMP3[:int(len(MicroMP3)/10)])\n",
    "Nokia_6600 = clean_txt(Nokia_6600[:int(len(Nokia_6600)/10)])\n",
    "ipod = clean_txt(ipod[:int(len(ipod)/10)])\n",
    "norton = clean_txt(norton[:int(len(norton)/5)])\n"
   ]
  },
  {
   "cell_type": "code",
   "execution_count": 600,
   "metadata": {},
   "outputs": [],
   "source": [
    "# parse with SpaCy\n",
    "nlp = spacy.load('en')\n",
    "Canon_PowerShot_SD500_doc = nlp(Canon_PowerShot_SD500)\n",
    "Canon_S100_doc = nlp(Canon_S100) \n",
    "Diaper_Champ_doc = nlp(Diaper_Champ) \n",
    "Hitachi_route_doc = nlp(Hitachi_route) \n",
    "Linksys_Router_doc = nlp(Linksys_Router)\n",
    "MicroMP3_doc = nlp(MicroMP3) \n",
    "Nokia_6600_doc = nlp(Nokia_6600) \n",
    "ipod_doc = nlp(ipod) \n",
    "norton_doc = nlp(norton) "
   ]
  },
  {
   "cell_type": "code",
   "execution_count": 601,
   "metadata": {},
   "outputs": [
    {
     "data": {
      "text/plain": [
       "really enjoyed shooting with the canon powershot sd . design it has an exterior design that combines form and function more elegantly than any point and shoot we've ever tested. image processing system a digic ii powered image processing system enables the sd to snap a limitless stream of megapixel photos at a respectable clip its start up time is tops in its class and it delivers decent photos when compared to its competition. image the sd rivals the canon g in image quality. i've had it for about a month and it is simply the best point and shoot your money can buy. i sincerely question the cnet reviewer's ability and or their bias. if you want something resembling a real and professional review before plunking down your . i suggest going to dpreview or dcresource and reading the reviews there. i post under jtl at dcresource...check out my images if you want to see what this camera can do. pricey i thought given all the reviews about this camera that i would buy it in spite of being a bit pricey. lcd i did see the review here and other places about a cracked lcd screen. i figured that the few people who reported that the lcd screen cracked on them was episodic and it would never happen to me. i received the sd on monday charged the battery and inserted the sd card that came with it took a few pictures and waited until thursday when the gb sd card came that i had ordered. the camera was sitting on my home desk waiting for the new digital card and the weekend for the first round of serious shooting. it was not dropped or sat on or subjected to any other trauma it just sat on my desk in my home office u f where no one goes but me. lcd when i went to put in the new sd card i looked at the lcd screen cracked and the fluid gave a jackson pollock type appearance to the screen black and blue and purple blotches and streaks useless. i have called cannon they are sending me an rfa i will let you know if they treat me well or otherwise. camera this camera is truely superb. pictures the startup time quality of pictures and videos is outstanding. manual control some more manual control would have been nice. and shooters in low light should either select the iso manually and or make sure that they don't shake much as the camera's chip goes for detail over smoothness. also ensure tha"
      ]
     },
     "execution_count": 601,
     "metadata": {},
     "output_type": "execute_result"
    }
   ],
   "source": [
    "Canon_PowerShot_SD500_doc"
   ]
  },
  {
   "cell_type": "code",
   "execution_count": 602,
   "metadata": {},
   "outputs": [],
   "source": [
    "# separate into sentences\n",
    "Canon_PowerShot_SD500_sents =[[sent, \"camera\"] for sent in Canon_PowerShot_SD500_doc.sents]\n",
    "Canon_S100_sents = [[sent, \"camera\"] for sent in Canon_S100_doc.sents]\n",
    "Diaper_Champ_sents = [[sent, \"diaper_machine\"] for sent in Diaper_Champ_doc.sents]\n",
    "Hitachi_route_sents = [[sent, \"router\"] for sent in Hitachi_route_doc.sents]\n",
    "Linksys_Router_sents = [[sent, \"router\"] for sent in Linksys_Router_doc.sents]\n",
    "MicroMP3_sents = [[sent, \"mp3_player\"] for sent in MicroMP3_doc.sents]\n",
    "aNokia_6600_sents = [[sent, \"phone\"] for sent in Nokia_6600_doc.sents]\n",
    "ipod_sents = [[sent, \"mp3_player\"] for sent in ipod_doc.sents]\n",
    "norton_sents = [[sent, \"AV_software\"] for sent in norton_doc.sents]\n",
    " "
   ]
  },
  {
   "cell_type": "code",
   "execution_count": 603,
   "metadata": {},
   "outputs": [
    {
     "data": {
      "text/html": [
       "<div>\n",
       "<style scoped>\n",
       "    .dataframe tbody tr th:only-of-type {\n",
       "        vertical-align: middle;\n",
       "    }\n",
       "\n",
       "    .dataframe tbody tr th {\n",
       "        vertical-align: top;\n",
       "    }\n",
       "\n",
       "    .dataframe thead th {\n",
       "        text-align: right;\n",
       "    }\n",
       "</style>\n",
       "<table border=\"1\" class=\"dataframe\">\n",
       "  <thead>\n",
       "    <tr style=\"text-align: right;\">\n",
       "      <th></th>\n",
       "      <th>0</th>\n",
       "      <th>1</th>\n",
       "    </tr>\n",
       "  </thead>\n",
       "  <tbody>\n",
       "    <tr>\n",
       "      <th>0</th>\n",
       "      <td>(really, enjoyed, shooting, with, the, canon, ...</td>\n",
       "      <td>camera</td>\n",
       "    </tr>\n",
       "    <tr>\n",
       "      <th>1</th>\n",
       "      <td>(design, it, has, an, exterior, design, that, ...</td>\n",
       "      <td>camera</td>\n",
       "    </tr>\n",
       "    <tr>\n",
       "      <th>2</th>\n",
       "      <td>(image, processing, system, a, digic, ii, powe...</td>\n",
       "      <td>camera</td>\n",
       "    </tr>\n",
       "    <tr>\n",
       "      <th>3</th>\n",
       "      <td>(image, the, sd, rivals, the, canon, g, in, im...</td>\n",
       "      <td>camera</td>\n",
       "    </tr>\n",
       "    <tr>\n",
       "      <th>4</th>\n",
       "      <td>(i, 've, had, it, for, about, a, month, and, i...</td>\n",
       "      <td>camera</td>\n",
       "    </tr>\n",
       "  </tbody>\n",
       "</table>\n",
       "</div>"
      ],
      "text/plain": [
       "                                                   0       1\n",
       "0  (really, enjoyed, shooting, with, the, canon, ...  camera\n",
       "1  (design, it, has, an, exterior, design, that, ...  camera\n",
       "2  (image, processing, system, a, digic, ii, powe...  camera\n",
       "3  (image, the, sd, rivals, the, canon, g, in, im...  camera\n",
       "4  (i, 've, had, it, for, about, a, month, and, i...  camera"
      ]
     },
     "execution_count": 603,
     "metadata": {},
     "output_type": "execute_result"
    }
   ],
   "source": [
    "# create data frame for sentences and target\n",
    "sentences = pd.DataFrame(Canon_PowerShot_SD500_sents+Canon_S100_sents+Diaper_Champ_sents+\n",
    "                         Hitachi_route_sents+Linksys_Router_sents+MicroMP3_sents+aNokia_6600_sents+ipod_sents+norton_sents)\n",
    "sentences.head()"
   ]
  },
  {
   "cell_type": "code",
   "execution_count": 604,
   "metadata": {},
   "outputs": [
    {
     "data": {
      "text/plain": [
       "mp3_player        119\n",
       "router            114\n",
       "diaper_machine    102\n",
       "AV_software        94\n",
       "phone              88\n",
       "camera             63\n",
       "Name: 1, dtype: int64"
      ]
     },
     "execution_count": 604,
     "metadata": {},
     "output_type": "execute_result"
    }
   ],
   "source": [
    "sentences[1].value_counts()"
   ]
  },
  {
   "cell_type": "code",
   "execution_count": 311,
   "metadata": {},
   "outputs": [],
   "source": [
    "# filter and return words\n",
    "def bag_of_words(text):\n",
    "    \n",
    "    # Filter out punctuation and stop words.\n",
    "    allwords = [token.lemma_\n",
    "                for token in text\n",
    "                if not token.is_punct\n",
    "                and not token.is_stop]\n",
    "    \n",
    "    # Return the most common words.\n",
    "    return [item[0] for item in Counter(allwords).most_common(200)];\n",
    "    "
   ]
  },
  {
   "cell_type": "code",
   "execution_count": 312,
   "metadata": {},
   "outputs": [],
   "source": [
    "# create features and data frame\n",
    "def bow_features(sentences, common_words):\n",
    "    \n",
    "    # Scaffold the data frame and initialize counts to zero.\n",
    "    df = pd.DataFrame(columns=common_words)\n",
    "    df['text_sentence'] = sentences[0]\n",
    "    df['text_source'] = sentences[1]\n",
    "    df.loc[:, common_words] = 0\n",
    "    \n",
    "    # Process each row, counting the occurrence of words in each sentence.\n",
    "    for i, sentence in enumerate(df['text_sentence']):\n",
    "        \n",
    "        # Convert the sentence to lemmas, then filter out punctuation,\n",
    "        # stop words, and uncommon words.\n",
    "        words = [token.lemma_\n",
    "                 for token in sentence\n",
    "                 if (\n",
    "                     not token.is_punct\n",
    "                     and not token.is_stop\n",
    "                     and token.lemma_ in common_words\n",
    "                 )]\n",
    "       \n",
    "        # Populate the row with word counts.\n",
    "        for word in words:\n",
    "            df.loc[i, word] += 1\n",
    "        \n",
    "        # This counter is just to make sure the kernel didn't hang.\n",
    "        if i % 100 == 0:\n",
    "            print(\"Processing row {}\".format(i))\n",
    "            \n",
    "    return df\n",
    "\n"
   ]
  },
  {
   "cell_type": "code",
   "execution_count": 313,
   "metadata": {},
   "outputs": [],
   "source": [
    "# appyly functions\n",
    "\n",
    "Canon_PowerShot_SD500_words = bag_of_words(Canon_PowerShot_SD500_doc)\n",
    "Canon_S100_words = bag_of_words(Canon_S100_doc)\n",
    "Diaper_Champ_words = bag_of_words(Diaper_Champ_doc)\n",
    "Hitachi_router_words = bag_of_words(Hitachi_route_doc)\n",
    "Linksys_Router_words = bag_of_words(Linksys_Router_doc)\n",
    "MicroMP3_words = bag_of_words(MicroMP3_doc)\n",
    "Nokia_6600_words = bag_of_words(Nokia_6600_doc)\n",
    "ipod_words  = bag_of_words(ipod_doc)\n",
    "norton_words = bag_of_words(norton_doc)\n",
    "\n",
    "\n",
    "# Combine bags to create a set of unique words.\n",
    "common_words = set(Canon_PowerShot_SD500_words+\n",
    "Canon_S100_words+\n",
    "Diaper_Champ_words+\n",
    "Hitachi_router_words+\n",
    "Linksys_Router_words+\n",
    "MicroMP3_words+\n",
    "Nokia_6600_words+\n",
    "ipod_words+\n",
    "norton_words)"
   ]
  },
  {
   "cell_type": "code",
   "execution_count": 314,
   "metadata": {},
   "outputs": [
    {
     "name": "stdout",
     "output_type": "stream",
     "text": [
      "Processing row 0\n",
      "Processing row 100\n",
      "Processing row 200\n",
      "Processing row 300\n",
      "Processing row 400\n",
      "Processing row 500\n"
     ]
    },
    {
     "data": {
      "text/html": [
       "<div>\n",
       "<style scoped>\n",
       "    .dataframe tbody tr th:only-of-type {\n",
       "        vertical-align: middle;\n",
       "    }\n",
       "\n",
       "    .dataframe tbody tr th {\n",
       "        vertical-align: top;\n",
       "    }\n",
       "\n",
       "    .dataframe thead th {\n",
       "        text-align: right;\n",
       "    }\n",
       "</style>\n",
       "<table border=\"1\" class=\"dataframe\">\n",
       "  <thead>\n",
       "    <tr style=\"text-align: right;\">\n",
       "      <th></th>\n",
       "      <th>kind</th>\n",
       "      <th>toddlerhood</th>\n",
       "      <th>post</th>\n",
       "      <th>idea</th>\n",
       "      <th>unable</th>\n",
       "      <th>literally</th>\n",
       "      <th>hate</th>\n",
       "      <th>smoothness</th>\n",
       "      <th>formula</th>\n",
       "      <th>god</th>\n",
       "      <th>...</th>\n",
       "      <th>proudly</th>\n",
       "      <th>set</th>\n",
       "      <th>x</th>\n",
       "      <th>know</th>\n",
       "      <th>static</th>\n",
       "      <th>gas</th>\n",
       "      <th>log</th>\n",
       "      <th>class</th>\n",
       "      <th>text_sentence</th>\n",
       "      <th>text_source</th>\n",
       "    </tr>\n",
       "  </thead>\n",
       "  <tbody>\n",
       "    <tr>\n",
       "      <th>0</th>\n",
       "      <td>0</td>\n",
       "      <td>0</td>\n",
       "      <td>0</td>\n",
       "      <td>0</td>\n",
       "      <td>0</td>\n",
       "      <td>0</td>\n",
       "      <td>0</td>\n",
       "      <td>0</td>\n",
       "      <td>0</td>\n",
       "      <td>0</td>\n",
       "      <td>...</td>\n",
       "      <td>0</td>\n",
       "      <td>0</td>\n",
       "      <td>0</td>\n",
       "      <td>0</td>\n",
       "      <td>0</td>\n",
       "      <td>0</td>\n",
       "      <td>0</td>\n",
       "      <td>0</td>\n",
       "      <td>(really, enjoyed, shooting, with, the, canon, ...</td>\n",
       "      <td>camera</td>\n",
       "    </tr>\n",
       "    <tr>\n",
       "      <th>1</th>\n",
       "      <td>0</td>\n",
       "      <td>0</td>\n",
       "      <td>0</td>\n",
       "      <td>0</td>\n",
       "      <td>0</td>\n",
       "      <td>0</td>\n",
       "      <td>0</td>\n",
       "      <td>0</td>\n",
       "      <td>0</td>\n",
       "      <td>0</td>\n",
       "      <td>...</td>\n",
       "      <td>0</td>\n",
       "      <td>0</td>\n",
       "      <td>0</td>\n",
       "      <td>0</td>\n",
       "      <td>0</td>\n",
       "      <td>0</td>\n",
       "      <td>0</td>\n",
       "      <td>0</td>\n",
       "      <td>(design, it, has, an, exterior, design, that, ...</td>\n",
       "      <td>camera</td>\n",
       "    </tr>\n",
       "    <tr>\n",
       "      <th>2</th>\n",
       "      <td>0</td>\n",
       "      <td>0</td>\n",
       "      <td>0</td>\n",
       "      <td>0</td>\n",
       "      <td>0</td>\n",
       "      <td>0</td>\n",
       "      <td>0</td>\n",
       "      <td>0</td>\n",
       "      <td>0</td>\n",
       "      <td>0</td>\n",
       "      <td>...</td>\n",
       "      <td>0</td>\n",
       "      <td>0</td>\n",
       "      <td>0</td>\n",
       "      <td>0</td>\n",
       "      <td>0</td>\n",
       "      <td>0</td>\n",
       "      <td>0</td>\n",
       "      <td>1</td>\n",
       "      <td>(image, processing, system, a, digic, ii, powe...</td>\n",
       "      <td>camera</td>\n",
       "    </tr>\n",
       "    <tr>\n",
       "      <th>3</th>\n",
       "      <td>0</td>\n",
       "      <td>0</td>\n",
       "      <td>0</td>\n",
       "      <td>0</td>\n",
       "      <td>0</td>\n",
       "      <td>0</td>\n",
       "      <td>0</td>\n",
       "      <td>0</td>\n",
       "      <td>0</td>\n",
       "      <td>0</td>\n",
       "      <td>...</td>\n",
       "      <td>0</td>\n",
       "      <td>0</td>\n",
       "      <td>0</td>\n",
       "      <td>0</td>\n",
       "      <td>0</td>\n",
       "      <td>0</td>\n",
       "      <td>0</td>\n",
       "      <td>0</td>\n",
       "      <td>(image, the, sd, rivals, the, canon, g, in, im...</td>\n",
       "      <td>camera</td>\n",
       "    </tr>\n",
       "    <tr>\n",
       "      <th>4</th>\n",
       "      <td>0</td>\n",
       "      <td>0</td>\n",
       "      <td>0</td>\n",
       "      <td>0</td>\n",
       "      <td>0</td>\n",
       "      <td>0</td>\n",
       "      <td>0</td>\n",
       "      <td>0</td>\n",
       "      <td>0</td>\n",
       "      <td>0</td>\n",
       "      <td>...</td>\n",
       "      <td>0</td>\n",
       "      <td>0</td>\n",
       "      <td>0</td>\n",
       "      <td>0</td>\n",
       "      <td>0</td>\n",
       "      <td>0</td>\n",
       "      <td>0</td>\n",
       "      <td>0</td>\n",
       "      <td>(i, 've, had, it, for, about, a, month, and, i...</td>\n",
       "      <td>camera</td>\n",
       "    </tr>\n",
       "  </tbody>\n",
       "</table>\n",
       "<p>5 rows × 941 columns</p>\n",
       "</div>"
      ],
      "text/plain": [
       "  kind toddlerhood post idea unable literally hate smoothness formula god  \\\n",
       "0    0           0    0    0      0         0    0          0       0   0   \n",
       "1    0           0    0    0      0         0    0          0       0   0   \n",
       "2    0           0    0    0      0         0    0          0       0   0   \n",
       "3    0           0    0    0      0         0    0          0       0   0   \n",
       "4    0           0    0    0      0         0    0          0       0   0   \n",
       "\n",
       "      ...     proudly set  x know static gas log class  \\\n",
       "0     ...           0   0  0    0      0   0   0     0   \n",
       "1     ...           0   0  0    0      0   0   0     0   \n",
       "2     ...           0   0  0    0      0   0   0     1   \n",
       "3     ...           0   0  0    0      0   0   0     0   \n",
       "4     ...           0   0  0    0      0   0   0     0   \n",
       "\n",
       "                                       text_sentence text_source  \n",
       "0  (really, enjoyed, shooting, with, the, canon, ...      camera  \n",
       "1  (design, it, has, an, exterior, design, that, ...      camera  \n",
       "2  (image, processing, system, a, digic, ii, powe...      camera  \n",
       "3  (image, the, sd, rivals, the, canon, g, in, im...      camera  \n",
       "4  (i, 've, had, it, for, about, a, month, and, i...      camera  \n",
       "\n",
       "[5 rows x 941 columns]"
      ]
     },
     "execution_count": 314,
     "metadata": {},
     "output_type": "execute_result"
    }
   ],
   "source": [
    "# Create our data frame with features.  \n",
    "word_counts = bow_features(sentences, common_words)\n",
    "word_counts.head()"
   ]
  },
  {
   "cell_type": "markdown",
   "metadata": {},
   "source": [
    "### Modeling\n",
    "Random forest and linear regression"
   ]
  },
  {
   "cell_type": "code",
   "execution_count": 324,
   "metadata": {},
   "outputs": [
    {
     "name": "stdout",
     "output_type": "stream",
     "text": [
      "Training set score: 0.7333333333333333\n",
      "\n",
      "Test set score: 0.5586206896551724\n"
     ]
    }
   ],
   "source": [
    "from sklearn import ensemble\n",
    "from sklearn.model_selection import train_test_split\n",
    "\n",
    "rfc = ensemble.RandomForestClassifier(n_estimators=200,max_depth=10,)\n",
    "Y = word_counts['text_source']\n",
    "X = np.array(word_counts.drop(['text_sentence','text_source'], 1))\n",
    "\n",
    "X_train, X_test, y_train, y_test = train_test_split(X, \n",
    "                                                    Y,\n",
    "                                                    test_size=0.25,\n",
    "                                                    random_state=0)\n",
    "train = rfc.fit(X_train, y_train)\n",
    "\n",
    "print('Training set score:', rfc.score(X_train, y_train))\n",
    "print('\\nTest set score:', rfc.score(X_test, y_test))"
   ]
  },
  {
   "cell_type": "markdown",
   "metadata": {},
   "source": [
    "Looks like there is some overfitting with Random Forest"
   ]
  },
  {
   "cell_type": "code",
   "execution_count": 317,
   "metadata": {},
   "outputs": [
    {
     "name": "stderr",
     "output_type": "stream",
     "text": [
      "C:\\Users\\keith\\AppData\\Roaming\\Python\\Python37\\site-packages\\sklearn\\linear_model\\logistic.py:432: FutureWarning: Default solver will be changed to 'lbfgs' in 0.22. Specify a solver to silence this warning.\n",
      "  FutureWarning)\n"
     ]
    },
    {
     "name": "stdout",
     "output_type": "stream",
     "text": [
      "(435, 939) (435,)\n",
      "Training set score: 0.9379310344827586\n",
      "\n",
      "Test set score: 0.6137931034482759\n"
     ]
    }
   ],
   "source": [
    "from sklearn.linear_model import LogisticRegression\n",
    "\n",
    "lr = LogisticRegression(multi_class='auto') # No need to specify l2 as it's the default. But we put it for demonstration.\n",
    "train = lr.fit(X_train, y_train)\n",
    "print(X_train.shape, y_train.shape)\n",
    "print('Training set score:', lr.score(X_train, y_train))\n",
    "print('\\nTest set score:', lr.score(X_test, y_test))"
   ]
  },
  {
   "cell_type": "markdown",
   "metadata": {},
   "source": [
    "Way more overfitting with linear regression"
   ]
  },
  {
   "cell_type": "markdown",
   "metadata": {},
   "source": [
    "## TF_IDF"
   ]
  },
  {
   "cell_type": "code",
   "execution_count": 606,
   "metadata": {},
   "outputs": [],
   "source": [
    "# load documents\n",
    "Canon_PowerShot_SD500 = product_reviews_2.raw('Canon_PowerShot_SD500.txt')\n",
    "Canon_S100=  product_reviews_2.raw( 'Canon_S100.txt')\n",
    "Diaper_Champ = product_reviews_2.raw('Diaper_Champ.txt')\n",
    "Hitachi_route =  product_reviews_2.raw('Hitachi_router.txt')\n",
    "Linksys_Router = product_reviews_2.raw('Linksys_Router.txt')\n",
    "MicroMP3 = product_reviews_2.raw('Canon_PowerShot_SD500.txt')\n",
    "Nokia_6600 = product_reviews_2.raw('Nokia_6600.txt')\n",
    "ipod = product_reviews_2.raw('ipod.txt')\n",
    "norton = product_reviews_2.raw('norton.txt')\n",
    " "
   ]
  },
  {
   "cell_type": "code",
   "execution_count": 607,
   "metadata": {},
   "outputs": [],
   "source": [
    "# split into sentences\n",
    "Canon_PowerShot_SD500_sents =[[sent, \"camera\"] for sent in Canon_PowerShot_SD500.split(\".\")]\n",
    "Canon_S100_sents = [[sent, \"camera\"] for sent in Canon_S100.split(\".\")]\n",
    "Diaper_Champ_sents = [[sent, \"diaper_machine\"] for sent in Diaper_Champ.split(\".\")]\n",
    "Hitachi_route_sents = [[sent, \"router\"] for sent in Hitachi_route.split(\".\")]\n",
    "Linksys_Router_sents = [[sent, \"router\"] for sent in Linksys_Router.split(\".\")]\n",
    "MicroMP3_sents = [[sent, \"mp3_player\"] for sent in MicroMP3.split(\".\")]\n",
    "aNokia_6600_sents = [[sent, \"phone\"] for sent in Nokia_6600.split(\".\")]\n",
    "ipod_sents = [[sent, \"mp3_player\"] for sent in ipod.split(\".\")]\n",
    "norton_sents = [[sent, \"AV_software\"] for sent in norton.split(\".\")]\n",
    " "
   ]
  },
  {
   "cell_type": "code",
   "execution_count": 608,
   "metadata": {},
   "outputs": [
    {
     "data": {
      "text/html": [
       "<div>\n",
       "<style scoped>\n",
       "    .dataframe tbody tr th:only-of-type {\n",
       "        vertical-align: middle;\n",
       "    }\n",
       "\n",
       "    .dataframe tbody tr th {\n",
       "        vertical-align: top;\n",
       "    }\n",
       "\n",
       "    .dataframe thead th {\n",
       "        text-align: right;\n",
       "    }\n",
       "</style>\n",
       "<table border=\"1\" class=\"dataframe\">\n",
       "  <thead>\n",
       "    <tr style=\"text-align: right;\">\n",
       "      <th></th>\n",
       "      <th>0</th>\n",
       "      <th>1</th>\n",
       "    </tr>\n",
       "  </thead>\n",
       "  <tbody>\n",
       "    <tr>\n",
       "      <th>0</th>\n",
       "      <td>[t]\\nSD500[+2]##We really enjoyed shooting wit...</td>\n",
       "      <td>camera</td>\n",
       "    </tr>\n",
       "    <tr>\n",
       "      <th>1</th>\n",
       "      <td>\\ndesign[+2]##It has an exterior design that ...</td>\n",
       "      <td>camera</td>\n",
       "    </tr>\n",
       "    <tr>\n",
       "      <th>2</th>\n",
       "      <td>\\nimage-processing system[+1]##A Digic II-pow...</td>\n",
       "      <td>camera</td>\n",
       "    </tr>\n",
       "    <tr>\n",
       "      <th>3</th>\n",
       "      <td>\\nimage[+2]##The SD500 rivals the Canon G6 in...</td>\n",
       "      <td>camera</td>\n",
       "    </tr>\n",
       "    <tr>\n",
       "      <th>4</th>\n",
       "      <td>\\n##I've had it for about a month and it is s...</td>\n",
       "      <td>camera</td>\n",
       "    </tr>\n",
       "  </tbody>\n",
       "</table>\n",
       "</div>"
      ],
      "text/plain": [
       "                                                   0       1\n",
       "0  [t]\\nSD500[+2]##We really enjoyed shooting wit...  camera\n",
       "1   \\ndesign[+2]##It has an exterior design that ...  camera\n",
       "2   \\nimage-processing system[+1]##A Digic II-pow...  camera\n",
       "3   \\nimage[+2]##The SD500 rivals the Canon G6 in...  camera\n",
       "4   \\n##I've had it for about a month and it is s...  camera"
      ]
     },
     "execution_count": 608,
     "metadata": {},
     "output_type": "execute_result"
    }
   ],
   "source": [
    "#combine sentences in to data frame\n",
    "tech = pd.DataFrame(Canon_PowerShot_SD500_sents+Canon_S100_sents+Diaper_Champ_sents+\n",
    "                         Hitachi_route_sents+Linksys_Router_sents+MicroMP3_sents+aNokia_6600_sents+ipod_sents+norton_sents)\n",
    "tech.head()"
   ]
  },
  {
   "cell_type": "code",
   "execution_count": 609,
   "metadata": {},
   "outputs": [
    {
     "name": "stdout",
     "output_type": "stream",
     "text": [
      "Number of features: 1675\n",
      "Original sentence:  \n",
      "##I sincerely question the CNET reviewer's ability and/or their bias\n",
      "Tf_idf vector: {'router': 0.21363780075707028, 'hard': 0.30772385619621256, 'good': 0.21535669144366698, 'chuck': 0.41087857655521154, 'lock': 0.35930121637571205, 'wrench': 0.4270719978699523, 'collet': 0.3880552310889314, 'loosen': 0.4270719978699523}\n"
     ]
    }
   ],
   "source": [
    "from sklearn.feature_extraction.text import TfidfVectorizer\n",
    "\n",
    "X_train, X_test,y_train,y_test = train_test_split(tech[0],tech[1], test_size=0.4, random_state=0)\n",
    "\n",
    "# function to convert to lemmas\n",
    "def lemmas(text):\n",
    "    text = nlp(text)\n",
    "    allwords = [token.lemma_\n",
    "                for token in text\n",
    "                if not token.is_punct\n",
    "                and not token.is_stop]\n",
    "    return allwords;\n",
    "    \n",
    "\n",
    "# create TFIDF object\n",
    "vectorizer = TfidfVectorizer(tokenizer=lemmas, # get lemmas from SpaCy\n",
    "                             max_df=0.5, # drop words that occur in more than half the paragraphs\n",
    "                             min_df=2, # only use words that appear at least twice\n",
    "                             stop_words='english', \n",
    "                             lowercase=True, #convert everything to lower case (since Alice in Wonderland has the HABIT of CAPITALIZING WORDS for EMPHASIS)\n",
    "                             use_idf=True,#we definitely want to use inverse document frequencies in our weighting\n",
    "                             norm=u'l2', #Applies a correction factor so that longer paragraphs and shorter paragraphs get treated equally\n",
    "                             smooth_idf=True #Adds 1 to all document frequencies, as if an extra document existed that used every word once.  Prevents divide-by-zero errors\n",
    "                            )\n",
    "\n",
    "\n",
    "\n",
    "\n",
    "\n",
    "\n",
    "\n",
    "\n",
    "\n",
    "\n",
    "\n",
    "#Applying the vectorizer\n",
    "X_train_tfidf=vectorizer.fit_transform(X_train)\n",
    "print(\"Number of features: %d\" % X_train_tfidf.get_shape()[1])\n",
    "X_test_tfidf = vectorizer.transform(X_test)\n",
    "  \n",
    "\n",
    "#Reshapes the vectorizer output into something people can read\n",
    "X_train_tfidf_csr = X_train_tfidf.tocsr()\n",
    "\n",
    "#number of paragraphs\n",
    "n = X_train_tfidf_csr.shape[0]\n",
    "#A list of dictionaries, one per paragraph\n",
    "tfidf_bypara = [{} for _ in range(0,n)]\n",
    "#List of features\n",
    "terms = vectorizer.get_feature_names()\n",
    "#for each paragraph, lists the feature words and their tf-idf scores\n",
    "for i, j in zip(*X_train_tfidf_csr.nonzero()):\n",
    "    tfidf_bypara[i][terms[j]] = X_train_tfidf_csr[i, j]\n",
    "\n",
    "#Keep in mind that the log base 2 of 1 is 0, so a tf-idf score of 0 indicates that the word was present once in that sentence.\n",
    "print('Original sentence:', X_train[5])\n",
    "print('Tf_idf vector:', tfidf_bypara[5])"
   ]
  },
  {
   "cell_type": "code",
   "execution_count": 610,
   "metadata": {
    "scrolled": false
   },
   "outputs": [
    {
     "name": "stdout",
     "output_type": "stream",
     "text": [
      "Percent variance captured by all components: 42.10922116331199\n",
      "Component 0:\n",
      "0\n",
      " \\n## I disagree                                              0.560348\n",
      " \\nVersatile[+2]##Versatile and stylish                       0.560348\n",
      " \\nSpeed[+2][u],signal[+2],Configuration Options[+2]##Pros    0.560348\n",
      "Name: 0, dtype: float64\n",
      "Component 1:\n",
      "0\n",
      " \\nVersatile[+2]##Versatile and stylish    0.637786\n",
      " \\n##More detail                           0.637786\n",
      " \\n## I disagree                           0.637786\n",
      "Name: 1, dtype: float64\n",
      "Component 2:\n",
      "0\n",
      " another                       0.659732\n",
      " does more than most           0.659732\n",
      "\\n##  Again, another hassle    0.653401\n",
      "Name: 2, dtype: float64\n",
      "Component 3:\n",
      "0\n",
      "\\n[t]\\nphone[+3]##This phone is one of the milestones in the history of the cellular phones                   0.560528\n",
      "\\n[t]\\nphone[+3]##this is a great phone i have this phone since Feb 04 and i never have any problem at all    0.523857\n",
      "\\n[t]\\n##I bought this phone after having other phones that had less-than-consistant reception                0.519828\n",
      "Name: 3, dtype: float64\n",
      "Component 4:\n",
      "0\n",
      "  \\n## I'm not one of them                              0.591008\n",
      "  \\nConfiguration[-2],Software[-2],UPnP[-2]## ##Cons    0.591008\n",
      "  \\n##I'm a male and that's what we do (or not do)      0.591008\n",
      "Name: 4, dtype: float64\n"
     ]
    }
   ],
   "source": [
    "from sklearn.decomposition import TruncatedSVD\n",
    "from sklearn.pipeline import make_pipeline\n",
    "from sklearn.preprocessing import Normalizer\n",
    "\n",
    "#Our SVD data reducer.  We are going to reduce the feature space from 1379 to 130.\n",
    "svd= TruncatedSVD(130)\n",
    "lsa = make_pipeline(svd, Normalizer(copy=False))\n",
    "# Run SVD on the training data, then project the training data.\n",
    "X_train_lsa = lsa.fit_transform(X_train_tfidf)\n",
    "X_test_lsa = lsa.transform(X_test_tfidf)\n",
    "variance_explained=svd.explained_variance_ratio_\n",
    "total_variance = variance_explained.sum()\n",
    "print(\"Percent variance captured by all components:\",total_variance*100)\n",
    "\n",
    "#Looking at what sorts of paragraphs our solution considers similar, for the first five identified topics\n",
    "paras_by_component=pd.DataFrame(X_train_lsa,index=X_train)\n",
    "for i in range(5):\n",
    "    print('Component {}:'.format(i))\n",
    "    print(paras_by_component.loc[:,i].sort_values(ascending=False)[0:3])\n"
   ]
  },
  {
   "cell_type": "code",
   "execution_count": 611,
   "metadata": {},
   "outputs": [
    {
     "data": {
      "image/png": "[encoded data removed]",
      "text/plain": [
       "<Figure size 432x288 with 2 Axes>"
      ]
     },
     "metadata": {
      "needs_background": "light"
     },
     "output_type": "display_data"
    },
    {
     "name": "stdout",
     "output_type": "stream",
     "text": [
      "Key:\n",
      "0  \n",
      "##If you have users that use P2P, you will need to tweak this and all wireless routers\n",
      "1   \n",
      "Wizard[-2][u] ##The Wizard is particularly sinister\n",
      "2  \n",
      "## Apple is already being outpaced by Creative Labs and Sony on the battery front, and just about any non-Apple player allows you more compatibility with download services than Apple's iTunes-only program\n",
      "3 \n",
      "heavy[-1][u]##Only problem is that is a bit heavy\n",
      "4 \n",
      "##I am SO thankful I got that advice when I did because I had the Diaper Genie on my registry aforementioned to her warning\n",
      "5 \n",
      "grip[-1],chuck[-1],collet[-1]##It's oftentimes hard to get a good grip on the router, activate the chuck lock, and get enough muscle behind the wrench to get the collet loosened up\n",
      "6 \n",
      "[t]\n",
      "S100[+3][cc]##This is my second digital camera, but I'm much more impressed with the Canon S100 Digital Elph than I EVER was with my Kodak DC240\n",
      "7 \n",
      "size[+1]##look at the size of it!\n",
      "##Any diaper pail, if you leave it for long enough, is going to smell\n",
      "8   \n",
      "##It may take several attempts, and reading a lot of FAQs or network help sites to fix some of these issues\n",
      "9  \n",
      "image[+2]##Good image quality\n"
     ]
    }
   ],
   "source": [
    "# Compute document similarity using LSA components\n",
    "similarity = np.asarray(np.asmatrix(X_train_lsa) * np.asmatrix(X_train_lsa).T)\n",
    "#Only taking the first 10 sentences\n",
    "sim_matrix=pd.DataFrame(similarity,index=X_train).iloc[0:10,0:10]\n",
    "#Making a plot\n",
    "ax = sns.heatmap(sim_matrix,yticklabels=range(10))\n",
    "plt.show()\n",
    "\n",
    "#Generating a key for the plot.\n",
    "print('Key:')\n",
    "for i in range(10):\n",
    "    print(i,sim_matrix.index[i])\n"
   ]
  },
  {
   "cell_type": "markdown",
   "metadata": {},
   "source": [
    "### Random forest and logistic regression "
   ]
  },
  {
   "cell_type": "code",
   "execution_count": 612,
   "metadata": {},
   "outputs": [
    {
     "name": "stdout",
     "output_type": "stream",
     "text": [
      "Training set score: 0.8832720588235294\n",
      "\n",
      "Test set score: 0.6336088154269972\n"
     ]
    }
   ],
   "source": [
    "from sklearn import ensemble\n",
    "from sklearn.model_selection import train_test_split\n",
    "\n",
    "rfc = ensemble.RandomForestClassifier(n_estimators=200,max_depth=10,) \n",
    "train = rfc.fit(X_train_lsa, y_train)\n",
    "\n",
    "print('Training set score:', rfc.score(X_train_lsa, y_train))\n",
    "print('\\nTest set score:', rfc.score(X_test_lsa, y_test))"
   ]
  },
  {
   "cell_type": "markdown",
   "metadata": {},
   "source": [
    "Not as much overfitting this time. let't look at linear regression"
   ]
  },
  {
   "cell_type": "code",
   "execution_count": 659,
   "metadata": {},
   "outputs": [
    {
     "name": "stdout",
     "output_type": "stream",
     "text": [
      "(2176,) (2176,)\n",
      "Training set score: 0.7325367647058824\n",
      "\n",
      "Test set score: 0.6721763085399449\n"
     ]
    }
   ],
   "source": [
    "from sklearn.linear_model import LogisticRegression\n",
    "\n",
    "lr = LogisticRegression(solver = 'liblinear',multi_class='auto',) # No need to specify l2 as it's the default. But we put it for demonstration.\n",
    "train = lr.fit(X_train_lsa, y_train)\n",
    "print(X_train.shape, y_train.shape)\n",
    "print('Training set score:', lr.score(X_train_lsa, y_train))\n",
    "print('\\nTest set score:', lr.score(X_test_lsa, y_test))"
   ]
  },
  {
   "cell_type": "code",
   "execution_count": 661,
   "metadata": {},
   "outputs": [
    {
     "data": {
      "text/plain": [
       "0.6742336572833676"
      ]
     },
     "execution_count": 661,
     "metadata": {},
     "output_type": "execute_result"
    }
   ],
   "source": [
    "from sklearn.model_selection import cross_val_score\n",
    "pred = lr.predict(X_test_lsa)\n",
    "cross_val_score(lr,X_train_lsa,y_train,cv=10).mean()"
   ]
  },
  {
   "cell_type": "markdown",
   "metadata": {},
   "source": [
    "Looks like linear regression with TF-IDF is the best model. Next will be and attemt to increase the score by 5 points."
   ]
  },
  {
   "cell_type": "markdown",
   "metadata": {},
   "source": [
    "## Attempt to increase score by 5"
   ]
  },
  {
   "cell_type": "markdown",
   "metadata": {},
   "source": [
    "I'll attemt to increase the score by adding some more cleaning."
   ]
  },
  {
   "cell_type": "code",
   "execution_count": 634,
   "metadata": {},
   "outputs": [],
   "source": [
    "Canon_PowerShot_SD500 = product_reviews_2.raw('Canon_PowerShot_SD500.txt')\n",
    "Canon_S100=  product_reviews_2.raw( 'Canon_S100.txt')\n",
    "Diaper_Champ = product_reviews_2.raw('Diaper_Champ.txt')\n",
    "Hitachi_route =  product_reviews_2.raw('Hitachi_router.txt')\n",
    "Linksys_Router = product_reviews_2.raw('Linksys_Router.txt')\n",
    "MicroMP3 = product_reviews_2.raw('Canon_PowerShot_SD500.txt')\n",
    "Nokia_6600 = product_reviews_2.raw('Nokia_6600.txt')\n",
    "ipod = product_reviews_2.raw('ipod.txt')\n",
    "norton = product_reviews_2.raw('norton.txt')\n",
    " "
   ]
  },
  {
   "cell_type": "code",
   "execution_count": 635,
   "metadata": {},
   "outputs": [],
   "source": [
    "Canon_PowerShot_SD500_sents =[[sent, \"camera\"] for sent in Canon_PowerShot_SD500.split(\".\")]\n",
    "Canon_S100_sents = [[sent, \"camera\"] for sent in Canon_S100.split(\".\")]\n",
    "Diaper_Champ_sents = [[sent, \"diaper_machine\"] for sent in Diaper_Champ.split(\".\")]\n",
    "Hitachi_route_sents = [[sent, \"router\"] for sent in Hitachi_route.split(\".\")]\n",
    "Linksys_Router_sents = [[sent, \"router\"] for sent in Linksys_Router.split(\".\")]\n",
    "MicroMP3_sents = [[sent, \"mp3_player\"] for sent in MicroMP3.split(\".\")]\n",
    "aNokia_6600_sents = [[sent, \"phone\"] for sent in Nokia_6600.split(\".\")]\n",
    "ipod_sents = [[sent, \"mp3_player\"] for sent in ipod.split(\".\")]\n",
    "norton_sents = [[sent, \"AV_software\"] for sent in norton.split(\".\")]\n",
    " "
   ]
  },
  {
   "cell_type": "code",
   "execution_count": 636,
   "metadata": {},
   "outputs": [],
   "source": [
    "def clean_txt(text):    \n",
    "    #text = text.lower() \n",
    "    text = re.sub(r'^[^ ]*', '', text)\n",
    "    text = re.sub(\"[^a-zA-Z.' ]+\", \" \", text)\n",
    "    text = re.sub('\\[.*?\\]', \" \", text)\n",
    "    text = re.sub('\\w*\\d\\w*', '', text)\n",
    "    #text = \" \".join(text.split()).strip()\n",
    "\n",
    "    return text;"
   ]
  },
  {
   "cell_type": "code",
   "execution_count": 637,
   "metadata": {},
   "outputs": [],
   "source": [
    "sentences[0] = sentences[0].apply(lambda x: clean_txt(str(x)))"
   ]
  },
  {
   "cell_type": "code",
   "execution_count": 638,
   "metadata": {},
   "outputs": [],
   "source": [
    "tech = pd.DataFrame(Canon_PowerShot_SD500_sents+Canon_S100_sents+Diaper_Champ_sents+\n",
    "                         Hitachi_route_sents+Linksys_Router_sents+MicroMP3_sents+aNokia_6600_sents+ipod_sents+norton_sents)"
   ]
  },
  {
   "cell_type": "code",
   "execution_count": 639,
   "metadata": {},
   "outputs": [
    {
     "name": "stdout",
     "output_type": "stream",
     "text": [
      "Number of features: 1675\n",
      "Original sentence:  \n",
      "##I sincerely question the CNET reviewer's ability and/or their bias\n",
      "Tf_idf vector: {'router': 0.21363780075707028, 'hard': 0.30772385619621256, 'good': 0.21535669144366698, 'chuck': 0.41087857655521154, 'lock': 0.35930121637571205, 'wrench': 0.4270719978699523, 'collet': 0.3880552310889314, 'loosen': 0.4270719978699523}\n"
     ]
    }
   ],
   "source": [
    "from sklearn.feature_extraction.text import TfidfVectorizer\n",
    "\n",
    "X_train, X_test,y_train,y_test = train_test_split(tech[0],tech[1], test_size=0.4, random_state=0)\n",
    "\n",
    "# function to convert to lemmas\n",
    "def lemmas(text):\n",
    "    text = nlp(text)\n",
    "    allwords = [token.lemma_\n",
    "                for token in text\n",
    "                if not token.is_punct\n",
    "                and not token.is_stop]\n",
    "    return allwords;\n",
    "    \n",
    "\n",
    "\n",
    "vectorizer = TfidfVectorizer(tokenizer=lemmas, # get lemmas from SpaCy\n",
    "                             max_df=0.5, # drop words that occur in more than half the paragraphs\n",
    "                             min_df=2, # only use words that appear at least twice\n",
    "                             stop_words='english', \n",
    "                             lowercase=True, #convert everything to lower case (since Alice in Wonderland has the HABIT of CAPITALIZING WORDS for EMPHASIS)\n",
    "                             use_idf=True,#we definitely want to use inverse document frequencies in our weighting\n",
    "                             norm=u'l2', #Applies a correction factor so that longer paragraphs and shorter paragraphs get treated equally\n",
    "                             smooth_idf=True #Adds 1 to all document frequencies, as if an extra document existed that used every word once.  Prevents divide-by-zero errors\n",
    "                            )\n",
    "#Applying the vectorizer\n",
    "X_train_tfidf=vectorizer.fit_transform(X_train)\n",
    "print(\"Number of features: %d\" % X_train_tfidf.get_shape()[1])\n",
    "X_test_tfidf = vectorizer.transform(X_test)\n",
    "  \n",
    "\n",
    "#Reshapes the vectorizer output into something people can read\n",
    "X_train_tfidf_csr = X_train_tfidf.tocsr()\n",
    "\n",
    "#number of paragraphs\n",
    "n = X_train_tfidf_csr.shape[0]\n",
    "#A list of dictionaries, one per paragraph\n",
    "tfidf_bypara = [{} for _ in range(0,n)]\n",
    "#List of features\n",
    "terms = vectorizer.get_feature_names()\n",
    "#for each paragraph, lists the feature words and their tf-idf scores\n",
    "for i, j in zip(*X_train_tfidf_csr.nonzero()):\n",
    "    tfidf_bypara[i][terms[j]] = X_train_tfidf_csr[i, j]\n",
    "\n",
    "#Keep in mind that the log base 2 of 1 is 0, so a tf-idf score of 0 indicates that the word was present once in that sentence.\n",
    "print('Original sentence:', X_train[5])\n",
    "print('Tf_idf vector:', tfidf_bypara[5])"
   ]
  },
  {
   "cell_type": "code",
   "execution_count": 640,
   "metadata": {
    "scrolled": false
   },
   "outputs": [
    {
     "name": "stdout",
     "output_type": "stream",
     "text": [
      "Percent variance captured by all components: 42.0743067641299\n"
     ]
    }
   ],
   "source": [
    "from sklearn.decomposition import TruncatedSVD\n",
    "from sklearn.pipeline import make_pipeline\n",
    "from sklearn.preprocessing import Normalizer\n",
    "\n",
    "#Our SVD data reducer.  We are going to reduce the feature space from 1379 to 130.\n",
    "svd= TruncatedSVD(130)\n",
    "lsa = make_pipeline(svd, Normalizer(copy=False))\n",
    "# Run SVD on the training data, then project the training data.\n",
    "X_train_lsa = lsa.fit_transform(X_train_tfidf)\n",
    "X_test_lsa = lsa.transform(X_test_tfidf)\n",
    "variance_explained=svd.explained_variance_ratio_\n",
    "total_variance = variance_explained.sum()\n",
    "print(\"Percent variance captured by all components:\",total_variance*100)\n",
    "\n",
    " "
   ]
  },
  {
   "cell_type": "code",
   "execution_count": 657,
   "metadata": {},
   "outputs": [
    {
     "name": "stdout",
     "output_type": "stream",
     "text": [
      "(2176,) (2176,)\n",
      "Training set score: 0.7734375\n",
      "\n",
      "Test set score: 0.6728650137741047\n"
     ]
    }
   ],
   "source": [
    "from sklearn.linear_model import LogisticRegression\n",
    "\n",
    "lr = LogisticRegression(solver = 'liblinear',multi_class='auto',C=100000) # No need to specify l2 as it's the default. But we put it for demonstration.\n",
    "train = lr.fit(X_train_lsa, y_train)\n",
    "print(X_train.shape, y_train.shape)\n",
    "print('Training set score:', lr.score(X_train_lsa, y_train))\n",
    "print('\\nTest set score:', lr.score(X_test_lsa, y_test))"
   ]
  },
  {
   "cell_type": "code",
   "execution_count": 658,
   "metadata": {},
   "outputs": [
    {
     "data": {
      "text/plain": [
       "0.6614373033756467"
      ]
     },
     "execution_count": 658,
     "metadata": {},
     "output_type": "execute_result"
    }
   ],
   "source": [
    "from sklearn.model_selection import cross_val_score\n",
    "pred = lr.predict(X_test_lsa)\n",
    "cross_val_score(lr,X_train_lsa,y_train,cv=10).mean()"
   ]
  },
  {
   "cell_type": "code",
   "execution_count": null,
   "metadata": {},
   "outputs": [],
   "source": []
  }
 ],
 "metadata": {
  "kernelspec": {
   "display_name": "Python 3",
   "language": "python",
   "name": "python3"
  },
  "language_info": {
   "codemirror_mode": {
    "name": "ipython",
    "version": 3
   },
   "file_extension": ".py",
   "mimetype": "text/x-python",
   "name": "python",
   "nbconvert_exporter": "python",
   "pygments_lexer": "ipython3",
   "version": "3.7.2"
  }
 },
 "nbformat": 4,
 "nbformat_minor": 2
}
