{
 "cells": [
  {
   "cell_type": "code",
   "execution_count": 1,
   "metadata": {
    "colab": {},
    "colab_type": "code",
    "id": "18wpCE-g-EdS",
    "run_control": {
     "frozen": false,
     "read_only": false
    }
   },
   "outputs": [],
   "source": [
    "import numpy as np\n",
    "import pandas as pd\n",
    "import matplotlib.pyplot as plt\n",
    "import seaborn as sns\n",
    "from sklearn.neural_network import MLPClassifier\n",
    "from sklearn.model_selection import cross_val_score\n",
    "from sklearn.metrics import classification_report\n",
    "from sklearn.metrics import confusion_matrix\n",
    "\n",
    "%matplotlib inline"
   ]
  },
  {
   "cell_type": "markdown",
   "metadata": {
    "colab_type": "text",
    "id": "qs9Fq5cw-EdW",
    "run_control": {
     "frozen": false,
     "read_only": false
    }
   },
   "source": [
    "We're ready to build our first neural network. We will have multiple features we feed into our model, each of which will go through a set of perceptron models to arrive at a response which will be trained to our output.\n",
    "\n",
    "Like many models we've covered, this can be used as both a regression or classification model.\n",
    "\n",
    "First, we need to load our dataset. For this example we'll use The Museum of Modern Art in New York's [public dataset](https://media.githubusercontent.com/media/MuseumofModernArt/collection/master/Artworks.csv) on their collection."
   ]
  },
  {
   "cell_type": "code",
   "execution_count": 2,
   "metadata": {
    "colab": {},
    "colab_type": "code",
    "id": "cyC3kMyj-EdX",
    "run_control": {
     "frozen": false,
     "read_only": false
    }
   },
   "outputs": [],
   "source": [
    "artworks = pd.read_csv('https://media.githubusercontent.com/media/MuseumofModernArt/collection/master/Artworks.csv')"
   ]
  },
  {
   "cell_type": "code",
   "execution_count": 3,
   "metadata": {
    "colab": {
     "base_uri": "https://localhost:8080/",
     "height": 153
    },
    "colab_type": "code",
    "id": "zjXYTrcF-EdZ",
    "outputId": "1640c074-5989-43d3-8916-109b65d98288",
    "run_control": {
     "frozen": false,
     "read_only": false
    },
    "scrolled": true
   },
   "outputs": [
    {
     "data": {
      "text/plain": [
       "Index(['Title', 'Artist', 'ConstituentID', 'ArtistBio', 'Nationality',\n",
       "       'BeginDate', 'EndDate', 'Gender', 'Date', 'Medium', 'Dimensions',\n",
       "       'CreditLine', 'AccessionNumber', 'Classification', 'Department',\n",
       "       'DateAcquired', 'Cataloged', 'ObjectID', 'URL', 'ThumbnailURL',\n",
       "       'Circumference (cm)', 'Depth (cm)', 'Diameter (cm)', 'Height (cm)',\n",
       "       'Length (cm)', 'Weight (kg)', 'Width (cm)', 'Seat Height (cm)',\n",
       "       'Duration (sec.)'],\n",
       "      dtype='object')"
      ]
     },
     "execution_count": 3,
     "metadata": {},
     "output_type": "execute_result"
    }
   ],
   "source": [
    "artworks.columns"
   ]
  },
  {
   "cell_type": "markdown",
   "metadata": {
    "colab_type": "text",
    "id": "op4bpjPq-Edf",
    "run_control": {
     "frozen": false,
     "read_only": false
    }
   },
   "source": [
    "We'll also do a bit of data processing and cleaning, selecting columns of interest and converting URL's to booleans indicating whether they are present."
   ]
  },
  {
   "cell_type": "code",
   "execution_count": 4,
   "metadata": {
    "colab": {},
    "colab_type": "code",
    "id": "xPJx4MKI-Edh",
    "run_control": {
     "frozen": false,
     "read_only": false
    }
   },
   "outputs": [],
   "source": [
    "# Select Columns.\n",
    "artworks = artworks[['Artist', 'Nationality', 'Gender', 'Date', 'Department',\n",
    "                    'DateAcquired', 'URL', 'ThumbnailURL', 'Height (cm)', 'Width (cm)']]\n",
    "\n",
    "# Convert URL's to booleans.\n",
    "artworks['URL'] = artworks['URL'].notnull()\n",
    "artworks['ThumbnailURL'] = artworks['ThumbnailURL'].notnull()\n",
    "\n",
    "# Drop films and some other tricky rows.\n",
    "artworks = artworks[artworks['Department']!='Film']\n",
    "artworks = artworks[artworks['Department']!='Media and Performance Art']\n",
    "artworks = artworks[artworks['Department']!='Fluxus Collection']\n",
    "\n",
    "# Drop missing data.\n",
    "artworks = artworks.dropna()"
   ]
  },
  {
   "cell_type": "code",
   "execution_count": 5,
   "metadata": {
    "colab": {
     "base_uri": "https://localhost:8080/",
     "height": 204
    },
    "colab_type": "code",
    "id": "ORu6NXUD-Edl",
    "outputId": "531a21d2-a7c5-453b-a1f5-beb4304ef386",
    "run_control": {
     "frozen": false,
     "read_only": false
    }
   },
   "outputs": [
    {
     "data": {
      "text/html": [
       "<div>\n",
       "<style scoped>\n",
       "    .dataframe tbody tr th:only-of-type {\n",
       "        vertical-align: middle;\n",
       "    }\n",
       "\n",
       "    .dataframe tbody tr th {\n",
       "        vertical-align: top;\n",
       "    }\n",
       "\n",
       "    .dataframe thead th {\n",
       "        text-align: right;\n",
       "    }\n",
       "</style>\n",
       "<table border=\"1\" class=\"dataframe\">\n",
       "  <thead>\n",
       "    <tr style=\"text-align: right;\">\n",
       "      <th></th>\n",
       "      <th>Artist</th>\n",
       "      <th>Nationality</th>\n",
       "      <th>Gender</th>\n",
       "      <th>Date</th>\n",
       "      <th>Department</th>\n",
       "      <th>DateAcquired</th>\n",
       "      <th>URL</th>\n",
       "      <th>ThumbnailURL</th>\n",
       "      <th>Height (cm)</th>\n",
       "      <th>Width (cm)</th>\n",
       "    </tr>\n",
       "  </thead>\n",
       "  <tbody>\n",
       "    <tr>\n",
       "      <th>0</th>\n",
       "      <td>Otto Wagner</td>\n",
       "      <td>(Austrian)</td>\n",
       "      <td>(Male)</td>\n",
       "      <td>1896</td>\n",
       "      <td>Architecture &amp; Design</td>\n",
       "      <td>1996-04-09</td>\n",
       "      <td>True</td>\n",
       "      <td>True</td>\n",
       "      <td>48.6000</td>\n",
       "      <td>168.9000</td>\n",
       "    </tr>\n",
       "    <tr>\n",
       "      <th>1</th>\n",
       "      <td>Christian de Portzamparc</td>\n",
       "      <td>(French)</td>\n",
       "      <td>(Male)</td>\n",
       "      <td>1987</td>\n",
       "      <td>Architecture &amp; Design</td>\n",
       "      <td>1995-01-17</td>\n",
       "      <td>True</td>\n",
       "      <td>True</td>\n",
       "      <td>40.6401</td>\n",
       "      <td>29.8451</td>\n",
       "    </tr>\n",
       "    <tr>\n",
       "      <th>2</th>\n",
       "      <td>Emil Hoppe</td>\n",
       "      <td>(Austrian)</td>\n",
       "      <td>(Male)</td>\n",
       "      <td>1903</td>\n",
       "      <td>Architecture &amp; Design</td>\n",
       "      <td>1997-01-15</td>\n",
       "      <td>True</td>\n",
       "      <td>True</td>\n",
       "      <td>34.3000</td>\n",
       "      <td>31.8000</td>\n",
       "    </tr>\n",
       "    <tr>\n",
       "      <th>3</th>\n",
       "      <td>Bernard Tschumi</td>\n",
       "      <td>()</td>\n",
       "      <td>(Male)</td>\n",
       "      <td>1980</td>\n",
       "      <td>Architecture &amp; Design</td>\n",
       "      <td>1995-01-17</td>\n",
       "      <td>True</td>\n",
       "      <td>True</td>\n",
       "      <td>50.8000</td>\n",
       "      <td>50.8000</td>\n",
       "    </tr>\n",
       "    <tr>\n",
       "      <th>4</th>\n",
       "      <td>Emil Hoppe</td>\n",
       "      <td>(Austrian)</td>\n",
       "      <td>(Male)</td>\n",
       "      <td>1903</td>\n",
       "      <td>Architecture &amp; Design</td>\n",
       "      <td>1997-01-15</td>\n",
       "      <td>True</td>\n",
       "      <td>True</td>\n",
       "      <td>38.4000</td>\n",
       "      <td>19.1000</td>\n",
       "    </tr>\n",
       "  </tbody>\n",
       "</table>\n",
       "</div>"
      ],
      "text/plain": [
       "                     Artist Nationality  Gender  Date             Department  \\\n",
       "0               Otto Wagner  (Austrian)  (Male)  1896  Architecture & Design   \n",
       "1  Christian de Portzamparc    (French)  (Male)  1987  Architecture & Design   \n",
       "2                Emil Hoppe  (Austrian)  (Male)  1903  Architecture & Design   \n",
       "3           Bernard Tschumi          ()  (Male)  1980  Architecture & Design   \n",
       "4                Emil Hoppe  (Austrian)  (Male)  1903  Architecture & Design   \n",
       "\n",
       "  DateAcquired   URL  ThumbnailURL  Height (cm)  Width (cm)  \n",
       "0   1996-04-09  True          True      48.6000    168.9000  \n",
       "1   1995-01-17  True          True      40.6401     29.8451  \n",
       "2   1997-01-15  True          True      34.3000     31.8000  \n",
       "3   1995-01-17  True          True      50.8000     50.8000  \n",
       "4   1997-01-15  True          True      38.4000     19.1000  "
      ]
     },
     "execution_count": 5,
     "metadata": {},
     "output_type": "execute_result"
    }
   ],
   "source": [
    "artworks.head()"
   ]
  },
  {
   "cell_type": "markdown",
   "metadata": {
    "colab_type": "text",
    "id": "8ccbox64-Edr",
    "run_control": {
     "frozen": false,
     "read_only": false
    }
   },
   "source": [
    "## Building a Model\n",
    "\n",
    "Now, let's see if we can use multi-layer perceptron modeling (or \"MLP\") to see if we can classify the department a piece should go into using everything but the department name.\n",
    "\n",
    "Before we import MLP from SKLearn and establish the model we first have to ensure correct typing for our data and do some other cleaning."
   ]
  },
  {
   "cell_type": "code",
   "execution_count": 6,
   "metadata": {
    "colab": {
     "base_uri": "https://localhost:8080/",
     "height": 204
    },
    "colab_type": "code",
    "id": "4FQ91_8H-Eds",
    "outputId": "dc7b9a8c-305d-4ba7-faa9-6a7ad9e735e1",
    "run_control": {
     "frozen": false,
     "read_only": false
    }
   },
   "outputs": [
    {
     "data": {
      "text/plain": [
       "Artist           object\n",
       "Nationality      object\n",
       "Gender           object\n",
       "Date             object\n",
       "Department       object\n",
       "DateAcquired     object\n",
       "URL                bool\n",
       "ThumbnailURL       bool\n",
       "Height (cm)     float64\n",
       "Width (cm)      float64\n",
       "dtype: object"
      ]
     },
     "execution_count": 6,
     "metadata": {},
     "output_type": "execute_result"
    }
   ],
   "source": [
    "# Get data types.\n",
    "artworks.dtypes"
   ]
  },
  {
   "cell_type": "markdown",
   "metadata": {
    "colab_type": "text",
    "id": "uAfGYA13-Edx"
   },
   "source": [
    "The `DateAcquired` column is an object. Let's transform that to a datetime object and add a feature for just the year the artwork was acquired."
   ]
  },
  {
   "cell_type": "code",
   "execution_count": 7,
   "metadata": {
    "colab": {
     "base_uri": "https://localhost:8080/",
     "height": 34
    },
    "colab_type": "code",
    "id": "578M3E8Y-Edy",
    "outputId": "4a99f10d-b26c-410c-ec70-c26969d15aa0",
    "run_control": {
     "frozen": false,
     "read_only": false
    }
   },
   "outputs": [
    {
     "data": {
      "text/plain": [
       "dtype('int64')"
      ]
     },
     "execution_count": 7,
     "metadata": {},
     "output_type": "execute_result"
    }
   ],
   "source": [
    "artworks['DateAcquired'] = pd.to_datetime(artworks.DateAcquired)\n",
    "artworks['YearAcquired'] = artworks.DateAcquired.dt.year\n",
    "artworks['YearAcquired'].dtype"
   ]
  },
  {
   "cell_type": "markdown",
   "metadata": {
    "colab_type": "text",
    "id": "BWRkWvqa-Ed3"
   },
   "source": [
    "Great. Let's do some more miscellaneous cleaning."
   ]
  },
  {
   "cell_type": "code",
   "execution_count": 8,
   "metadata": {
    "colab": {},
    "colab_type": "code",
    "id": "nWL_-tv7-Ed4",
    "run_control": {
     "frozen": false,
     "read_only": false
    }
   },
   "outputs": [],
   "source": [
    "# Remove multiple nationalities, genders, and artists.\n",
    "artworks.loc[artworks['Gender'].str.contains('\\) \\('), 'Gender'] = '\\(multiple_persons\\)'\n",
    "artworks.loc[artworks['Nationality'].str.contains('\\) \\('), 'Nationality'] = '\\(multiple_nationalities\\)'\n",
    "artworks.loc[artworks['Artist'].str.contains(','), 'Artist'] = 'Multiple_Artists'\n",
    "\n",
    "# Convert dates to start date, cutting down number of distinct examples.\n",
    "artworks['Date'] = pd.Series(artworks.Date.str.extract(\n",
    "    '([0-9]{4})', expand=False))[:-1]\n",
    "\n",
    "# Final column drops and NA drop.\n",
    "X = artworks.drop(['Department', 'DateAcquired', 'Artist', 'Nationality', 'Date'], 1)\n",
    "\n",
    "# Create dummies separately.\n",
    "artists = pd.get_dummies(artworks.Artist)\n",
    "nationalities = pd.get_dummies(artworks.Nationality)\n",
    "dates = pd.get_dummies(artworks.Date)\n",
    "\n",
    "# Concat with other variables, but artists slows this wayyyyy down so we'll keep it out for now\n",
    "X = pd.get_dummies(X, sparse=True)\n",
    "X = pd.concat([X, nationalities, dates], axis=1)\n",
    "\n",
    "Y = artworks.Department"
   ]
  },
  {
   "cell_type": "code",
   "execution_count": 9,
   "metadata": {
    "colab": {},
    "colab_type": "code",
    "id": "mGzH_YhA-Ed7",
    "run_control": {
     "frozen": false,
     "read_only": false
    }
   },
   "outputs": [],
   "source": [
    "# Alright! We've done our prep, let's build the model.\n",
    "# Neural networks are hugely computationally intensive.\n",
    "# This may take several minutes to run.\n",
    "\n",
    "# Import the model.\n",
    "from sklearn.neural_network import MLPClassifier\n",
    "\n",
    "# Establish and fit the model, with a single, 1000 perceptron layer.\n",
    "#mlp = MLPClassifier(hidden_layer_sizes=(10,))\n",
    "#mlp.fit(X, Y)"
   ]
  },
  {
   "cell_type": "code",
   "execution_count": 10,
   "metadata": {
    "colab": {},
    "colab_type": "code",
    "id": "UwSnzI_A-Ed_",
    "run_control": {
     "frozen": false,
     "read_only": false
    }
   },
   "outputs": [],
   "source": [
    "#mlp.score(X, Y)"
   ]
  },
  {
   "cell_type": "code",
   "execution_count": 11,
   "metadata": {
    "colab": {
     "base_uri": "https://localhost:8080/",
     "height": 119
    },
    "colab_type": "code",
    "id": "Ma6HvZr0-EeK",
    "outputId": "fd64c7cf-bdba-4b2a-fd5b-1c4dae230e83",
    "run_control": {
     "frozen": false,
     "read_only": false
    }
   },
   "outputs": [
    {
     "data": {
      "text/plain": [
       "Drawings & Prints        0.622507\n",
       "Photography              0.226466\n",
       "Architecture & Design    0.112970\n",
       "Painting & Sculpture     0.033684\n",
       "Media and Performance    0.004372\n",
       "Name: Department, dtype: float64"
      ]
     },
     "execution_count": 11,
     "metadata": {},
     "output_type": "execute_result"
    }
   ],
   "source": [
    "Y.value_counts()/len(Y)"
   ]
  },
  {
   "cell_type": "code",
   "execution_count": 12,
   "metadata": {
    "colab": {},
    "colab_type": "code",
    "id": "1sGssspU-EeP",
    "run_control": {
     "frozen": false,
     "read_only": false
    }
   },
   "outputs": [],
   "source": [
    "from sklearn.model_selection import cross_val_score\n",
    "#cross_val_score(mlp, X, Y, cv=5)"
   ]
  },
  {
   "cell_type": "markdown",
   "metadata": {
    "colab_type": "text",
    "id": "-P-Q7ZpJ-EeU",
    "run_control": {
     "frozen": false,
     "read_only": false
    }
   },
   "source": [
    "Now we got a lot of information from all of this. Firstly we can see that the model seems to overfit, though there is still so remaining performance when validated with cross validation. This is a feature of neural networks that aren't given enough data for the number of features present. _Neural networks, in general, like_ a lot _of data_. You may also have noticed something also about neural networks: _they can take a_ long _time to run_. Try increasing the layer size by adding a zero. Feel free to interrupt the kernel if you don't have time...\n",
    "\n",
    "Also note that we created bools for artist's name but left them out. Both of the above points are the reason for that. It would take much longer to run and it would be much more prone to overfitting."
   ]
  },
  {
   "cell_type": "markdown",
   "metadata": {
    "colab_type": "text",
    "collapsed": true,
    "id": "QJok7oHa-EeV",
    "run_control": {
     "frozen": false,
     "read_only": false
    }
   },
   "source": [
    "## Model parameters\n",
    "\n",
    "Now, before we move on and let you loose with some tasks to work on the model, let's go over the parameters.\n",
    "\n",
    "We included one parameter: hidden layer size. Remember in the previous lesson, when we talked about layers in a neural network. This tells us how many and how big to make our layers. Pass in a tuple that specifies each layer's size. Our network is 1000 neurons wide and one layer. (100, 4, ) would create a network with two layers, one 100 wide and the other 4.\n",
    "\n",
    "How many layers to include is determined by two things: computational resources and cross validation searching for convergence. It's generally less than the number of input variables you have.\n",
    "\n",
    "You can also set an alpha. Neural networks like this use a regularization parameter that penalizes large coefficients just like we discussed in the advanced regression section. Alpha scales that penalty.\n",
    "\n",
    "Lastly, we'll discuss the activation function. The activation function determines whether the output from an individual perceptron is binary or continuous. By default this is a 'relu', or 'rectified linear unit function' function. In the exercise we went through earlier we used this binary function, but we discussed the _sigmoid_ as a reasonable alternative. The _sigmoid_ (called 'logistic' by SKLearn because it's a 'logistic sigmoid function') allows for continuous variables between 0 and 1, which allows for a more nuanced model. It does come at the cost of increased computational complexity.\n",
    "\n",
    "If you want to learn more about these, study [activation functions](https://en.wikipedia.org/wiki/Activation_function) and [multilayer perceptrons](https://en.wikipedia.org/wiki/Multilayer_perceptron). The [Deep Learning](http://www.deeplearningbook.org/) book referenced earlier goes into great detail on the linear algebra involved.\n",
    "\n",
    "You could also just test the models with cross validation. Unless neural networks are your specialty cross validation should be sufficient.\n",
    "\n",
    "For the other parameters and their defaults, check out the [MLPClassifier documentation](http://scikit-learn.org/stable/modules/generated/sklearn.neural_network.MLPClassifier.html#sklearn.neural_network.MLPClassifier)."
   ]
  },
  {
   "cell_type": "markdown",
   "metadata": {
    "colab_type": "text",
    "id": "zTGzP2Eg-EeX"
   },
   "source": [
    "## Drill: Playing with layers\n",
    "\n",
    "Now it's your turn. Using the space below, experiment with different hidden layer structures. You can try this on a subset of the data to improve runtime. See how things vary. See what seems to matter the most. Feel free to manipulate other parameters as well. It may also be beneficial to do some real feature selection work..."
   ]
  },
  {
   "cell_type": "markdown",
   "metadata": {
    "colab_type": "text",
    "id": "eEAjP7mx-EeY"
   },
   "source": [
    "In order for the model to run at a decent speed I am going to take a very small sample of the feature set dto play with."
   ]
  },
  {
   "cell_type": "code",
   "execution_count": 13,
   "metadata": {
    "colab": {
     "base_uri": "https://localhost:8080/",
     "height": 34
    },
    "colab_type": "code",
    "id": "NyMy3A5T-EeZ",
    "outputId": "f259c82e-b3d2-45b7-d66f-3cb78148d727"
   },
   "outputs": [
    {
     "data": {
      "text/plain": [
       "1062"
      ]
     },
     "execution_count": 13,
     "metadata": {},
     "output_type": "execute_result"
    }
   ],
   "source": [
    "len(artworks.sample(frac=.0098))"
   ]
  },
  {
   "cell_type": "code",
   "execution_count": 14,
   "metadata": {
    "colab": {},
    "colab_type": "code",
    "id": "9MPRGM18-Eec"
   },
   "outputs": [],
   "source": [
    "# take sample of dataset \n",
    "artwork = artworks.sample(frac=.0098,random_state=20)\n",
    "\n",
    "\n",
    "\n",
    "# Final column drops and NA drop.\n",
    "X = artwork.drop(['Department', 'DateAcquired', 'Artist', 'Nationality', 'Date'], 1)\n",
    "\n",
    "# Create dummies separately.\n",
    "artists = pd.get_dummies(artwork.Artist)\n",
    "nationalities = pd.get_dummies(artwork.Nationality)\n",
    "dates = pd.get_dummies(artwork.Date)\n",
    "\n",
    "# Concat with other variables, but artists slows this wayyyyy down so we'll keep it out for now\n",
    "X = pd.get_dummies(X, sparse=True)\n",
    "X = pd.concat([X, nationalities, dates, artists], axis=1)\n",
    "\n",
    "Y = artwork.Department"
   ]
  },
  {
   "cell_type": "code",
   "execution_count": 15,
   "metadata": {
    "colab": {
     "base_uri": "https://localhost:8080/",
     "height": 34
    },
    "colab_type": "code",
    "id": "UKICY9W4-Eeg",
    "outputId": "bded135a-08ef-4bdd-9db1-5857a726a5d8"
   },
   "outputs": [
    {
     "data": {
      "text/plain": [
       "(1062, 821)"
      ]
     },
     "execution_count": 15,
     "metadata": {},
     "output_type": "execute_result"
    }
   ],
   "source": [
    "X.shape"
   ]
  },
  {
   "cell_type": "code",
   "execution_count": 16,
   "metadata": {
    "colab": {
     "base_uri": "https://localhost:8080/",
     "height": 34
    },
    "colab_type": "code",
    "id": "QYs6y11m-Eej",
    "outputId": "e87f1aec-a6fb-42a3-b9f0-cd10a3da515e"
   },
   "outputs": [
    {
     "data": {
      "text/plain": [
       "(1062,)"
      ]
     },
     "execution_count": 16,
     "metadata": {},
     "output_type": "execute_result"
    }
   ],
   "source": [
    "Y.shape"
   ]
  },
  {
   "cell_type": "markdown",
   "metadata": {
    "colab_type": "text",
    "id": "fb_CHt3k-Eem"
   },
   "source": [
    "Here I have added the artists artists one hot encoded features and then below I will select the 100 best features from all the included features."
   ]
  },
  {
   "cell_type": "code",
   "execution_count": 17,
   "metadata": {
    "colab": {
     "base_uri": "https://localhost:8080/",
     "height": 54
    },
    "colab_type": "code",
    "id": "4YWWv0vP-Een",
    "outputId": "5877493d-0c5e-4062-de58-f579a5dd64f5"
   },
   "outputs": [
    {
     "name": "stdout",
     "output_type": "stream",
     "text": [
      "['URL', 'ThumbnailURL', 'Height (cm)', 'Width (cm)', 'YearAcquired', 'Gender_()', 'Gender_(Female)', 'Gender_(Male)', 'Gender_\\\\(multiple_persons\\\\)', '()', '(American)', '(Argentine)', '(Belgian)', '(Danish)', '(French)', '(Guatemalan)', '(Indian)', '(Nationality Unknown)', '(Spanish)', '(Swiss)', '\\\\(multiple_nationalities\\\\)', '1871', '1929', '1932', '1938', '1954', '1955', '1962', '1963', '1964', '1974', '1978', '1981', '1991', '1999', '2015', '2017', 'Al Held', 'Aleksandr Archipenko', 'Alvin Lustig', 'Andrea Zittel', 'Antoni Tàpies', 'Barnett Newman', 'Carolee Schneemann', 'Craig Kauffman', 'Daniel Grataloup', 'Dorothea Lange', 'Dorothea Rockburne', 'Eduardo Costa', 'Edward Steichen', 'Edward Weston', 'El Lissitzky', 'Eugène Atget', 'Fernand Léger', 'Francis Alÿs', 'Franz Erhard Walther', 'Franz West', 'George McNeil', 'George Segal', 'Isamu Noguchi', 'Jacob Lawrence', 'Jan Dibbets', 'Jan Tschichold', 'Jean Charlot', 'Jerome Neuner', 'Joel Shapiro', 'John Day', 'John Kane', 'John Thomson', 'José Antonio Attolini Lack', 'Julio González', 'Lauretta Vinciarelli', 'Lea Lublin', 'Lee Friedlander', 'Louis I. Kahn', 'Louise Bourgeois', 'Ludwig Mies van der Rohe', 'Luigi Ghirri', 'Lygia Clark', 'Martin Puryear', 'Martine Syms', 'Michelle Stuart', 'Morris Louis', 'Multiple_Artists', 'Neil Jenney', 'Patrick Henry Bruce', 'Paul Graham', 'Peter Young', 'Pope.L', 'Raj Rewal', 'Richard Lindner', 'Roberto González Goyri', 'Shinkichi G. Tajiri', 'Unknown Artist', 'Unknown Designer', 'Unknown photographer', 'Walker Evans', 'William Eggleston', 'Wojciech Fangor', 'Zoltan Kemeny']\n"
     ]
    }
   ],
   "source": [
    "# Select 100 best features\n",
    "import sklearn.feature_selection \n",
    "select =sklearn.feature_selection.SelectKBest(k=100)\n",
    "selected_features = select.fit(X, Y)\n",
    "indicies_selected = selected_features.get_support(indices=True)\n",
    "colnames_selected = [X.columns[i] for i in indicies_selected]\n",
    "print(colnames_selected)\n",
    "#X = X[colnames_selected] "
   ]
  },
  {
   "cell_type": "code",
   "execution_count": 18,
   "metadata": {
    "colab": {
     "base_uri": "https://localhost:8080/",
     "height": 884
    },
    "colab_type": "code",
    "id": "Ch-YvM9R-Eet",
    "outputId": "30f68b4f-3898-4381-ae8a-8cea421c928b"
   },
   "outputs": [
    {
     "name": "stdout",
     "output_type": "stream",
     "text": [
      "                     Feat_names    F_Scores\n",
      "88                       Pope.L  131.378531\n",
      "2                   Height (cm)  105.274986\n",
      "3                    Width (cm)   59.287075\n",
      "36                         2017   52.551412\n",
      "43           Carolee Schneemann   52.551412\n",
      "54                 Francis Alÿs   52.551412\n",
      "72                   Lea Lublin   52.551412\n",
      "80                 Martine Syms   52.551412\n",
      "76     Ludwig Mies van der Rohe   27.719305\n",
      "95         Unknown photographer   16.970183\n",
      "83             Multiple_Artists   16.862045\n",
      "4                  YearAcquired   15.854604\n",
      "0                           URL   15.718471\n",
      "73              Lee Friedlander   12.961211\n",
      "14                     (French)   12.602743\n",
      "8   Gender_\\(multiple_persons\\)   11.981882\n",
      "20   \\(multiple_nationalities\\)   11.981882\n",
      "5                     Gender_()   10.713071\n",
      "19                      (Swiss)   10.192578\n",
      "10                   (American)    9.402929\n",
      "11                  (Argentine)    8.307704\n",
      "7                 Gender_(Male)    7.747375\n",
      "35                         2015    7.296195\n",
      "74                Louis I. Kahn    7.296195\n",
      "94             Unknown Designer    7.296195\n",
      "46               Dorothea Lange    7.211501\n",
      "1                  ThumbnailURL    6.554748\n",
      "15                 (Guatemalan)    6.351206\n",
      "37                      Al Held    6.351206\n",
      "38         Aleksandr Archipenko    6.351206\n",
      "42               Barnett Newman    6.351206\n",
      "44               Craig Kauffman    6.351206\n",
      "47           Dorothea Rockburne    6.351206\n",
      "48                Eduardo Costa    6.351206\n",
      "55         Franz Erhard Walther    6.351206\n",
      "56                   Franz West    6.351206\n",
      "57                George McNeil    6.351206\n",
      "58                 George Segal    6.351206\n",
      "59                Isamu Noguchi    6.351206\n",
      "65                 Joel Shapiro    6.351206\n",
      "66                     John Day    6.351206\n",
      "67                    John Kane    6.351206\n",
      "70               Julio González    6.351206\n",
      "78                  Lygia Clark    6.351206\n",
      "79               Martin Puryear    6.351206\n",
      "81              Michelle Stuart    6.351206\n",
      "82                 Morris Louis    6.351206\n",
      "84                  Neil Jenney    6.351206\n",
      "85          Patrick Henry Bruce    6.351206\n",
      "87                  Peter Young    6.351206\n"
     ]
    }
   ],
   "source": [
    "features = X.columns.values[select.get_support()]\n",
    "scores = select.scores_[select.get_support()]\n",
    "features_scores = list(zip(features, scores))\n",
    "feat_scores_df = pd.DataFrame(data = features_scores, columns=['Feat_names', 'F_Scores'])\n",
    "#Sort the dataframe for better visualization\n",
    "sorted_features = feat_scores_df.sort_values(['F_Scores', 'Feat_names'], ascending = [False, True])\n",
    "print(sorted_features[:50])"
   ]
  },
  {
   "cell_type": "code",
   "execution_count": 19,
   "metadata": {
    "colab": {},
    "colab_type": "code",
    "id": "6cb2-wlb-Eey"
   },
   "outputs": [],
   "source": [
    "X = X[colnames_selected] "
   ]
  },
  {
   "cell_type": "code",
   "execution_count": 20,
   "metadata": {
    "colab": {
     "base_uri": "https://localhost:8080/",
     "height": 608
    },
    "colab_type": "code",
    "id": "FDmMxA_HhV4H",
    "outputId": "1eee9a33-7926-4600-cc5f-e59f704beb64"
   },
   "outputs": [
    {
     "data": {
      "image/png": "[encoded data removed]",
      "text/plain": [
       "<Figure size 864x576 with 2 Axes>"
      ]
     },
     "metadata": {
      "needs_background": "light"
     },
     "output_type": "display_data"
    }
   ],
   "source": [
    "corr_matrix = X.corr().abs().where(np.triu(np.ones(X.corr().abs().shape), k=1).astype(np.bool))\n",
    "plt.figure(figsize=(12,8))\n",
    "sns.heatmap(corr_matrix,annot=False)\n",
    "plt.show()"
   ]
  },
  {
   "cell_type": "code",
   "execution_count": 21,
   "metadata": {
    "colab": {
     "base_uri": "https://localhost:8080/",
     "height": 204
    },
    "colab_type": "code",
    "id": "g_tkGXmLhmaf",
    "outputId": "1aef01e6-8983-4e85-a05a-81bb90cc5d56"
   },
   "outputs": [
    {
     "name": "stdout",
     "output_type": "stream",
     "text": [
      "Columns to drop:  11\n"
     ]
    },
    {
     "data": {
      "text/plain": [
       "['ThumbnailURL',\n",
       " 'Width (cm)',\n",
       " 'Gender_(Male)',\n",
       " '()',\n",
       " '\\\\(multiple_nationalities\\\\)',\n",
       " 'Martine Syms',\n",
       " 'Multiple_Artists',\n",
       " 'Raj Rewal',\n",
       " 'Roberto González Goyri',\n",
       " 'Unknown Artist',\n",
       " 'Unknown photographer']"
      ]
     },
     "execution_count": 21,
     "metadata": {},
     "output_type": "execute_result"
    }
   ],
   "source": [
    "to_drop = [column for column in corr_matrix.columns if any(corr_matrix[column] > 0.50)]\n",
    "print('Columns to drop: ' , (len(to_drop)))\n",
    "to_drop"
   ]
  },
  {
   "cell_type": "code",
   "execution_count": 22,
   "metadata": {
    "colab": {},
    "colab_type": "code",
    "id": "2bvq83jVhoU_"
   },
   "outputs": [],
   "source": [
    "# Drop one of each pair of correlated features\n",
    "X.drop(to_drop,1,inplace=True)\n",
    " "
   ]
  },
  {
   "cell_type": "code",
   "execution_count": 23,
   "metadata": {
    "colab": {
     "base_uri": "https://localhost:8080/",
     "height": 608
    },
    "colab_type": "code",
    "id": "Qh5btrC_hvKw",
    "outputId": "45e488b8-1ad9-4f31-d2c7-a128b8d28877"
   },
   "outputs": [
    {
     "data": {
      "image/png": "[encoded data removed]",
      "text/plain": [
       "<Figure size 864x576 with 2 Axes>"
      ]
     },
     "metadata": {
      "needs_background": "light"
     },
     "output_type": "display_data"
    }
   ],
   "source": [
    "corr_matrix = X.corr().abs().where(np.triu(np.ones(X.corr().abs().shape), k=1).astype(np.bool))\n",
    "plt.figure(figsize=(12,8))\n",
    "sns.heatmap(corr_matrix,annot=False)\n",
    "plt.show()"
   ]
  },
  {
   "cell_type": "markdown",
   "metadata": {
    "colab_type": "text",
    "id": "39hkwiF5-Ee1"
   },
   "source": [
    "The classes are very imbalanced so I will use a random oversampler to have a balanced set to input into the model."
   ]
  },
  {
   "cell_type": "code",
   "execution_count": 24,
   "metadata": {
    "colab": {
     "base_uri": "https://localhost:8080/",
     "height": 119
    },
    "colab_type": "code",
    "id": "QVhoaXzx-Ee2",
    "outputId": "d7c93e5f-025d-4cad-8df8-7e3c71804e63"
   },
   "outputs": [
    {
     "data": {
      "text/plain": [
       "Drawings & Prints        648\n",
       "Photography              236\n",
       "Architecture & Design    131\n",
       "Painting & Sculpture      41\n",
       "Media and Performance      6\n",
       "Name: Department, dtype: int64"
      ]
     },
     "execution_count": 24,
     "metadata": {},
     "output_type": "execute_result"
    }
   ],
   "source": [
    "Y.value_counts()"
   ]
  },
  {
   "cell_type": "code",
   "execution_count": 25,
   "metadata": {
    "colab": {},
    "colab_type": "code",
    "id": "qQ6ElT4F-Ee6"
   },
   "outputs": [
    {
     "name": "stderr",
     "output_type": "stream",
     "text": [
      "C:\\Users\\keith\\AppData\\Roaming\\Python\\Python37\\site-packages\\sklearn\\externals\\six.py:31: DeprecationWarning: The module is deprecated in version 0.21 and will be removed in version 0.23 since we've dropped support for Python 2.7. Please rely on the official version of six (https://pypi.org/project/six/).\n",
      "  \"(https://pypi.org/project/six/).\", DeprecationWarning)\n"
     ]
    }
   ],
   "source": [
    "# Oversampling to balance classes\n",
    "import imblearn\n",
    "from imblearn.over_sampling import RandomOverSampler\n",
    "\n",
    "ros = RandomOverSampler(random_state=20)\n",
    "X, Y = ros.fit_sample(X, Y)"
   ]
  },
  {
   "cell_type": "code",
   "execution_count": 26,
   "metadata": {
    "colab": {
     "base_uri": "https://localhost:8080/",
     "height": 119
    },
    "colab_type": "code",
    "id": "xJ3qdNoH-Ee8",
    "outputId": "8f1afeae-d41d-4a8d-cafa-f8eca63f5ce9"
   },
   "outputs": [
    {
     "data": {
      "text/plain": [
       "Drawings & Prints        648\n",
       "Photography              648\n",
       "Media and Performance    648\n",
       "Painting & Sculpture     648\n",
       "Architecture & Design    648\n",
       "dtype: int64"
      ]
     },
     "execution_count": 26,
     "metadata": {},
     "output_type": "execute_result"
    }
   ],
   "source": [
    "pd.Series(Y).value_counts()"
   ]
  },
  {
   "cell_type": "code",
   "execution_count": 27,
   "metadata": {
    "colab": {},
    "colab_type": "code",
    "id": "NDL2mpbX-Ee_"
   },
   "outputs": [],
   "source": [
    "# scale the data\n",
    "from sklearn.preprocessing import StandardScaler\n",
    "sclr = StandardScaler()\n",
    "sclr.fit(X)\n",
    "X = sclr.transform(X) "
   ]
  },
  {
   "cell_type": "markdown",
   "metadata": {
    "colab_type": "text",
    "id": "wgTEN30B-EfB"
   },
   "source": [
    "### Single layer scores"
   ]
  },
  {
   "cell_type": "code",
   "execution_count": 30,
   "metadata": {
    "colab": {
     "base_uri": "https://localhost:8080/",
     "height": 1000
    },
    "colab_type": "code",
    "id": "Ft9GzXHb-EfC",
    "outputId": "c840f886-c9e3-43c1-c0b0-6908d82d470c",
    "scrolled": false
   },
   "outputs": [
    {
     "name": "stdout",
     "output_type": "stream",
     "text": [
      "layer: 10\n",
      "score:  0.862037037037037\n"
     ]
    },
    {
     "name": "stderr",
     "output_type": "stream",
     "text": [
      "C:\\Users\\keith\\AppData\\Roaming\\Python\\Python37\\site-packages\\sklearn\\neural_network\\multilayer_perceptron.py:566: ConvergenceWarning: Stochastic Optimizer: Maximum iterations (1000) reached and the optimization hasn't converged yet.\n",
      "  % self.max_iter, ConvergenceWarning)\n"
     ]
    },
    {
     "name": "stdout",
     "output_type": "stream",
     "text": [
      "cross validataion:  [0.82       0.84153846 0.81692308 0.84031008 0.85116279]\n",
      "Confusion Matrix\n",
      "[[572  48   0   0  28]\n",
      " [ 82 443   0   6 117]\n",
      " [  0   0 648   0   0]\n",
      " [ 15  11   0 622   0]\n",
      " [ 38 102   0   0 508]]\n",
      "\n",
      "layer: 100\n",
      "score:  0.9070987654320988\n",
      "cross validataion:  [0.87230769 0.86461538 0.86       0.88527132 0.88837209]\n",
      "Confusion Matrix\n",
      "[[587  48   0   0  13]\n",
      " [ 61 509   0   3  75]\n",
      " [  0   0 648   0   0]\n",
      " [  0   0   0 648   0]\n",
      " [ 34  67   0   0 547]]\n",
      "\n",
      "layer: 1000\n",
      "score:  0.9222222222222223\n",
      "cross validataion:  [0.87384615 0.88153846 0.85538462 0.88682171 0.89302326]\n",
      "Confusion Matrix\n",
      "[[578  46   0   0  24]\n",
      " [ 35 548   0   2  63]\n",
      " [  0   0 648   0   0]\n",
      " [  0   0   0 648   0]\n",
      " [ 19  63   0   0 566]]\n",
      "\n"
     ]
    }
   ],
   "source": [
    "for layer in (10,100,1000):\n",
    "    mlp = MLPClassifier(hidden_layer_sizes=(layer,),activation='relu',\n",
    "                      max_iter=1000,random_state=20)\n",
    "    mlp.fit(X, Y)\n",
    "    pred = mlp.predict(X)\n",
    "    print('layer:',layer)\n",
    "    print('score: ',mlp.score(X, Y))\n",
    "    print('cross validataion: ',cross_val_score(mlp, X, Y, cv=5))  \n",
    "    print('Confusion Matrix')\n",
    "    print(confusion_matrix(Y,pred))\n",
    "    print()"
   ]
  },
  {
   "cell_type": "markdown",
   "metadata": {
    "colab_type": "text",
    "id": "xcg4ZsVW-EfF"
   },
   "source": [
    "### Multilayer scores with different activation functions"
   ]
  },
  {
   "cell_type": "code",
   "execution_count": 31,
   "metadata": {
    "colab": {
     "base_uri": "https://localhost:8080/",
     "height": 68
    },
    "colab_type": "code",
    "id": "8vQ8sI-o-EfG",
    "outputId": "44ad92d8-4ccd-468e-eda2-c77295b9d309",
    "scrolled": false
   },
   "outputs": [
    {
     "name": "stdout",
     "output_type": "stream",
     "text": [
      "relu\n",
      "layers: 100 10\n",
      "score:  0.9222222222222223\n",
      "cross validataion:  [0.87384615 0.88153846 0.85538462 0.88682171 0.89302326]\n",
      "[[600  25   0   0  23]\n",
      " [ 62 484   0   3  99]\n",
      " [  0   0 648   0   0]\n",
      " [  0   0   0 648   0]\n",
      " [ 31  41   0   0 576]]\n",
      "Classification Report\n",
      "                       precision    recall  f1-score   support\n",
      "\n",
      "Architecture & Design       0.87      0.93      0.89       648\n",
      "    Drawings & Prints       0.88      0.75      0.81       648\n",
      "Media and Performance       1.00      1.00      1.00       648\n",
      " Painting & Sculpture       1.00      1.00      1.00       648\n",
      "          Photography       0.83      0.89      0.86       648\n",
      "\n",
      "             accuracy                           0.91      3240\n",
      "            macro avg       0.91      0.91      0.91      3240\n",
      "         weighted avg       0.91      0.91      0.91      3240\n",
      "\n",
      "\n",
      "layers: 100 50\n",
      "score:  0.9222222222222223\n",
      "cross validataion:  [0.87384615 0.88153846 0.85538462 0.88682171 0.89302326]\n",
      "[[593  32   0   0  23]\n",
      " [ 64 501   0   2  81]\n",
      " [  0   0 648   0   0]\n",
      " [  0   0   0 648   0]\n",
      " [ 35  57   0   0 556]]\n",
      "Classification Report\n",
      "                       precision    recall  f1-score   support\n",
      "\n",
      "Architecture & Design       0.86      0.92      0.89       648\n",
      "    Drawings & Prints       0.85      0.77      0.81       648\n",
      "Media and Performance       1.00      1.00      1.00       648\n",
      " Painting & Sculpture       1.00      1.00      1.00       648\n",
      "          Photography       0.84      0.86      0.85       648\n",
      "\n",
      "             accuracy                           0.91      3240\n",
      "            macro avg       0.91      0.91      0.91      3240\n",
      "         weighted avg       0.91      0.91      0.91      3240\n",
      "\n",
      "\n",
      "layers: 100 100\n",
      "score:  0.9222222222222223\n",
      "cross validataion:  [0.87384615 0.88153846 0.85538462 0.88682171 0.89302326]\n",
      "[[593  38   0   0  17]\n",
      " [ 65 506   0   3  74]\n",
      " [  0   0 648   0   0]\n",
      " [  0   0   0 648   0]\n",
      " [ 35  57   0   0 556]]\n",
      "Classification Report\n",
      "                       precision    recall  f1-score   support\n",
      "\n",
      "Architecture & Design       0.86      0.92      0.88       648\n",
      "    Drawings & Prints       0.84      0.78      0.81       648\n",
      "Media and Performance       1.00      1.00      1.00       648\n",
      " Painting & Sculpture       1.00      1.00      1.00       648\n",
      "          Photography       0.86      0.86      0.86       648\n",
      "\n",
      "             accuracy                           0.91      3240\n",
      "            macro avg       0.91      0.91      0.91      3240\n",
      "         weighted avg       0.91      0.91      0.91      3240\n",
      "\n",
      "\n",
      "logistic\n",
      "layers: 100 10\n",
      "score:  0.9222222222222223\n",
      "cross validataion:  [0.87384615 0.88153846 0.85538462 0.88682171 0.89302326]\n",
      "[[600  25   0   0  23]\n",
      " [ 62 484   0   3  99]\n",
      " [  0   0 648   0   0]\n",
      " [  0   0   0 648   0]\n",
      " [ 31  41   0   0 576]]\n",
      "Classification Report\n",
      "                       precision    recall  f1-score   support\n",
      "\n",
      "Architecture & Design       0.87      0.93      0.89       648\n",
      "    Drawings & Prints       0.88      0.75      0.81       648\n",
      "Media and Performance       1.00      1.00      1.00       648\n",
      " Painting & Sculpture       1.00      1.00      1.00       648\n",
      "          Photography       0.83      0.89      0.86       648\n",
      "\n",
      "             accuracy                           0.91      3240\n",
      "            macro avg       0.91      0.91      0.91      3240\n",
      "         weighted avg       0.91      0.91      0.91      3240\n",
      "\n",
      "\n",
      "layers: 100 50\n",
      "score:  0.9222222222222223\n",
      "cross validataion:  [0.87384615 0.88153846 0.85538462 0.88682171 0.89302326]\n",
      "[[593  32   0   0  23]\n",
      " [ 64 501   0   2  81]\n",
      " [  0   0 648   0   0]\n",
      " [  0   0   0 648   0]\n",
      " [ 35  57   0   0 556]]\n",
      "Classification Report\n",
      "                       precision    recall  f1-score   support\n",
      "\n",
      "Architecture & Design       0.86      0.92      0.89       648\n",
      "    Drawings & Prints       0.85      0.77      0.81       648\n",
      "Media and Performance       1.00      1.00      1.00       648\n",
      " Painting & Sculpture       1.00      1.00      1.00       648\n",
      "          Photography       0.84      0.86      0.85       648\n",
      "\n",
      "             accuracy                           0.91      3240\n",
      "            macro avg       0.91      0.91      0.91      3240\n",
      "         weighted avg       0.91      0.91      0.91      3240\n",
      "\n",
      "\n",
      "layers: 100 100\n",
      "score:  0.9222222222222223\n",
      "cross validataion:  [0.87384615 0.88153846 0.85538462 0.88682171 0.89302326]\n",
      "[[593  38   0   0  17]\n",
      " [ 65 506   0   3  74]\n",
      " [  0   0 648   0   0]\n",
      " [  0   0   0 648   0]\n",
      " [ 35  57   0   0 556]]\n",
      "Classification Report\n",
      "                       precision    recall  f1-score   support\n",
      "\n",
      "Architecture & Design       0.86      0.92      0.88       648\n",
      "    Drawings & Prints       0.84      0.78      0.81       648\n",
      "Media and Performance       1.00      1.00      1.00       648\n",
      " Painting & Sculpture       1.00      1.00      1.00       648\n",
      "          Photography       0.86      0.86      0.86       648\n",
      "\n",
      "             accuracy                           0.91      3240\n",
      "            macro avg       0.91      0.91      0.91      3240\n",
      "         weighted avg       0.91      0.91      0.91      3240\n",
      "\n",
      "\n",
      "tanh\n",
      "layers: 100 10\n",
      "score:  0.9222222222222223\n",
      "cross validataion:  [0.87384615 0.88153846 0.85538462 0.88682171 0.89302326]\n",
      "[[600  25   0   0  23]\n",
      " [ 62 484   0   3  99]\n",
      " [  0   0 648   0   0]\n",
      " [  0   0   0 648   0]\n",
      " [ 31  41   0   0 576]]\n",
      "Classification Report\n",
      "                       precision    recall  f1-score   support\n",
      "\n",
      "Architecture & Design       0.87      0.93      0.89       648\n",
      "    Drawings & Prints       0.88      0.75      0.81       648\n",
      "Media and Performance       1.00      1.00      1.00       648\n",
      " Painting & Sculpture       1.00      1.00      1.00       648\n",
      "          Photography       0.83      0.89      0.86       648\n",
      "\n",
      "             accuracy                           0.91      3240\n",
      "            macro avg       0.91      0.91      0.91      3240\n",
      "         weighted avg       0.91      0.91      0.91      3240\n",
      "\n",
      "\n",
      "layers: 100 50\n",
      "score:  0.9222222222222223\n",
      "cross validataion:  [0.87384615 0.88153846 0.85538462 0.88682171 0.89302326]\n",
      "[[593  32   0   0  23]\n",
      " [ 64 501   0   2  81]\n",
      " [  0   0 648   0   0]\n",
      " [  0   0   0 648   0]\n",
      " [ 35  57   0   0 556]]\n",
      "Classification Report\n",
      "                       precision    recall  f1-score   support\n",
      "\n",
      "Architecture & Design       0.86      0.92      0.89       648\n",
      "    Drawings & Prints       0.85      0.77      0.81       648\n",
      "Media and Performance       1.00      1.00      1.00       648\n",
      " Painting & Sculpture       1.00      1.00      1.00       648\n",
      "          Photography       0.84      0.86      0.85       648\n",
      "\n",
      "             accuracy                           0.91      3240\n",
      "            macro avg       0.91      0.91      0.91      3240\n",
      "         weighted avg       0.91      0.91      0.91      3240\n",
      "\n",
      "\n",
      "layers: 100 100\n",
      "score:  0.9222222222222223\n",
      "cross validataion:  [0.87384615 0.88153846 0.85538462 0.88682171 0.89302326]\n",
      "[[593  38   0   0  17]\n",
      " [ 65 506   0   3  74]\n",
      " [  0   0 648   0   0]\n",
      " [  0   0   0 648   0]\n",
      " [ 35  57   0   0 556]]\n",
      "Classification Report\n",
      "                       precision    recall  f1-score   support\n",
      "\n",
      "Architecture & Design       0.86      0.92      0.88       648\n",
      "    Drawings & Prints       0.84      0.78      0.81       648\n",
      "Media and Performance       1.00      1.00      1.00       648\n",
      " Painting & Sculpture       1.00      1.00      1.00       648\n",
      "          Photography       0.86      0.86      0.86       648\n",
      "\n",
      "             accuracy                           0.91      3240\n",
      "            macro avg       0.91      0.91      0.91      3240\n",
      "         weighted avg       0.91      0.91      0.91      3240\n",
      "\n",
      "\n",
      "identity\n",
      "layers: 100 10\n",
      "score:  0.9222222222222223\n",
      "cross validataion:  [0.87384615 0.88153846 0.85538462 0.88682171 0.89302326]\n",
      "[[600  25   0   0  23]\n",
      " [ 62 484   0   3  99]\n",
      " [  0   0 648   0   0]\n",
      " [  0   0   0 648   0]\n",
      " [ 31  41   0   0 576]]\n",
      "Classification Report\n",
      "                       precision    recall  f1-score   support\n",
      "\n",
      "Architecture & Design       0.87      0.93      0.89       648\n",
      "    Drawings & Prints       0.88      0.75      0.81       648\n",
      "Media and Performance       1.00      1.00      1.00       648\n",
      " Painting & Sculpture       1.00      1.00      1.00       648\n",
      "          Photography       0.83      0.89      0.86       648\n",
      "\n",
      "             accuracy                           0.91      3240\n",
      "            macro avg       0.91      0.91      0.91      3240\n",
      "         weighted avg       0.91      0.91      0.91      3240\n",
      "\n",
      "\n",
      "layers: 100 50\n",
      "score:  0.9222222222222223\n"
     ]
    },
    {
     "name": "stdout",
     "output_type": "stream",
     "text": [
      "cross validataion:  [0.87384615 0.88153846 0.85538462 0.88682171 0.89302326]\n",
      "[[593  32   0   0  23]\n",
      " [ 64 501   0   2  81]\n",
      " [  0   0 648   0   0]\n",
      " [  0   0   0 648   0]\n",
      " [ 35  57   0   0 556]]\n",
      "Classification Report\n",
      "                       precision    recall  f1-score   support\n",
      "\n",
      "Architecture & Design       0.86      0.92      0.89       648\n",
      "    Drawings & Prints       0.85      0.77      0.81       648\n",
      "Media and Performance       1.00      1.00      1.00       648\n",
      " Painting & Sculpture       1.00      1.00      1.00       648\n",
      "          Photography       0.84      0.86      0.85       648\n",
      "\n",
      "             accuracy                           0.91      3240\n",
      "            macro avg       0.91      0.91      0.91      3240\n",
      "         weighted avg       0.91      0.91      0.91      3240\n",
      "\n",
      "\n",
      "layers: 100 100\n",
      "score:  0.9222222222222223\n",
      "cross validataion:  [0.87384615 0.88153846 0.85538462 0.88682171 0.89302326]\n",
      "[[593  38   0   0  17]\n",
      " [ 65 506   0   3  74]\n",
      " [  0   0 648   0   0]\n",
      " [  0   0   0 648   0]\n",
      " [ 35  57   0   0 556]]\n",
      "Classification Report\n",
      "                       precision    recall  f1-score   support\n",
      "\n",
      "Architecture & Design       0.86      0.92      0.88       648\n",
      "    Drawings & Prints       0.84      0.78      0.81       648\n",
      "Media and Performance       1.00      1.00      1.00       648\n",
      " Painting & Sculpture       1.00      1.00      1.00       648\n",
      "          Photography       0.86      0.86      0.86       648\n",
      "\n",
      "             accuracy                           0.91      3240\n",
      "            macro avg       0.91      0.91      0.91      3240\n",
      "         weighted avg       0.91      0.91      0.91      3240\n",
      "\n",
      "\n"
     ]
    }
   ],
   "source": [
    "mlp1=['relu']\n",
    "mlp2=['logistic']\n",
    "mlp3=['tanh']\n",
    "mlp4=['identity']\n",
    "for activation, iteration in zip(['relu', 'logistic', 'tanh', 'identity'],[mlp1,mlp2,mlp3,mlp4]):\n",
    "    print(iteration[0])\n",
    "    for layer in [100]:\n",
    "        for h_layer in [10,50,100]:      \n",
    "            iteration.append(MLPClassifier(hidden_layer_sizes=(layer, h_layer),warm_start=True,max_iter=1000,random_state=20))      \n",
    "            iteration[1].fit(X, Y)\n",
    "            pred = iteration[1].predict(X)\n",
    "            print('layers:',layer, h_layer)\n",
    "            print('score: ',mlp.score(X, Y))\n",
    "            print('cross validataion: ',cross_val_score(mlp, X, Y, cv=5))\n",
    "            print(confusion_matrix(Y,pred))\n",
    "            print('Classification Report')\n",
    "            print(classification_report(Y,pred))\n",
    "            print()"
   ]
  },
  {
   "cell_type": "markdown",
   "metadata": {
    "colab": {},
    "colab_type": "code",
    "id": "LgX8zgTJ-EfI"
   },
   "source": [
    "In order to decrease computation time a extremely small sample of data was taken. Looking at the scores it seem as though the size of the first layer is the most important in determining accuracy. At least as far as the data set it concerned. But it does appear that you can make the first layer much smaller, in this case 10x smaller, add a second layer and still come out with a stable model with decent accuracy. In this case it doesn't seem that changing the activation function really effected the score that much if at all. "
   ]
  },
  {
   "cell_type": "code",
   "execution_count": null,
   "metadata": {},
   "outputs": [],
   "source": []
  }
 ],
 "metadata": {
  "colab": {
   "name": "Drill---Playing with layers.ipynb",
   "provenance": [],
   "version": "0.3.2"
  },
  "hide_input": false,
  "kernelspec": {
   "display_name": "Python 3",
   "language": "python",
   "name": "python3"
  },
  "language_info": {
   "codemirror_mode": {
    "name": "ipython",
    "version": 3
   },
   "file_extension": ".py",
   "mimetype": "text/x-python",
   "name": "python",
   "nbconvert_exporter": "python",
   "pygments_lexer": "ipython3",
   "version": "3.7.2"
  },
  "toc": {
   "colors": {
    "hover_highlight": "#DAA520",
    "running_highlight": "#FF0000",
    "selected_highlight": "#FFD700"
   },
   "moveMenuLeft": true,
   "nav_menu": {
    "height": "86px",
    "width": "252px"
   },
   "navigate_menu": true,
   "number_sections": true,
   "sideBar": true,
   "threshold": 4,
   "toc_cell": false,
   "toc_section_display": "block",
   "toc_window_display": false
  }
 },
 "nbformat": 4,
 "nbformat_minor": 1
}
