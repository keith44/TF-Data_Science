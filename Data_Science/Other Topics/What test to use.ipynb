{
 "cells": [
  {
   "cell_type": "code",
   "execution_count": 523,
   "metadata": {},
   "outputs": [],
   "source": [
    "import re\n",
    "import time\n",
    "import math\n",
    "import pandas as pd\n",
    "import numpy as np\n",
    "import seaborn as sns\n",
    "from matplotlib import pyplot as plt\n",
    "%matplotlib inline\n",
    "from scipy import stats\n"
   ]
  },
  {
   "cell_type": "code",
   "execution_count": 588,
   "metadata": {},
   "outputs": [],
   "source": [
    "# Load data\n",
    "ess_df = pd.read_csv('C:/Users/keith/Desktop/Thinkful/ESSdata_Thinkful.csv',encoding = \"ISO-8859-1\")\n",
    " "
   ]
  },
  {
   "cell_type": "code",
   "execution_count": 590,
   "metadata": {},
   "outputs": [
    {
     "data": {
      "text/html": [
       "<div>\n",
       "<style scoped>\n",
       "    .dataframe tbody tr th:only-of-type {\n",
       "        vertical-align: middle;\n",
       "    }\n",
       "\n",
       "    .dataframe tbody tr th {\n",
       "        vertical-align: top;\n",
       "    }\n",
       "\n",
       "    .dataframe thead th {\n",
       "        text-align: right;\n",
       "    }\n",
       "</style>\n",
       "<table border=\"1\" class=\"dataframe\">\n",
       "  <thead>\n",
       "    <tr style=\"text-align: right;\">\n",
       "      <th></th>\n",
       "      <th>cntry</th>\n",
       "      <th>idno</th>\n",
       "      <th>year</th>\n",
       "      <th>tvtot</th>\n",
       "      <th>ppltrst</th>\n",
       "      <th>pplfair</th>\n",
       "      <th>pplhlp</th>\n",
       "      <th>happy</th>\n",
       "      <th>sclmeet</th>\n",
       "      <th>sclact</th>\n",
       "      <th>gndr</th>\n",
       "      <th>agea</th>\n",
       "      <th>partner</th>\n",
       "    </tr>\n",
       "  </thead>\n",
       "  <tbody>\n",
       "    <tr>\n",
       "      <th>0</th>\n",
       "      <td>CH</td>\n",
       "      <td>5.0</td>\n",
       "      <td>6</td>\n",
       "      <td>3.0</td>\n",
       "      <td>3.0</td>\n",
       "      <td>10.0</td>\n",
       "      <td>5.0</td>\n",
       "      <td>8.0</td>\n",
       "      <td>5.0</td>\n",
       "      <td>4.0</td>\n",
       "      <td>2.0</td>\n",
       "      <td>60.0</td>\n",
       "      <td>1.0</td>\n",
       "    </tr>\n",
       "    <tr>\n",
       "      <th>1</th>\n",
       "      <td>CH</td>\n",
       "      <td>25.0</td>\n",
       "      <td>6</td>\n",
       "      <td>6.0</td>\n",
       "      <td>5.0</td>\n",
       "      <td>7.0</td>\n",
       "      <td>5.0</td>\n",
       "      <td>9.0</td>\n",
       "      <td>3.0</td>\n",
       "      <td>2.0</td>\n",
       "      <td>2.0</td>\n",
       "      <td>59.0</td>\n",
       "      <td>1.0</td>\n",
       "    </tr>\n",
       "    <tr>\n",
       "      <th>2</th>\n",
       "      <td>CH</td>\n",
       "      <td>26.0</td>\n",
       "      <td>6</td>\n",
       "      <td>1.0</td>\n",
       "      <td>8.0</td>\n",
       "      <td>8.0</td>\n",
       "      <td>8.0</td>\n",
       "      <td>7.0</td>\n",
       "      <td>6.0</td>\n",
       "      <td>3.0</td>\n",
       "      <td>1.0</td>\n",
       "      <td>24.0</td>\n",
       "      <td>2.0</td>\n",
       "    </tr>\n",
       "    <tr>\n",
       "      <th>3</th>\n",
       "      <td>CH</td>\n",
       "      <td>28.0</td>\n",
       "      <td>6</td>\n",
       "      <td>4.0</td>\n",
       "      <td>6.0</td>\n",
       "      <td>6.0</td>\n",
       "      <td>7.0</td>\n",
       "      <td>10.0</td>\n",
       "      <td>6.0</td>\n",
       "      <td>2.0</td>\n",
       "      <td>2.0</td>\n",
       "      <td>64.0</td>\n",
       "      <td>1.0</td>\n",
       "    </tr>\n",
       "    <tr>\n",
       "      <th>4</th>\n",
       "      <td>CH</td>\n",
       "      <td>29.0</td>\n",
       "      <td>6</td>\n",
       "      <td>5.0</td>\n",
       "      <td>6.0</td>\n",
       "      <td>7.0</td>\n",
       "      <td>5.0</td>\n",
       "      <td>8.0</td>\n",
       "      <td>7.0</td>\n",
       "      <td>2.0</td>\n",
       "      <td>2.0</td>\n",
       "      <td>55.0</td>\n",
       "      <td>1.0</td>\n",
       "    </tr>\n",
       "  </tbody>\n",
       "</table>\n",
       "</div>"
      ],
      "text/plain": [
       "  cntry  idno  year  tvtot  ppltrst  pplfair  pplhlp  happy  sclmeet  sclact  \\\n",
       "0    CH   5.0     6    3.0      3.0     10.0     5.0    8.0      5.0     4.0   \n",
       "1    CH  25.0     6    6.0      5.0      7.0     5.0    9.0      3.0     2.0   \n",
       "2    CH  26.0     6    1.0      8.0      8.0     8.0    7.0      6.0     3.0   \n",
       "3    CH  28.0     6    4.0      6.0      6.0     7.0   10.0      6.0     2.0   \n",
       "4    CH  29.0     6    5.0      6.0      7.0     5.0    8.0      7.0     2.0   \n",
       "\n",
       "   gndr  agea  partner  \n",
       "0   2.0  60.0      1.0  \n",
       "1   2.0  59.0      1.0  \n",
       "2   1.0  24.0      2.0  \n",
       "3   2.0  64.0      1.0  \n",
       "4   2.0  55.0      1.0  "
      ]
     },
     "execution_count": 590,
     "metadata": {},
     "output_type": "execute_result"
    }
   ],
   "source": [
    "ess_df.head()"
   ]
  },
  {
   "cell_type": "code",
   "execution_count": 527,
   "metadata": {},
   "outputs": [
    {
     "data": {
      "text/plain": [
       "(8594, 13)"
      ]
     },
     "execution_count": 527,
     "metadata": {},
     "output_type": "execute_result"
    }
   ],
   "source": [
    "ess_df.shape"
   ]
  },
  {
   "cell_type": "code",
   "execution_count": 528,
   "metadata": {},
   "outputs": [
    {
     "data": {
      "text/plain": [
       "cntry      0.000000\n",
       "idno       0.000000\n",
       "year       0.000000\n",
       "tvtot      0.000931\n",
       "ppltrst    0.001629\n",
       "pplfair    0.004538\n",
       "pplhlp     0.002909\n",
       "happy      0.003607\n",
       "sclmeet    0.001745\n",
       "sclact     0.010938\n",
       "gndr       0.001164\n",
       "agea       0.027810\n",
       "partner    0.001978\n",
       "dtype: float64"
      ]
     },
     "execution_count": 528,
     "metadata": {},
     "output_type": "execute_result"
    }
   ],
   "source": [
    "ess_df.isnull().sum()/ess_df.shape[0]"
   ]
  },
  {
   "cell_type": "markdown",
   "metadata": {},
   "source": [
    "We have several missing values but it doesn't look like we will be missing much data if we drop those rows but we'll deal with them as the come up in questions.\n"
   ]
  },
  {
   "cell_type": "code",
   "execution_count": 529,
   "metadata": {},
   "outputs": [
    {
     "data": {
      "text/plain": [
       "cntry       object\n",
       "idno       float64\n",
       "year         int64\n",
       "tvtot      float64\n",
       "ppltrst    float64\n",
       "pplfair    float64\n",
       "pplhlp     float64\n",
       "happy      float64\n",
       "sclmeet    float64\n",
       "sclact     float64\n",
       "gndr       float64\n",
       "agea       float64\n",
       "partner    float64\n",
       "dtype: object"
      ]
     },
     "execution_count": 529,
     "metadata": {},
     "output_type": "execute_result"
    }
   ],
   "source": [
    "ess_df.dtypes"
   ]
  },
  {
   "cell_type": "code",
   "execution_count": 530,
   "metadata": {},
   "outputs": [
    {
     "data": {
      "text/plain": [
       "array(['CH', 'CZ', 'DE', 'ES', 'NO', 'SE'], dtype=object)"
      ]
     },
     "execution_count": 530,
     "metadata": {},
     "output_type": "execute_result"
    }
   ],
   "source": [
    "ess_df.cntry.unique()"
   ]
  },
  {
   "cell_type": "code",
   "execution_count": 531,
   "metadata": {},
   "outputs": [
    {
     "data": {
      "text/plain": [
       "array([6, 7], dtype=int64)"
      ]
     },
     "execution_count": 531,
     "metadata": {},
     "output_type": "execute_result"
    }
   ],
   "source": [
    "ess_df.year.unique()    "
   ]
  },
  {
   "cell_type": "markdown",
   "metadata": {},
   "source": [
    "All of the questions have to do with specific years so I'm dividing the data frame into the respective years."
   ]
  },
  {
   "cell_type": "code",
   "execution_count": 532,
   "metadata": {},
   "outputs": [],
   "source": [
    "_2012_df = ess_df[ess_df.year==6].copy()\n",
    "_2012_df.index = range(len(_2012_df))\n",
    "_2014_df = ess_df[ess_df.year==7].copy()\n",
    "_2014_df.index = range(len(_2014_df))"
   ]
  },
  {
   "cell_type": "code",
   "execution_count": 533,
   "metadata": {},
   "outputs": [
    {
     "name": "stdout",
     "output_type": "stream",
     "text": [
      "(4297, 13)\n",
      "(4297, 13)\n"
     ]
    }
   ],
   "source": [
    "print(_2012_df.shape)\n",
    "print(_2014_df.shape)"
   ]
  },
  {
   "cell_type": "code",
   "execution_count": 534,
   "metadata": {},
   "outputs": [
    {
     "data": {
      "image/png": "[encoded data removed]",
      "text/plain": [
       "<Figure size 720x576 with 12 Axes>"
      ]
     },
     "metadata": {
      "needs_background": "light"
     },
     "output_type": "display_data"
    }
   ],
   "source": [
    "_2012_df.dropna().hist(figsize=(10,8))\n",
    "plt.tight_layout()\n",
    "plt.show()"
   ]
  },
  {
   "cell_type": "code",
   "execution_count": 535,
   "metadata": {},
   "outputs": [
    {
     "data": {
      "image/png": "[encoded data removed]",
      "text/plain": [
       "<Figure size 720x576 with 12 Axes>"
      ]
     },
     "metadata": {
      "needs_background": "light"
     },
     "output_type": "display_data"
    }
   ],
   "source": [
    "_2014_df.dropna().hist(figsize=(10,8))\n",
    "plt.tight_layout()\n",
    "plt.show()"
   ]
  },
  {
   "cell_type": "markdown",
   "metadata": {},
   "source": [
    "## <b>Did people become less trusting from 2012 to 2014? Compute results for each country in the sample.\n"
   ]
  },
  {
   "cell_type": "markdown",
   "metadata": {},
   "source": [
    "Since we are comparing the same people just at different times we need to use a paired t test."
   ]
  },
  {
   "cell_type": "code",
   "execution_count": 536,
   "metadata": {},
   "outputs": [],
   "source": [
    "# dropping the same indicies from each so we can perform paired tests if needed\n",
    "drop_index = np.where(_2014_df.ppltrst.isna()|(_2012_df.ppltrst.isna()))[0]\n",
    "drop_index\n",
    "\n",
    "_2012_df.drop(drop_index,0,inplace=True)\n",
    "_2012_df.index=range(len(_2012_df))\n",
    "_2014_df.drop(drop_index,0,inplace=True)\n",
    "_2014_df.index=range(len(_2014_df))"
   ]
  },
  {
   "cell_type": "code",
   "execution_count": 537,
   "metadata": {},
   "outputs": [],
   "source": [
    "# create data frames for each country in the year 2012\n",
    "def cntry_df_2012(cntry): \n",
    "    df = _2012_df.copy()\n",
    "    df = df.iloc[np.where(df.cntry==cntry)[0],:]\n",
    "    return df;\n",
    "\n",
    "ch_df12 = cntry_df_2012(\"CH\")\n",
    "cz_df12 = cntry_df_2012(\"CZ\")\n",
    "de_df12 = cntry_df_2012(\"DE\")\n",
    "es_df12 = cntry_df_2012(\"ES\")\n",
    "no_df12 = cntry_df_2012(\"NO\")\n",
    "se_df12 = cntry_df_2012(\"SE\")"
   ]
  },
  {
   "cell_type": "code",
   "execution_count": 538,
   "metadata": {},
   "outputs": [],
   "source": [
    "# create data frames for each country in the year 2014\n",
    "\n",
    "def cntry_df_2014(cntry): \n",
    "    df = _2014_df.copy()\n",
    "    df = df.iloc[np.where(df.cntry==cntry)[0],:]\n",
    "    return df;\n",
    "\n",
    "ch_df14 = cntry_df_2014(\"CH\")\n",
    "cz_df14 = cntry_df_2014(\"CZ\")\n",
    "de_df14 = cntry_df_2014(\"DE\")\n",
    "es_df14 = cntry_df_2014(\"ES\")\n",
    "no_df14 = cntry_df_2014(\"NO\")\n",
    "se_df14 = cntry_df_2014(\"SE\")"
   ]
  },
  {
   "cell_type": "markdown",
   "metadata": {},
   "source": [
    "One of the assumptions of the paired ttest is that there are no outliers so first we'll check for those"
   ]
  },
  {
   "cell_type": "code",
   "execution_count": 539,
   "metadata": {},
   "outputs": [
    {
     "data": {
      "image/png": "[encoded data removed]",
      "text/plain": [
       "<Figure size 720x1440 with 6 Axes>"
      ]
     },
     "metadata": {
      "needs_background": "light"
     },
     "output_type": "display_data"
    }
   ],
   "source": [
    "\n",
    "plt.figure(figsize=(10,20))\n",
    "for i , cntry in enumerate(_2012_df.cntry.unique()):\n",
    "    plt.subplot(4,3,i+1)\n",
    "   # plt.title(str(cntry.cntry.unique()))\n",
    "    plt.boxplot([_2012_df[_2012_df.cntry==cntry].ppltrst,_2014_df[_2014_df.cntry==cntry].ppltrst],labels=[2012,2014])\n",
    "    plt.title(cntry)\n",
    "plt.show()"
   ]
  },
  {
   "cell_type": "markdown",
   "metadata": {},
   "source": [
    "It looks like there may be a few outliers but lets check the other assumptions first. We will use a Shapiro test to test the norality of the differences of the groups of each country."
   ]
  },
  {
   "cell_type": "code",
   "execution_count": 540,
   "metadata": {},
   "outputs": [
    {
     "name": "stdout",
     "output_type": "stream",
     "text": [
      "CH\n",
      "(0.9900428652763367, 4.288393029128201e-05)\n",
      "CZ\n",
      "(0.9906443357467651, 0.00038316231803037226)\n",
      "DE\n",
      "(0.9438660740852356, 0.4700844883918762)\n",
      "ES\n",
      "(0.9890597462654114, 7.377879285286326e-08)\n",
      "NO\n",
      "(0.9809293746948242, 3.806782089554872e-08)\n",
      "SE\n",
      "(0.9873186945915222, 4.637965957954293e-07)\n"
     ]
    }
   ],
   "source": [
    "for i ,cntry in enumerate(ess_df.cntry.unique()):     \n",
    "    trust_diff = _2014_df[_2014_df.cntry==cntry].ppltrst - list(_2012_df[_2012_df.cntry==cntry].ppltrst)\n",
    "    print(cntry)\n",
    "    print(stats.shapiro(trust_diff))"
   ]
  },
  {
   "cell_type": "markdown",
   "metadata": {},
   "source": [
    "According to the Shapiro test the only distribution that is normal is the ppltrst from Germany. This means we need to find another test. In this case we will use the Wilcoxon signed-rank test."
   ]
  },
  {
   "cell_type": "code",
   "execution_count": 541,
   "metadata": {},
   "outputs": [
    {
     "name": "stdout",
     "output_type": "stream",
     "text": [
      "CH\n",
      "WilcoxonResult(statistic=106278.5, pvalue=0.4411286510952477)\n",
      "CZ\n",
      "WilcoxonResult(statistic=82837.0, pvalue=0.6224236775351153)\n",
      "DE\n",
      "WilcoxonResult(statistic=44.0, pvalue=0.9157134600899863)\n",
      "ES\n",
      "WilcoxonResult(statistic=243475.5, pvalue=0.007543148076429581)\n",
      "NO\n",
      "WilcoxonResult(statistic=85392.0, pvalue=0.7167060511447833)\n",
      "SE\n",
      "WilcoxonResult(statistic=130719.5, pvalue=0.03831183607893985)\n"
     ]
    }
   ],
   "source": [
    "for i, cntry in enumerate(ess_df.cntry.unique()):\n",
    "    print(cntry)\n",
    "    print(stats.wilcoxon(_2014_df[_2014_df.cntry==cntry].ppltrst,_2012_df[_2012_df.cntry==cntry].ppltrst))"
   ]
  },
  {
   "cell_type": "markdown",
   "metadata": {},
   "source": [
    "According to the test, Spain and Sweden are the only two countries with differences in trust so next well see if that difference is negative or positive."
   ]
  },
  {
   "cell_type": "code",
   "execution_count": 542,
   "metadata": {},
   "outputs": [
    {
     "data": {
      "text/plain": [
       "Ttest_relResult(statistic=0.18399501804849683, pvalue=0.8568563797095805)"
      ]
     },
     "execution_count": 542,
     "metadata": {},
     "output_type": "execute_result"
    }
   ],
   "source": [
    "stats.ttest_rel(de_df14.ppltrst,de_df12.ppltrst)"
   ]
  },
  {
   "cell_type": "code",
   "execution_count": 543,
   "metadata": {},
   "outputs": [
    {
     "name": "stdout",
     "output_type": "stream",
     "text": [
      "Spain diff -0.2171758876961185\n",
      "Sweden diff 0.1986754966887414\n"
     ]
    }
   ],
   "source": [
    "print('Spain diff',es_df14.ppltrst.mean() - es_df12.ppltrst.mean())\n",
    "print('Sweden diff',se_df14.ppltrst.mean() - se_df12.ppltrst.mean())"
   ]
  },
  {
   "cell_type": "markdown",
   "metadata": {},
   "source": [
    "People in Spain reported to be more trusting in 2014 than in 2012 and people in Sweden reported to be less trusting in 2014 that in 2012."
   ]
  },
  {
   "cell_type": "markdown",
   "metadata": {},
   "source": [
    "## <b>Did people become happier from 2012 to 2014? Compute results for each country in the sample.\n"
   ]
  },
  {
   "cell_type": "markdown",
   "metadata": {},
   "source": [
    "We will have to follow a similar path that we did for the first question since it is pretty much the same question."
   ]
  },
  {
   "cell_type": "code",
   "execution_count": 544,
   "metadata": {},
   "outputs": [
    {
     "data": {
      "text/plain": [
       "array([ 174,  203,  624,  807,  810,  811,  829,  837,  879,  916,  931,\n",
       "        944, 1010, 1013, 1033, 1055, 1147, 1148, 1149, 1232, 1390, 1768,\n",
       "       1930, 2811, 3037, 3280, 3399, 3419, 3602, 3807], dtype=int64)"
      ]
     },
     "execution_count": 544,
     "metadata": {},
     "output_type": "execute_result"
    }
   ],
   "source": [
    "np.where(_2014_df.happy.isna()|(_2012_df.happy.isna()))[0]"
   ]
  },
  {
   "cell_type": "code",
   "execution_count": 545,
   "metadata": {},
   "outputs": [],
   "source": [
    "# dropping the same indicies from each so we can perform paired tests if needed\n",
    "drop_index = np.where(_2014_df.happy.isna()|(_2012_df.happy.isna()))[0]\n",
    "drop_index\n",
    "\n",
    "_2012_df.drop(drop_index,0,inplace=True)\n",
    "_2014_df.drop(drop_index,0,inplace=True)"
   ]
  },
  {
   "cell_type": "code",
   "execution_count": 546,
   "metadata": {},
   "outputs": [],
   "source": [
    "_2012_df.index = range(len(_2012_df))\n",
    "_2014_df.index = range(len(_2014_df))"
   ]
  },
  {
   "cell_type": "code",
   "execution_count": 547,
   "metadata": {},
   "outputs": [
    {
     "data": {
      "image/png": "[encoded data removed]",
      "text/plain": [
       "<Figure size 720x1440 with 6 Axes>"
      ]
     },
     "metadata": {
      "needs_background": "light"
     },
     "output_type": "display_data"
    }
   ],
   "source": [
    "\n",
    "plt.figure(figsize=(10,20))\n",
    "for i , cntry in enumerate(_2012_df.cntry.unique()):\n",
    "    plt.subplot(4,3,i+1)\n",
    "   # plt.title(str(cntry.cntry.unique()))\n",
    "    plt.boxplot([_2012_df[_2012_df.cntry==cntry].happy,_2014_df[_2014_df.cntry==cntry].happy],labels=[2012,2014])\n",
    "    plt.title(cntry)\n",
    "plt.show()"
   ]
  },
  {
   "cell_type": "code",
   "execution_count": 548,
   "metadata": {},
   "outputs": [
    {
     "name": "stdout",
     "output_type": "stream",
     "text": [
      "CH\n",
      "(0.965677797794342, 1.828886000976304e-12)\n",
      "CZ\n",
      "(0.9872879981994629, 2.633933581819292e-05)\n",
      "DE\n",
      "(0.9687155485153198, 0.8590124249458313)\n",
      "ES\n",
      "(0.9810788631439209, 1.8139089189017632e-11)\n",
      "NO\n",
      "(0.9637861847877502, 2.0606441900050676e-12)\n",
      "SE\n",
      "(0.9766537547111511, 7.740216800833366e-11)\n"
     ]
    }
   ],
   "source": [
    "# Shapiro test for normality\n",
    "for i ,cntry in enumerate(ess_df.cntry.unique()):     \n",
    "    trust_diff = _2014_df[_2014_df.cntry==cntry].happy - list(_2012_df[_2012_df.cntry==cntry].happy)\n",
    "    print(cntry)\n",
    "    print(stats.shapiro(trust_diff))"
   ]
  },
  {
   "cell_type": "markdown",
   "metadata": {},
   "source": [
    "According to the Shapiro test most of the differences are normal but we do have a significant amount of outliers so again we will use the Wilcoxon test."
   ]
  },
  {
   "cell_type": "code",
   "execution_count": 549,
   "metadata": {},
   "outputs": [
    {
     "name": "stdout",
     "output_type": "stream",
     "text": [
      "CH\n",
      "WilcoxonResult(statistic=92816.5, pvalue=0.989517215264762)\n",
      "CZ\n",
      "WilcoxonResult(statistic=71130.0, pvalue=0.14333449329337802)\n",
      "DE\n",
      "WilcoxonResult(statistic=23.5, pvalue=0.393351316918508)\n",
      "ES\n",
      "WilcoxonResult(statistic=231577.5, pvalue=0.06409039439844563)\n",
      "NO\n",
      "WilcoxonResult(statistic=67251.5, pvalue=7.969441632734971e-06)\n",
      "SE\n",
      "WilcoxonResult(statistic=125415.5, pvalue=0.7322285666838898)\n"
     ]
    }
   ],
   "source": [
    "for i, cntry in enumerate(ess_df.cntry.unique()):\n",
    "    print(cntry)\n",
    "    print(stats.wilcoxon(_2014_df[_2014_df.cntry==cntry].happy,_2012_df[_2012_df.cntry==cntry].happy))"
   ]
  },
  {
   "cell_type": "code",
   "execution_count": 550,
   "metadata": {},
   "outputs": [
    {
     "data": {
      "text/plain": [
       "-0.33574238456393335"
      ]
     },
     "execution_count": 550,
     "metadata": {},
     "output_type": "execute_result"
    }
   ],
   "source": [
    "# change in NO happiness from 2012 to 2014\n",
    "no_df14.happy.mean()-no_df12.happy.mean()"
   ]
  },
  {
   "cell_type": "markdown",
   "metadata": {},
   "source": [
    "It appears that Norway is the only country that had a significant change and that change was negative meaning that the people of norway reported to be less happy."
   ]
  },
  {
   "cell_type": "markdown",
   "metadata": {},
   "source": [
    "## <b>Who reported watching more TV in 2012, men or women?\n"
   ]
  },
  {
   "cell_type": "code",
   "execution_count": 551,
   "metadata": {
    "scrolled": true
   },
   "outputs": [
    {
     "data": {
      "text/plain": [
       "4"
      ]
     },
     "execution_count": 551,
     "metadata": {},
     "output_type": "execute_result"
    }
   ],
   "source": [
    "_2012_df.tvtot.isna().sum()"
   ]
  },
  {
   "cell_type": "code",
   "execution_count": 552,
   "metadata": {},
   "outputs": [
    {
     "data": {
      "text/plain": [
       "array([752, 836, 909, 999], dtype=int64)"
      ]
     },
     "execution_count": 552,
     "metadata": {},
     "output_type": "execute_result"
    }
   ],
   "source": [
    "np.where(_2012_df.tvtot.isna())[0]"
   ]
  },
  {
   "cell_type": "code",
   "execution_count": 553,
   "metadata": {},
   "outputs": [
    {
     "data": {
      "text/plain": [
       "0"
      ]
     },
     "execution_count": 553,
     "metadata": {},
     "output_type": "execute_result"
    }
   ],
   "source": [
    "_2012_df = _2012_df.drop(np.where(_2012_df.tvtot.isna())[0],0)\n",
    "_2012_df.index = range(len(_2012_df))\n",
    "_2012_df.tvtot.isna().sum()"
   ]
  },
  {
   "cell_type": "code",
   "execution_count": 554,
   "metadata": {},
   "outputs": [],
   "source": [
    "men = _2012_df[_2012_df.gndr==1]\n",
    "women = _2012_df[_2012_df.gndr==2]"
   ]
  },
  {
   "cell_type": "code",
   "execution_count": 555,
   "metadata": {},
   "outputs": [
    {
     "data": {
      "text/plain": [
       "Text(0.5, 1.0, 'Men TV')"
      ]
     },
     "execution_count": 555,
     "metadata": {},
     "output_type": "execute_result"
    },
    {
     "data": {
      "image/png": "[encoded data removed]",
      "text/plain": [
       "<Figure size 720x720 with 2 Axes>"
      ]
     },
     "metadata": {
      "needs_background": "light"
     },
     "output_type": "display_data"
    }
   ],
   "source": [
    "plt.figure(figsize=(10,10))\n",
    "plt.subplot(221)\n",
    "women.tvtot.hist()\n",
    "plt.title('Women TV')\n",
    "plt.subplot(222)\n",
    "men.tvtot.hist()\n",
    "plt.title('Men TV')"
   ]
  },
  {
   "cell_type": "code",
   "execution_count": null,
   "metadata": {},
   "outputs": [],
   "source": [
    " "
   ]
  },
  {
   "cell_type": "code",
   "execution_count": 556,
   "metadata": {},
   "outputs": [
    {
     "data": {
      "text/plain": [
       "Text(0.5, 1.0, 'Men TV')"
      ]
     },
     "execution_count": 556,
     "metadata": {},
     "output_type": "execute_result"
    },
    {
     "data": {
      "image/png": "[encoded data removed]",
      "text/plain": [
       "<Figure size 720x720 with 2 Axes>"
      ]
     },
     "metadata": {
      "needs_background": "light"
     },
     "output_type": "display_data"
    }
   ],
   "source": [
    "plt.figure(figsize=(10,10))\n",
    "plt.subplot(221)\n",
    "plt.boxplot(women.tvtot)\n",
    "plt.title('Women TV')\n",
    "plt.subplot(222)\n",
    "plt.boxplot(men.tvtot)\n",
    "plt.title('Men TV')\n"
   ]
  },
  {
   "cell_type": "code",
   "execution_count": 557,
   "metadata": {},
   "outputs": [
    {
     "data": {
      "text/plain": [
       "([<matplotlib.axis.XTick at 0x20910b7a208>,\n",
       "  <matplotlib.axis.XTick at 0x20910b5ca58>],\n",
       " <a list of 2 Text xticklabel objects>)"
      ]
     },
     "execution_count": 557,
     "metadata": {},
     "output_type": "execute_result"
    },
    {
     "data": {
      "image/png": "[encoded data removed]",
      "text/plain": [
       "<Figure size 432x288 with 1 Axes>"
      ]
     },
     "metadata": {
      "needs_background": "light"
     },
     "output_type": "display_data"
    }
   ],
   "source": [
    "sns.barplot(_2012_df.gndr,_2012_df.tvtot)\n",
    "plt.xticks((0,1),['men','women'])\n",
    " "
   ]
  },
  {
   "cell_type": "code",
   "execution_count": 558,
   "metadata": {},
   "outputs": [
    {
     "data": {
      "text/html": [
       "<div>\n",
       "<style scoped>\n",
       "    .dataframe tbody tr th:only-of-type {\n",
       "        vertical-align: middle;\n",
       "    }\n",
       "\n",
       "    .dataframe tbody tr th {\n",
       "        vertical-align: top;\n",
       "    }\n",
       "\n",
       "    .dataframe thead th {\n",
       "        text-align: right;\n",
       "    }\n",
       "</style>\n",
       "<table border=\"1\" class=\"dataframe\">\n",
       "  <thead>\n",
       "    <tr style=\"text-align: right;\">\n",
       "      <th></th>\n",
       "      <th>count</th>\n",
       "      <th>mean</th>\n",
       "      <th>std</th>\n",
       "      <th>min</th>\n",
       "      <th>25%</th>\n",
       "      <th>50%</th>\n",
       "      <th>75%</th>\n",
       "      <th>max</th>\n",
       "    </tr>\n",
       "    <tr>\n",
       "      <th>gndr</th>\n",
       "      <th></th>\n",
       "      <th></th>\n",
       "      <th></th>\n",
       "      <th></th>\n",
       "      <th></th>\n",
       "      <th></th>\n",
       "      <th></th>\n",
       "      <th></th>\n",
       "    </tr>\n",
       "  </thead>\n",
       "  <tbody>\n",
       "    <tr>\n",
       "      <th>1.0</th>\n",
       "      <td>2135.0</td>\n",
       "      <td>3.899297</td>\n",
       "      <td>1.984163</td>\n",
       "      <td>0.0</td>\n",
       "      <td>2.0</td>\n",
       "      <td>4.0</td>\n",
       "      <td>5.0</td>\n",
       "      <td>7.0</td>\n",
       "    </tr>\n",
       "    <tr>\n",
       "      <th>2.0</th>\n",
       "      <td>2114.0</td>\n",
       "      <td>3.934721</td>\n",
       "      <td>2.042959</td>\n",
       "      <td>0.0</td>\n",
       "      <td>2.0</td>\n",
       "      <td>4.0</td>\n",
       "      <td>6.0</td>\n",
       "      <td>7.0</td>\n",
       "    </tr>\n",
       "  </tbody>\n",
       "</table>\n",
       "</div>"
      ],
      "text/plain": [
       "       count      mean       std  min  25%  50%  75%  max\n",
       "gndr                                                     \n",
       "1.0   2135.0  3.899297  1.984163  0.0  2.0  4.0  5.0  7.0\n",
       "2.0   2114.0  3.934721  2.042959  0.0  2.0  4.0  6.0  7.0"
      ]
     },
     "execution_count": 558,
     "metadata": {},
     "output_type": "execute_result"
    }
   ],
   "source": [
    "_2012_df.groupby('gndr').tvtot.describe()"
   ]
  },
  {
   "cell_type": "markdown",
   "metadata": {},
   "source": [
    "From the plot and the statistics it look like women reported to watch more TV than men. To see if the difference is meaningful we need to do a significance test. The appropriate test here would be the ttest."
   ]
  },
  {
   "cell_type": "code",
   "execution_count": 559,
   "metadata": {},
   "outputs": [
    {
     "name": "stdout",
     "output_type": "stream",
     "text": [
      "Ttest_indResult(statistic=0.5733497229074147, pvalue=0.5664382816406328)\n"
     ]
    }
   ],
   "source": [
    "print(stats.ttest_ind(women.tvtot, men.tvtot))"
   ]
  },
  {
   "cell_type": "markdown",
   "metadata": {},
   "source": [
    "It appears that there is no significant difference in the reported time spent watching tv between men or women."
   ]
  },
  {
   "cell_type": "markdown",
   "metadata": {},
   "source": [
    "## <b> Who was more likely to believe people were fair in 2012, people living with a partner or people living alone?\n"
   ]
  },
  {
   "cell_type": "code",
   "execution_count": 560,
   "metadata": {},
   "outputs": [
    {
     "data": {
      "text/plain": [
       "array([1173, 1365, 1794, 1941, 1989, 2894, 3114], dtype=int64)"
      ]
     },
     "execution_count": 560,
     "metadata": {},
     "output_type": "execute_result"
    }
   ],
   "source": [
    "np.where(_2012_df.partner.isna())[0]"
   ]
  },
  {
   "cell_type": "code",
   "execution_count": 561,
   "metadata": {},
   "outputs": [
    {
     "data": {
      "text/plain": [
       "0"
      ]
     },
     "execution_count": 561,
     "metadata": {},
     "output_type": "execute_result"
    }
   ],
   "source": [
    "_2012_df = _2012_df.drop(np.where(_2012_df.partner.isna())[0],0)\n",
    "_2012_df.index = range(len(_2012_df))\n",
    "_2012_df.partner.isna().sum()"
   ]
  },
  {
   "cell_type": "code",
   "execution_count": 562,
   "metadata": {},
   "outputs": [
    {
     "data": {
      "text/plain": [
       "array([ 398,  505,  636,  822,  893,  911, 1015, 1042, 1043, 1400, 1593,\n",
       "       2331, 3349, 3779, 3801], dtype=int64)"
      ]
     },
     "execution_count": 562,
     "metadata": {},
     "output_type": "execute_result"
    }
   ],
   "source": [
    "np.where(_2012_df.pplfair.isna())[0]"
   ]
  },
  {
   "cell_type": "code",
   "execution_count": 563,
   "metadata": {},
   "outputs": [
    {
     "data": {
      "text/plain": [
       "0"
      ]
     },
     "execution_count": 563,
     "metadata": {},
     "output_type": "execute_result"
    }
   ],
   "source": [
    "_2012_df = _2012_df.drop(np.where(_2012_df.pplfair.isna())[0],0)\n",
    "_2012_df.index = range(len(_2012_df))\n",
    "_2012_df.pplfair.isna().sum()"
   ]
  },
  {
   "cell_type": "code",
   "execution_count": 564,
   "metadata": {},
   "outputs": [],
   "source": [
    "partner = _2012_df[_2012_df.partner==1]\n",
    "no_partner = _2012_df[_2012_df.partner==2]"
   ]
  },
  {
   "cell_type": "code",
   "execution_count": 565,
   "metadata": {},
   "outputs": [
    {
     "data": {
      "text/plain": [
       "Text(0.5, 1.0, 'No Partner People Trust')"
      ]
     },
     "execution_count": 565,
     "metadata": {},
     "output_type": "execute_result"
    },
    {
     "data": {
      "image/png": "[encoded data removed]",
      "text/plain": [
       "<Figure size 720x720 with 2 Axes>"
      ]
     },
     "metadata": {
      "needs_background": "light"
     },
     "output_type": "display_data"
    }
   ],
   "source": [
    "plt.figure(figsize=(10,10))\n",
    "plt.subplot(221)\n",
    "partner.pplfair.hist()\n",
    "plt.title('Partner People Trust')\n",
    "plt.subplot(222)\n",
    "no_partner.pplfair.hist()\n",
    "plt.title('No Partner People Trust')\n"
   ]
  },
  {
   "cell_type": "code",
   "execution_count": 566,
   "metadata": {},
   "outputs": [
    {
     "data": {
      "text/plain": [
       "Text(0.5, 1.0, 'No Partner People Fair')"
      ]
     },
     "execution_count": 566,
     "metadata": {},
     "output_type": "execute_result"
    },
    {
     "data": {
      "image/png": "[encoded data removed]",
      "text/plain": [
       "<Figure size 720x720 with 2 Axes>"
      ]
     },
     "metadata": {
      "needs_background": "light"
     },
     "output_type": "display_data"
    }
   ],
   "source": [
    "plt.figure(figsize=(10,10))\n",
    "plt.subplot(221)\n",
    "plt.boxplot(partner.pplfair)\n",
    "plt.title('Partner People Fair')\n",
    "plt.subplot(222)\n",
    "plt.boxplot(no_partner.pplfair) \n",
    "plt.title('No Partner People Fair')\n"
   ]
  },
  {
   "cell_type": "code",
   "execution_count": 567,
   "metadata": {},
   "outputs": [
    {
     "data": {
      "image/png": "[encoded data removed]",
      "text/plain": [
       "<Figure size 432x288 with 1 Axes>"
      ]
     },
     "metadata": {
      "needs_background": "light"
     },
     "output_type": "display_data"
    }
   ],
   "source": [
    "sns.barplot(_2012_df.partner,_2012_df.pplfair)\n",
    "plt.xticks((0,1),['Partner','No Partner']) \n",
    "plt.show()"
   ]
  },
  {
   "cell_type": "code",
   "execution_count": 568,
   "metadata": {},
   "outputs": [
    {
     "data": {
      "text/html": [
       "<div>\n",
       "<style scoped>\n",
       "    .dataframe tbody tr th:only-of-type {\n",
       "        vertical-align: middle;\n",
       "    }\n",
       "\n",
       "    .dataframe tbody tr th {\n",
       "        vertical-align: top;\n",
       "    }\n",
       "\n",
       "    .dataframe thead th {\n",
       "        text-align: right;\n",
       "    }\n",
       "</style>\n",
       "<table border=\"1\" class=\"dataframe\">\n",
       "  <thead>\n",
       "    <tr style=\"text-align: right;\">\n",
       "      <th></th>\n",
       "      <th>count</th>\n",
       "      <th>mean</th>\n",
       "      <th>std</th>\n",
       "      <th>min</th>\n",
       "      <th>25%</th>\n",
       "      <th>50%</th>\n",
       "      <th>75%</th>\n",
       "      <th>max</th>\n",
       "    </tr>\n",
       "    <tr>\n",
       "      <th>partner</th>\n",
       "      <th></th>\n",
       "      <th></th>\n",
       "      <th></th>\n",
       "      <th></th>\n",
       "      <th></th>\n",
       "      <th></th>\n",
       "      <th></th>\n",
       "      <th></th>\n",
       "    </tr>\n",
       "  </thead>\n",
       "  <tbody>\n",
       "    <tr>\n",
       "      <th>1.0</th>\n",
       "      <td>2641.0</td>\n",
       "      <td>6.075729</td>\n",
       "      <td>2.114421</td>\n",
       "      <td>0.0</td>\n",
       "      <td>5.0</td>\n",
       "      <td>7.0</td>\n",
       "      <td>8.0</td>\n",
       "      <td>10.0</td>\n",
       "    </tr>\n",
       "    <tr>\n",
       "      <th>2.0</th>\n",
       "      <td>1586.0</td>\n",
       "      <td>5.862547</td>\n",
       "      <td>2.162198</td>\n",
       "      <td>0.0</td>\n",
       "      <td>5.0</td>\n",
       "      <td>6.0</td>\n",
       "      <td>7.0</td>\n",
       "      <td>10.0</td>\n",
       "    </tr>\n",
       "  </tbody>\n",
       "</table>\n",
       "</div>"
      ],
      "text/plain": [
       "          count      mean       std  min  25%  50%  75%   max\n",
       "partner                                                      \n",
       "1.0      2641.0  6.075729  2.114421  0.0  5.0  7.0  8.0  10.0\n",
       "2.0      1586.0  5.862547  2.162198  0.0  5.0  6.0  7.0  10.0"
      ]
     },
     "execution_count": 568,
     "metadata": {},
     "output_type": "execute_result"
    }
   ],
   "source": [
    "_2012_df.groupby('partner').pplfair.describe()"
   ]
  },
  {
   "cell_type": "markdown",
   "metadata": {},
   "source": [
    "From the plot and the statistics it looks like people living with a partner find people to be more trusting in 2012 than people living without. To see if the difference is meaningful we need to do a significance test. Again, the appropriate test here would be the ttest."
   ]
  },
  {
   "cell_type": "code",
   "execution_count": 569,
   "metadata": {},
   "outputs": [
    {
     "name": "stdout",
     "output_type": "stream",
     "text": [
      "Ttest_indResult(statistic=3.1469250758191483, pvalue=0.0016614514019673593)\n"
     ]
    }
   ],
   "source": [
    "print(stats.ttest_ind(partner.pplfair, no_partner.pplfair))\n"
   ]
  },
  {
   "cell_type": "markdown",
   "metadata": {},
   "source": [
    "According to the ttest there is a significant difference between people who lived with an partner and people who lived without if they thought people were fair. People who live with a partner reported that they thought people were fair more that people who lived without a partner. "
   ]
  },
  {
   "cell_type": "markdown",
   "metadata": {},
   "source": [
    "## <b>Pick three or four of the countries in the sample and compare how often people met socially in 2014. Are there differences, and if so, which countries stand out?\n"
   ]
  },
  {
   "cell_type": "code",
   "execution_count": 594,
   "metadata": {},
   "outputs": [
    {
     "name": "stdout",
     "output_type": "stream",
     "text": [
      "0\n",
      "0\n",
      "0\n"
     ]
    }
   ],
   "source": [
    "print(es_df14.sclmeet.isna().sum())\n",
    "print(se_df14.sclmeet.isna().sum())\n",
    "print(ch_df14.sclmeet.isna().sum()) "
   ]
  },
  {
   "cell_type": "code",
   "execution_count": 593,
   "metadata": {},
   "outputs": [],
   "source": [
    "ch_df14.dropna(inplace=True)"
   ]
  },
  {
   "cell_type": "code",
   "execution_count": 597,
   "metadata": {},
   "outputs": [
    {
     "data": {
      "text/plain": [
       "(array([  2.,  26.,   0.,  53.,   0., 148., 136.,   0., 286.,  92.]),\n",
       " array([1. , 1.6, 2.2, 2.8, 3.4, 4. , 4.6, 5.2, 5.8, 6.4, 7. ]),\n",
       " <a list of 10 Patch objects>)"
      ]
     },
     "execution_count": 597,
     "metadata": {},
     "output_type": "execute_result"
    },
    {
     "data": {
      "image/png": "[encoded data removed]",
      "text/plain": [
       "<Figure size 720x720 with 3 Axes>"
      ]
     },
     "metadata": {
      "needs_background": "light"
     },
     "output_type": "display_data"
    }
   ],
   "source": [
    "plt.figure(figsize=(10,10))\n",
    "plt.subplot(321)\n",
    "plt.hist(es_df14.sclmeet)\n",
    "plt.subplot(322)\n",
    "plt.hist(se_df14.sclmeet)\n",
    "plt.subplot(323)\n",
    "plt.hist(ch_df14.sclmeet )"
   ]
  },
  {
   "cell_type": "code",
   "execution_count": 625,
   "metadata": {},
   "outputs": [
    {
     "name": "stdout",
     "output_type": "stream",
     "text": [
      "(0.8927679657936096, 2.280180298346974e-27)\n",
      "(0.8801376819610596, 7.605776533189933e-26)\n",
      "(0.8976361155509949, 7.658747353767709e-22)\n"
     ]
    }
   ],
   "source": [
    "print(stats.shapiro(es_df14.sclmeet))\n",
    "print(stats.shapiro(se_df14.sclmeet))\n",
    "print(stats.shapiro(ch_df14.sclmeet))"
   ]
  },
  {
   "cell_type": "code",
   "execution_count": 605,
   "metadata": {},
   "outputs": [
    {
     "data": {
      "image/png": "[encoded data removed]",
      "text/plain": [
       "<Figure size 432x288 with 1 Axes>"
      ]
     },
     "metadata": {
      "needs_background": "light"
     },
     "output_type": "display_data"
    }
   ],
   "source": [
    "sns.barplot(cntry.cntry,cntry.sclmeet)\n",
    "plt.show()"
   ]
  },
  {
   "cell_type": "code",
   "execution_count": 663,
   "metadata": {},
   "outputs": [
    {
     "data": {
      "text/html": [
       "<div>\n",
       "<style scoped>\n",
       "    .dataframe tbody tr th:only-of-type {\n",
       "        vertical-align: middle;\n",
       "    }\n",
       "\n",
       "    .dataframe tbody tr th {\n",
       "        vertical-align: top;\n",
       "    }\n",
       "\n",
       "    .dataframe thead th {\n",
       "        text-align: right;\n",
       "    }\n",
       "</style>\n",
       "<table border=\"1\" class=\"dataframe\">\n",
       "  <thead>\n",
       "    <tr style=\"text-align: right;\">\n",
       "      <th></th>\n",
       "      <th>count</th>\n",
       "      <th>mean</th>\n",
       "      <th>std</th>\n",
       "      <th>min</th>\n",
       "      <th>25%</th>\n",
       "      <th>50%</th>\n",
       "      <th>75%</th>\n",
       "      <th>max</th>\n",
       "    </tr>\n",
       "    <tr>\n",
       "      <th>cntry</th>\n",
       "      <th></th>\n",
       "      <th></th>\n",
       "      <th></th>\n",
       "      <th></th>\n",
       "      <th></th>\n",
       "      <th></th>\n",
       "      <th></th>\n",
       "      <th></th>\n",
       "    </tr>\n",
       "  </thead>\n",
       "  <tbody>\n",
       "    <tr>\n",
       "      <th>CH</th>\n",
       "      <td>769.0</td>\n",
       "      <td>5.162549</td>\n",
       "      <td>1.309362</td>\n",
       "      <td>1.0</td>\n",
       "      <td>4.0</td>\n",
       "      <td>6.0</td>\n",
       "      <td>6.0</td>\n",
       "      <td>7.0</td>\n",
       "    </tr>\n",
       "    <tr>\n",
       "      <th>ES</th>\n",
       "      <td>1207.0</td>\n",
       "      <td>5.256835</td>\n",
       "      <td>1.468966</td>\n",
       "      <td>1.0</td>\n",
       "      <td>4.0</td>\n",
       "      <td>6.0</td>\n",
       "      <td>6.0</td>\n",
       "      <td>7.0</td>\n",
       "    </tr>\n",
       "    <tr>\n",
       "      <th>SE</th>\n",
       "      <td>902.0</td>\n",
       "      <td>5.423503</td>\n",
       "      <td>1.375310</td>\n",
       "      <td>2.0</td>\n",
       "      <td>4.0</td>\n",
       "      <td>6.0</td>\n",
       "      <td>7.0</td>\n",
       "      <td>7.0</td>\n",
       "    </tr>\n",
       "  </tbody>\n",
       "</table>\n",
       "</div>"
      ],
      "text/plain": [
       "        count      mean       std  min  25%  50%  75%  max\n",
       "cntry                                                     \n",
       "CH      769.0  5.162549  1.309362  1.0  4.0  6.0  6.0  7.0\n",
       "ES     1207.0  5.256835  1.468966  1.0  4.0  6.0  6.0  7.0\n",
       "SE      902.0  5.423503  1.375310  2.0  4.0  6.0  7.0  7.0"
      ]
     },
     "execution_count": 663,
     "metadata": {},
     "output_type": "execute_result"
    }
   ],
   "source": [
    "cntry.groupby('cntry').sclmeet.describe()"
   ]
  },
  {
   "cell_type": "markdown",
   "metadata": {},
   "source": [
    "By just looking at the stats it look as though Sweden stands out the most from Switzerland and Spain as people who report to meet more often socially. Since the data is non normal we'll use the non_parametric Kruskal_Wallace test to check if the differences are significant."
   ]
  },
  {
   "cell_type": "markdown",
   "metadata": {},
   "source": [
    "The country that stands out the most as a country of people who socially meet from the 3 is Sweden"
   ]
  },
  {
   "cell_type": "code",
   "execution_count": null,
   "metadata": {},
   "outputs": [],
   "source": []
  },
  {
   "cell_type": "markdown",
   "metadata": {},
   "source": [
    "Pick three or four of the countries in the sample and compare how often people took part in social activities, relative to others their age, in 2014. Are there differences, and if so, which countries stand out?"
   ]
  },
  {
   "cell_type": "code",
   "execution_count": null,
   "metadata": {},
   "outputs": [],
   "source": []
  }
 ],
 "metadata": {
  "kernelspec": {
   "display_name": "Python 3",
   "language": "python",
   "name": "python3"
  },
  "language_info": {
   "codemirror_mode": {
    "name": "ipython",
    "version": 3
   },
   "file_extension": ".py",
   "mimetype": "text/x-python",
   "name": "python",
   "nbconvert_exporter": "python",
   "pygments_lexer": "ipython3",
   "version": "3.7.2"
  }
 },
 "nbformat": 4,
 "nbformat_minor": 2
}
