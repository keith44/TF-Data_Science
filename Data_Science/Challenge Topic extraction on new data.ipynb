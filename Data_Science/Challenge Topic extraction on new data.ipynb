{
 "cells": [
  {
   "cell_type": "code",
   "execution_count": 1,
   "metadata": {},
   "outputs": [],
   "source": [
    "%matplotlib inline\n",
    "import numpy as np\n",
    "import pandas as pd\n",
    "import scipy\n",
    "import sklearn\n",
    "import spacy\n",
    "import matplotlib.pyplot as plt\n",
    "import seaborn as sns\n",
    "import re\n",
    "import string\n",
    "from nltk.corpus import product_reviews_2, stopwords\n",
    "from sklearn.feature_extraction.text import TfidfVectorizer\n",
    "from collections import Counter\n",
    "from urllib.request import urlopen as uReq\n",
    "from bs4 import BeautifulSoup as soup\n",
    "import nltk.corpus\n",
    "from sklearn.cluster import MeanShift, estimate_bandwidth\n",
    "from sklearn.cluster import SpectralClustering\n",
    "from sklearn.cluster import AffinityPropagation\n",
    "from sklearn import metrics\n",
    "from itertools import cycle\n",
    "from sklearn.cluster import KMeans\n",
    "from sklearn import metrics\n",
    "from sklearn.decomposition import TruncatedSVD\n",
    "from sklearn.metrics import pairwise_distances\n",
    "from sklearn.preprocessing import normalize\n",
    "from sklearn.preprocessing import Normalizer\n",
    "import random\n",
    "import spacy\n",
    "from sklearn.pipeline import make_pipeline"
   ]
  },
  {
   "cell_type": "code",
   "execution_count": 2,
   "metadata": {},
   "outputs": [],
   "source": [
    "from sklearn.datasets import fetch_20newsgroups"
   ]
  },
  {
   "cell_type": "code",
   "execution_count": 3,
   "metadata": {},
   "outputs": [],
   "source": [
    "ng20_df = pd.DataFrame()\n",
    "groups = ['comp.graphics','rec.motorcycles','sci.med','talk.politics.misc','alt.atheism','talk.politics.guns']\n",
    "a = fetch_20newsgroups(subset='train',categories=groups, remove=('headers', 'footers', 'quotes'), random_state=1)\n",
    "for i,data in enumerate(a.get('data')):\n",
    "    \n",
    "    ng20_df.loc[i,'labels'] = a.get('filenames')[i][65:-6]\n",
    "    ng20_df.loc[i,'text'] = data\n"
   ]
  },
  {
   "cell_type": "code",
   "execution_count": 4,
   "metadata": {},
   "outputs": [],
   "source": [
    "ng20_df.labels = ng20_df.labels.str.replace(\"\\\\\",\"\")"
   ]
  },
  {
   "cell_type": "code",
   "execution_count": 5,
   "metadata": {},
   "outputs": [
    {
     "data": {
      "text/plain": [
       "0"
      ]
     },
     "execution_count": 5,
     "metadata": {},
     "output_type": "execute_result"
    }
   ],
   "source": [
    "ng20_df = ng20_df.loc[np.where(np.logical_not(ng20_df.text.duplicated()))[0],:]\n",
    "ng20_df.text.duplicated().sum()"
   ]
  },
  {
   "cell_type": "code",
   "execution_count": 6,
   "metadata": {},
   "outputs": [
    {
     "data": {
      "text/html": [
       "<div>\n",
       "<style scoped>\n",
       "    .dataframe tbody tr th:only-of-type {\n",
       "        vertical-align: middle;\n",
       "    }\n",
       "\n",
       "    .dataframe tbody tr th {\n",
       "        vertical-align: top;\n",
       "    }\n",
       "\n",
       "    .dataframe thead th {\n",
       "        text-align: right;\n",
       "    }\n",
       "</style>\n",
       "<table border=\"1\" class=\"dataframe\">\n",
       "  <thead>\n",
       "    <tr style=\"text-align: right;\">\n",
       "      <th></th>\n",
       "      <th>labels</th>\n",
       "      <th>text</th>\n",
       "    </tr>\n",
       "  </thead>\n",
       "  <tbody>\n",
       "    <tr>\n",
       "      <th>0</th>\n",
       "      <td>talk.politics.misc</td>\n",
       "      <td># ## Face it, Clayton, he was not found guilty...</td>\n",
       "    </tr>\n",
       "    <tr>\n",
       "      <th>1</th>\n",
       "      <td>comp.graphics</td>\n",
       "      <td>On sunsite.unc.edu in pub/multimedia/utilities...</td>\n",
       "    </tr>\n",
       "    <tr>\n",
       "      <th>2</th>\n",
       "      <td>alt.atheism</td>\n",
       "      <td>\\nThere are definitely quite a few horrible de...</td>\n",
       "    </tr>\n",
       "    <tr>\n",
       "      <th>3</th>\n",
       "      <td>comp.graphics</td>\n",
       "      <td>\\n\\n\\tThe newspaper itself is almost certainly...</td>\n",
       "    </tr>\n",
       "    <tr>\n",
       "      <th>4</th>\n",
       "      <td>talk.politics.misc</td>\n",
       "      <td>Pardon me for interrupting, but why doesn't an...</td>\n",
       "    </tr>\n",
       "  </tbody>\n",
       "</table>\n",
       "</div>"
      ],
      "text/plain": [
       "               labels                                               text\n",
       "0  talk.politics.misc  # ## Face it, Clayton, he was not found guilty...\n",
       "1       comp.graphics  On sunsite.unc.edu in pub/multimedia/utilities...\n",
       "2         alt.atheism  \\nThere are definitely quite a few horrible de...\n",
       "3       comp.graphics  \\n\\n\\tThe newspaper itself is almost certainly...\n",
       "4  talk.politics.misc  Pardon me for interrupting, but why doesn't an..."
      ]
     },
     "execution_count": 6,
     "metadata": {},
     "output_type": "execute_result"
    }
   ],
   "source": [
    "ng20_df.head()"
   ]
  },
  {
   "cell_type": "code",
   "execution_count": 7,
   "metadata": {},
   "outputs": [
    {
     "data": {
      "text/plain": [
       "rec.motorcycles       583\n",
       "sci.med               579\n",
       "comp.graphics         571\n",
       "talk.politics.guns    534\n",
       "alt.atheism           469\n",
       "talk.politics.misc    454\n",
       "Name: labels, dtype: int64"
      ]
     },
     "execution_count": 7,
     "metadata": {},
     "output_type": "execute_result"
    }
   ],
   "source": [
    "ng20_df.labels.value_counts()"
   ]
  },
  {
   "cell_type": "code",
   "execution_count": 8,
   "metadata": {},
   "outputs": [],
   "source": [
    "def clean_text(text):\n",
    "    #text = re.sub(\"\\n\", ' ', text) \n",
    "   \n",
    "    text = re.sub(r\"[^a-zA-Z.' ]+\", \" \", text) #removes anything that isn't a letter\n",
    "    text = re.sub(r\"\\W?\\W?\\W?\\W?\\W?\\W\",' ',text)\n",
    "    text  = re.sub(r'\\b\\w{1}\\b', '', text)\n",
    "    #text = re.sub(\"/(^|\\s+)(\\S(\\s+|$))+/\", \" \", text)\n",
    "    text = re.sub(r\"\\W?\\W?\\W?\\W?\\W?\\W\",' ',text)\n",
    "    text = text.lower()\n",
    "    return text;"
   ]
  },
  {
   "cell_type": "code",
   "execution_count": 9,
   "metadata": {},
   "outputs": [
    {
     "data": {
      "text/plain": [
       "' all true and all good points well making career out of it is bit strong still believe that doing your own research is very very necessary would not have progressed as much as have today unless had spent the many hours in stanford med library as have done and years ago it was clear that there was no medicine that would help me so should have stopped searching thank goodness didn now found that there is indeed medicine that helps me think that what you ve said is kind of idealistic that you would go to one doctor get diagnosis maybe get second opinion and then move on with your life just as an example having seen of the top specialists in this field in the country have received different diagnoses these are the top names the ones that people come to from all over the country have had to sort all of this out myself going to support group and in fact heading that support group was helpful for while but after point found it very unproductive it was much more productive to do library research make phone calls and put together the pieces of the puzzle myself recent movie lorenzo oil offers perfect example of what talking about if you haven seen it you should it not put down of doctor and neither is what saying doctors are only human and can only do so much but there are those of us out here who are intelligent and able to sometimes find missing piece of the puzzle that might have otherwise gone unnoticed guess biased because dizziness is one of those weird things that is still so unknown if had broken arm or weak heart or failing kidneys might not have the same opinion that because those things are much more tangible and have much more concise definitions and treatments with dizziness you just have to decide to live with it or decide to live with it while trying to find your way out of it have chosen the latter linda lindae netcom netcom com '"
      ]
     },
     "execution_count": 9,
     "metadata": {},
     "output_type": "execute_result"
    }
   ],
   "source": [
    "clean_text(ng20_df.text[600])"
   ]
  },
  {
   "cell_type": "code",
   "execution_count": 10,
   "metadata": {},
   "outputs": [],
   "source": [
    "ng20_df['clean_text'] = ng20_df.text.apply(lambda x: clean_text(x))"
   ]
  },
  {
   "cell_type": "code",
   "execution_count": 11,
   "metadata": {},
   "outputs": [
    {
     "data": {
      "text/html": [
       "<div>\n",
       "<style scoped>\n",
       "    .dataframe tbody tr th:only-of-type {\n",
       "        vertical-align: middle;\n",
       "    }\n",
       "\n",
       "    .dataframe tbody tr th {\n",
       "        vertical-align: top;\n",
       "    }\n",
       "\n",
       "    .dataframe thead th {\n",
       "        text-align: right;\n",
       "    }\n",
       "</style>\n",
       "<table border=\"1\" class=\"dataframe\">\n",
       "  <thead>\n",
       "    <tr style=\"text-align: right;\">\n",
       "      <th></th>\n",
       "      <th>labels</th>\n",
       "      <th>text</th>\n",
       "      <th>clean_text</th>\n",
       "    </tr>\n",
       "  </thead>\n",
       "  <tbody>\n",
       "    <tr>\n",
       "      <th>0</th>\n",
       "      <td>talk.politics.misc</td>\n",
       "      <td># ## Face it, Clayton, he was not found guilty...</td>\n",
       "      <td>face it clayton he was not found guilty and s...</td>\n",
       "    </tr>\n",
       "    <tr>\n",
       "      <th>1</th>\n",
       "      <td>comp.graphics</td>\n",
       "      <td>On sunsite.unc.edu in pub/multimedia/utilities...</td>\n",
       "      <td>on sunsite unc edu in pub multimedia utilities...</td>\n",
       "    </tr>\n",
       "    <tr>\n",
       "      <th>2</th>\n",
       "      <td>alt.atheism</td>\n",
       "      <td>\\nThere are definitely quite a few horrible de...</td>\n",
       "      <td>there are definitely quite few horrible death...</td>\n",
       "    </tr>\n",
       "    <tr>\n",
       "      <th>3</th>\n",
       "      <td>comp.graphics</td>\n",
       "      <td>\\n\\n\\tThe newspaper itself is almost certainly...</td>\n",
       "      <td>the newspaper itself is almost certainly copy...</td>\n",
       "    </tr>\n",
       "    <tr>\n",
       "      <th>4</th>\n",
       "      <td>talk.politics.misc</td>\n",
       "      <td>Pardon me for interrupting, but why doesn't an...</td>\n",
       "      <td>pardon me for interrupting but why doesn anyon...</td>\n",
       "    </tr>\n",
       "  </tbody>\n",
       "</table>\n",
       "</div>"
      ],
      "text/plain": [
       "               labels                                               text  \\\n",
       "0  talk.politics.misc  # ## Face it, Clayton, he was not found guilty...   \n",
       "1       comp.graphics  On sunsite.unc.edu in pub/multimedia/utilities...   \n",
       "2         alt.atheism  \\nThere are definitely quite a few horrible de...   \n",
       "3       comp.graphics  \\n\\n\\tThe newspaper itself is almost certainly...   \n",
       "4  talk.politics.misc  Pardon me for interrupting, but why doesn't an...   \n",
       "\n",
       "                                          clean_text  \n",
       "0   face it clayton he was not found guilty and s...  \n",
       "1  on sunsite unc edu in pub multimedia utilities...  \n",
       "2   there are definitely quite few horrible death...  \n",
       "3   the newspaper itself is almost certainly copy...  \n",
       "4  pardon me for interrupting but why doesn anyon...  "
      ]
     },
     "execution_count": 11,
     "metadata": {},
     "output_type": "execute_result"
    }
   ],
   "source": [
    "ng20_df.head()"
   ]
  },
  {
   "cell_type": "code",
   "execution_count": 12,
   "metadata": {},
   "outputs": [],
   "source": [
    "ng20_df = ng20_df.iloc[np.where(np.logical_not(ng20_df.clean_text.duplicated()))[0],:]"
   ]
  },
  {
   "cell_type": "code",
   "execution_count": 13,
   "metadata": {},
   "outputs": [],
   "source": [
    "X = ng20_df.clean_text\n",
    "Y = ng20_df.labels"
   ]
  },
  {
   "cell_type": "code",
   "execution_count": 14,
   "metadata": {},
   "outputs": [],
   "source": [
    "# from sklearn.feature_extraction.text import TfidfVectorizer\n",
    "# from sklearn.model_selection import train_test_split\n",
    "# X_train, X_test,y_train,y_test = train_test_split(X,Y, test_size=0.25, random_state=0)\n"
   ]
  },
  {
   "cell_type": "code",
   "execution_count": 15,
   "metadata": {},
   "outputs": [],
   "source": [
    "from sklearn.feature_extraction import text\n",
    "my_stop_words = text.ENGLISH_STOP_WORDS.union(['-pron-','-PRON-','don', 'make',\"think\",\"like\",\"just\",\"ve\",\"know\",\"did\"])#,\"don\",\"does\",\"n3jxp\",'people' ,'time' ,'good', 'make', \"use\", \"way\"])"
   ]
  },
  {
   "cell_type": "code",
   "execution_count": 16,
   "metadata": {},
   "outputs": [],
   "source": [
    "nlp = spacy.load('en')\n",
    "def lemmas(text):\n",
    "    text = nlp(text)\n",
    "    allwords = []\n",
    "    for word in text: \n",
    "        if not word.is_stop:\n",
    "            allwords.append(word.lemma_)\n",
    "    return allwords;"
   ]
  },
  {
   "cell_type": "code",
   "execution_count": 17,
   "metadata": {},
   "outputs": [
    {
     "name": "stderr",
     "output_type": "stream",
     "text": [
      "C:\\Users\\keith\\AppData\\Roaming\\Python\\Python37\\site-packages\\sklearn\\feature_extraction\\text.py:300: UserWarning: Your stop_words may be inconsistent with your preprocessing. Tokenizing the stop words generated tokens ['pron'] not in stop_words.\n",
      "  'stop_words.' % sorted(inconsistent))\n"
     ]
    }
   ],
   "source": [
    "# Creating the tf-idf matrix.\n",
    "vectorizer = TfidfVectorizer(stop_words=my_stop_words,max_df=.5, min_df=4,\n",
    "                             #tokenizer=lemmas,\n",
    "                             max_features=1000)\n",
    "ng20_tfidf=vectorizer.fit_transform(X)\n",
    "\n",
    "# Getting the word list.\n",
    "terms = vectorizer.get_feature_names()\n",
    "\n",
    "# Number of topics.\n",
    "ntopics=6\n",
    "\n",
    "# Linking words to topics\n",
    "def word_topic(tfidf,solution, wordlist):\n",
    "    \n",
    "    # Loading scores for each word on each topic/component.\n",
    "    words_by_topic=tfidf.T * solution\n",
    "\n",
    "    # Linking the loadings to the words in an easy-to-read way.\n",
    "    components=pd.DataFrame(words_by_topic,index=wordlist)\n",
    "    \n",
    "    return components\n",
    "\n",
    "# Extracts the top N words and their loadings for each topic.\n",
    "def top_words(components, n_top_words):\n",
    "    n_topics = range(components.shape[1])\n",
    "    index= np.repeat(n_topics, n_top_words, axis=0)\n",
    "    topwords=pd.Series(index=index)\n",
    "    for column in range(components.shape[1]):\n",
    "        # Sort the column so that highest loadings are at the top.\n",
    "        sortedwords=components.iloc[:,column].sort_values(ascending=False)\n",
    "        # Choose the N highest loadings.\n",
    "        chosen=sortedwords[:n_top_words]\n",
    "        # Combine loading and index into a string.\n",
    "        chosenlist=chosen.index +\" \"+round(chosen,2).map(str) \n",
    "        topwords.loc[column]=chosenlist\n",
    "    return(topwords)\n",
    "\n",
    "# Number of words to look at for each topic.\n",
    "n_top_words = 10\n"
   ]
  },
  {
   "cell_type": "code",
   "execution_count": 18,
   "metadata": {},
   "outputs": [
    {
     "data": {
      "text/plain": [
       "(3179, 1000)"
      ]
     },
     "execution_count": 18,
     "metadata": {},
     "output_type": "execute_result"
    }
   ],
   "source": [
    "ng20_tfidf.shape"
   ]
  },
  {
   "cell_type": "code",
   "execution_count": 19,
   "metadata": {},
   "outputs": [],
   "source": [
    "# LSA\n",
    "\n",
    "from sklearn.decomposition import TruncatedSVD\n",
    "from sklearn.pipeline import make_pipeline\n",
    "from sklearn.preprocessing import Normalizer\n",
    "\n",
    "svd= TruncatedSVD(ntopics)\n",
    "lsa = make_pipeline(svd, Normalizer(copy=False))\n",
    "ng20_lsa = lsa.fit_transform(ng20_tfidf)\n",
    "\n",
    "components_lsa = word_topic(ng20_tfidf, ng20_lsa, terms)\n",
    "\n",
    "topwords=pd.DataFrame()\n",
    "topwords['LSA']=top_words(components_lsa, n_top_words)                \n"
   ]
  },
  {
   "cell_type": "code",
   "execution_count": 20,
   "metadata": {},
   "outputs": [],
   "source": [
    "# LDA\n",
    "from sklearn.decomposition import LatentDirichletAllocation as LDA\n",
    "\n",
    "lda = LDA(n_components=ntopics,\n",
    "          doc_topic_prior=None, # Prior = 1/n_documents\n",
    "          topic_word_prior=1/ntopics,\n",
    "          learning_decay=0.7, # Convergence rate.\n",
    "          learning_offset=10.0, # Causes earlier iterations to have less influence on the learning\n",
    "          max_iter=10, # when to stop even if the model is not converging (to prevent running forever)\n",
    "          evaluate_every=-1, # Do not evaluate perplexity, as it slows training time.\n",
    "          mean_change_tol=0.001, # Stop updating the document topic distribution in the E-step when mean change is < tol\n",
    "          max_doc_update_iter=100, # When to stop updating the document topic distribution in the E-step even if tol is not reached\n",
    "          n_jobs=-1, # Use all available CPUs to speed up processing time.\n",
    "          verbose=0, # amount of output to give while iterating\n",
    "          random_state=0\n",
    "         )\n",
    "\n",
    "ng20_lda = lda.fit_transform(ng20_tfidf) \n",
    "\n",
    "components_lda = word_topic(ng20_tfidf, ng20_lda, terms)\n",
    "\n",
    "topwords['LDA']=top_words(components_lda, n_top_words)\n"
   ]
  },
  {
   "cell_type": "code",
   "execution_count": 21,
   "metadata": {},
   "outputs": [],
   "source": [
    "# NNMF\n",
    "\n",
    "from sklearn.decomposition import NMF\n",
    "\n",
    "nmf = NMF(alpha=0.0, \n",
    "          init='nndsvdar', # how starting value are calculated\n",
    "          l1_ratio=0.0, # Sets whether regularization is L2 (0), L1 (1), or a combination (values between 0 and 1)\n",
    "          max_iter=200, # when to stop even if the model is not converging (to prevent running forever)\n",
    "          n_components=ntopics, \n",
    "          random_state=0, \n",
    "          solver='cd', # Use Coordinate Descent to solve\n",
    "          tol=0.0001, # model will stop if tfidf-WH <= tol\n",
    "          verbose=0 # amount of output to give while iterating\n",
    "         )\n",
    "ng20_nmf = nmf.fit_transform(ng20_tfidf) \n",
    "\n",
    "components_nmf = word_topic(ng20_tfidf, ng20_nmf, terms)\n",
    "\n",
    "topwords['NNMF']=top_words(components_nmf, n_top_words)"
   ]
  },
  {
   "cell_type": "code",
   "execution_count": 22,
   "metadata": {
    "scrolled": false
   },
   "outputs": [
    {
     "name": "stdout",
     "output_type": "stream",
     "text": [
      "['talk.politics.misc' 'comp.graphics' 'alt.atheism' 'rec.motorcycles'\n",
      " 'sci.med' 'talk.politics.guns']\n",
      "Topic 0:\n",
      "            LSA          LDA             NNMF\n",
      "0  people 69.15   bike 16.29       people 6.0\n",
      "0    time 44.65    com 11.66         gun 3.14\n",
      "0    does 43.21    dod 10.94  government 2.74\n",
      "0     good 43.1      ll 7.92       right 2.61\n",
      "0   right 39.63  helmet 7.03        time 2.58\n",
      "0     use 37.16  thanks 6.94        good 2.18\n",
      "0     say 36.23     dog 6.73         law 2.04\n",
      "0     way 34.37  people 6.46         say 2.04\n",
      "0     new 33.97     edu 5.97         guns 2.0\n",
      "0  really 33.81    sure 5.57        said 1.86\n",
      "Topic 1:\n",
      "               LSA             LDA             NNMF\n",
      "1        edu 21.41       edu 11.77         geb 4.68\n",
      "1      banks 15.62     banks 11.35       banks 4.67\n",
      "1        geb 15.07       geb 11.32         dsl 4.64\n",
      "1     gordon 15.03       dsl 11.21   intellect 4.63\n",
      "1       pitt 14.89   chastity 11.2         jxp 4.63\n",
      "1       soon 14.64  intellect 11.2    chastity 4.63\n",
      "1        jxp 14.56        jxp 11.2    shameful 4.62\n",
      "1   chastity 14.56      pitt 11.19       cadre 4.62\n",
      "1  intellect 14.56  shameful 11.18        pitt 4.62\n",
      "1  surrender 14.54     cadre 11.18  skepticism 4.61\n",
      "Topic 2:\n",
      "              LSA          LDA           NNMF\n",
      "2    thanks 33.47    god 21.37    thanks 4.79\n",
      "2  graphics 25.02   does 14.39  graphics 4.07\n",
      "2     image 16.65  image 13.13     image 2.88\n",
      "2      file 16.61  files 11.38      file 2.86\n",
      "2     files 16.23    say 11.04     files 2.81\n",
      "2   looking 15.97  people 10.7   program 2.62\n",
      "2   program 14.75   read 10.09      does 2.61\n",
      "2      mail 14.57   file 10.03      help 2.44\n",
      "2      help 14.19  thanks 9.93        use 2.3\n",
      "2        hi 13.68  format 9.77      mail 2.28\n",
      "Topic 3:\n",
      "               LSA               LDA             NNMF\n",
      "3       bike 39.08      people 59.85         bike 8.9\n",
      "3        dod 14.69        time 33.11        ride 2.54\n",
      "3      bikes 14.03       right 30.82       bikes 2.44\n",
      "3        ride 13.2         gun 30.55          dod 2.4\n",
      "3     riding 11.18  government 28.85      riding 1.82\n",
      "3     helmet 10.42        good 26.46        good 1.74\n",
      "3  motorcycle 9.39        does 24.96      helmet 1.72\n",
      "3          dog 8.2       years 24.76  motorcycle 1.63\n",
      "3          bmw 8.1         use 24.58        right 1.6\n",
      "3        road 7.79         new 23.72         new 1.41\n",
      "Topic 4:\n",
      "             LSA               LDA           NNMF\n",
      "4      god 24.27       thanks 10.7       god 8.27\n",
      "4     does 13.91         does 6.59      does 3.51\n",
      "4   atheism 8.65         mail 6.23   atheism 2.51\n",
      "4     bible 7.12      looking 5.52   believe 2.23\n",
      "4       say 7.05     graphics 5.13       say 1.98\n",
      "4  religion 6.96         good 4.89    people 1.63\n",
      "4   believe 6.85           hi 4.89     bible 1.61\n",
      "4      mean 6.76      program 4.78    belief 1.55\n",
      "4  evidence 6.09         mode 4.47     exist 1.55\n",
      "4  atheists 5.73  appreciated 4.29  atheists 1.48\n",
      "Topic 5:\n",
      "            LSA             LDA            NNMF\n",
      "5     msg 19.29      bike 14.41        msg 7.72\n",
      "5    food 12.87  graphics 13.67       food 4.29\n",
      "5  people 11.96    thanks 11.03        eat 1.35\n",
      "5  disease 7.72        edu 9.56     people 1.29\n",
      "5   doctor 7.29       does 9.25        use 1.11\n",
      "5  patients 6.0         use 8.5      brain 0.93\n",
      "5     pain 5.83        need 8.1     effects 0.9\n",
      "5      eat 5.74    looking 8.08  different 0.83\n",
      "5    cause 5.64    software 8.0      cause 0.79\n",
      "5  effects 5.38       good 7.89     things 0.77\n"
     ]
    }
   ],
   "source": [
    "print(ng20_df.labels.unique())\n",
    "for topic in range(ntopics):\n",
    "    print('Topic {}:'.format(topic))\n",
    "    \n",
    "    print(topwords.loc[topic])\n"
   ]
  },
  {
   "cell_type": "code",
   "execution_count": 25,
   "metadata": {
    "scrolled": false
   },
   "outputs": [
    {
     "data": {
      "image/png": "[encoded data removed]",
      "text/plain": [
       "<Figure size 432x288 with 1 Axes>"
      ]
     },
     "metadata": {},
     "output_type": "display_data"
    },
    {
     "data": {
      "image/png": "[encoded data removed]",
      "text/plain": [
       "<Figure size 432x288 with 1 Axes>"
      ]
     },
     "metadata": {},
     "output_type": "display_data"
    },
    {
     "data": {
      "image/png": "[encoded data removed]",
      "text/plain": [
       "<Figure size 432x288 with 1 Axes>"
      ]
     },
     "metadata": {},
     "output_type": "display_data"
    },
    {
     "data": {
      "image/png": "[encoded data removed]",
      "text/plain": [
       "<Figure size 432x288 with 1 Axes>"
      ]
     },
     "metadata": {},
     "output_type": "display_data"
    },
    {
     "data": {
      "image/png": "[encoded data removed]",
      "text/plain": [
       "<Figure size 432x288 with 1 Axes>"
      ]
     },
     "metadata": {},
     "output_type": "display_data"
    }
   ],
   "source": [
    "# The words to look at.\n",
    "targetwords=['gun','motorcycle','god','disease','graphics']\n",
    "\n",
    "# Storing the loadings.\n",
    "wordloadings=pd.DataFrame(columns=targetwords)\n",
    "\n",
    "# For each word, extracting and string the loadings for each method.\n",
    "for word in targetwords:\n",
    "    loadings=components_lsa.loc[word].append(\n",
    "        components_lda.loc[word]).append(\n",
    "            components_nmf.loc[word])\n",
    "    wordloadings[word]=loadings\n",
    "\n",
    "# Labeling the data by method and providing an ordering variable for graphing purposes. \n",
    "wordloadings['method']=np.repeat(['LSA','LDA','NNMF'], 6, axis=0)\n",
    "wordloadings['loading']=[0,1,2,3,4,5]*3\n",
    "\n",
    "sns.set(style=\"darkgrid\")\n",
    "\n",
    "for word in targetwords:\n",
    "    sns.barplot(x=\"method\", y=word, hue=\"loading\", data=wordloadings)\n",
    "    plt.title(word)\n",
    "    plt.ylabel(\"\")\n",
    "    plt.show()\n"
   ]
  },
  {
   "cell_type": "markdown",
   "metadata": {},
   "source": [
    "I chose six topics from the 20 newsgroups dataset that seeming the most interesting to me. I cleaned the text using rgex expressions that any characters and punctuation that wasn't a letter. This left a few stray single letter words that I further removed. I then wrote a function to impliment Spacy into Tfidfvectorizer to lemmatize the words. I also add some stop words to the stop word list. After that I implimented each algoritim in the same fashion that the guided example did. After all was said and done it looks like NNMF produced topics that best matched the articles from 20 newsgroup that were processed. As in the guided example I also put in some words to examine sparsity that seem to match the topics of the original articles. I think that NNMF works the best because of how sparce the data is. Even though the word loadings are lower that the other models overall the words that are important tend to stand alone within the topic. "
   ]
  },
  {
   "cell_type": "code",
   "execution_count": null,
   "metadata": {},
   "outputs": [],
   "source": []
  },
  {
   "cell_type": "code",
   "execution_count": null,
   "metadata": {},
   "outputs": [],
   "source": []
  },
  {
   "cell_type": "code",
   "execution_count": null,
   "metadata": {},
   "outputs": [],
   "source": []
  },
  {
   "cell_type": "code",
   "execution_count": null,
   "metadata": {},
   "outputs": [],
   "source": []
  },
  {
   "cell_type": "code",
   "execution_count": null,
   "metadata": {},
   "outputs": [],
   "source": []
  }
 ],
 "metadata": {
  "kernelspec": {
   "display_name": "Python 3",
   "language": "python",
   "name": "python3"
  },
  "language_info": {
   "codemirror_mode": {
    "name": "ipython",
    "version": 3
   },
   "file_extension": ".py",
   "mimetype": "text/x-python",
   "name": "python",
   "nbconvert_exporter": "python",
   "pygments_lexer": "ipython3",
   "version": "3.7.2"
  }
 },
 "nbformat": 4,
 "nbformat_minor": 2
}
