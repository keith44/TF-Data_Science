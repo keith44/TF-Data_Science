{
 "cells": [
  {
   "cell_type": "code",
   "execution_count": 1,
   "metadata": {},
   "outputs": [],
   "source": [
    "import numpy as np\n",
    "import pandas as pd\n",
    "import re\n",
    " \n",
    "#a = df['COST (£) charged to Wellcome (inc VAT when charged)'] = (df['COST (£) charged to Wellcome (inc VAT when charged)'].apply(lambda x: ''.join(list(filter(str.isdigit, str(x))))))\n"
   ]
  },
  {
   "cell_type": "code",
   "execution_count": 2,
   "metadata": {
    "scrolled": true
   },
   "outputs": [
    {
     "data": {
      "text/html": [
       "<div>\n",
       "<style scoped>\n",
       "    .dataframe tbody tr th:only-of-type {\n",
       "        vertical-align: middle;\n",
       "    }\n",
       "\n",
       "    .dataframe tbody tr th {\n",
       "        vertical-align: top;\n",
       "    }\n",
       "\n",
       "    .dataframe thead th {\n",
       "        text-align: right;\n",
       "    }\n",
       "</style>\n",
       "<table border=\"1\" class=\"dataframe\">\n",
       "  <thead>\n",
       "    <tr style=\"text-align: right;\">\n",
       "      <th></th>\n",
       "      <th>PMID/PMCID</th>\n",
       "      <th>Publisher</th>\n",
       "      <th>Journal title</th>\n",
       "      <th>Article title</th>\n",
       "      <th>COST (£) charged to Wellcome (inc VAT when charged)</th>\n",
       "    </tr>\n",
       "  </thead>\n",
       "  <tbody>\n",
       "    <tr>\n",
       "      <th>0</th>\n",
       "      <td>NaN</td>\n",
       "      <td>CUP</td>\n",
       "      <td>Psychological Medicine</td>\n",
       "      <td>Reduced parahippocampal cortical thickness in ...</td>\n",
       "      <td>£0.00</td>\n",
       "    </tr>\n",
       "    <tr>\n",
       "      <th>1</th>\n",
       "      <td>PMC3679557</td>\n",
       "      <td>ACS</td>\n",
       "      <td>Biomacromolecules</td>\n",
       "      <td>Structural characterization of a Model Gram-ne...</td>\n",
       "      <td>£2381.04</td>\n",
       "    </tr>\n",
       "    <tr>\n",
       "      <th>2</th>\n",
       "      <td>23043264  PMC3506128</td>\n",
       "      <td>ACS</td>\n",
       "      <td>J Med Chem</td>\n",
       "      <td>Fumaroylamino-4,5-epoxymorphinans and related ...</td>\n",
       "      <td>£642.56</td>\n",
       "    </tr>\n",
       "    <tr>\n",
       "      <th>3</th>\n",
       "      <td>23438330 PMC3646402</td>\n",
       "      <td>ACS</td>\n",
       "      <td>J Med Chem</td>\n",
       "      <td>Orvinols with mixed kappa/mu opioid receptor a...</td>\n",
       "      <td>£669.64</td>\n",
       "    </tr>\n",
       "    <tr>\n",
       "      <th>4</th>\n",
       "      <td>23438216 PMC3601604</td>\n",
       "      <td>ACS</td>\n",
       "      <td>J Org Chem</td>\n",
       "      <td>Regioselective opening of myo-inositol orthoes...</td>\n",
       "      <td>£685.88</td>\n",
       "    </tr>\n",
       "  </tbody>\n",
       "</table>\n",
       "</div>"
      ],
      "text/plain": [
       "              PMID/PMCID Publisher           Journal title  \\\n",
       "0                    NaN       CUP  Psychological Medicine   \n",
       "1             PMC3679557       ACS       Biomacromolecules   \n",
       "2  23043264  PMC3506128        ACS              J Med Chem   \n",
       "3    23438330 PMC3646402       ACS              J Med Chem   \n",
       "4   23438216 PMC3601604        ACS              J Org Chem   \n",
       "\n",
       "                                       Article title  \\\n",
       "0  Reduced parahippocampal cortical thickness in ...   \n",
       "1  Structural characterization of a Model Gram-ne...   \n",
       "2  Fumaroylamino-4,5-epoxymorphinans and related ...   \n",
       "3  Orvinols with mixed kappa/mu opioid receptor a...   \n",
       "4  Regioselective opening of myo-inositol orthoes...   \n",
       "\n",
       "  COST (£) charged to Wellcome (inc VAT when charged)  \n",
       "0                                              £0.00   \n",
       "1                                           £2381.04   \n",
       "2                                            £642.56   \n",
       "3                                            £669.64   \n",
       "4                                            £685.88   "
      ]
     },
     "execution_count": 2,
     "metadata": {},
     "output_type": "execute_result"
    }
   ],
   "source": [
    "df = pd.read_csv('C:/Users/keith/Desktop/Thinkful/WELLCOME_APCspend2013_forThinkful.csv',encoding = \"ISO-8859-1\")\n",
    "pd.set_option('display.max_columns', None) # disables trucated columns \n",
    "pd.set_option('display.max_rows', None) # disables trucated rows\n",
    "df.head()\n",
    " "
   ]
  },
  {
   "cell_type": "code",
   "execution_count": 3,
   "metadata": {},
   "outputs": [],
   "source": [
    "journals = df['Journal title']\n",
    "\n",
    "df['Journal title'] = journals.str.replace(' ', '')\n",
    "df['Journal title'] = journals.str.replace('.', '')\n",
    "df['Journal title'] = journals.apply(lambda x : re.sub('([Pp][Ll][Oo][Ss][Oo][Nn][Ee]|([Pp][Ll][Oo][Ss][1]))',\"Plos One\", str(x)))\n",
    "df['Journal title'] = journals.apply(lambda x : re.sub('(\\w*Biological\\w*)',\"Journal of Biological Chemistry\", str(x)))\n",
    "df['Journal title'] = journals.apply(lambda x : re.sub('(\\w*[Nn]ucleic[Aa]c\\w*)',\"Nucleic Acids Research\", str(x)))\n",
    "df['Journal title'] = journals.apply(lambda x : re.sub('(\\w*(nalAc\\w*)|(PNAS)\\w*)',\"Proceedings of the National Academy of Sciences\", str(x)))\n",
    "df['Journal title'] = journals.apply(lambda x : re.sub('(\\w*nMol\\w*)',\"Human Molecular Genetics\", str(x))) \n",
    "df['Journal title'] = journals.apply(lambda x : re.sub('(\\w*([Nn]euro[Iil]mage)\\w*)',\"Neuro Image\", str(x))) \n",
    " "
   ]
  },
  {
   "cell_type": "code",
   "execution_count": 7,
   "metadata": {},
   "outputs": [
    {
     "data": {
      "text/plain": [
       "Plos One                                           207\n",
       "Journal of Biological Chemistry                     64\n",
       "Proceedings of the National Academy of Sciences     37\n",
       "Neuro Image                                         31\n",
       "Nucleic Acids Research                              26\n",
       "Name: Journal title, dtype: int64"
      ]
     },
     "execution_count": 7,
     "metadata": {},
     "output_type": "execute_result"
    }
   ],
   "source": [
    "journals.value_counts().head(5)"
   ]
  },
  {
   "cell_type": "markdown",
   "metadata": {},
   "source": [
    "### The five most common journals.\n",
    "Plos One count = 207<br>\n",
    "Journal of Biological Chemistry count = 64<br>\n",
    "Proceedings of the National Academy of Sciences count = 37<br>\n",
    "Neuro Image = count 31<br>\n",
    "Nucleic Acids Research count = 26<br>"
   ]
  },
  {
   "cell_type": "code",
   "execution_count": 5,
   "metadata": {},
   "outputs": [],
   "source": [
    "cost = df['COST (£) charged to Wellcome (inc VAT when charged)']\n",
    "cost = cost.str.replace('£', '')\n",
    "cost = cost.str.replace('$','')\n",
    "cost = cost.astype(float)\n",
    "df['COST (£) charged to Wellcome (inc VAT when charged)'] = cost"
   ]
  },
  {
   "cell_type": "code",
   "execution_count": 6,
   "metadata": {},
   "outputs": [
    {
     "name": "stdout",
     "output_type": "stream",
     "text": [
      "Plos One stats\n",
      "count       207.000000\n",
      "mean      40472.287246\n",
      "std      193313.084568\n",
      "min         122.310000\n",
      "25%         852.480000\n",
      "50%         899.340000\n",
      "75%        1044.640000\n",
      "max      999999.000000\n",
      "Name: COST (£) charged to Wellcome (inc VAT when charged), dtype: float64 \n",
      "\n",
      "Journal of Biological Chemistry stats\n",
      "count        64.000000\n",
      "mean      32666.997031\n",
      "std      175112.033900\n",
      "min         265.670000\n",
      "25%        1158.247500\n",
      "50%        1332.660000\n",
      "75%        1716.270000\n",
      "max      999999.000000\n",
      "Name: COST (£) charged to Wellcome (inc VAT when charged), dtype: float64 \n",
      "\n",
      "Proceedings of the National Academy of Sciences stats\n",
      "count        37.000000\n",
      "mean      27846.971622\n",
      "std      164260.940970\n",
      "min         206.320000\n",
      "25%         625.000000\n",
      "50%         734.000000\n",
      "75%         809.620000\n",
      "max      999999.000000\n",
      "Name: COST (£) charged to Wellcome (inc VAT when charged), dtype: float64 \n",
      "\n",
      "Neuro Image stats\n",
      "count      31.000000\n",
      "mean     2212.181290\n",
      "std       273.193244\n",
      "min      1747.160000\n",
      "25%      2030.895000\n",
      "50%      2326.430000\n",
      "75%      2408.680000\n",
      "max      2518.230000\n",
      "Name: COST (£) charged to Wellcome (inc VAT when charged), dtype: float64 \n",
      "\n",
      "Nucleic Acids Research stats\n",
      "count      26.000000\n",
      "mean     1132.615385\n",
      "std       436.708331\n",
      "min       710.000000\n",
      "25%       852.000000\n",
      "50%       852.000000\n",
      "75%      1633.000000\n",
      "max      2184.000000\n",
      "Name: COST (£) charged to Wellcome (inc VAT when charged), dtype: float64\n"
     ]
    }
   ],
   "source": [
    "a = df[df['Journal title']=='Plos One'] \n",
    "Plos_One = a['COST (£) charged to Wellcome (inc VAT when charged)']\n",
    "print ('Plos One stats')\n",
    "print (Plos_One.describe(),'\\n')\n",
    "b = df[df['Journal title']=='Journal of Biological Chemistry'] \n",
    "Journal_BC = b['COST (£) charged to Wellcome (inc VAT when charged)']\n",
    "print ('Journal of Biological Chemistry stats')\n",
    "print (Journal_BC.describe(),'\\n')\n",
    "\n",
    "c = df[df['Journal title']=='Proceedings of the National Academy of Sciences'] \n",
    "Pnas = c['COST (£) charged to Wellcome (inc VAT when charged)']\n",
    "print ('Proceedings of the National Academy of Sciences stats')\n",
    "print (Pnas.describe(),'\\n')\n",
    "\n",
    "d = df[df['Journal title']=='Neuro Image'] \n",
    "NI = d['COST (£) charged to Wellcome (inc VAT when charged)']\n",
    "print('Neuro Image stats')\n",
    "print (NI.describe(), '\\n')\n",
    "\n",
    "e = df[df['Journal title']=='Nucleic Acids Research'] \n",
    "NAR = e['COST (£) charged to Wellcome (inc VAT when charged)']\n",
    "print('Nucleic Acids Research stats') \n",
    "print (NAR.describe())"
   ]
  },
  {
   "cell_type": "code",
   "execution_count": null,
   "metadata": {},
   "outputs": [],
   "source": [
    " "
   ]
  },
  {
   "cell_type": "code",
   "execution_count": null,
   "metadata": {},
   "outputs": [],
   "source": []
  }
 ],
 "metadata": {
  "kernelspec": {
   "display_name": "Python 3",
   "language": "python",
   "name": "python3"
  },
  "language_info": {
   "codemirror_mode": {
    "name": "ipython",
    "version": 3
   },
   "file_extension": ".py",
   "mimetype": "text/x-python",
   "name": "python",
   "nbconvert_exporter": "python",
   "pygments_lexer": "ipython3",
   "version": "3.7.2"
  }
 },
 "nbformat": 4,
 "nbformat_minor": 2
}
