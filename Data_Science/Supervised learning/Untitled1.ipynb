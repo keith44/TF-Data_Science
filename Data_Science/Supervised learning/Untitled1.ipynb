{
 "cells": [
  {
   "cell_type": "code",
   "execution_count": null,
   "metadata": {},
   "outputs": [
    {
     "name": "stdout",
     "output_type": "stream",
     "text": [
      "pygame 1.9.6\n",
      "Hello from the pygame community. https://www.pygame.org/contribute.html\n"
     ]
    }
   ],
   "source": [
    "import math\n",
    "import random\n",
    "import pygame\n",
    "import tkinter as tk\n",
    "from tkinter import messagebox\n",
    "pygame.init()\n",
    "\n",
    "class cube(object):\n",
    "\trows = 0\n",
    "\tw = 0\n",
    "\tdef __init__(self,start,dirnx=1,dirny=0,color=(255,0,0)):\n",
    "\t\t\tpass\n",
    "\tdef __init__(self, dirnx):\n",
    "\t\tpass\n",
    "\tdef __init__(self,surface,dirnx=1,eyes=False):\n",
    "\t\t\tpass\n",
    "class snake(object):\n",
    "\tdef __init__(self, color, pos):\n",
    "\t\tpass\n",
    "\t\n",
    "\tdef move(self):\n",
    "\t\tpass\n",
    "\t\n",
    "\tdef reset(self, pos):\n",
    "\t\n",
    "\t\tdef addCube(self):\n",
    "\t\t    pass\n",
    "\t\n",
    "\tdef draw(self, surface):\n",
    "\t\tpass\n",
    "\n",
    "def drawGrid(w,rows,surface):\n",
    "\tsizeBtween = w // rows\n",
    "\tx = 0\n",
    "\ty = 0\n",
    "\tfor l in range(rows):\n",
    "\t\tx = x + sizeBtween\n",
    "\t\ty = y + sizeBtween\n",
    "\n",
    "\t\tpygame.draw.line(surface,(255,255,255),(x,0),(x,w))\t\n",
    "\t\tpygame.draw.line(surface,(255,255,255),(0,y),(w,y))\t\n",
    "\n",
    "def redrawWindow(surface):\n",
    "\tglobal rows, width\n",
    "\twin.fill((0,0,0))\n",
    "\tdrawGrid(width, rows, surface)\n",
    "\tpygame.display.update()\n",
    "\n",
    "\n",
    "\n",
    "\n",
    "\n",
    "#def main():\n",
    "\n",
    "global width, rows\n",
    "width = 500\n",
    "height = 500\n",
    "rows = 20\n",
    "win = pygame.display.set_mode((width, width))\n",
    "\n",
    "s = snake((255,0,0),(10,10))\n",
    "flag = True\n",
    "clock = pygame.time.Clock()\n",
    "\n",
    "\n",
    "while flag:\n",
    "\tpygame.time.delay(50)\n",
    "\tclock.tick(10)\n",
    "\tredrawWindow(win)\n",
    "\twin\n"
   ]
  },
  {
   "cell_type": "code",
   "execution_count": null,
   "metadata": {},
   "outputs": [],
   "source": []
  }
 ],
 "metadata": {
  "kernelspec": {
   "display_name": "Python 3",
   "language": "python",
   "name": "python3"
  },
  "language_info": {
   "codemirror_mode": {
    "name": "ipython",
    "version": 3
   },
   "file_extension": ".py",
   "mimetype": "text/x-python",
   "name": "python",
   "nbconvert_exporter": "python",
   "pygments_lexer": "ipython3",
   "version": "3.7.2"
  }
 },
 "nbformat": 4,
 "nbformat_minor": 2
}
