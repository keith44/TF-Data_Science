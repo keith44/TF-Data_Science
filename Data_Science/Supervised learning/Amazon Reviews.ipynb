{
 "cells": [
  {
   "cell_type": "code",
   "execution_count": 110,
   "metadata": {},
   "outputs": [],
   "source": [
    "import re\n",
    "import time\n",
    "import math\n",
    "import pandas as pd\n",
    "import numpy as np\n",
    "import seaborn as sns\n",
    "from matplotlib import pyplot as plt\n",
    "%matplotlib inline\n",
    "from scipy import stats\n",
    "from matplotlib import pyplot\n",
    "from sklearn.metrics import confusion_matrix\n",
    "from sklearn.metrics import precision_recall_curve\n",
    "from sklearn.metrics import roc_curve\n",
    "from sklearn.metrics import roc_auc_score\n",
    "from sklearn import linear_model\n",
    "from sklearn.linear_model import LogisticRegression\n",
    "from sklearn import preprocessing\n",
    "from sklearn.preprocessing import binarize\n",
    "from sklearn.model_selection import train_test_split\n",
    "from sklearn.model_selection import GridSearchCV\n",
    "from sklearn.model_selection import cross_val_score\n",
    "from sklearn.model_selection import cross_val_score\n",
    "from sklearn.model_selection import cross_val_predict\n",
    "from sklearn.decomposition import PCA"
   ]
  },
  {
   "cell_type": "markdown",
   "metadata": {},
   "source": [
    "# Amazon Review Sentiment Analysis\n",
    "\n",
    "In this project we will test several models to predict if an Amazon review is negative or positive and then select the best one. We will the test the best model and see if it can make similar prediction on other category reviews"
   ]
  },
  {
   "cell_type": "code",
   "execution_count": 111,
   "metadata": {},
   "outputs": [],
   "source": [
    "# Load the data\n",
    "amazon = pd.read_json('C:/Users/keith/Desktop/Thinkful/Patio_Lawn_and_Garden_5.json', lines=True)\n",
    " \n",
    "pd.set_option('display.max_columns', None) # disables trucated columns \n",
    "pd.set_option('display.max_rows', None) # disables trucated rows\n"
   ]
  },
  {
   "cell_type": "code",
   "execution_count": 112,
   "metadata": {},
   "outputs": [
    {
     "data": {
      "text/plain": [
       "(13272, 9)"
      ]
     },
     "execution_count": 112,
     "metadata": {},
     "output_type": "execute_result"
    }
   ],
   "source": [
    "amazon.shape"
   ]
  },
  {
   "cell_type": "code",
   "execution_count": 113,
   "metadata": {
    "scrolled": true
   },
   "outputs": [
    {
     "data": {
      "text/html": [
       "<div>\n",
       "<style scoped>\n",
       "    .dataframe tbody tr th:only-of-type {\n",
       "        vertical-align: middle;\n",
       "    }\n",
       "\n",
       "    .dataframe tbody tr th {\n",
       "        vertical-align: top;\n",
       "    }\n",
       "\n",
       "    .dataframe thead th {\n",
       "        text-align: right;\n",
       "    }\n",
       "</style>\n",
       "<table border=\"1\" class=\"dataframe\">\n",
       "  <thead>\n",
       "    <tr style=\"text-align: right;\">\n",
       "      <th></th>\n",
       "      <th>asin</th>\n",
       "      <th>helpful</th>\n",
       "      <th>overall</th>\n",
       "      <th>reviewText</th>\n",
       "      <th>reviewTime</th>\n",
       "      <th>reviewerID</th>\n",
       "      <th>reviewerName</th>\n",
       "      <th>summary</th>\n",
       "      <th>unixReviewTime</th>\n",
       "    </tr>\n",
       "  </thead>\n",
       "  <tbody>\n",
       "    <tr>\n",
       "      <th>0</th>\n",
       "      <td>B00002N674</td>\n",
       "      <td>[4, 4]</td>\n",
       "      <td>4</td>\n",
       "      <td>Good USA company that stands behind their prod...</td>\n",
       "      <td>06 21, 2011</td>\n",
       "      <td>A1JZFGZEZVWQPY</td>\n",
       "      <td>Carter H \"1amazonreviewer@gmail . com\"</td>\n",
       "      <td>Great Hoses</td>\n",
       "      <td>1308614400</td>\n",
       "    </tr>\n",
       "    <tr>\n",
       "      <th>1</th>\n",
       "      <td>B00002N674</td>\n",
       "      <td>[0, 0]</td>\n",
       "      <td>5</td>\n",
       "      <td>This is a high quality 8 ply hose. I have had ...</td>\n",
       "      <td>06 9, 2014</td>\n",
       "      <td>A32JCI4AK2JTTG</td>\n",
       "      <td>Darryl Bennett \"Fuzzy342\"</td>\n",
       "      <td>Gilmour 10-58050 8-ply Flexogen Hose 5/8-Inch ...</td>\n",
       "      <td>1402272000</td>\n",
       "    </tr>\n",
       "    <tr>\n",
       "      <th>2</th>\n",
       "      <td>B00002N674</td>\n",
       "      <td>[2, 3]</td>\n",
       "      <td>4</td>\n",
       "      <td>It's probably one of the best hoses I've ever ...</td>\n",
       "      <td>05 5, 2012</td>\n",
       "      <td>A3N0P5AAMP6XD2</td>\n",
       "      <td>H B</td>\n",
       "      <td>Very satisfied!</td>\n",
       "      <td>1336176000</td>\n",
       "    </tr>\n",
       "    <tr>\n",
       "      <th>3</th>\n",
       "      <td>B00002N674</td>\n",
       "      <td>[0, 0]</td>\n",
       "      <td>5</td>\n",
       "      <td>I probably should have bought something a bit ...</td>\n",
       "      <td>07 15, 2013</td>\n",
       "      <td>A2QK7UNJ857YG</td>\n",
       "      <td>Jason</td>\n",
       "      <td>Very high quality</td>\n",
       "      <td>1373846400</td>\n",
       "    </tr>\n",
       "    <tr>\n",
       "      <th>4</th>\n",
       "      <td>B00002N674</td>\n",
       "      <td>[1, 1]</td>\n",
       "      <td>5</td>\n",
       "      <td>I bought three of these 5/8-inch Flexogen hose...</td>\n",
       "      <td>08 5, 2013</td>\n",
       "      <td>AS0CYBAN6EM06</td>\n",
       "      <td>jimmy</td>\n",
       "      <td>Good Hoses</td>\n",
       "      <td>1375660800</td>\n",
       "    </tr>\n",
       "  </tbody>\n",
       "</table>\n",
       "</div>"
      ],
      "text/plain": [
       "         asin helpful  overall  \\\n",
       "0  B00002N674  [4, 4]        4   \n",
       "1  B00002N674  [0, 0]        5   \n",
       "2  B00002N674  [2, 3]        4   \n",
       "3  B00002N674  [0, 0]        5   \n",
       "4  B00002N674  [1, 1]        5   \n",
       "\n",
       "                                          reviewText   reviewTime  \\\n",
       "0  Good USA company that stands behind their prod...  06 21, 2011   \n",
       "1  This is a high quality 8 ply hose. I have had ...   06 9, 2014   \n",
       "2  It's probably one of the best hoses I've ever ...   05 5, 2012   \n",
       "3  I probably should have bought something a bit ...  07 15, 2013   \n",
       "4  I bought three of these 5/8-inch Flexogen hose...   08 5, 2013   \n",
       "\n",
       "       reviewerID                            reviewerName  \\\n",
       "0  A1JZFGZEZVWQPY  Carter H \"1amazonreviewer@gmail . com\"   \n",
       "1  A32JCI4AK2JTTG               Darryl Bennett \"Fuzzy342\"   \n",
       "2  A3N0P5AAMP6XD2                                     H B   \n",
       "3   A2QK7UNJ857YG                                   Jason   \n",
       "4   AS0CYBAN6EM06                                   jimmy   \n",
       "\n",
       "                                             summary  unixReviewTime  \n",
       "0                                        Great Hoses      1308614400  \n",
       "1  Gilmour 10-58050 8-ply Flexogen Hose 5/8-Inch ...      1402272000  \n",
       "2                                    Very satisfied!      1336176000  \n",
       "3                                  Very high quality      1373846400  \n",
       "4                                         Good Hoses      1375660800  "
      ]
     },
     "execution_count": 113,
     "metadata": {},
     "output_type": "execute_result"
    }
   ],
   "source": [
    "amazon.head()"
   ]
  },
  {
   "cell_type": "markdown",
   "metadata": {},
   "source": [
    "## Data Description\n",
    "This dataset is a small collection of reviews on Patio, Lawn and Garden purchased from Amazon.com. It was downloaded from http://jmcauley.ucsd.edu/data/amazon/. there are 9 columns and 13272 reviews. "
   ]
  },
  {
   "cell_type": "markdown",
   "metadata": {},
   "source": [
    "## Data Cleaning"
   ]
  },
  {
   "cell_type": "code",
   "execution_count": 114,
   "metadata": {},
   "outputs": [
    {
     "name": "stdout",
     "output_type": "stream",
     "text": [
      "<class 'pandas.core.frame.DataFrame'>\n",
      "RangeIndex: 13272 entries, 0 to 13271\n",
      "Data columns (total 9 columns):\n",
      "asin              13272 non-null object\n",
      "helpful           13272 non-null object\n",
      "overall           13272 non-null int64\n",
      "reviewText        13272 non-null object\n",
      "reviewTime        13272 non-null object\n",
      "reviewerID        13272 non-null object\n",
      "reviewerName      13107 non-null object\n",
      "summary           13272 non-null object\n",
      "unixReviewTime    13272 non-null int64\n",
      "dtypes: int64(2), object(7)\n",
      "memory usage: 933.3+ KB\n"
     ]
    }
   ],
   "source": [
    "amazon.info()"
   ]
  },
  {
   "cell_type": "code",
   "execution_count": 115,
   "metadata": {},
   "outputs": [
    {
     "data": {
      "text/plain": [
       "asin                0\n",
       "helpful             0\n",
       "overall             0\n",
       "reviewText          0\n",
       "reviewTime          0\n",
       "reviewerID          0\n",
       "reviewerName      165\n",
       "summary             0\n",
       "unixReviewTime      0\n",
       "dtype: int64"
      ]
     },
     "execution_count": 115,
     "metadata": {},
     "output_type": "execute_result"
    }
   ],
   "source": [
    "amazon.isnull().sum()"
   ]
  },
  {
   "cell_type": "markdown",
   "metadata": {},
   "source": [
    "Only one column has null values. It is it the column that contains the name of the reviewer. This columns is not going to be used for our purposes so there is no action needed to be taken."
   ]
  },
  {
   "cell_type": "code",
   "execution_count": 116,
   "metadata": {},
   "outputs": [
    {
     "data": {
      "text/plain": [
       "5    7037\n",
       "4    3384\n",
       "3    1659\n",
       "2     673\n",
       "1     519\n",
       "Name: overall, dtype: int64"
      ]
     },
     "execution_count": 116,
     "metadata": {},
     "output_type": "execute_result"
    }
   ],
   "source": [
    "# count of each class of ratings\n",
    "amazon.overall.value_counts()"
   ]
  },
  {
   "cell_type": "markdown",
   "metadata": {},
   "source": [
    "We will create a binary rating feature where anything under a \"5\" rating is considered negative and will be classed as \"0\". All the \"5\" ratings will be positive and classed as a \"1\"."
   ]
  },
  {
   "cell_type": "code",
   "execution_count": 117,
   "metadata": {},
   "outputs": [
    {
     "data": {
      "text/plain": [
       "1    7037\n",
       "0    6235\n",
       "Name: catgry_rate, dtype: int64"
      ]
     },
     "execution_count": 117,
     "metadata": {},
     "output_type": "execute_result"
    }
   ],
   "source": [
    "# create binary ratings feature\n",
    "amazon['catgry_rate'] = np.where(amazon.overall<5,0,1)\n",
    "amazon.catgry_rate.value_counts()"
   ]
  },
  {
   "cell_type": "markdown",
   "metadata": {},
   "source": [
    "The 'unixReviewTime' column isn't very useful and will be converted into datetime. We will also conver the \"reviewTime\" columns as well."
   ]
  },
  {
   "cell_type": "code",
   "execution_count": 118,
   "metadata": {},
   "outputs": [
    {
     "data": {
      "text/plain": [
       "0   2011-06-21\n",
       "1   2014-06-09\n",
       "Name: unixReviewTime, dtype: datetime64[ns]"
      ]
     },
     "execution_count": 118,
     "metadata": {},
     "output_type": "execute_result"
    }
   ],
   "source": [
    "# convert to datetime\n",
    "amazon['unixReviewTime'] = pd.to_datetime(amazon.unixReviewTime ,unit='s')\n",
    "amazon.unixReviewTime.head(2)"
   ]
  },
  {
   "cell_type": "code",
   "execution_count": 119,
   "metadata": {},
   "outputs": [
    {
     "data": {
      "text/plain": [
       "0   2011-06-21\n",
       "1   2014-06-09\n",
       "Name: reviewTime, dtype: datetime64[ns]"
      ]
     },
     "execution_count": 119,
     "metadata": {},
     "output_type": "execute_result"
    }
   ],
   "source": [
    "amazon['reviewTime'] = pd.to_datetime(amazon.reviewTime)\n",
    "amazon.reviewTime.head(2)"
   ]
  },
  {
   "cell_type": "code",
   "execution_count": 120,
   "metadata": {},
   "outputs": [],
   "source": [
    "# create a feature that stores the lenth of each review\n",
    "review_length = []\n",
    "for i in amazon.reviewText:     \n",
    "         review_length.append(len(i))\n",
    "amazon['review_length'] = review_length"
   ]
  },
  {
   "cell_type": "code",
   "execution_count": null,
   "metadata": {},
   "outputs": [],
   "source": []
  },
  {
   "cell_type": "code",
   "execution_count": 121,
   "metadata": {},
   "outputs": [
    {
     "name": "stdout",
     "output_type": "stream",
     "text": [
      "750.440102316328\n",
      "959.2368885324779\n"
     ]
    }
   ],
   "source": [
    "print(amazon[amazon.catgry_rate==1].review_length.mean())\n",
    "print(amazon[amazon.catgry_rate==0].review_length.mean())"
   ]
  },
  {
   "cell_type": "code",
   "execution_count": 122,
   "metadata": {},
   "outputs": [
    {
     "data": {
      "text/plain": [
       "-0.12628107998519295"
      ]
     },
     "execution_count": 122,
     "metadata": {},
     "output_type": "execute_result"
    }
   ],
   "source": [
    "# check correlation with lenth of review and rating\n",
    "amazon.catgry_rate.corr(amazon.review_length)"
   ]
  },
  {
   "cell_type": "markdown",
   "metadata": {},
   "source": [
    "There seems to be a negative correlation between the lenth of a review and the rating of that review which would imply that the longer the review the more negative the rating. It is a weak correlation but worth noting."
   ]
  },
  {
   "cell_type": "code",
   "execution_count": 123,
   "metadata": {
    "scrolled": false
   },
   "outputs": [
    {
     "data": {
      "image/png": "[encoded data removed]",
      "text/plain": [
       "<Figure size 1440x1080 with 4 Axes>"
      ]
     },
     "metadata": {
      "needs_background": "light"
     },
     "output_type": "display_data"
    }
   ],
   "source": [
    "amazon.hist(bins=50,figsize=(20,15))\n",
    "plt.show()"
   ]
  },
  {
   "cell_type": "markdown",
   "metadata": {},
   "source": [
    "## Preprocessing\n",
    "For the purposes of this project we will only use the 'reviewText' conlumn and process it using TfidVectorizor function from sklearn. There will be no other types of processing of the text. "
   ]
  },
  {
   "cell_type": "code",
   "execution_count": 124,
   "metadata": {},
   "outputs": [],
   "source": [
    "amazon['reviewText'] = amazon.reviewText.str.replace('[^\\w\\s]','')\n",
    "amazon['reviewText'] = amazon.reviewText.str.split()\n"
   ]
  },
  {
   "cell_type": "code",
   "execution_count": 125,
   "metadata": {},
   "outputs": [],
   "source": [
    "a=[]\n",
    "for i in range(len(amazon.reviewText)):\n",
    "    a.append(pd.Series(amazon.reviewText[i]).unique())"
   ]
  },
  {
   "cell_type": "code",
   "execution_count": 126,
   "metadata": {},
   "outputs": [],
   "source": [
    "amazon['reviewText'] = a"
   ]
  },
  {
   "cell_type": "code",
   "execution_count": 127,
   "metadata": {},
   "outputs": [],
   "source": [
    "amazon['reviewText'] = amazon.reviewText.apply((' ,'.join))"
   ]
  },
  {
   "cell_type": "code",
   "execution_count": 129,
   "metadata": {},
   "outputs": [
    {
     "data": {
      "text/plain": [
       "0    Good ,USA ,company ,that ,stands ,behind ,thei...\n",
       "Name: reviewText, dtype: object"
      ]
     },
     "execution_count": 129,
     "metadata": {},
     "output_type": "execute_result"
    }
   ],
   "source": [
    "amazon.reviewText[:1]"
   ]
  },
  {
   "cell_type": "code",
   "execution_count": 202,
   "metadata": {},
   "outputs": [],
   "source": [
    "from sklearn.feature_extraction.text import TfidfVectorizer\n",
    "X= amazon.reviewText\n",
    "Y= amazon.catgry_rate\n",
    "from sklearn.model_selection import train_test_split\n",
    "# Use train_test_split to create the necessary training and test groups\n",
    "X_train, X_test, y_train, y_test = train_test_split(X, Y, test_size=.2, random_state=20)\n",
    "\n",
    "vectorizer = TfidfVectorizer(analyzer='word', binary=False, decode_error='strict',\n",
    "         encoding='utf-8', input='content',\n",
    "        lowercase=True, max_df=0.5, max_features=None, min_df=1,\n",
    "        ngram_range=(1, 2), norm='l2', preprocessor=None, smooth_idf=True,\n",
    "        stop_words='english', strip_accents=None, sublinear_tf=False,\n",
    "        token_pattern='(?u)\\\\b\\\\w\\\\w+\\\\b', tokenizer=None, use_idf=True,\n",
    "        vocabulary=None)\n",
    "\n",
    "#Applying the vectorizer\n",
    "X_train_tfidf =vectorizer.fit_transform(X_train)\n",
    "X_test_tfidf = vectorizer.transform(X_test) "
   ]
  },
  {
   "cell_type": "code",
   "execution_count": 203,
   "metadata": {},
   "outputs": [
    {
     "data": {
      "text/plain": [
       "1    5613\n",
       "0    5004\n",
       "Name: catgry_rate, dtype: int64"
      ]
     },
     "execution_count": 203,
     "metadata": {},
     "output_type": "execute_result"
    }
   ],
   "source": [
    "# training set class sizes\n",
    "y_train.value_counts()"
   ]
  },
  {
   "cell_type": "markdown",
   "metadata": {},
   "source": [
    "The features are fairly balance so we will keep them as they are unless the model is performing extremely poorly. "
   ]
  },
  {
   "cell_type": "markdown",
   "metadata": {},
   "source": [
    "# Modeling"
   ]
  },
  {
   "cell_type": "markdown",
   "metadata": {},
   "source": [
    "### Naive Bayes"
   ]
  },
  {
   "cell_type": "code",
   "execution_count": 204,
   "metadata": {},
   "outputs": [
    {
     "name": "stdout",
     "output_type": "stream",
     "text": [
      "Accuracy score : 0.7171374764595103\n",
      "ROC_AUC cross validataion score:  [0.73029334 0.74240479 0.75414349 0.7830552  0.73766174]\n"
     ]
    }
   ],
   "source": [
    "# Instatiate the model\n",
    "\n",
    "#\n",
    "from sklearn.naive_bayes import MultinomialNB\n",
    "\n",
    "mnb = MultinomialNB(fit_prior=True)\n",
    "mnb.fit(X_train_tfidf , y_train)\n",
    "\n",
    "y_pred = mnb.predict(X_test_tfidf) \n",
    "\n",
    "print('Accuracy score :',mnb.score( X_test_tfidf , y_test,))\n",
    "print('ROC_AUC cross validataion score: ',cross_val_score(mnb, X_test_tfidf , y_test, cv=5,scoring='roc_auc'))"
   ]
  },
  {
   "cell_type": "code",
   "execution_count": 205,
   "metadata": {},
   "outputs": [
    {
     "name": "stdout",
     "output_type": "stream",
     "text": [
      "Consfusion Matrix\n",
      "col_0          0     1\n",
      "catgry_rate           \n",
      "0            740   491\n",
      "1            260  1164\n",
      "\n",
      "Classification Report\n",
      "                  precision    recall  f1-score   support\n",
      "\n",
      "negative reviews       0.74      0.60      0.66      1231\n",
      "positive reviews       0.70      0.82      0.76      1424\n",
      "\n",
      "       micro avg       0.72      0.72      0.72      2655\n",
      "       macro avg       0.72      0.71      0.71      2655\n",
      "    weighted avg       0.72      0.72      0.71      2655\n",
      "\n"
     ]
    }
   ],
   "source": [
    "# Confusion matrix\n",
    "print(\"Consfusion Matrix\")\n",
    "print(pd.crosstab(y_test,y_pred))\n",
    "print()\n",
    "\n",
    "# Classification report\n",
    "print(\"Classification Report\")\n",
    "from sklearn.metrics import classification_report\n",
    "\n",
    "target_names = ['negative reviews','positive reviews']\n",
    "print(classification_report(y_test,y_pred, target_names=target_names))"
   ]
  },
  {
   "cell_type": "code",
   "execution_count": 206,
   "metadata": {},
   "outputs": [
    {
     "name": "stdout",
     "output_type": "stream",
     "text": [
      "AUC: 0.749\n"
     ]
    },
    {
     "data": {
      "image/png": "[encoded data removed]",
      "text/plain": [
       "<Figure size 432x288 with 1 Axes>"
      ]
     },
     "metadata": {
      "needs_background": "light"
     },
     "output_type": "display_data"
    }
   ],
   "source": [
    "# Function that prints AUC and plots ROC curve\n",
    "def AUC_ROC_plot(model,X,y,color): \n",
    "    y_prob = cross_val_predict(model, X, y, method='predict_proba',cv=5)    \n",
    "    auc = roc_auc_score(y,y_prob[:,1])\n",
    "    print('AUC: %.3f' % auc)\n",
    "    fpr, tpr,thresholds = roc_curve(y,y_prob[:,1])\n",
    "    plt.plot(fpr,tpr,color)    \n",
    "    plt.plot([0.0,1.0],'k--')\n",
    "    plt.xlabel('False Positive Rate')\n",
    "    plt.ylabel('True Positive Rate')\n",
    "    plt.title('Receiver Operating Characteristics')\n",
    "    plt.xlim([0.0,1.0])     \n",
    "    plt.ylim([0.0,1.0])\n",
    "AUC_ROC_plot(mnb,X_test_tfidf,y_test,'g')"
   ]
  },
  {
   "cell_type": "code",
   "execution_count": 49,
   "metadata": {},
   "outputs": [
    {
     "name": "stdout",
     "output_type": "stream",
     "text": [
      "{'alpha': 1, 'fit_prior': True}\n",
      "0.7739424708229142\n"
     ]
    }
   ],
   "source": [
    "# initiate GridsearchCV for best parameters\n",
    "from sklearn.model_selection import GridSearchCV\n",
    "param_grid = dict(alpha=np.arange(1,5,1),fit_prior=(True,False))\n",
    "grid = GridSearchCV(mnb, param_grid, cv=3, scoring='roc_auc', return_train_score=True)\n",
    "grid.fit(X_train_tfidf , y_train)\n",
    "print(grid.best_params_)\n",
    "print(grid.best_score_)"
   ]
  },
  {
   "cell_type": "code",
   "execution_count": 81,
   "metadata": {},
   "outputs": [
    {
     "name": "stdout",
     "output_type": "stream",
     "text": [
      "0.7171374764595103\n",
      "[0.73029334 0.74240479 0.75414349 0.7830552  0.73766174]\n"
     ]
    }
   ],
   "source": [
    "# refit model with new prams\n",
    "mnb = MultinomialNB(alpha=1, fit_prior=True)\n",
    "mnb.fit(X_train_tfidf , y_train)\n",
    "\n",
    "\n",
    "y_pred = mnb.predict(X_test_tfidf) \n",
    "print(mnb.score( X_test_tfidf , y_test,))\n",
    "print(cross_val_score(mnb, X_test_tfidf , y_test, cv=5,scoring='roc_auc'))"
   ]
  },
  {
   "cell_type": "code",
   "execution_count": 82,
   "metadata": {},
   "outputs": [
    {
     "name": "stdout",
     "output_type": "stream",
     "text": [
      "AUC: 0.749\n"
     ]
    },
    {
     "data": {
      "image/png": "[encoded data removed]",
      "text/plain": [
       "<Figure size 432x288 with 1 Axes>"
      ]
     },
     "metadata": {
      "needs_background": "light"
     },
     "output_type": "display_data"
    }
   ],
   "source": [
    "AUC_ROC_plot(mnb,X_test_tfidf,y_test)"
   ]
  },
  {
   "cell_type": "code",
   "execution_count": 154,
   "metadata": {},
   "outputs": [
    {
     "name": "stdout",
     "output_type": "stream",
     "text": [
      "Consfusion Matrix\n",
      "col_0          0    1\n",
      "catgry_rate          \n",
      "0            908  323\n",
      "1            465  959\n",
      "\n",
      "Classification Report\n",
      "                  precision    recall  f1-score   support\n",
      "\n",
      "negative reviews       0.66      0.74      0.70      1231\n",
      "positive reviews       0.75      0.67      0.71      1424\n",
      "\n",
      "       micro avg       0.70      0.70      0.70      2655\n",
      "       macro avg       0.70      0.71      0.70      2655\n",
      "    weighted avg       0.71      0.70      0.70      2655\n",
      "\n"
     ]
    }
   ],
   "source": [
    "# Confusion matrix\n",
    "print(\"Consfusion Matrix\")\n",
    "print(pd.crosstab(y_test,y_pred))\n",
    "print()\n",
    "\n",
    "# Classification report\n",
    "print(\"Classification Report\")\n",
    "from sklearn.metrics import classification_report\n",
    "\n",
    "target_names = ['negative reviews','positive reviews']\n",
    "print(classification_report(y_test,y_pred, target_names=target_names))"
   ]
  },
  {
   "cell_type": "markdown",
   "metadata": {},
   "source": [
    "For this project there is no clear class that we are focused on. Although, we have printed the classification report the most important metric for this purpose is the Area under the ROC curve. This gives us a measure of performance across all possible classification thresholds. The model is not perfoming as well as expected. This is most likely due to the TFidf processing parameters that were chosen. Also, the curve uses the proabilities to predict outcomes to form the curve and Naive Bayes is a bad extimator so the curve itself could be off."
   ]
  },
  {
   "cell_type": "markdown",
   "metadata": {},
   "source": [
    "### KNN"
   ]
  },
  {
   "cell_type": "code",
   "execution_count": 207,
   "metadata": {},
   "outputs": [
    {
     "name": "stdout",
     "output_type": "stream",
     "text": [
      "Accuracy score : 0.5450094161958569\n",
      "ROC_AUC cross validataion score:  [0.65212728 0.68622878 0.67628726 0.69215518 0.6741598 ]\n"
     ]
    }
   ],
   "source": [
    "from sklearn.neighbors import KNeighborsClassifier\n",
    "neighbors = KNeighborsClassifier(algorithm='auto', n_neighbors=10) \n",
    "neighbors.fit(X_train_tfidf, y_train)\n",
    "\n",
    "\n",
    "print('Accuracy score :',neighbors.score( X_test_tfidf , y_test,))\n",
    "print('ROC_AUC cross validataion score: ',cross_val_score(neighbors, X_test_tfidf , y_test, cv=5,scoring='roc_auc'))"
   ]
  },
  {
   "cell_type": "code",
   "execution_count": 157,
   "metadata": {},
   "outputs": [
    {
     "name": "stdout",
     "output_type": "stream",
     "text": [
      "Consfusion Matrix\n",
      "col_0          0     1\n",
      "catgry_rate           \n",
      "0            284   947\n",
      "1            251  1173\n",
      "\n",
      "Classification Report\n",
      "                  precision    recall  f1-score   support\n",
      "\n",
      "  positve review       0.53      0.23      0.32      1231\n",
      "negative reviews       0.55      0.82      0.66      1424\n",
      "\n",
      "       micro avg       0.55      0.55      0.55      2655\n",
      "       macro avg       0.54      0.53      0.49      2655\n",
      "    weighted avg       0.54      0.55      0.50      2655\n",
      "\n",
      "AUC: 0.675\n"
     ]
    },
    {
     "data": {
      "image/png": "[encoded data removed]",
      "text/plain": [
       "<Figure size 432x288 with 1 Axes>"
      ]
     },
     "metadata": {
      "needs_background": "light"
     },
     "output_type": "display_data"
    }
   ],
   "source": [
    "# Confusion matrix\n",
    "y_pred = neighbors.predict(X_test_tfidf) \n",
    "print(\"Consfusion Matrix\")\n",
    "print(pd.crosstab(y_test,y_pred))\n",
    "print()\n",
    "\n",
    "\n",
    "# Classification report\n",
    "print(\"Classification Report\") \n",
    "target_names = ['positve review','negative reviews']\n",
    "print(classification_report(y_test ,y_pred, target_names=target_names))\n",
    "# plot ROC\n",
    "AUC_ROC_plot(neighbors,X_test_tfidf,y_test,'g')"
   ]
  },
  {
   "cell_type": "code",
   "execution_count": null,
   "metadata": {},
   "outputs": [],
   "source": [
    "# initiate GridsearchCV\n",
    "param_grid = dict(weights=['distance','uniform'],n_neighbors=range(1,300,5))\n",
    "grid = GridSearchCV(neighbors, param_grid, cv=3, scoring='roc_auc', return_train_score=True)\n",
    "grid.fit(X_train_tfidf , y_train)\n",
    "print(grid.best_params_)\n",
    "print(grid.best_score_)"
   ]
  },
  {
   "cell_type": "code",
   "execution_count": 208,
   "metadata": {},
   "outputs": [
    {
     "name": "stdout",
     "output_type": "stream",
     "text": [
      "Accuracy score : 0.6990583804143126\n",
      "ROC_AUC cross validataion score:  [0.73029334 0.74240479 0.75414349 0.7830552  0.73766174]\n"
     ]
    }
   ],
   "source": [
    "# refit model with new params\n",
    "from sklearn.neighbors import KNeighborsClassifier\n",
    "neighbors = KNeighborsClassifier(n_neighbors=271,weights='distance',p=2)\n",
    "neighbors.fit(X_train_tfidf, y_train)\n",
    "\n",
    "\n",
    "print('Accuracy score :',neighbors.score( X_test_tfidf , y_test,))\n",
    "print('ROC_AUC cross validataion score: ',cross_val_score(mnb, X_test_tfidf , y_test, cv=5,scoring='roc_auc'))"
   ]
  },
  {
   "cell_type": "code",
   "execution_count": 209,
   "metadata": {},
   "outputs": [
    {
     "name": "stdout",
     "output_type": "stream",
     "text": [
      "Consfusion Matrix\n",
      "catgry_rate    0     1\n",
      "row_0                 \n",
      "0            678   246\n",
      "1            553  1178\n",
      "\n",
      "Classification Report\n",
      "                  precision    recall  f1-score   support\n",
      "\n",
      "  positve review       0.73      0.55      0.63      1231\n",
      "negative reviews       0.68      0.83      0.75      1424\n",
      "\n",
      "       micro avg       0.70      0.70      0.70      2655\n",
      "       macro avg       0.71      0.69      0.69      2655\n",
      "    weighted avg       0.71      0.70      0.69      2655\n",
      "\n",
      "AUC: 0.737\n"
     ]
    },
    {
     "data": {
      "image/png": "[encoded data removed]",
      "text/plain": [
       "<Figure size 432x288 with 1 Axes>"
      ]
     },
     "metadata": {
      "needs_background": "light"
     },
     "output_type": "display_data"
    }
   ],
   "source": [
    "# Confusion matrix\n",
    "y_pred = neighbors.predict(X_test_tfidf) \n",
    "print(\"Consfusion Matrix\")\n",
    "print(pd.crosstab(y_pred, y_test))\n",
    "print()\n",
    "\n",
    "\n",
    "# Classification report\n",
    "print(\"Classification Report\") \n",
    "target_names = ['positve review','negative reviews']\n",
    "print(classification_report(y_test ,y_pred, target_names=target_names))\n",
    "# plot ROC\n",
    "AUC_ROC_plot(neighbors,X_test_tfidf,y_test,'g')"
   ]
  },
  {
   "cell_type": "markdown",
   "metadata": {},
   "source": [
    "The model did poorly when n_neighbors was set at 10. Our test set is imbalanced so the neighbors for the under-reperesented class are sparce. Increasing the n_neighbors significantly improved the results. There is still obviouly room for improvment but that could come from better preprocessing."
   ]
  },
  {
   "cell_type": "markdown",
   "metadata": {},
   "source": [
    "### Desision trees"
   ]
  },
  {
   "cell_type": "code",
   "execution_count": 210,
   "metadata": {},
   "outputs": [
    {
     "name": "stdout",
     "output_type": "stream",
     "text": [
      "Accuracy score : 0.5657250470809793\n",
      "ROC_AUC cross validataion score:  [0.55249663 0.55979889 0.56108258 0.53928113 0.51907993]\n"
     ]
    }
   ],
   "source": [
    "from sklearn import tree\n",
    "# Initialize and train decision tree.\n",
    "decision_tree = tree.DecisionTreeClassifier(max_features= 'sqrt', random_state=20,)\n",
    "decision_tree.fit(X_train_tfidf, y_train)\n",
    "print('Accuracy score :',decision_tree.score( X_test_tfidf , y_test,))\n",
    "print('ROC_AUC cross validataion score: ',cross_val_score(decision_tree, X_test_tfidf , y_test, cv=5,scoring='roc_auc'))"
   ]
  },
  {
   "cell_type": "code",
   "execution_count": 211,
   "metadata": {},
   "outputs": [
    {
     "name": "stdout",
     "output_type": "stream",
     "text": [
      "Consfusion Matrix\n",
      "catgry_rate    0    1\n",
      "row_0                \n",
      "0            590  512\n",
      "1            641  912\n",
      "\n",
      "Classification Report\n",
      "                  precision    recall  f1-score   support\n",
      "\n",
      "  positve review       0.54      0.48      0.51      1231\n",
      "negative reviews       0.59      0.64      0.61      1424\n",
      "\n",
      "       micro avg       0.57      0.57      0.57      2655\n",
      "       macro avg       0.56      0.56      0.56      2655\n",
      "    weighted avg       0.56      0.57      0.56      2655\n",
      "\n",
      "AUC: 0.546\n"
     ]
    },
    {
     "data": {
      "image/png": "[encoded data removed]",
      "text/plain": [
       "<Figure size 432x288 with 1 Axes>"
      ]
     },
     "metadata": {
      "needs_background": "light"
     },
     "output_type": "display_data"
    }
   ],
   "source": [
    "# Confusion matrix\n",
    "y_pred = decision_tree.predict(X_test_tfidf) \n",
    "print(\"Consfusion Matrix\")\n",
    "print(pd.crosstab(y_pred, y_test))\n",
    "print()\n",
    "\n",
    "\n",
    "# Classification report\n",
    "print(\"Classification Report\") \n",
    "target_names = ['positve review','negative reviews']\n",
    "print(classification_report(y_test ,y_pred, target_names=target_names))\n",
    "# plot ROC\n",
    "AUC_ROC_plot(decision_tree,X_test_tfidf,y_test,'g')"
   ]
  },
  {
   "cell_type": "markdown",
   "metadata": {},
   "source": [
    "Wow! Terrible results. Almost as good as random chance. This could be caused by the shape of our data, (10617, 490425). There may be few highly predictive features mixed in with low predictive features. Its difficult to say since TFIDF outputs a sparce matrix. We'll try larger values of depth and leaf nodes with GridsearchCV."
   ]
  },
  {
   "cell_type": "code",
   "execution_count": 245,
   "metadata": {},
   "outputs": [
    {
     "name": "stdout",
     "output_type": "stream",
     "text": [
      "{'max_depth': 60, 'max_leaf_nodes': 300}\n",
      "0.620375372604108\n"
     ]
    }
   ],
   "source": [
    "# initiate GridsearchCV\n",
    "\n",
    "param_grid = dict(max_depth=range(30,80,10), max_leaf_nodes=range(300,600,100) )\n",
    "grid = GridSearchCV(decision_tree, param_grid, cv=3, scoring='roc_auc', return_train_score=True)\n",
    "grid.fit(X_train_tfidf, y_train)\n",
    "\n",
    "print(grid.best_params_)\n",
    "print(grid.best_score_)"
   ]
  },
  {
   "cell_type": "code",
   "execution_count": 246,
   "metadata": {},
   "outputs": [
    {
     "name": "stdout",
     "output_type": "stream",
     "text": [
      "Accuracy score : 0.6497175141242938\n",
      "ROC_AUC cross validataion score:  [0.66049435 0.61990444 0.57642276 0.6086079  0.59561434]\n"
     ]
    }
   ],
   "source": [
    "# refit model with new params\n",
    "decision_tree = tree.DecisionTreeClassifier(criterion='gini', max_depth=300, max_features=None,\n",
    "                                            max_leaf_nodes=60 ,random_state=20,class_weight='balanced')\n",
    "decision_tree.fit(X_train_tfidf, y_train)\n",
    "print('Accuracy score :',decision_tree.score( X_test_tfidf , y_test,))\n",
    "\n",
    "print('ROC_AUC cross validataion score: ',cross_val_score(decision_tree, X_test_tfidf , y_test, cv=5,scoring='roc_auc'))"
   ]
  },
  {
   "cell_type": "code",
   "execution_count": 247,
   "metadata": {},
   "outputs": [
    {
     "name": "stdout",
     "output_type": "stream",
     "text": [
      "Consfusion Matrix\n",
      "catgry_rate    0    1\n",
      "row_0                \n",
      "0            743  442\n",
      "1            488  982\n",
      "\n",
      "Classification Report\n",
      "                  precision    recall  f1-score   support\n",
      "\n",
      "  positve review       0.63      0.60      0.62      1231\n",
      "negative reviews       0.67      0.69      0.68      1424\n",
      "\n",
      "       micro avg       0.65      0.65      0.65      2655\n",
      "       macro avg       0.65      0.65      0.65      2655\n",
      "    weighted avg       0.65      0.65      0.65      2655\n",
      "\n",
      "AUC: 0.612\n"
     ]
    },
    {
     "data": {
      "image/png": "[encoded data removed]",
      "text/plain": [
       "<Figure size 432x288 with 1 Axes>"
      ]
     },
     "metadata": {
      "needs_background": "light"
     },
     "output_type": "display_data"
    }
   ],
   "source": [
    "# Confusion matrix\n",
    "y_pred = decision_tree.predict(X_test_tfidf) \n",
    "print(\"Consfusion Matrix\")\n",
    "print(pd.crosstab(y_pred, y_test))\n",
    "print()\n",
    "\n",
    "\n",
    "# Classification report\n",
    "print(\"Classification Report\") \n",
    "target_names = ['positve review','negative reviews']\n",
    "print(classification_report(y_test ,y_pred, target_names=target_names))\n",
    "# plot ROC\n",
    "AUC_ROC_plot(decision_tree,X_test_tfidf,y_test,'g')"
   ]
  },
  {
   "cell_type": "markdown",
   "metadata": {},
   "source": [
    "A little better after parameter tuning but not by much.  "
   ]
  },
  {
   "cell_type": "markdown",
   "metadata": {},
   "source": [
    "### Random forrest"
   ]
  },
  {
   "cell_type": "code",
   "execution_count": 249,
   "metadata": {},
   "outputs": [
    {
     "name": "stdout",
     "output_type": "stream",
     "text": [
      "Accuracy score : 0.6282485875706215\n",
      "ROC_AUC cross validataion score:  [0.57040273 0.63170019 0.63521609 0.65548424 0.5836196 ]\n"
     ]
    }
   ],
   "source": [
    "from sklearn import ensemble\n",
    "from sklearn.model_selection import cross_val_score\n",
    "\n",
    "# instantiate model\n",
    "rfc = ensemble.RandomForestClassifier(n_estimators=10) \n",
    "rfc.fit(X_train_tfidf,y_train)\n",
    "print('Accuracy score :',rfc.score( X_test_tfidf , y_test,))\n",
    "print('ROC_AUC cross validataion score: ',cross_val_score(rfc, X_test_tfidf , y_test, cv=5,scoring='roc_auc'))"
   ]
  },
  {
   "cell_type": "code",
   "execution_count": 250,
   "metadata": {},
   "outputs": [
    {
     "name": "stdout",
     "output_type": "stream",
     "text": [
      "Consfusion Matrix\n",
      "catgry_rate    0    1\n",
      "row_0                \n",
      "0            754  510\n",
      "1            477  914\n",
      "\n",
      "Classification Report\n",
      "                  precision    recall  f1-score   support\n",
      "\n",
      "  positve review       0.60      0.61      0.60      1231\n",
      "negative reviews       0.66      0.64      0.65      1424\n",
      "\n",
      "       micro avg       0.63      0.63      0.63      2655\n",
      "       macro avg       0.63      0.63      0.63      2655\n",
      "    weighted avg       0.63      0.63      0.63      2655\n",
      "\n",
      "AUC: 0.627\n"
     ]
    },
    {
     "data": {
      "image/png": "[encoded data removed]",
      "text/plain": [
       "<Figure size 432x288 with 1 Axes>"
      ]
     },
     "metadata": {
      "needs_background": "light"
     },
     "output_type": "display_data"
    }
   ],
   "source": [
    "# Confusion matrix\n",
    "y_pred = rfc.predict(X_test_tfidf) \n",
    "print(\"Consfusion Matrix\")\n",
    "print(pd.crosstab(y_pred, y_test))\n",
    "print()\n",
    "\n",
    "\n",
    "# Classification report\n",
    "print(\"Classification Report\") \n",
    "target_names = ['positve review','negative reviews']\n",
    "print(classification_report(y_test ,y_pred, target_names=target_names))\n",
    "# plot ROC\n",
    "AUC_ROC_plot(rfc, X_test_tfidf, y_test,'g')"
   ]
  },
  {
   "cell_type": "code",
   "execution_count": null,
   "metadata": {},
   "outputs": [],
   "source": [
    "# initiate GridsearchCV\n",
    "param_grid = dict(max_depth=range(1,6,1), max_leaf_nodes=range(2,10,1))\n",
    "grid = GridSearchCV(rfc, param_grid, cv=3, scoring='roc_auc', return_train_score=True)\n",
    "grid.fit(X_train_tfidf, y_train)\n",
    "\n",
    "print(grid.best_params_)\n",
    "print(grid.best_score_)"
   ]
  },
  {
   "cell_type": "code",
   "execution_count": 90,
   "metadata": {},
   "outputs": [
    {
     "name": "stdout",
     "output_type": "stream",
     "text": [
      "Accuracy score : 0.6444444444444445\n",
      "ROC_AUC cross validataion score:  [0.71002202 0.7066467  0.71499073 0.72640137 0.6617285 ]\n"
     ]
    }
   ],
   "source": [
    "# refit model with new params\n",
    "rfc = ensemble.RandomForestClassifier(n_estimators=1000, max_depth=8, max_leaf_nodes=6,class_weight='balanced') \n",
    "rfc.fit(X_train_tfidf, y_train)\n",
    "print('Accuracy score :',rfc.score( X_test_tfidf , y_test,))\n",
    "print('ROC_AUC cross validataion score: ',cross_val_score(rfc, X_test_tfidf , y_test, cv=5,scoring='roc_auc'))"
   ]
  },
  {
   "cell_type": "code",
   "execution_count": null,
   "metadata": {},
   "outputs": [],
   "source": [
    "# Confusion matrix\n",
    "y_pred = rfc.predict(X_test_tfidf) \n",
    "print(\"Consfusion Matrix\")\n",
    "print(pd.crosstab(y_test, y_pred))\n",
    "print()\n",
    "\n",
    "\n",
    "# Classification report\n",
    "print(\"Classification Report\") \n",
    "target_names = ['positve review','negative reviews']\n",
    "print(classification_report(y_test ,y_pred, target_names=target_names))\n",
    "# plot ROC\n",
    "AUC_ROC_plot(rfc,X_test_tfidf,y_test)"
   ]
  },
  {
   "cell_type": "code",
   "execution_count": null,
   "metadata": {},
   "outputs": [],
   "source": [
    "precision_recall_plot (rfc,X_test_tfidf,y_test) \n",
    "plt.show()"
   ]
  },
  {
   "cell_type": "code",
   "execution_count": null,
   "metadata": {},
   "outputs": [],
   "source": [
    "y_prob = rfc.predict_proba(X_test_tfidf)\n",
    "y_pred_class = binarize(y_prob,0.55)\n",
    "y_pred_class = y_pred_class[:,1]\n",
    " \n",
    "\n",
    "print('Confusion Matrix:')\n",
    "print(pd.crosstab( y_test,y_pred))\n",
    "print()\n",
    "print('Classification Report')\n",
    "print(classification_report(y_test ,y_pred, target_names=target_names))\n",
    "print()\n",
    "\n",
    "print('Confusion Matrix with binarized class:')\n",
    "print(pd.crosstab( y_test,y_pred_class))\n",
    "print()\n",
    "print('Classification report with binarized class:') \n",
    "print(classification_report(y_test ,y_pred_class, target_names=target_names))\n"
   ]
  },
  {
   "cell_type": "markdown",
   "metadata": {},
   "source": [
    "### Logistic regression"
   ]
  },
  {
   "cell_type": "code",
   "execution_count": 91,
   "metadata": {},
   "outputs": [
    {
     "name": "stdout",
     "output_type": "stream",
     "text": [
      "Coefficients\n",
      "[[0. 0. 0. ... 0. 0. 0.]]\n",
      "[0.]\n",
      "\n",
      " Accuracy by Motor vehicle theft\n",
      "col_0          0     1\n",
      "catgry_rate           \n",
      "0            842   389\n",
      "1            405  1019\n",
      "\n",
      " Percentage accuracy:  0.7009416195856873\n",
      "ROC_AUC cross validataion score:  [0.68510548 0.71664527 0.72789902 0.69512908 0.68166008]\n"
     ]
    }
   ],
   "source": [
    "# Declare a logistic regression classifier.\n",
    "lr = LogisticRegression(random_state=20, fit_intercept=False ,solver='saga',max_iter=100, penalty='l1',C=1) \n",
    " \n",
    "# Fit the model.\n",
    "fit = lr.fit(X_train_tfidf, y_train)\n",
    "\n",
    "# Display.\n",
    "print('Coefficients')\n",
    "print(fit.coef_)\n",
    "print(fit.intercept_)\n",
    "y_pred = lr.predict(X_test_tfidf)\n",
    "\n",
    "print('\\n Accuracy by Motor vehicle theft')\n",
    "print(pd.crosstab(y_test, y_pred))\n",
    "\n",
    "print('\\n Percentage accuracy: ',lr.score(X_test_tfidf, y_test)) \n",
    "print('ROC_AUC cross validataion score: ',cross_val_score(lr, X_test_tfidf , y_test, cv=5,scoring='roc_auc'))"
   ]
  },
  {
   "cell_type": "code",
   "execution_count": null,
   "metadata": {},
   "outputs": [],
   "source": [
    "# Confusion matrix\n",
    "y_pred = lr.predict(X_test_tfidf) \n",
    "print(\"Consfusion Matrix\")\n",
    "print(pd.crosstab(y_pred, y_test))\n",
    "print()\n",
    "\n",
    "\n",
    "# Classification report\n",
    "print(\"Classification Report\") \n",
    "target_names = ['positve review','negative reviews']\n",
    "print(classification_report(y_test ,y_pred, target_names=target_names))\n",
    "# plot ROC\n",
    "AUC_ROC_plot(lr,X_test_tfidf,y_test)"
   ]
  },
  {
   "cell_type": "code",
   "execution_count": null,
   "metadata": {
    "scrolled": true
   },
   "outputs": [],
   "source": [
    "# initiate GridsearchCV\n",
    "param_grid = dict(max_iter=range(8,15,1),class_weight=(None,'balanced'),C=np.arange(.1,4,.1))\n",
    "grid = GridSearchCV(lr,param_grid, cv=3, scoring='roc_auc', return_train_score=True)\n",
    "grid.fit(X_train_tfidf, y_train)\n",
    "\n"
   ]
  },
  {
   "cell_type": "code",
   "execution_count": 251,
   "metadata": {},
   "outputs": [
    {
     "name": "stdout",
     "output_type": "stream",
     "text": [
      "{'max_depth': 60, 'max_leaf_nodes': 300}\n",
      "0.620375372604108\n"
     ]
    }
   ],
   "source": [
    "print(grid.best_params_)\n",
    "print(grid.best_score_)"
   ]
  },
  {
   "cell_type": "code",
   "execution_count": 92,
   "metadata": {},
   "outputs": [
    {
     "name": "stderr",
     "output_type": "stream",
     "text": [
      "c:\\users\\keith\\appdata\\local\\programs\\python\\python37\\lib\\site-packages\\sklearn\\svm\\base.py:931: ConvergenceWarning: Liblinear failed to converge, increase the number of iterations.\n",
      "  \"the number of iterations.\", ConvergenceWarning)\n",
      "c:\\users\\keith\\appdata\\local\\programs\\python\\python37\\lib\\site-packages\\sklearn\\svm\\base.py:931: ConvergenceWarning: Liblinear failed to converge, increase the number of iterations.\n",
      "  \"the number of iterations.\", ConvergenceWarning)\n"
     ]
    },
    {
     "name": "stdout",
     "output_type": "stream",
     "text": [
      "Coefficients\n",
      "[[0. 0. 0. ... 0. 0. 0.]]\n",
      "0.0\n",
      "\n",
      " Confusion Matrix\n",
      "catgry_rate    0    1\n",
      "row_0                \n",
      "0            908  465\n",
      "1            323  959\n",
      "\n",
      "Accuracy:  0.7032015065913371\n"
     ]
    },
    {
     "name": "stderr",
     "output_type": "stream",
     "text": [
      "c:\\users\\keith\\appdata\\local\\programs\\python\\python37\\lib\\site-packages\\sklearn\\svm\\base.py:931: ConvergenceWarning: Liblinear failed to converge, increase the number of iterations.\n",
      "  \"the number of iterations.\", ConvergenceWarning)\n",
      "c:\\users\\keith\\appdata\\local\\programs\\python\\python37\\lib\\site-packages\\sklearn\\svm\\base.py:931: ConvergenceWarning: Liblinear failed to converge, increase the number of iterations.\n",
      "  \"the number of iterations.\", ConvergenceWarning)\n"
     ]
    },
    {
     "name": "stdout",
     "output_type": "stream",
     "text": [
      "ROC_AUC cross validataion score:  [0.69112153 0.71584653 0.71746541 0.69164171 0.6734799 ]\n"
     ]
    },
    {
     "name": "stderr",
     "output_type": "stream",
     "text": [
      "c:\\users\\keith\\appdata\\local\\programs\\python\\python37\\lib\\site-packages\\sklearn\\svm\\base.py:931: ConvergenceWarning: Liblinear failed to converge, increase the number of iterations.\n",
      "  \"the number of iterations.\", ConvergenceWarning)\n",
      "c:\\users\\keith\\appdata\\local\\programs\\python\\python37\\lib\\site-packages\\sklearn\\svm\\base.py:931: ConvergenceWarning: Liblinear failed to converge, increase the number of iterations.\n",
      "  \"the number of iterations.\", ConvergenceWarning)\n"
     ]
    }
   ],
   "source": [
    "lr = LogisticRegression(random_state=20, fit_intercept=False ,solver='liblinear',class_weight='balanced', max_iter=3, penalty='l1',C=.9) \n",
    " \n",
    "# refit the model with new params.\n",
    "fit = lr.fit(X_train_tfidf, y_train)\n",
    "\n",
    "# Display \n",
    "print('Coefficients')\n",
    "print(fit.coef_)\n",
    "print(fit.intercept_)\n",
    "y_pred = lr.predict(X_test_tfidf)\n",
    "\n",
    "print('\\n Confusion Matrix')\n",
    "print(pd.crosstab(y_pred, y_test))\n",
    "\n",
    "print('\\nAccuracy: ',lr.score(X_test_tfidf, y_test)) \n",
    "print('ROC_AUC cross validataion score: ',cross_val_score(lr, X_test_tfidf , y_test, cv=5,scoring='roc_auc'))"
   ]
  },
  {
   "cell_type": "code",
   "execution_count": null,
   "metadata": {},
   "outputs": [],
   "source": [
    "# Confusion matrix\n",
    "y_pred = lr.predict(X_test_tfidf) \n",
    "print(\"Consfusion Matrix\")\n",
    "print(pd.crosstab(y_pred, y_test))\n",
    "print()\n",
    "\n",
    "\n",
    "# Classification report\n",
    "print(\"Classification Report\") \n",
    "target_names = ['positve review','negative reviews']\n",
    "print(classification_report(y_test ,y_pred, target_names=target_names))\n",
    "# plot ROC\n",
    "AUC_ROC_plot(lr,X_test_tfidf,y_test)"
   ]
  },
  {
   "cell_type": "code",
   "execution_count": null,
   "metadata": {},
   "outputs": [],
   "source": [
    "precision_recall_plot (lr,X_test_tfidf,y_test) \n",
    "plt.show()"
   ]
  },
  {
   "cell_type": "code",
   "execution_count": null,
   "metadata": {},
   "outputs": [],
   "source": [
    "y_prob = lr.predict_proba(X_test_tfidf)\n",
    "y_pred_class = binarize(y_prob,0.50)\n",
    "y_pred_class = y_pred_class[:,1]\n",
    " \n",
    "\n",
    "print('Confusion Matrix:')\n",
    "print(pd.crosstab( y_test,y_pred))\n",
    "print()\n",
    "print('Classification Report')\n",
    "print(classification_report(y_test ,y_pred, target_names=target_names))\n",
    "print()\n",
    "\n",
    "print('Confusion Matrix with binarized class:')\n",
    "print(pd.crosstab( y_test,y_pred_class))\n",
    "print()\n",
    "print('Classification report with binarized class:') \n",
    "print(classification_report(y_test ,y_pred_class, target_names=target_names))\n"
   ]
  },
  {
   "cell_type": "markdown",
   "metadata": {},
   "source": [
    "### SVM"
   ]
  },
  {
   "cell_type": "code",
   "execution_count": 93,
   "metadata": {},
   "outputs": [
    {
     "data": {
      "text/plain": [
       "SVC(C=1.0, cache_size=200, class_weight=None, coef0=0.0,\n",
       "  decision_function_shape='ovr', degree=3, gamma='auto', kernel='rbf',\n",
       "  max_iter=-1, probability=True, random_state=None, shrinking=True,\n",
       "  tol=0.001, verbose=False)"
      ]
     },
     "execution_count": 93,
     "metadata": {},
     "output_type": "execute_result"
    }
   ],
   "source": [
    "from sklearn.svm import SVC\n",
    "svc = SVC(gamma='auto',probability=True) \n",
    "svc.fit(X_train_tfidf,y_train)"
   ]
  },
  {
   "cell_type": "code",
   "execution_count": null,
   "metadata": {
    "scrolled": false
   },
   "outputs": [],
   "source": [
    "# Confusion matrix\n",
    "y_pred = svc.predict(X_test_tfidf) \n",
    "print(\"Consfusion Matrix\")\n",
    "print(pd.crosstab(y_pred, y_test))\n",
    "print()\n",
    "\n",
    "\n",
    "# Classification report\n",
    "print(\"Classification Report\") \n",
    "target_names = ['positve review','negative reviews']\n",
    "print(classification_report(y_test ,y_pred, target_names=target_names))\n",
    "# plot ROC\n",
    "AUC_ROC_plot(svc,X_test_tfidf,y_test)"
   ]
  },
  {
   "cell_type": "code",
   "execution_count": null,
   "metadata": {},
   "outputs": [],
   "source": [
    "param_grid = dict(C=np.arange(.1,5,.1))\n",
    "grid = GridSearchCV(svc, param_grid, cv=3, scoring=\"roc_auc\", return_train_score=True,n_jobs = -1)\n",
    "grid.fit(X_train_tfidf, y_train)\n",
    "\n",
    "\n",
    "print(grid.best_params_)\n",
    "print(grid.best_score_ )"
   ]
  },
  {
   "cell_type": "code",
   "execution_count": 98,
   "metadata": {},
   "outputs": [
    {
     "ename": "KeyboardInterrupt",
     "evalue": "",
     "output_type": "error",
     "traceback": [
      "\u001b[1;31m---------------------------------------------------------------------------\u001b[0m",
      "\u001b[1;31mKeyboardInterrupt\u001b[0m                         Traceback (most recent call last)",
      "\u001b[1;32m<ipython-input-98-7b08ae63de56>\u001b[0m in \u001b[0;36m<module>\u001b[1;34m\u001b[0m\n\u001b[0;32m      1\u001b[0m \u001b[1;31m# refit model with new params\u001b[0m\u001b[1;33m\u001b[0m\u001b[1;33m\u001b[0m\u001b[1;33m\u001b[0m\u001b[0m\n\u001b[0;32m      2\u001b[0m \u001b[0msvc\u001b[0m \u001b[1;33m=\u001b[0m \u001b[0mSVC\u001b[0m\u001b[1;33m(\u001b[0m\u001b[0mkernel\u001b[0m\u001b[1;33m=\u001b[0m\u001b[1;34m'linear'\u001b[0m\u001b[1;33m,\u001b[0m\u001b[0mclass_weight\u001b[0m\u001b[1;33m=\u001b[0m\u001b[1;34m'balanced'\u001b[0m\u001b[1;33m,\u001b[0m\u001b[0mprobability\u001b[0m\u001b[1;33m=\u001b[0m\u001b[1;32mTrue\u001b[0m\u001b[1;33m)\u001b[0m\u001b[1;33m\u001b[0m\u001b[1;33m\u001b[0m\u001b[0m\n\u001b[1;32m----> 3\u001b[1;33m \u001b[0msvc\u001b[0m\u001b[1;33m.\u001b[0m\u001b[0mfit\u001b[0m\u001b[1;33m(\u001b[0m\u001b[0mX_train_tfidf\u001b[0m\u001b[1;33m,\u001b[0m \u001b[0my_train\u001b[0m\u001b[1;33m)\u001b[0m\u001b[1;33m\u001b[0m\u001b[1;33m\u001b[0m\u001b[0m\n\u001b[0m",
      "\u001b[1;32mc:\\users\\keith\\appdata\\local\\programs\\python\\python37\\lib\\site-packages\\sklearn\\svm\\base.py\u001b[0m in \u001b[0;36mfit\u001b[1;34m(self, X, y, sample_weight)\u001b[0m\n\u001b[0;32m    210\u001b[0m \u001b[1;33m\u001b[0m\u001b[0m\n\u001b[0;32m    211\u001b[0m         \u001b[0mseed\u001b[0m \u001b[1;33m=\u001b[0m \u001b[0mrnd\u001b[0m\u001b[1;33m.\u001b[0m\u001b[0mrandint\u001b[0m\u001b[1;33m(\u001b[0m\u001b[0mnp\u001b[0m\u001b[1;33m.\u001b[0m\u001b[0miinfo\u001b[0m\u001b[1;33m(\u001b[0m\u001b[1;34m'i'\u001b[0m\u001b[1;33m)\u001b[0m\u001b[1;33m.\u001b[0m\u001b[0mmax\u001b[0m\u001b[1;33m)\u001b[0m\u001b[1;33m\u001b[0m\u001b[1;33m\u001b[0m\u001b[0m\n\u001b[1;32m--> 212\u001b[1;33m         \u001b[0mfit\u001b[0m\u001b[1;33m(\u001b[0m\u001b[0mX\u001b[0m\u001b[1;33m,\u001b[0m \u001b[0my\u001b[0m\u001b[1;33m,\u001b[0m \u001b[0msample_weight\u001b[0m\u001b[1;33m,\u001b[0m \u001b[0msolver_type\u001b[0m\u001b[1;33m,\u001b[0m \u001b[0mkernel\u001b[0m\u001b[1;33m,\u001b[0m \u001b[0mrandom_seed\u001b[0m\u001b[1;33m=\u001b[0m\u001b[0mseed\u001b[0m\u001b[1;33m)\u001b[0m\u001b[1;33m\u001b[0m\u001b[1;33m\u001b[0m\u001b[0m\n\u001b[0m\u001b[0;32m    213\u001b[0m         \u001b[1;31m# see comment on the other call to np.iinfo in this file\u001b[0m\u001b[1;33m\u001b[0m\u001b[1;33m\u001b[0m\u001b[1;33m\u001b[0m\u001b[0m\n\u001b[0;32m    214\u001b[0m \u001b[1;33m\u001b[0m\u001b[0m\n",
      "\u001b[1;32mc:\\users\\keith\\appdata\\local\\programs\\python\\python37\\lib\\site-packages\\sklearn\\svm\\base.py\u001b[0m in \u001b[0;36m_sparse_fit\u001b[1;34m(self, X, y, sample_weight, solver_type, kernel, random_seed)\u001b[0m\n\u001b[0;32m    291\u001b[0m                 \u001b[0msample_weight\u001b[0m\u001b[1;33m,\u001b[0m \u001b[0mself\u001b[0m\u001b[1;33m.\u001b[0m\u001b[0mnu\u001b[0m\u001b[1;33m,\u001b[0m \u001b[0mself\u001b[0m\u001b[1;33m.\u001b[0m\u001b[0mcache_size\u001b[0m\u001b[1;33m,\u001b[0m \u001b[0mself\u001b[0m\u001b[1;33m.\u001b[0m\u001b[0mepsilon\u001b[0m\u001b[1;33m,\u001b[0m\u001b[1;33m\u001b[0m\u001b[1;33m\u001b[0m\u001b[0m\n\u001b[0;32m    292\u001b[0m                 \u001b[0mint\u001b[0m\u001b[1;33m(\u001b[0m\u001b[0mself\u001b[0m\u001b[1;33m.\u001b[0m\u001b[0mshrinking\u001b[0m\u001b[1;33m)\u001b[0m\u001b[1;33m,\u001b[0m \u001b[0mint\u001b[0m\u001b[1;33m(\u001b[0m\u001b[0mself\u001b[0m\u001b[1;33m.\u001b[0m\u001b[0mprobability\u001b[0m\u001b[1;33m)\u001b[0m\u001b[1;33m,\u001b[0m \u001b[0mself\u001b[0m\u001b[1;33m.\u001b[0m\u001b[0mmax_iter\u001b[0m\u001b[1;33m,\u001b[0m\u001b[1;33m\u001b[0m\u001b[1;33m\u001b[0m\u001b[0m\n\u001b[1;32m--> 293\u001b[1;33m                 random_seed)\n\u001b[0m\u001b[0;32m    294\u001b[0m \u001b[1;33m\u001b[0m\u001b[0m\n\u001b[0;32m    295\u001b[0m         \u001b[0mself\u001b[0m\u001b[1;33m.\u001b[0m\u001b[0m_warn_from_fit_status\u001b[0m\u001b[1;33m(\u001b[0m\u001b[1;33m)\u001b[0m\u001b[1;33m\u001b[0m\u001b[1;33m\u001b[0m\u001b[0m\n",
      "\u001b[1;32msklearn\\svm\\libsvm_sparse.pyx\u001b[0m in \u001b[0;36msklearn.svm.libsvm_sparse.libsvm_sparse_train\u001b[1;34m()\u001b[0m\n",
      "\u001b[1;32mc:\\users\\keith\\appdata\\local\\programs\\python\\python37\\lib\\site-packages\\scipy\\sparse\\compressed.py\u001b[0m in \u001b[0;36m__init__\u001b[1;34m(self, arg1, shape, dtype, copy)\u001b[0m\n\u001b[0;32m     23\u001b[0m     \u001b[1;34m\"\"\"base matrix class for compressed row and column oriented matrices\"\"\"\u001b[0m\u001b[1;33m\u001b[0m\u001b[1;33m\u001b[0m\u001b[0m\n\u001b[0;32m     24\u001b[0m \u001b[1;33m\u001b[0m\u001b[0m\n\u001b[1;32m---> 25\u001b[1;33m     \u001b[1;32mdef\u001b[0m \u001b[0m__init__\u001b[0m\u001b[1;33m(\u001b[0m\u001b[0mself\u001b[0m\u001b[1;33m,\u001b[0m \u001b[0marg1\u001b[0m\u001b[1;33m,\u001b[0m \u001b[0mshape\u001b[0m\u001b[1;33m=\u001b[0m\u001b[1;32mNone\u001b[0m\u001b[1;33m,\u001b[0m \u001b[0mdtype\u001b[0m\u001b[1;33m=\u001b[0m\u001b[1;32mNone\u001b[0m\u001b[1;33m,\u001b[0m \u001b[0mcopy\u001b[0m\u001b[1;33m=\u001b[0m\u001b[1;32mFalse\u001b[0m\u001b[1;33m)\u001b[0m\u001b[1;33m:\u001b[0m\u001b[1;33m\u001b[0m\u001b[1;33m\u001b[0m\u001b[0m\n\u001b[0m\u001b[0;32m     26\u001b[0m         \u001b[0m_data_matrix\u001b[0m\u001b[1;33m.\u001b[0m\u001b[0m__init__\u001b[0m\u001b[1;33m(\u001b[0m\u001b[0mself\u001b[0m\u001b[1;33m)\u001b[0m\u001b[1;33m\u001b[0m\u001b[1;33m\u001b[0m\u001b[0m\n\u001b[0;32m     27\u001b[0m \u001b[1;33m\u001b[0m\u001b[0m\n",
      "\u001b[1;31mKeyboardInterrupt\u001b[0m: "
     ]
    }
   ],
   "source": [
    "# refit model with new params\n",
    "svc = SVC(kernel='linear',class_weight='balanced',probability=True) \n",
    "svc.fit(X_train_tfidf, y_train)"
   ]
  },
  {
   "cell_type": "code",
   "execution_count": null,
   "metadata": {},
   "outputs": [],
   "source": [
    "# Confusion matrix\n",
    "y_pred = svc.predict(X_test_tfidf) \n",
    "print(\"Consfusion Matrix\")\n",
    "print(pd.crosstab(y_pred, y_test))\n",
    "print()\n",
    "\n",
    "\n",
    "# Classification report\n",
    "print(\"Classification Report\") \n",
    "target_names = ['positve review','negative reviews']\n",
    "print(classification_report(y_test ,y_pred, target_names=target_names))\n",
    "# plot ROC\n",
    "AUC_ROC_plot(svc,X_test_tfidf,y_test)"
   ]
  },
  {
   "cell_type": "code",
   "execution_count": null,
   "metadata": {},
   "outputs": [],
   "source": [
    "precision_recall_plot (svc,X_test_tfidf,y_test) \n",
    "plt.show()"
   ]
  },
  {
   "cell_type": "code",
   "execution_count": null,
   "metadata": {},
   "outputs": [],
   "source": [
    "y_prob = svc.predict_proba(X_test_tfidf)\n",
    "y_pred_class = binarize(y_prob,0.51)\n",
    "y_pred_class = y_pred_class[:,1]\n",
    " \n",
    "\n",
    "print('Confusion Matrix:')\n",
    "print(pd.crosstab( y_test,y_pred))\n",
    "print()\n",
    "print('Classification Report')\n",
    "print(classification_report(y_test ,y_pred, target_names=target_names))\n",
    "print()\n",
    "\n",
    "print('Confusion Matrix with binarized class:')\n",
    "print(pd.crosstab( y_test,y_pred_class))\n",
    "print()\n",
    "print('Classification report with binarized class:') \n",
    "print(classification_report(y_test ,y_pred_class, target_names=target_names))\n"
   ]
  },
  {
   "cell_type": "code",
   "execution_count": null,
   "metadata": {},
   "outputs": [],
   "source": []
  },
  {
   "cell_type": "code",
   "execution_count": null,
   "metadata": {},
   "outputs": [],
   "source": []
  },
  {
   "cell_type": "markdown",
   "metadata": {},
   "source": [
    "### Gradient boost"
   ]
  },
  {
   "cell_type": "code",
   "execution_count": 95,
   "metadata": {},
   "outputs": [
    {
     "data": {
      "text/plain": [
       "GradientBoostingClassifier(criterion='friedman_mse', init=None,\n",
       "              learning_rate=0.1, loss='deviance', max_depth=2,\n",
       "              max_features=None, max_leaf_nodes=None,\n",
       "              min_impurity_decrease=0.0, min_impurity_split=None,\n",
       "              min_samples_leaf=1, min_samples_split=2,\n",
       "              min_weight_fraction_leaf=0.0, n_estimators=500,\n",
       "              n_iter_no_change=None, presort='auto', random_state=20,\n",
       "              subsample=1.0, tol=0.0001, validation_fraction=0.1,\n",
       "              verbose=0, warm_start=False)"
      ]
     },
     "execution_count": 95,
     "metadata": {},
     "output_type": "execute_result"
    }
   ],
   "source": [
    "from sklearn import ensemble \n",
    "\n",
    "# Initialize and fit the model.\n",
    "clf = ensemble.GradientBoostingClassifier(n_estimators=500,max_depth=2,\n",
    "                                          loss='deviance', random_state=20) \n",
    "clf.fit(X_train_tfidf, y_train)"
   ]
  },
  {
   "cell_type": "code",
   "execution_count": null,
   "metadata": {},
   "outputs": [],
   "source": [
    "# Confusion matrix\n",
    "y_pred = clf.predict(X_test_tfidf) \n",
    "print(\"Consfusion Matrix\")\n",
    "print(pd.crosstab(y_pred, y_test))\n",
    "print()\n",
    "\n",
    "\n",
    "# Classification report\n",
    "print(\"Classification Report\") \n",
    "target_names = ['positve review','negative reviews']\n",
    "print(classification_report(y_test ,y_pred, target_names=target_names))\n",
    "# plot ROC\n",
    "AUC_ROC_plot(clf,X_test_tfidf,y_test)"
   ]
  },
  {
   "cell_type": "code",
   "execution_count": null,
   "metadata": {},
   "outputs": [],
   "source": [
    "# initiate GridsearchCV\n",
    "param_grid = dict(max_depth=range(1,6,1), max_leaf_nodes=range(2,10,1))\n",
    "grid = GridSearchCV(clf, param_grid, cv=3, scoring=\"f1\", return_train_score=True)\n",
    "grid.fit(X_train_tfidf, y_train)\n",
    "\n",
    "print(grid.best_params_)\n",
    "print(grid.best_score_)"
   ]
  },
  {
   "cell_type": "code",
   "execution_count": 96,
   "metadata": {},
   "outputs": [
    {
     "data": {
      "text/plain": [
       "GradientBoostingClassifier(criterion='friedman_mse', init=None,\n",
       "              learning_rate=0.1, loss='deviance', max_depth=2,\n",
       "              max_features=None, max_leaf_nodes=None,\n",
       "              min_impurity_decrease=0.0, min_impurity_split=None,\n",
       "              min_samples_leaf=1, min_samples_split=2,\n",
       "              min_weight_fraction_leaf=0.0, n_estimators=500,\n",
       "              n_iter_no_change=None, presort='auto', random_state=20,\n",
       "              subsample=1.0, tol=0.0001, validation_fraction=0.1,\n",
       "              verbose=0, warm_start=False)"
      ]
     },
     "execution_count": 96,
     "metadata": {},
     "output_type": "execute_result"
    }
   ],
   "source": [
    "# refit model with new params.\n",
    "clf = ensemble.GradientBoostingClassifier(n_estimators=500,max_depth=2,\n",
    "                                          loss='deviance', random_state=20) \n",
    "clf.fit(X_train_tfidf, y_train)"
   ]
  },
  {
   "cell_type": "code",
   "execution_count": null,
   "metadata": {},
   "outputs": [],
   "source": [
    "# Confusion matrix\n",
    "y_pred = clf.predict(X_test_tfidf) \n",
    "print(\"Consfusion Matrix\")\n",
    "print(pd.crosstab(y_pred, y_test))\n",
    "print()\n",
    "\n",
    "\n",
    "# Classification report\n",
    "print(\"Classification Report\") \n",
    "target_names = ['positve review','negative reviews']\n",
    "print(classification_report(y_test ,y_pred, target_names=target_names))\n",
    "# plot ROC\n",
    "AUC_ROC_plot(clf,X_test_tfidf,y_test)"
   ]
  },
  {
   "cell_type": "code",
   "execution_count": null,
   "metadata": {},
   "outputs": [],
   "source": [
    "precision_recall_plot (clf,X_test_tfidf,y_test) \n",
    "plt.show()"
   ]
  },
  {
   "cell_type": "code",
   "execution_count": null,
   "metadata": {},
   "outputs": [],
   "source": [
    "y_prob = clf.predict_proba(X_test_tfidf)\n",
    "y_pred_class = binarize(y_prob,0.51)\n",
    "y_pred_class = y_pred_class[:,1]\n",
    " \n",
    "\n",
    "print('Confusion Matrix:')\n",
    "print(pd.crosstab( y_test,y_pred))\n",
    "print()\n",
    "print('Classification Report')\n",
    "print(classification_report(y_test ,y_pred, target_names=target_names))\n",
    "print()\n",
    "\n",
    "print('Confusion Matrix with binarized class:')\n",
    "print(pd.crosstab( y_test,y_pred_class))\n",
    "print()\n",
    "print('Classification report with binarized class:') \n",
    "print(classification_report(y_test ,y_pred_class, target_names=target_names))\n"
   ]
  },
  {
   "cell_type": "code",
   "execution_count": 103,
   "metadata": {},
   "outputs": [],
   "source": [
    "models = [mnb, neighbors, decision_tree, rfc, lr, svc, clf]"
   ]
  },
  {
   "cell_type": "code",
   "execution_count": null,
   "metadata": {},
   "outputs": [],
   "source": [
    "for model in models:\n",
    "    "
   ]
  },
  {
   "cell_type": "code",
   "execution_count": 107,
   "metadata": {},
   "outputs": [
    {
     "name": "stdout",
     "output_type": "stream",
     "text": [
      "AUC: 0.749\n",
      "AUC: 0.675\n",
      "AUC: 0.623\n",
      "AUC: 0.706\n"
     ]
    },
    {
     "name": "stderr",
     "output_type": "stream",
     "text": [
      "c:\\users\\keith\\appdata\\local\\programs\\python\\python37\\lib\\site-packages\\sklearn\\svm\\base.py:931: ConvergenceWarning: Liblinear failed to converge, increase the number of iterations.\n",
      "  \"the number of iterations.\", ConvergenceWarning)\n",
      "c:\\users\\keith\\appdata\\local\\programs\\python\\python37\\lib\\site-packages\\sklearn\\svm\\base.py:931: ConvergenceWarning: Liblinear failed to converge, increase the number of iterations.\n",
      "  \"the number of iterations.\", ConvergenceWarning)\n",
      "c:\\users\\keith\\appdata\\local\\programs\\python\\python37\\lib\\site-packages\\sklearn\\svm\\base.py:931: ConvergenceWarning: Liblinear failed to converge, increase the number of iterations.\n",
      "  \"the number of iterations.\", ConvergenceWarning)\n",
      "c:\\users\\keith\\appdata\\local\\programs\\python\\python37\\lib\\site-packages\\sklearn\\svm\\base.py:931: ConvergenceWarning: Liblinear failed to converge, increase the number of iterations.\n",
      "  \"the number of iterations.\", ConvergenceWarning)\n",
      "c:\\users\\keith\\appdata\\local\\programs\\python\\python37\\lib\\site-packages\\sklearn\\svm\\base.py:931: ConvergenceWarning: Liblinear failed to converge, increase the number of iterations.\n",
      "  \"the number of iterations.\", ConvergenceWarning)\n"
     ]
    },
    {
     "name": "stdout",
     "output_type": "stream",
     "text": [
      "AUC: 0.696\n",
      "AUC: 0.760\n",
      "AUC: 0.717\n"
     ]
    },
    {
     "data": {
      "image/png": "[encoded data removed]",
      "text/plain": [
       "<Figure size 720x720 with 1 Axes>"
      ]
     },
     "metadata": {
      "needs_background": "light"
     },
     "output_type": "display_data"
    }
   ],
   "source": [
    " "
   ]
  },
  {
   "cell_type": "code",
   "execution_count": 133,
   "metadata": {},
   "outputs": [],
   "source": [
    "from sklearn.model_selection import learning_curve\n",
    " \n",
    "\n",
    "#mnb = MultinomialNB(fit_prior=True)\n",
    "#mnb.fit(X_train_tfidf , y_train)\n",
    " \n",
    "train_sizes, train_scores, valid_scores = learning_curve(mnb, X_train_tfidf, y_train, train_sizes=[50, 80, 110], cv=5)\n",
    " "
   ]
  },
  {
   "cell_type": "code",
   "execution_count": 134,
   "metadata": {},
   "outputs": [
    {
     "data": {
      "text/plain": [
       "array([ 50,  80, 110])"
      ]
     },
     "execution_count": 134,
     "metadata": {},
     "output_type": "execute_result"
    }
   ],
   "source": [
    "train_sizes"
   ]
  },
  {
   "cell_type": "code",
   "execution_count": 135,
   "metadata": {},
   "outputs": [
    {
     "data": {
      "text/plain": [
       "array([[1., 1., 1., 1., 1.],\n",
       "       [1., 1., 1., 1., 1.],\n",
       "       [1., 1., 1., 1., 1.]])"
      ]
     },
     "execution_count": 135,
     "metadata": {},
     "output_type": "execute_result"
    }
   ],
   "source": [
    "train_scores"
   ]
  },
  {
   "cell_type": "code",
   "execution_count": 136,
   "metadata": {},
   "outputs": [
    {
     "data": {
      "text/plain": [
       "array([[0.5287194 , 0.5287194 , 0.5287194 , 0.52849741, 0.52874647],\n",
       "       [0.5287194 , 0.53013183, 0.52919021, 0.53179463, 0.52921772],\n",
       "       [0.5287194 , 0.5287194 , 0.53013183, 0.52943947, 0.52827521]])"
      ]
     },
     "execution_count": 136,
     "metadata": {},
     "output_type": "execute_result"
    }
   ],
   "source": [
    "valid_scores"
   ]
  },
  {
   "cell_type": "code",
   "execution_count": 139,
   "metadata": {},
   "outputs": [
    {
     "data": {
      "text/plain": [
       "[<matplotlib.lines.Line2D at 0x1ac592ec7f0>]"
      ]
     },
     "execution_count": 139,
     "metadata": {},
     "output_type": "execute_result"
    },
    {
     "data": {
      "image/png": "[encoded data removed]",
      "text/plain": [
       "<Figure size 432x288 with 1 Axes>"
      ]
     },
     "metadata": {
      "needs_background": "light"
     },
     "output_type": "display_data"
    }
   ],
   "source": [
    "plt.plot(valid_scores)\n",
    "plt.plot(train_scores)\n",
    "plt.plot(train_sizes)"
   ]
  },
  {
   "cell_type": "code",
   "execution_count": 142,
   "metadata": {},
   "outputs": [
    {
     "data": {
      "text/plain": [
       "[<matplotlib.lines.Line2D at 0x1ac59294668>,\n",
       " <matplotlib.lines.Line2D at 0x1ac593429e8>,\n",
       " <matplotlib.lines.Line2D at 0x1ac59339080>,\n",
       " <matplotlib.lines.Line2D at 0x1ac59339c88>,\n",
       " <matplotlib.lines.Line2D at 0x1ac59339908>]"
      ]
     },
     "execution_count": 142,
     "metadata": {},
     "output_type": "execute_result"
    },
    {
     "data": {
      "image/png": "[encoded data removed]",
      "text/plain": [
       "<Figure size 432x288 with 1 Axes>"
      ]
     },
     "metadata": {
      "needs_background": "light"
     },
     "output_type": "display_data"
    }
   ],
   "source": [
    "plt.plot(train_sizes,train_scores,\"b--\",label=\"Precision\")\n",
    "plt.plot(train_sizes,valid_scores,\"g-\",label=\"Recall\")"
   ]
  },
  {
   "cell_type": "code",
   "execution_count": 153,
   "metadata": {},
   "outputs": [
    {
     "data": {
      "text/plain": [
       "Text(0.5, 0, 'n_neighbors')"
      ]
     },
     "execution_count": 153,
     "metadata": {},
     "output_type": "execute_result"
    },
    {
     "data": {
      "image/png": "[encoded data removed]",
      "text/plain": [
       "<Figure size 432x288 with 1 Axes>"
      ]
     },
     "metadata": {
      "needs_background": "light"
     },
     "output_type": "display_data"
    }
   ],
   "source": [
    "training_accuracy = [] \n",
    "test_accuracy = [] # try n_neighbors from 1 to 10 \n",
    "neighbors_settings = range(1, 10)\n",
    "\n",
    "\n",
    "for n_neighbors in neighbors_settings:     \n",
    "    f = KNeighborsClassifier(n_neighbors=n_neighbors)    \n",
    "    f.fit(X_train_tfidf, y_train)    # record training set accuracy    \n",
    "    training_accuracy.append(f.score(X_train_tfidf, y_train))    # record generalization accuracy    \n",
    "    test_accuracy.append(f.score(X_test_tfidf, y_test))\n",
    "plt.plot(neighbors_settings, training_accuracy, label=\"training accuracy\") \n",
    "plt.plot(neighbors_settings, test_accuracy, label=\"test accuracy\") \n",
    "plt.ylabel(\"Accuracy\") \n",
    "plt.xlabel(\"n_neighbors\")"
   ]
  },
  {
   "cell_type": "code",
   "execution_count": null,
   "metadata": {},
   "outputs": [],
   "source": []
  }
 ],
 "metadata": {
  "kernelspec": {
   "display_name": "Python 3",
   "language": "python",
   "name": "python3"
  },
  "language_info": {
   "codemirror_mode": {
    "name": "ipython",
    "version": 3
   },
   "file_extension": ".py",
   "mimetype": "text/x-python",
   "name": "python",
   "nbconvert_exporter": "python",
   "pygments_lexer": "ipython3",
   "version": "3.7.2"
  }
 },
 "nbformat": 4,
 "nbformat_minor": 2
}
