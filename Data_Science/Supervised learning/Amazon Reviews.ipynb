{
 "cells": [
  {
   "cell_type": "code",
   "execution_count": 48,
   "metadata": {},
   "outputs": [],
   "source": [
    "import re\n",
    "import time\n",
    "import math\n",
    "%matplotlib inline\n",
    "import pandas as pd\n",
    "import numpy as np\n",
    "import seaborn as sns\n",
    "from matplotlib import pyplot as plt\n",
    "from scipy import stats\n",
    "from sklearn.model_selection import GridSearchCV\n",
    "from matplotlib import pyplot\n",
    "from sklearn.metrics import confusion_matrix\n",
    "from sklearn.metrics import roc_curve\n",
    "from sklearn.metrics import roc_auc_score\n",
    "from sklearn import linear_model\n",
    "from sklearn.linear_model import LogisticRegression\n",
    "from sklearn import preprocessing \n",
    "from sklearn.model_selection import cross_val_score\n",
    "from sklearn.decomposition import PCA\n",
    "import re\n",
    "from sklearn.model_selection import train_test_split"
   ]
  },
  {
   "cell_type": "markdown",
   "metadata": {},
   "source": [
    "# Amazon Review Sentiment Analysis"
   ]
  },
  {
   "cell_type": "code",
   "execution_count": 49,
   "metadata": {},
   "outputs": [],
   "source": [
    "# Load the data\n",
    "amazon = pd.read_json('C:/Users/keith/Desktop/Thinkful/Patio_Lawn_and_Garden_5.json', lines=True)\n",
    " \n",
    "pd.set_option('display.max_columns', None) # disables trucated columns \n",
    "pd.set_option('display.max_rows', None) # disables trucated rows\n"
   ]
  },
  {
   "cell_type": "code",
   "execution_count": 50,
   "metadata": {
    "scrolled": true
   },
   "outputs": [
    {
     "data": {
      "text/html": [
       "<div>\n",
       "<style scoped>\n",
       "    .dataframe tbody tr th:only-of-type {\n",
       "        vertical-align: middle;\n",
       "    }\n",
       "\n",
       "    .dataframe tbody tr th {\n",
       "        vertical-align: top;\n",
       "    }\n",
       "\n",
       "    .dataframe thead th {\n",
       "        text-align: right;\n",
       "    }\n",
       "</style>\n",
       "<table border=\"1\" class=\"dataframe\">\n",
       "  <thead>\n",
       "    <tr style=\"text-align: right;\">\n",
       "      <th></th>\n",
       "      <th>asin</th>\n",
       "      <th>helpful</th>\n",
       "      <th>overall</th>\n",
       "      <th>reviewText</th>\n",
       "      <th>reviewTime</th>\n",
       "      <th>reviewerID</th>\n",
       "      <th>reviewerName</th>\n",
       "      <th>summary</th>\n",
       "      <th>unixReviewTime</th>\n",
       "    </tr>\n",
       "  </thead>\n",
       "  <tbody>\n",
       "    <tr>\n",
       "      <th>0</th>\n",
       "      <td>B00002N674</td>\n",
       "      <td>[4, 4]</td>\n",
       "      <td>4</td>\n",
       "      <td>Good USA company that stands behind their products. I have had to warranty two hoses and they send replacements right out to you. I had one burst after awhile, you could see it buldge for weeks before it went so no suprises. The other one was winter related as I am bad and leave them out most of the time. Highly reccomend. Note the hundred footer is heavy and like wresting an anaconda when its time to put away, but it does have a far reach.</td>\n",
       "      <td>06 21, 2011</td>\n",
       "      <td>A1JZFGZEZVWQPY</td>\n",
       "      <td>Carter H \"1amazonreviewer@gmail . com\"</td>\n",
       "      <td>Great Hoses</td>\n",
       "      <td>1308614400</td>\n",
       "    </tr>\n",
       "    <tr>\n",
       "      <th>1</th>\n",
       "      <td>B00002N674</td>\n",
       "      <td>[0, 0]</td>\n",
       "      <td>5</td>\n",
       "      <td>This is a high quality 8 ply hose. I have had good luck with Gilmour hoses in the past. A good choice in hoses.</td>\n",
       "      <td>06 9, 2014</td>\n",
       "      <td>A32JCI4AK2JTTG</td>\n",
       "      <td>Darryl Bennett \"Fuzzy342\"</td>\n",
       "      <td>Gilmour 10-58050 8-ply Flexogen Hose 5/8-Inch by 50-Foot, Green</td>\n",
       "      <td>1402272000</td>\n",
       "    </tr>\n",
       "    <tr>\n",
       "      <th>2</th>\n",
       "      <td>B00002N674</td>\n",
       "      <td>[2, 3]</td>\n",
       "      <td>4</td>\n",
       "      <td>It's probably one of the best hoses I've ever had.Pro's:- It's good enough for most front yards, or small back yards.- It has enough flow (and with the right head) to water plants 25ft away from the nozzle, and water your garden.- It's light weight, and flexible (it does not pose as much of a problem unrolling this hose with kinks as with other hoses I've owned)- The hose is flexible, yet strong. I haven't cut the outside yet.- This hose has been in full sunlight for more than 3 months, and ...</td>\n",
       "      <td>05 5, 2012</td>\n",
       "      <td>A3N0P5AAMP6XD2</td>\n",
       "      <td>H B</td>\n",
       "      <td>Very satisfied!</td>\n",
       "      <td>1336176000</td>\n",
       "    </tr>\n",
       "    <tr>\n",
       "      <th>3</th>\n",
       "      <td>B00002N674</td>\n",
       "      <td>[0, 0]</td>\n",
       "      <td>5</td>\n",
       "      <td>I probably should have bought something a bit more flexible and less rugged since I constantly coil/uncoil it for washing cars, but that's my fault not a product fault.</td>\n",
       "      <td>07 15, 2013</td>\n",
       "      <td>A2QK7UNJ857YG</td>\n",
       "      <td>Jason</td>\n",
       "      <td>Very high quality</td>\n",
       "      <td>1373846400</td>\n",
       "    </tr>\n",
       "    <tr>\n",
       "      <th>4</th>\n",
       "      <td>B00002N674</td>\n",
       "      <td>[1, 1]</td>\n",
       "      <td>5</td>\n",
       "      <td>I bought three of these 5/8-inch Flexogen hoses--50, 75, and 100 feet--for different areas of yard around the house.  After a season of use they've proven to be good hoses.  Of course, it's very favorable that they don't leak.  But what particularly impresses me about them is their notably light weight and flexibility, which make them a lot easier to handle than my previous hoses.  The flexibility diminishes in cold weather, but a garden hose is less useful then anyway.They're not especially...</td>\n",
       "      <td>08 5, 2013</td>\n",
       "      <td>AS0CYBAN6EM06</td>\n",
       "      <td>jimmy</td>\n",
       "      <td>Good Hoses</td>\n",
       "      <td>1375660800</td>\n",
       "    </tr>\n",
       "  </tbody>\n",
       "</table>\n",
       "</div>"
      ],
      "text/plain": [
       "         asin helpful  overall  \\\n",
       "0  B00002N674  [4, 4]        4   \n",
       "1  B00002N674  [0, 0]        5   \n",
       "2  B00002N674  [2, 3]        4   \n",
       "3  B00002N674  [0, 0]        5   \n",
       "4  B00002N674  [1, 1]        5   \n",
       "\n",
       "                                                                                                                                                                                                                                                                                                                                                                                                                                                                                                            reviewText  \\\n",
       "0                                                         Good USA company that stands behind their products. I have had to warranty two hoses and they send replacements right out to you. I had one burst after awhile, you could see it buldge for weeks before it went so no suprises. The other one was winter related as I am bad and leave them out most of the time. Highly reccomend. Note the hundred footer is heavy and like wresting an anaconda when its time to put away, but it does have a far reach.   \n",
       "1                                                                                                                                                                                                                                                                                                                                                                                                      This is a high quality 8 ply hose. I have had good luck with Gilmour hoses in the past. A good choice in hoses.   \n",
       "2  It's probably one of the best hoses I've ever had.Pro's:- It's good enough for most front yards, or small back yards.- It has enough flow (and with the right head) to water plants 25ft away from the nozzle, and water your garden.- It's light weight, and flexible (it does not pose as much of a problem unrolling this hose with kinks as with other hoses I've owned)- The hose is flexible, yet strong. I haven't cut the outside yet.- This hose has been in full sunlight for more than 3 months, and ...   \n",
       "3                                                                                                                                                                                                                                                                                                                                             I probably should have bought something a bit more flexible and less rugged since I constantly coil/uncoil it for washing cars, but that's my fault not a product fault.   \n",
       "4  I bought three of these 5/8-inch Flexogen hoses--50, 75, and 100 feet--for different areas of yard around the house.  After a season of use they've proven to be good hoses.  Of course, it's very favorable that they don't leak.  But what particularly impresses me about them is their notably light weight and flexibility, which make them a lot easier to handle than my previous hoses.  The flexibility diminishes in cold weather, but a garden hose is less useful then anyway.They're not especially...   \n",
       "\n",
       "    reviewTime      reviewerID                            reviewerName  \\\n",
       "0  06 21, 2011  A1JZFGZEZVWQPY  Carter H \"1amazonreviewer@gmail . com\"   \n",
       "1   06 9, 2014  A32JCI4AK2JTTG               Darryl Bennett \"Fuzzy342\"   \n",
       "2   05 5, 2012  A3N0P5AAMP6XD2                                     H B   \n",
       "3  07 15, 2013   A2QK7UNJ857YG                                   Jason   \n",
       "4   08 5, 2013   AS0CYBAN6EM06                                   jimmy   \n",
       "\n",
       "                                                           summary  \\\n",
       "0                                                      Great Hoses   \n",
       "1  Gilmour 10-58050 8-ply Flexogen Hose 5/8-Inch by 50-Foot, Green   \n",
       "2                                                  Very satisfied!   \n",
       "3                                                Very high quality   \n",
       "4                                                       Good Hoses   \n",
       "\n",
       "   unixReviewTime  \n",
       "0      1308614400  \n",
       "1      1402272000  \n",
       "2      1336176000  \n",
       "3      1373846400  \n",
       "4      1375660800  "
      ]
     },
     "execution_count": 50,
     "metadata": {},
     "output_type": "execute_result"
    }
   ],
   "source": [
    "amazon.head()"
   ]
  },
  {
   "cell_type": "code",
   "execution_count": 5,
   "metadata": {},
   "outputs": [
    {
     "name": "stdout",
     "output_type": "stream",
     "text": [
      "<class 'pandas.core.frame.DataFrame'>\n",
      "RangeIndex: 13272 entries, 0 to 13271\n",
      "Data columns (total 9 columns):\n",
      "asin              13272 non-null object\n",
      "helpful           13272 non-null object\n",
      "overall           13272 non-null int64\n",
      "reviewText        13272 non-null object\n",
      "reviewTime        13272 non-null object\n",
      "reviewerID        13272 non-null object\n",
      "reviewerName      13107 non-null object\n",
      "summary           13272 non-null object\n",
      "unixReviewTime    13272 non-null int64\n",
      "dtypes: int64(2), object(7)\n",
      "memory usage: 933.3+ KB\n"
     ]
    }
   ],
   "source": [
    "amazon.info()"
   ]
  },
  {
   "cell_type": "code",
   "execution_count": 19,
   "metadata": {},
   "outputs": [
    {
     "data": {
      "text/plain": [
       "asin                0\n",
       "helpful             0\n",
       "overall             0\n",
       "reviewText          0\n",
       "reviewTime          0\n",
       "reviewerID          0\n",
       "reviewerName      165\n",
       "summary             0\n",
       "unixReviewTime      0\n",
       "dtype: int64"
      ]
     },
     "execution_count": 19,
     "metadata": {},
     "output_type": "execute_result"
    }
   ],
   "source": [
    "amazon.isnull().sum()"
   ]
  },
  {
   "cell_type": "code",
   "execution_count": 254,
   "metadata": {},
   "outputs": [
    {
     "data": {
      "text/plain": [
       "5    7037\n",
       "4    3384\n",
       "3    1659\n",
       "2     673\n",
       "1     519\n",
       "Name: overall, dtype: int64"
      ]
     },
     "execution_count": 254,
     "metadata": {},
     "output_type": "execute_result"
    }
   ],
   "source": [
    "amazon.overall.value_counts()"
   ]
  },
  {
   "cell_type": "code",
   "execution_count": 54,
   "metadata": {},
   "outputs": [
    {
     "data": {
      "text/plain": [
       "0    10421\n",
       "1     2851\n",
       "Name: catgry_rate, dtype: int64"
      ]
     },
     "execution_count": 54,
     "metadata": {},
     "output_type": "execute_result"
    }
   ],
   "source": [
    "amazon['catgry_rate'] = np.where(amazon.overall>3,0,1)\n",
    "amazon.catgry_rate.value_counts()"
   ]
  },
  {
   "cell_type": "code",
   "execution_count": 256,
   "metadata": {},
   "outputs": [],
   "source": [
    "amazon['reviewTime'] = pd.to_datetime(amazon.reviewTime)"
   ]
  },
  {
   "cell_type": "code",
   "execution_count": 32,
   "metadata": {},
   "outputs": [],
   "source": [
    "review_lenth = []\n",
    "for i in amazon.reviewText:\n",
    "     \n",
    "         review_lenth.append(len(i))\n",
    "amazon['review_length'] = review_lenth"
   ]
  },
  {
   "cell_type": "code",
   "execution_count": 33,
   "metadata": {},
   "outputs": [
    {
     "data": {
      "image/png": "[encoded data removed]",
      "text/plain": [
       "<Figure size 1440x1080 with 4 Axes>"
      ]
     },
     "metadata": {
      "needs_background": "light"
     },
     "output_type": "display_data"
    }
   ],
   "source": [
    "amazon.hist(bins=50,figsize=(20,15))\n",
    "plt.show()"
   ]
  },
  {
   "cell_type": "code",
   "execution_count": 36,
   "metadata": {
    "scrolled": true
   },
   "outputs": [],
   "source": [
    " "
   ]
  },
  {
   "cell_type": "code",
   "execution_count": null,
   "metadata": {},
   "outputs": [],
   "source": [
    " "
   ]
  },
  {
   "cell_type": "code",
   "execution_count": 66,
   "metadata": {},
   "outputs": [],
   "source": [
    "X= amazon.reviewText\n",
    "Y= amazon.catgry_rate\n",
    "\n",
    "from sklearn.model_selection import train_test_split\n",
    "# Use train_test_split to create the necessary training and test groups\n",
    "X_train, X_test, y_train, y_test = train_test_split(X, Y, test_size=.2, random_state=20)\n"
   ]
  },
  {
   "cell_type": "code",
   "execution_count": 67,
   "metadata": {},
   "outputs": [],
   "source": [
    "# Vectorize the list of words \n",
    "from sklearn.feature_extraction.text import TfidfVectorizer \n",
    "cv = TfidfVectorizer(stop_words='english',min_df=1) \n",
    "\n",
    "X_traincv = cv.fit_transform(X_train)\n",
    "X_testcv = cv.transform(X_test)\n"
   ]
  },
  {
   "cell_type": "code",
   "execution_count": 68,
   "metadata": {},
   "outputs": [],
   "source": [
    "# Create balanced classes for the training set\n",
    "\n",
    "import imblearn\n",
    "from imblearn.over_sampling import RandomOverSampler\n",
    "\n",
    "ros = RandomOverSampler(random_state=20)\n",
    "X_traincvb, y_trainb = ros.fit_sample(X_traincv, y_train)"
   ]
  },
  {
   "cell_type": "code",
   "execution_count": 69,
   "metadata": {},
   "outputs": [
    {
     "data": {
      "text/plain": [
       "array([[0., 0., 0., ..., 0., 0., 0.],\n",
       "       [0., 0., 0., ..., 0., 0., 0.],\n",
       "       [0., 0., 0., ..., 0., 0., 0.],\n",
       "       ...,\n",
       "       [0., 0., 0., ..., 0., 0., 0.],\n",
       "       [0., 0., 0., ..., 0., 0., 0.],\n",
       "       [0., 0., 0., ..., 0., 0., 0.]])"
      ]
     },
     "execution_count": 69,
     "metadata": {},
     "output_type": "execute_result"
    }
   ],
   "source": [
    "X_traincvb.toarray()"
   ]
  },
  {
   "cell_type": "markdown",
   "metadata": {},
   "source": [
    "### Naive Bayes"
   ]
  },
  {
   "cell_type": "code",
   "execution_count": 72,
   "metadata": {},
   "outputs": [
    {
     "name": "stdout",
     "output_type": "stream",
     "text": [
      "0.7220338983050848\n",
      "[0.79096045 0.79096045 0.79096045 0.79096045 0.79096045]\n"
     ]
    }
   ],
   "source": [
    "# Instatiate the model\n",
    "\n",
    "from sklearn.naive_bayes import MultinomialNB\n",
    "mnb = MultinomialNB()\n",
    "mnb.fit(X_traincvb , y_trainb)\n",
    "\n",
    "\n",
    "\n",
    "y_pred = mnb.predict(X_testcv) \n",
    "print(mnb.score( X_testcv , y_test))\n",
    "\n",
    "from sklearn.model_selection import cross_val_score\n",
    "print(cross_val_score(mnb,  X_testcv , y_test, cv=5))"
   ]
  },
  {
   "cell_type": "code",
   "execution_count": 73,
   "metadata": {},
   "outputs": [
    {
     "name": "stdout",
     "output_type": "stream",
     "text": [
      "Consfusion Matrix\n",
      "catgry_rate     0    1\n",
      "row_0                 \n",
      "0            1528  166\n",
      "1             572  389\n",
      "\n",
      "Classification Report\n",
      "              precision    recall  f1-score   support\n",
      "\n",
      "         pos       0.90      0.73      0.81      2100\n",
      "         neg       0.40      0.70      0.51       555\n",
      "\n",
      "   micro avg       0.72      0.72      0.72      2655\n",
      "   macro avg       0.65      0.71      0.66      2655\n",
      "weighted avg       0.80      0.72      0.74      2655\n",
      "\n"
     ]
    }
   ],
   "source": [
    "# Confusion matrix\n",
    "print(\"Consfusion Matrix\")\n",
    "print(pd.crosstab(y_pred, y_test))\n",
    "print()\n",
    "\n",
    "# Classification report\n",
    "print(\"Classification Report\")\n",
    "from sklearn.metrics import classification_report\n",
    "\n",
    "target_names = ['pos','neg']\n",
    "print(classification_report(y_test ,y_pred, target_names=target_names))"
   ]
  },
  {
   "cell_type": "code",
   "execution_count": 74,
   "metadata": {},
   "outputs": [
    {
     "name": "stdout",
     "output_type": "stream",
     "text": [
      "AUC: 0.653\n"
     ]
    },
    {
     "data": {
      "image/png": "[encoded data removed]",
      "text/plain": [
       "<Figure size 432x288 with 1 Axes>"
      ]
     },
     "metadata": {
      "needs_background": "light"
     },
     "output_type": "display_data"
    }
   ],
   "source": [
    "auc = roc_auc_score(y_pred, y_test)\n",
    "print('AUC: %.3f' % auc)\n",
    "# calculate roc curve\n",
    "fpr, tpr, thresholds = roc_curve(y_pred, y_test)\n",
    " \n",
    "pyplot.plot([0, 1], [0, 1], linestyle='--')\n",
    "# plot the roc curve for the model\n",
    "pyplot.plot(fpr, tpr ) \n",
    "pyplot.show()"
   ]
  },
  {
   "cell_type": "code",
   "execution_count": 75,
   "metadata": {},
   "outputs": [
    {
     "data": {
      "text/plain": [
       "(array([0.        , 0.09799292, 1.        ]),\n",
       " array([0.        , 0.40478668, 1.        ]),\n",
       " array([2, 1, 0]))"
      ]
     },
     "execution_count": 75,
     "metadata": {},
     "output_type": "execute_result"
    }
   ],
   "source": [
    "roc_curve(y_pred, y_test)"
   ]
  },
  {
   "cell_type": "code",
   "execution_count": null,
   "metadata": {},
   "outputs": [],
   "source": []
  }
 ],
 "metadata": {
  "kernelspec": {
   "display_name": "Python 3",
   "language": "python",
   "name": "python3"
  },
  "language_info": {
   "codemirror_mode": {
    "name": "ipython",
    "version": 3
   },
   "file_extension": ".py",
   "mimetype": "text/x-python",
   "name": "python",
   "nbconvert_exporter": "python",
   "pygments_lexer": "ipython3",
   "version": "3.7.2"
  }
 },
 "nbformat": 4,
 "nbformat_minor": 2
}
