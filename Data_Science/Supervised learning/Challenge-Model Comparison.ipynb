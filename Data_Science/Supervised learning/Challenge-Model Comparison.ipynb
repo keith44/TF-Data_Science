{
 "cells": [
  {
   "cell_type": "code",
   "execution_count": 1,
   "metadata": {},
   "outputs": [],
   "source": [
    "import math\n",
    "import warnings\n",
    "\n",
    "from IPython.display import display\n",
    "from matplotlib import pyplot as plt\n",
    "import numpy as np\n",
    "import pandas as pd\n",
    "import seaborn as sns\n",
    "from sklearn import linear_model\n",
    "import scipy.stats as stats\n",
    "# Display preferences.\n",
    "%matplotlib inline\n",
    "pd.options.display.float_format = '{:.3f}'.format\n",
    "\n",
    "# Suppress annoying harmless error.\n",
    "warnings.filterwarnings(\n",
    "    action=\"ignore\",\n",
    "    module=\"scipy\",\n",
    "    message=\"^internal gelsd\"\n",
    ")"
   ]
  },
  {
   "cell_type": "code",
   "execution_count": 2,
   "metadata": {},
   "outputs": [
    {
     "data": {
      "text/html": [
       "<div>\n",
       "<style scoped>\n",
       "    .dataframe tbody tr th:only-of-type {\n",
       "        vertical-align: middle;\n",
       "    }\n",
       "\n",
       "    .dataframe tbody tr th {\n",
       "        vertical-align: top;\n",
       "    }\n",
       "\n",
       "    .dataframe thead th {\n",
       "        text-align: right;\n",
       "    }\n",
       "</style>\n",
       "<table border=\"1\" class=\"dataframe\">\n",
       "  <thead>\n",
       "    <tr style=\"text-align: right;\">\n",
       "      <th></th>\n",
       "      <th>Serial No.</th>\n",
       "      <th>GRE Score</th>\n",
       "      <th>TOEFL Score</th>\n",
       "      <th>University Rating</th>\n",
       "      <th>SOP</th>\n",
       "      <th>LOR</th>\n",
       "      <th>CGPA</th>\n",
       "      <th>Research</th>\n",
       "      <th>Chance of Admit</th>\n",
       "    </tr>\n",
       "  </thead>\n",
       "  <tbody>\n",
       "    <tr>\n",
       "      <th>0</th>\n",
       "      <td>1</td>\n",
       "      <td>337</td>\n",
       "      <td>118</td>\n",
       "      <td>4</td>\n",
       "      <td>4.500</td>\n",
       "      <td>4.500</td>\n",
       "      <td>9.650</td>\n",
       "      <td>1</td>\n",
       "      <td>0.920</td>\n",
       "    </tr>\n",
       "    <tr>\n",
       "      <th>1</th>\n",
       "      <td>2</td>\n",
       "      <td>324</td>\n",
       "      <td>107</td>\n",
       "      <td>4</td>\n",
       "      <td>4.000</td>\n",
       "      <td>4.500</td>\n",
       "      <td>8.870</td>\n",
       "      <td>1</td>\n",
       "      <td>0.760</td>\n",
       "    </tr>\n",
       "    <tr>\n",
       "      <th>2</th>\n",
       "      <td>3</td>\n",
       "      <td>316</td>\n",
       "      <td>104</td>\n",
       "      <td>3</td>\n",
       "      <td>3.000</td>\n",
       "      <td>3.500</td>\n",
       "      <td>8.000</td>\n",
       "      <td>1</td>\n",
       "      <td>0.720</td>\n",
       "    </tr>\n",
       "    <tr>\n",
       "      <th>3</th>\n",
       "      <td>4</td>\n",
       "      <td>322</td>\n",
       "      <td>110</td>\n",
       "      <td>3</td>\n",
       "      <td>3.500</td>\n",
       "      <td>2.500</td>\n",
       "      <td>8.670</td>\n",
       "      <td>1</td>\n",
       "      <td>0.800</td>\n",
       "    </tr>\n",
       "    <tr>\n",
       "      <th>4</th>\n",
       "      <td>5</td>\n",
       "      <td>314</td>\n",
       "      <td>103</td>\n",
       "      <td>2</td>\n",
       "      <td>2.000</td>\n",
       "      <td>3.000</td>\n",
       "      <td>8.210</td>\n",
       "      <td>0</td>\n",
       "      <td>0.650</td>\n",
       "    </tr>\n",
       "  </tbody>\n",
       "</table>\n",
       "</div>"
      ],
      "text/plain": [
       "   Serial No.  GRE Score  TOEFL Score  University Rating   SOP  LOR   CGPA  \\\n",
       "0           1        337          118                  4 4.500 4.500 9.650   \n",
       "1           2        324          107                  4 4.000 4.500 8.870   \n",
       "2           3        316          104                  3 3.000 3.500 8.000   \n",
       "3           4        322          110                  3 3.500 2.500 8.670   \n",
       "4           5        314          103                  2 2.000 3.000 8.210   \n",
       "\n",
       "   Research  Chance of Admit   \n",
       "0         1             0.920  \n",
       "1         1             0.760  \n",
       "2         1             0.720  \n",
       "3         1             0.800  \n",
       "4         0             0.650  "
      ]
     },
     "execution_count": 2,
     "metadata": {},
     "output_type": "execute_result"
    }
   ],
   "source": [
    "df = pd.read_csv('C:/Users/keith/Desktop/Thinkful/Admission_Predict.csv',encoding = \"ISO-8859-1\") \n",
    "\n",
    "pd.set_option('display.max_columns', None) # disables trucated columns \n",
    "pd.set_option('display.max_rows', None) # disables trucated rows\n",
    " \n",
    "\n",
    "df.head(5)"
   ]
  },
  {
   "cell_type": "code",
   "execution_count": 3,
   "metadata": {},
   "outputs": [
    {
     "name": "stdout",
     "output_type": "stream",
     "text": [
      "<class 'pandas.core.frame.DataFrame'>\n",
      "RangeIndex: 400 entries, 0 to 399\n",
      "Data columns (total 9 columns):\n",
      "Serial No.           400 non-null int64\n",
      "GRE Score            400 non-null int64\n",
      "TOEFL Score          400 non-null int64\n",
      "University Rating    400 non-null int64\n",
      "SOP                  400 non-null float64\n",
      "LOR                  400 non-null float64\n",
      "CGPA                 400 non-null float64\n",
      "Research             400 non-null int64\n",
      "Chance of Admit      400 non-null float64\n",
      "dtypes: float64(4), int64(5)\n",
      "memory usage: 28.2 KB\n"
     ]
    }
   ],
   "source": [
    "df.info()"
   ]
  },
  {
   "cell_type": "code",
   "execution_count": 4,
   "metadata": {},
   "outputs": [
    {
     "data": {
      "text/html": [
       "<div>\n",
       "<style scoped>\n",
       "    .dataframe tbody tr th:only-of-type {\n",
       "        vertical-align: middle;\n",
       "    }\n",
       "\n",
       "    .dataframe tbody tr th {\n",
       "        vertical-align: top;\n",
       "    }\n",
       "\n",
       "    .dataframe thead th {\n",
       "        text-align: right;\n",
       "    }\n",
       "</style>\n",
       "<table border=\"1\" class=\"dataframe\">\n",
       "  <thead>\n",
       "    <tr style=\"text-align: right;\">\n",
       "      <th></th>\n",
       "      <th>GRE</th>\n",
       "      <th>TOEFL</th>\n",
       "      <th>University_Rating</th>\n",
       "      <th>SOP</th>\n",
       "      <th>LOR</th>\n",
       "      <th>CGPA</th>\n",
       "      <th>Research</th>\n",
       "      <th>Chance_of_Admit</th>\n",
       "    </tr>\n",
       "  </thead>\n",
       "  <tbody>\n",
       "    <tr>\n",
       "      <th>0</th>\n",
       "      <td>337</td>\n",
       "      <td>118</td>\n",
       "      <td>4</td>\n",
       "      <td>4.500</td>\n",
       "      <td>4.500</td>\n",
       "      <td>9.650</td>\n",
       "      <td>1</td>\n",
       "      <td>0.920</td>\n",
       "    </tr>\n",
       "    <tr>\n",
       "      <th>1</th>\n",
       "      <td>324</td>\n",
       "      <td>107</td>\n",
       "      <td>4</td>\n",
       "      <td>4.000</td>\n",
       "      <td>4.500</td>\n",
       "      <td>8.870</td>\n",
       "      <td>1</td>\n",
       "      <td>0.760</td>\n",
       "    </tr>\n",
       "    <tr>\n",
       "      <th>2</th>\n",
       "      <td>316</td>\n",
       "      <td>104</td>\n",
       "      <td>3</td>\n",
       "      <td>3.000</td>\n",
       "      <td>3.500</td>\n",
       "      <td>8.000</td>\n",
       "      <td>1</td>\n",
       "      <td>0.720</td>\n",
       "    </tr>\n",
       "    <tr>\n",
       "      <th>3</th>\n",
       "      <td>322</td>\n",
       "      <td>110</td>\n",
       "      <td>3</td>\n",
       "      <td>3.500</td>\n",
       "      <td>2.500</td>\n",
       "      <td>8.670</td>\n",
       "      <td>1</td>\n",
       "      <td>0.800</td>\n",
       "    </tr>\n",
       "    <tr>\n",
       "      <th>4</th>\n",
       "      <td>314</td>\n",
       "      <td>103</td>\n",
       "      <td>2</td>\n",
       "      <td>2.000</td>\n",
       "      <td>3.000</td>\n",
       "      <td>8.210</td>\n",
       "      <td>0</td>\n",
       "      <td>0.650</td>\n",
       "    </tr>\n",
       "  </tbody>\n",
       "</table>\n",
       "</div>"
      ],
      "text/plain": [
       "   GRE  TOEFL  University_Rating   SOP   LOR  CGPA  Research  Chance_of_Admit\n",
       "0  337    118                  4 4.500 4.500 9.650         1            0.920\n",
       "1  324    107                  4 4.000 4.500 8.870         1            0.760\n",
       "2  316    104                  3 3.000 3.500 8.000         1            0.720\n",
       "3  322    110                  3 3.500 2.500 8.670         1            0.800\n",
       "4  314    103                  2 2.000 3.000 8.210         0            0.650"
      ]
     },
     "execution_count": 4,
     "metadata": {},
     "output_type": "execute_result"
    }
   ],
   "source": [
    "\n",
    "df.columns=['Serial','GRE','TOEFL','University_Rating','SOP','LOR','CGPA','Research','Chance_of_Admit']\n",
    "df = df[['GRE','TOEFL','University_Rating','SOP','LOR','CGPA','Research','Chance_of_Admit']]\n",
    "df.head()"
   ]
  },
  {
   "cell_type": "code",
   "execution_count": 5,
   "metadata": {},
   "outputs": [
    {
     "name": "stdout",
     "output_type": "stream",
     "text": [
      "<class 'pandas.core.frame.DataFrame'>\n",
      "RangeIndex: 400 entries, 0 to 399\n",
      "Data columns (total 8 columns):\n",
      "GRE                  400 non-null int64\n",
      "TOEFL                400 non-null int64\n",
      "University_Rating    400 non-null int64\n",
      "SOP                  400 non-null float64\n",
      "LOR                  400 non-null float64\n",
      "CGPA                 400 non-null float64\n",
      "Research             400 non-null int64\n",
      "Chance_of_Admit      400 non-null float64\n",
      "dtypes: float64(4), int64(4)\n",
      "memory usage: 25.1 KB\n"
     ]
    }
   ],
   "source": [
    "df.info()"
   ]
  },
  {
   "cell_type": "code",
   "execution_count": 6,
   "metadata": {},
   "outputs": [
    {
     "data": {
      "text/html": [
       "<div>\n",
       "<style scoped>\n",
       "    .dataframe tbody tr th:only-of-type {\n",
       "        vertical-align: middle;\n",
       "    }\n",
       "\n",
       "    .dataframe tbody tr th {\n",
       "        vertical-align: top;\n",
       "    }\n",
       "\n",
       "    .dataframe thead th {\n",
       "        text-align: right;\n",
       "    }\n",
       "</style>\n",
       "<table border=\"1\" class=\"dataframe\">\n",
       "  <thead>\n",
       "    <tr style=\"text-align: right;\">\n",
       "      <th></th>\n",
       "      <th>GRE</th>\n",
       "      <th>TOEFL</th>\n",
       "      <th>University_Rating</th>\n",
       "      <th>SOP</th>\n",
       "      <th>LOR</th>\n",
       "      <th>CGPA</th>\n",
       "      <th>Research</th>\n",
       "      <th>Chance_of_Admit</th>\n",
       "    </tr>\n",
       "  </thead>\n",
       "  <tbody>\n",
       "    <tr>\n",
       "      <th>GRE</th>\n",
       "      <td>1.000</td>\n",
       "      <td>0.836</td>\n",
       "      <td>0.669</td>\n",
       "      <td>0.613</td>\n",
       "      <td>0.558</td>\n",
       "      <td>0.833</td>\n",
       "      <td>0.580</td>\n",
       "      <td>0.803</td>\n",
       "    </tr>\n",
       "    <tr>\n",
       "      <th>TOEFL</th>\n",
       "      <td>0.836</td>\n",
       "      <td>1.000</td>\n",
       "      <td>0.696</td>\n",
       "      <td>0.658</td>\n",
       "      <td>0.568</td>\n",
       "      <td>0.828</td>\n",
       "      <td>0.490</td>\n",
       "      <td>0.792</td>\n",
       "    </tr>\n",
       "    <tr>\n",
       "      <th>University_Rating</th>\n",
       "      <td>0.669</td>\n",
       "      <td>0.696</td>\n",
       "      <td>1.000</td>\n",
       "      <td>0.735</td>\n",
       "      <td>0.660</td>\n",
       "      <td>0.746</td>\n",
       "      <td>0.448</td>\n",
       "      <td>0.711</td>\n",
       "    </tr>\n",
       "    <tr>\n",
       "      <th>SOP</th>\n",
       "      <td>0.613</td>\n",
       "      <td>0.658</td>\n",
       "      <td>0.735</td>\n",
       "      <td>1.000</td>\n",
       "      <td>0.730</td>\n",
       "      <td>0.718</td>\n",
       "      <td>0.444</td>\n",
       "      <td>0.676</td>\n",
       "    </tr>\n",
       "    <tr>\n",
       "      <th>LOR</th>\n",
       "      <td>0.558</td>\n",
       "      <td>0.568</td>\n",
       "      <td>0.660</td>\n",
       "      <td>0.730</td>\n",
       "      <td>1.000</td>\n",
       "      <td>0.670</td>\n",
       "      <td>0.397</td>\n",
       "      <td>0.670</td>\n",
       "    </tr>\n",
       "    <tr>\n",
       "      <th>CGPA</th>\n",
       "      <td>0.833</td>\n",
       "      <td>0.828</td>\n",
       "      <td>0.746</td>\n",
       "      <td>0.718</td>\n",
       "      <td>0.670</td>\n",
       "      <td>1.000</td>\n",
       "      <td>0.522</td>\n",
       "      <td>0.873</td>\n",
       "    </tr>\n",
       "    <tr>\n",
       "      <th>Research</th>\n",
       "      <td>0.580</td>\n",
       "      <td>0.490</td>\n",
       "      <td>0.448</td>\n",
       "      <td>0.444</td>\n",
       "      <td>0.397</td>\n",
       "      <td>0.522</td>\n",
       "      <td>1.000</td>\n",
       "      <td>0.553</td>\n",
       "    </tr>\n",
       "    <tr>\n",
       "      <th>Chance_of_Admit</th>\n",
       "      <td>0.803</td>\n",
       "      <td>0.792</td>\n",
       "      <td>0.711</td>\n",
       "      <td>0.676</td>\n",
       "      <td>0.670</td>\n",
       "      <td>0.873</td>\n",
       "      <td>0.553</td>\n",
       "      <td>1.000</td>\n",
       "    </tr>\n",
       "  </tbody>\n",
       "</table>\n",
       "</div>"
      ],
      "text/plain": [
       "                    GRE  TOEFL  University_Rating   SOP   LOR  CGPA  Research  \\\n",
       "GRE               1.000  0.836              0.669 0.613 0.558 0.833     0.580   \n",
       "TOEFL             0.836  1.000              0.696 0.658 0.568 0.828     0.490   \n",
       "University_Rating 0.669  0.696              1.000 0.735 0.660 0.746     0.448   \n",
       "SOP               0.613  0.658              0.735 1.000 0.730 0.718     0.444   \n",
       "LOR               0.558  0.568              0.660 0.730 1.000 0.670     0.397   \n",
       "CGPA              0.833  0.828              0.746 0.718 0.670 1.000     0.522   \n",
       "Research          0.580  0.490              0.448 0.444 0.397 0.522     1.000   \n",
       "Chance_of_Admit   0.803  0.792              0.711 0.676 0.670 0.873     0.553   \n",
       "\n",
       "                   Chance_of_Admit  \n",
       "GRE                          0.803  \n",
       "TOEFL                        0.792  \n",
       "University_Rating            0.711  \n",
       "SOP                          0.676  \n",
       "LOR                          0.670  \n",
       "CGPA                         0.873  \n",
       "Research                     0.553  \n",
       "Chance_of_Admit              1.000  "
      ]
     },
     "metadata": {},
     "output_type": "display_data"
    },
    {
     "data": {
      "text/plain": [
       "<function matplotlib.pyplot.show(*args, **kw)>"
      ]
     },
     "execution_count": 6,
     "metadata": {},
     "output_type": "execute_result"
    },
    {
     "data": {
      "image/png": "[encoded data removed]",
      "text/plain": [
       "<Figure size 432x288 with 2 Axes>"
      ]
     },
     "metadata": {
      "needs_background": "light"
     },
     "output_type": "display_data"
    }
   ],
   "source": [
    "correlation_matrix = df.corr()\n",
    "display(correlation_matrix)\n",
    "sns.heatmap(df.corr())\n",
    "plt.show"
   ]
  },
  {
   "cell_type": "code",
   "execution_count": 7,
   "metadata": {},
   "outputs": [
    {
     "name": "stdout",
     "output_type": "stream",
     "text": [
      "Intercept   -1.012\n",
      "TOEFL        0.004\n",
      "CGPA         0.135\n",
      "Research     0.031\n",
      "LOR          0.022\n",
      "dtype: float64\n",
      "\n",
      "Intercept   0.000\n",
      "TOEFL       0.000\n",
      "CGPA        0.000\n",
      "Research    0.000\n",
      "LOR         0.000\n",
      "dtype: float64\n",
      "\n",
      "0.7982391298087834\n"
     ]
    }
   ],
   "source": [
    "import scipy\n",
    "import statsmodels.formula.api as smf\n",
    "from statsmodels.sandbox.regression.predstd import wls_prediction_std\n",
    "\n",
    "# Re-fit the model here.\n",
    "linear_formula ='Chance_of_Admit ~ TOEFL + CGPA + Research + LOR'\n",
    "\n",
    "lm = smf.ols(formula=linear_formula, data=df).fit()\n",
    "print(lm.params)\n",
    "print()\n",
    "print(lm.pvalues)\n",
    "print()\n",
    "print(lm.rsquared)"
   ]
  },
  {
   "cell_type": "markdown",
   "metadata": {},
   "source": [
    "## OLS"
   ]
  },
  {
   "cell_type": "code",
   "execution_count": 8,
   "metadata": {},
   "outputs": [
    {
     "name": "stdout",
     "output_type": "stream",
     "text": [
      "\n",
      "Coefficients: \n",
      " [0.00449774 0.13480167 0.03144899 0.02219256]\n",
      "\n",
      "Intercept: \n",
      " -1.0117403269074625\n",
      "\n",
      "R-squared:\n",
      "0.7982391298087834\n"
     ]
    }
   ],
   "source": [
    "# Instantiate and fit our model.\n",
    "regr = linear_model.LinearRegression()\n",
    "Y = df['Chance_of_Admit'] \n",
    "X = df[['TOEFL','CGPA','Research','LOR']]\n",
    "regr.fit(X,Y)\n",
    " \n",
    " \n",
    " \n",
    "# Inspect the results.\n",
    "print('\\nCoefficients: \\n', regr.coef_)\n",
    "print('\\nIntercept: \\n', regr.intercept_)\n",
    "print('\\nR-squared:')\n",
    "print(regr.score(X, Y))\n",
    " "
   ]
  },
  {
   "cell_type": "code",
   "execution_count": 9,
   "metadata": {},
   "outputs": [
    {
     "data": {
      "image/png": "[encoded data removed]",
      "text/plain": [
       "<Figure size 432x288 with 1 Axes>"
      ]
     },
     "metadata": {
      "needs_background": "light"
     },
     "output_type": "display_data"
    }
   ],
   "source": [
    "# Extract predicted values.\n",
    "#sqrroot_outcome = [math.sqrt(x) for x in  df.]\n",
    "\n",
    "predicted = regr.predict(X).ravel()\n",
    "actual = df['Chance_of_Admit']\n",
    "# Calculate the error \n",
    "residual = actual - predicted\n",
    "\n",
    " \n",
    "plt.hist(residual)\n",
    "plt.title('Residual counts')\n",
    "plt.xlabel('Residual')\n",
    "plt.ylabel('Count')\n",
    "plt.show()"
   ]
  },
  {
   "cell_type": "code",
   "execution_count": 10,
   "metadata": {},
   "outputs": [
    {
     "data": {
      "image/png": "[encoded data removed]",
      "text/plain": [
       "<Figure size 432x288 with 1 Axes>"
      ]
     },
     "metadata": {
      "needs_background": "light"
     },
     "output_type": "display_data"
    },
    {
     "name": "stdout",
     "output_type": "stream",
     "text": [
      "RMSE: 0.06397685151366511\n"
     ]
    }
   ],
   "source": [
    "plt.scatter(predicted, residual)\n",
    "plt.xlabel('Predicted')\n",
    "plt.ylabel('Residual')\n",
    "plt.axhline(y=0)\n",
    "plt.title('Residual vs. Predicted')\n",
    "plt.show()\n",
    "print ('RMSE:',(((predicted - actual) ** 2).mean() ** .5))  "
   ]
  },
  {
   "cell_type": "code",
   "execution_count": 11,
   "metadata": {},
   "outputs": [
    {
     "name": "stdout",
     "output_type": "stream",
     "text": [
      "With 20% Holdout: 0.6863817941213267\n",
      "Testing on Sample: 0.7982391298087834\n",
      "\n",
      "[0.80122539 0.55070057 0.70678504 0.8355469  0.73188338 0.89896268\n",
      " 0.78258967 0.90658933 0.65746441 0.86954194]\n"
     ]
    }
   ],
   "source": [
    "from sklearn.model_selection import train_test_split\n",
    "# Use train_test_split to create the necessary training and test groups\n",
    "X_train, X_test, y_train, y_test = train_test_split(X, Y, test_size=.2, random_state=20)\n",
    "print('With 20% Holdout: ' + str(regr.fit(X_train, y_train).score(X_test, y_test)))\n",
    "print('Testing on Sample: ' + str(regr.fit(X, Y).score(X, Y)))\n",
    "print()\n",
    "from sklearn.model_selection import cross_val_score\n",
    "print(cross_val_score(regr, X, Y, cv=10))"
   ]
  },
  {
   "cell_type": "markdown",
   "metadata": {},
   "source": [
    "## OLR with PCA"
   ]
  },
  {
   "cell_type": "code",
   "execution_count": 12,
   "metadata": {},
   "outputs": [
    {
     "name": "stdout",
     "output_type": "stream",
     "text": [
      "The percentage of total variance in the dataset explained by each component from Sklearn PCA.\n",
      " [0.97802766 0.01502185 0.00481256]\n",
      "\n",
      "Coefficients: \n",
      " [-0.01857211  0.05526197 -0.04893967]\n",
      "\n",
      "Intercept: \n",
      " 0.72435\n",
      "\n",
      "R-squared:\n",
      "0.742430703785693\n",
      "RMSE: 0.07228554135698227\n"
     ]
    }
   ],
   "source": [
    "from sklearn.preprocessing import StandardScaler\n",
    "from sklearn.decomposition import PCA \n",
    "X = df[['TOEFL','CGPA','Research','LOR']]\n",
    "Y = df['Chance_of_Admit'] \n",
    "sklearn_pca = PCA(n_components=3)\n",
    "Y_sklearn = sklearn_pca.fit_transform(X)\n",
    "\n",
    "print(\n",
    "    'The percentage of total variance in the dataset explained by each',\n",
    "    'component from Sklearn PCA.\\n',\n",
    "    sklearn_pca.explained_variance_ratio_\n",
    ")\n",
    "# Instantiate and fit our model.\n",
    "regr = linear_model.LinearRegression()\n",
    " \n",
    "regr.fit(Y_sklearn,Y)\n",
    " \n",
    " \n",
    " \n",
    "# Inspect the results.\n",
    "print('\\nCoefficients: \\n', regr.coef_)\n",
    "print('\\nIntercept: \\n', regr.intercept_)\n",
    "print('\\nR-squared:')\n",
    "print(regr.score(Y_sklearn, Y))\n",
    "\n",
    "\n",
    "predicted = regr.predict(Y_sklearn).ravel()\n",
    "actual = df['Chance_of_Admit']\n",
    "# Calculate the error \n",
    "residual = actual - predicted\n",
    "print ('RMSE:',(((predicted - actual) ** 2).mean() ** .5)) "
   ]
  },
  {
   "cell_type": "code",
   "execution_count": 13,
   "metadata": {},
   "outputs": [
    {
     "name": "stdout",
     "output_type": "stream",
     "text": [
      "With 20% Holdout: 0.6863817941213267\n",
      "Testing on Sample: 0.7982391298087834\n",
      "\n",
      "[0.80122539 0.55070057 0.70678504 0.8355469  0.73188338 0.89896268\n",
      " 0.78258967 0.90658933 0.65746441 0.86954194]\n"
     ]
    }
   ],
   "source": [
    "# Use train_test_split to create the necessary training and test groups\n",
    "X_train, X_test, y_train, y_test = train_test_split(X, Y, test_size=.2, random_state=20)\n",
    "print('With 20% Holdout: ' + str(regr.fit(X_train, y_train).score(X_test, y_test)))\n",
    "print('Testing on Sample: ' + str(regr.fit(X, Y).score(X, Y)))\n",
    "print()\n",
    "from sklearn.model_selection import cross_val_score\n",
    "print(cross_val_score(regr, X, Y, cv=10))"
   ]
  },
  {
   "cell_type": "markdown",
   "metadata": {},
   "source": [
    "## OLR with PLS"
   ]
  },
  {
   "cell_type": "code",
   "execution_count": 14,
   "metadata": {},
   "outputs": [
    {
     "name": "stdout",
     "output_type": "stream",
     "text": [
      "score:  0.7974528992930182\n",
      "RMSE: 0.06410138419638449\n"
     ]
    }
   ],
   "source": [
    "from sklearn import linear_model\n",
    "from sklearn.cross_decomposition import PLSRegression\n",
    "pls1 = PLSRegression(n_components=3)\n",
    "# Reduce X to R(X) and regress on y.\n",
    "pls1.fit(X, Y)\n",
    "print('score: ',pls1.score(X,Y))\n",
    "\n",
    "predicted = pls1.predict(X).ravel()\n",
    "actual = df['Chance_of_Admit']\n",
    "# Calculate the error \n",
    "residual = actual - predicted\n",
    "print ('RMSE:',(((predicted - actual) ** 2).mean() ** .5)) "
   ]
  },
  {
   "cell_type": "code",
   "execution_count": 15,
   "metadata": {},
   "outputs": [
    {
     "name": "stdout",
     "output_type": "stream",
     "text": [
      "With 20% Holdout: 0.6863817941213267\n",
      "Testing on Sample: 0.7982391298087834\n",
      "\n",
      "[0.80122539 0.55070057 0.70678504 0.8355469  0.73188338 0.89896268\n",
      " 0.78258967 0.90658933 0.65746441 0.86954194]\n"
     ]
    }
   ],
   "source": [
    "# Use train_test_split to create the necessary training and test groups\n",
    "X_train, X_test, y_train, y_test = train_test_split(X, Y, test_size=.2, random_state=20)\n",
    "print('With 20% Holdout: ' + str(regr.fit(X_train, y_train).score(X_test, y_test)))\n",
    "print('Testing on Sample: ' + str(regr.fit(X, Y).score(X, Y)))\n",
    "print()\n",
    "from sklearn.model_selection import cross_val_score\n",
    "print(cross_val_score(regr, X, Y, cv=10))"
   ]
  },
  {
   "cell_type": "markdown",
   "metadata": {},
   "source": [
    "### KNN"
   ]
  },
  {
   "cell_type": "code",
   "execution_count": 16,
   "metadata": {},
   "outputs": [
    {
     "data": {
      "text/plain": [
       "KNeighborsRegressor(algorithm='auto', leaf_size=30, metric='minkowski',\n",
       "          metric_params=None, n_jobs=None, n_neighbors=10, p=2,\n",
       "          weights='distance')"
      ]
     },
     "execution_count": 16,
     "metadata": {},
     "output_type": "execute_result"
    }
   ],
   "source": [
    "from sklearn import neighbors\n",
    "\n",
    "# Build our model.\n",
    "knn = neighbors.KNeighborsRegressor(n_neighbors=10,weights='distance')\n",
    "X = df[['TOEFL','CGPA','Research','LOR']]\n",
    "Y = df['Chance_of_Admit']\n",
    "knn.fit(X, Y)\n"
   ]
  },
  {
   "cell_type": "code",
   "execution_count": 17,
   "metadata": {},
   "outputs": [
    {
     "name": "stdout",
     "output_type": "stream",
     "text": [
      "\n",
      "R-squared:\n",
      "0.9978310782092248\n"
     ]
    }
   ],
   "source": [
    "# Inspect the results. \n",
    "print('\\nR-squared:')\n",
    "print(knn.score(X, Y)) "
   ]
  },
  {
   "cell_type": "code",
   "execution_count": 18,
   "metadata": {},
   "outputs": [
    {
     "name": "stdout",
     "output_type": "stream",
     "text": [
      "With 20% Holdout: 0.6342681659023703\n",
      "Testing on Sample: 0.9978310782092248\n",
      "\n",
      "[0.72243833 0.45707681 0.64789453 0.74692906 0.63869873 0.85445186\n",
      " 0.43061933 0.68768333 0.6404975  0.74712399]\n"
     ]
    }
   ],
   "source": [
    "# Use train_test_split to create the necessary training and test groups\n",
    "X_train, X_test, y_train, y_test = train_test_split(X, Y, test_size=.2, random_state=20)\n",
    "print('With 20% Holdout: ' + str(knn.fit(X_train, y_train).score(X_test, y_test)))\n",
    "print('Testing on Sample: ' + str(knn.fit(X, Y).score(X, Y)))\n",
    "print()\n",
    "from sklearn.model_selection import cross_val_score\n",
    "print(cross_val_score(knn, X, Y, cv=10))"
   ]
  },
  {
   "cell_type": "code",
   "execution_count": 19,
   "metadata": {},
   "outputs": [
    {
     "name": "stdout",
     "output_type": "stream",
     "text": [
      "RMSE: 0.006633249580710797\n"
     ]
    }
   ],
   "source": [
    "# Extract predicted values.\n",
    "predicted = knn.predict(X).ravel()\n",
    "actual = df['Chance_of_Admit']\n",
    "# Calculate the error \n",
    "residual = actual - predicted \n",
    "print ('RMSE:',(((predicted - actual) ** 2).mean() ** .5))  \n"
   ]
  },
  {
   "cell_type": "code",
   "execution_count": null,
   "metadata": {},
   "outputs": [],
   "source": []
  },
  {
   "cell_type": "code",
   "execution_count": 20,
   "metadata": {},
   "outputs": [],
   "source": [
    "'TOEFL','CGPA','SOP','Research','LOR'\n",
    "\n",
    "mean = np.mean(df.SOP)\n",
    "sd = np.std(df.SOP)\n",
    "a = []\n",
    "for i in df.SOP:\n",
    "    z = (i-mean)/sd\n",
    "     \n",
    "    a.append(z)\n",
    "df['SOP'] = a\n",
    "\n",
    "\n",
    "mean = np.mean(df.TOEFL)\n",
    "sd = np.std(df.TOEFL)\n",
    "b = []\n",
    "for i in df.TOEFL:\n",
    "    z = (i-mean)/sd\n",
    "    b.append(z)\n",
    "df['TOEFL'] = b  \n",
    "\n",
    "\n",
    "\n",
    "\n",
    "\n",
    "mean = np.mean(df.Research)\n",
    "sd = np.std(df.Research)\n",
    "c = []\n",
    "for i in df.Research:\n",
    "    z = (i-mean)/sd\n",
    "    c.append(z)\n",
    "df['Research'] = c\n",
    "\n",
    "mean = np.mean(df.LOR)\n",
    "sd = np.std(df.LOR)\n",
    "d = []\n",
    "for i in df.LOR:\n",
    "    z = (i-mean)/sd\n",
    "    d.append(z)\n",
    "df['LOR'] = d    "
   ]
  },
  {
   "cell_type": "code",
   "execution_count": 21,
   "metadata": {},
   "outputs": [
    {
     "data": {
      "text/plain": [
       "KNeighborsRegressor(algorithm='auto', leaf_size=30, metric='minkowski',\n",
       "          metric_params=None, n_jobs=None, n_neighbors=10, p=2,\n",
       "          weights='uniform')"
      ]
     },
     "execution_count": 21,
     "metadata": {},
     "output_type": "execute_result"
    }
   ],
   "source": [
    "# Build our model.\n",
    "knn = neighbors.KNeighborsRegressor(n_neighbors=10)\n",
    "X = df[['TOEFL','CGPA','Research','LOR']]\n",
    "Y = df['Chance_of_Admit']\n",
    "knn.fit(X, Y)\n"
   ]
  },
  {
   "cell_type": "code",
   "execution_count": null,
   "metadata": {},
   "outputs": [],
   "source": []
  },
  {
   "cell_type": "code",
   "execution_count": null,
   "metadata": {},
   "outputs": [],
   "source": [
    " "
   ]
  },
  {
   "cell_type": "code",
   "execution_count": 22,
   "metadata": {},
   "outputs": [
    {
     "name": "stdout",
     "output_type": "stream",
     "text": [
      "With 20% Holdout: 0.638589964873548\n",
      "Testing on Sample: 0.7935413206096494\n",
      "\n",
      "[0.78128029 0.46123632 0.65305668 0.76890804 0.61645473 0.86759273\n",
      " 0.69886048 0.85150853 0.65146153 0.80475331]\n"
     ]
    }
   ],
   "source": [
    "# Use train_test_split to create the necessary training and test groups\n",
    "X_train, X_test, y_train, y_test = train_test_split(X, Y, test_size=.2, random_state=20)\n",
    "print('With 20% Holdout: ' + str(knn.fit(X_train, y_train).score(X_test, y_test)))\n",
    "print('Testing on Sample: ' + str(knn.fit(X, Y).score(X, Y)))\n",
    "print()\n",
    "from sklearn.model_selection import cross_val_score\n",
    "print(cross_val_score(knn, X, Y, cv=10))\n",
    " "
   ]
  },
  {
   "cell_type": "code",
   "execution_count": 23,
   "metadata": {},
   "outputs": [
    {
     "name": "stdout",
     "output_type": "stream",
     "text": [
      "RMSE: 0.06471738560850554\n"
     ]
    }
   ],
   "source": [
    "# Extract predicted values.\n",
    "predicted = knn.predict(X).ravel()\n",
    "actual = df['Chance_of_Admit']\n",
    "# Calculate the error \n",
    "residual = actual - predicted \n",
    "print ('RMSE:',(((predicted - actual) ** 2).mean() ** .5))  "
   ]
  },
  {
   "cell_type": "code",
   "execution_count": null,
   "metadata": {},
   "outputs": [],
   "source": [
    " "
   ]
  },
  {
   "cell_type": "code",
   "execution_count": null,
   "metadata": {},
   "outputs": [],
   "source": []
  }
 ],
 "metadata": {
  "kernelspec": {
   "display_name": "Python 3",
   "language": "python",
   "name": "python3"
  },
  "language_info": {
   "codemirror_mode": {
    "name": "ipython",
    "version": 3
   },
   "file_extension": ".py",
   "mimetype": "text/x-python",
   "name": "python",
   "nbconvert_exporter": "python",
   "pygments_lexer": "ipython3",
   "version": "3.7.2"
  }
 },
 "nbformat": 4,
 "nbformat_minor": 2
}
