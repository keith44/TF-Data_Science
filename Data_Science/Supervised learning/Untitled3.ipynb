{
 "cells": [
  {
   "cell_type": "code",
   "execution_count": 1,
   "metadata": {},
   "outputs": [],
   "source": [
    "import re\n",
    "import time\n",
    "import math\n",
    "import pandas as pd\n",
    "import numpy as np\n",
    "import seaborn as sns\n",
    "from matplotlib import pyplot as plt\n",
    "%matplotlib inline\n",
    "from scipy import stats\n",
    "from matplotlib import pyplot\n",
    "from sklearn.metrics import confusion_matrix\n",
    "from sklearn.metrics import precision_recall_curve\n",
    "from sklearn.metrics import roc_curve\n",
    "from sklearn.metrics import roc_auc_score\n",
    "from sklearn import linear_model\n",
    "from sklearn.linear_model import LogisticRegression\n",
    "from sklearn import preprocessing\n",
    "from sklearn.preprocessing import binarize\n",
    "from sklearn.model_selection import train_test_split\n",
    "from sklearn.model_selection import GridSearchCV\n",
    "from sklearn.model_selection import cross_val_score\n",
    "from sklearn.model_selection import cross_val_score\n",
    "from sklearn.model_selection import cross_val_predict\n",
    "from sklearn.decomposition import PCA\n",
    "from scipy.stats.mstats import winsorize\n",
    "from scipy.stats import boxcox"
   ]
  },
  {
   "cell_type": "code",
   "execution_count": 2,
   "metadata": {},
   "outputs": [],
   "source": [
    "# Load data \n",
    "mta = pd.read_csv('C:/Users/keith/Desktop/Thinkful/MTA_UPDATED.csv',encoding = \"ISO-8859-1\",error_bad_lines=False)\n",
    "pd.set_option('display.max_columns', None) # disables trucated columns \n",
    "pd.set_option('display.max_rows', None) # disables trucated rows"
   ]
  },
  {
   "cell_type": "code",
   "execution_count": 3,
   "metadata": {},
   "outputs": [
    {
     "data": {
      "text/plain": [
       "5804"
      ]
     },
     "execution_count": 3,
     "metadata": {},
     "output_type": "execute_result"
    }
   ],
   "source": [
    "mtaa = mta.sample(frac=.001,random_state=20)\n",
    "len(mtaa)"
   ]
  },
  {
   "cell_type": "code",
   "execution_count": 4,
   "metadata": {},
   "outputs": [
    {
     "data": {
      "text/plain": [
       "Index(['Unnamed: 0', 'RecordedAtTime', 'DirectionRef', 'PublishedLineName',\n",
       "       'OriginName', 'OriginLat', 'OriginLong', 'DestinationName',\n",
       "       'DestinationLat', 'DestinationLong', 'VehicleRef',\n",
       "       'VehicleLocation_Lat', 'VehicleLocation_Long', 'NextStopPointName',\n",
       "       'ArrivalProximityText', 'DistanceFromStop', 'ExpectedArrivalTime',\n",
       "       'ScheduledArrivalTime', 'Time_delay', 'Late_Bus', 'time_of_day',\n",
       "       'day_of_week', 'rush_hour'],\n",
       "      dtype='object')"
      ]
     },
     "execution_count": 4,
     "metadata": {},
     "output_type": "execute_result"
    }
   ],
   "source": [
    "mta.columns"
   ]
  },
  {
   "cell_type": "code",
   "execution_count": 72,
   "metadata": {},
   "outputs": [],
   "source": [
    "columns = ['DirectionRef','PublishedLineName','OriginName',\n",
    "           'DestinationName','VehicleRef','NextStopPointName',\n",
    "          'time_of_day','rush_hour',]\n",
    "for col in columns:\n",
    "    mta[col] = mta[col].astype('category')"
   ]
  },
  {
   "cell_type": "code",
   "execution_count": 44,
   "metadata": {},
   "outputs": [],
   "source": [
    "for i in ['RecordedAtTime','ExpectedArrivalTime','ScheduledArrivalTime']:\n",
    "    mta[i] = pd.to_datetime(mta[i])\n"
   ]
  },
  {
   "cell_type": "code",
   "execution_count": 73,
   "metadata": {},
   "outputs": [
    {
     "name": "stdout",
     "output_type": "stream",
     "text": [
      "<class 'pandas.core.frame.DataFrame'>\n",
      "RangeIndex: 5804118 entries, 0 to 5804117\n",
      "Data columns (total 22 columns):\n",
      "RecordedAtTime          datetime64[ns]\n",
      "DirectionRef            category\n",
      "PublishedLineName       category\n",
      "OriginName              category\n",
      "OriginLat               float64\n",
      "OriginLong              float64\n",
      "DestinationName         category\n",
      "DestinationLat          float64\n",
      "DestinationLong         float64\n",
      "VehicleRef              category\n",
      "VehicleLocation_Lat     float64\n",
      "VehicleLocation_Long    float64\n",
      "NextStopPointName       category\n",
      "ArrivalProximityText    object\n",
      "DistanceFromStop        float64\n",
      "ExpectedArrivalTime     datetime64[ns]\n",
      "ScheduledArrivalTime    datetime64[ns]\n",
      "Time_delay              float64\n",
      "Late_Bus                int64\n",
      "time_of_day             category\n",
      "day_of_week             int64\n",
      "rush_hour               category\n",
      "dtypes: category(8), datetime64[ns](3), float64(8), int64(2), object(1)\n",
      "memory usage: 692.5+ MB\n"
     ]
    }
   ],
   "source": [
    "mta.info()"
   ]
  },
  {
   "cell_type": "code",
   "execution_count": 80,
   "metadata": {},
   "outputs": [
    {
     "data": {
      "text/html": [
       "<div>\n",
       "<style scoped>\n",
       "    .dataframe tbody tr th:only-of-type {\n",
       "        vertical-align: middle;\n",
       "    }\n",
       "\n",
       "    .dataframe tbody tr th {\n",
       "        vertical-align: top;\n",
       "    }\n",
       "\n",
       "    .dataframe thead th {\n",
       "        text-align: right;\n",
       "    }\n",
       "</style>\n",
       "<table border=\"1\" class=\"dataframe\">\n",
       "  <thead>\n",
       "    <tr style=\"text-align: right;\">\n",
       "      <th></th>\n",
       "      <th>RecordedAtTime</th>\n",
       "      <th>DirectionRef</th>\n",
       "      <th>PublishedLineName</th>\n",
       "      <th>OriginName</th>\n",
       "      <th>OriginLat</th>\n",
       "      <th>OriginLong</th>\n",
       "      <th>DestinationName</th>\n",
       "      <th>DestinationLat</th>\n",
       "      <th>DestinationLong</th>\n",
       "      <th>VehicleRef</th>\n",
       "      <th>VehicleLocation_Lat</th>\n",
       "      <th>VehicleLocation_Long</th>\n",
       "      <th>NextStopPointName</th>\n",
       "      <th>ArrivalProximityText</th>\n",
       "      <th>DistanceFromStop</th>\n",
       "      <th>ExpectedArrivalTime</th>\n",
       "      <th>ScheduledArrivalTime</th>\n",
       "      <th>Time_delay</th>\n",
       "      <th>Late_Bus</th>\n",
       "      <th>time_of_day</th>\n",
       "      <th>day_of_week</th>\n",
       "      <th>rush_hour</th>\n",
       "      <th>dist_from_stop_in_feet</th>\n",
       "    </tr>\n",
       "  </thead>\n",
       "  <tbody>\n",
       "    <tr>\n",
       "      <th>0</th>\n",
       "      <td>2017-06-01 00:03:34</td>\n",
       "      <td>0</td>\n",
       "      <td>B8</td>\n",
       "      <td>4 AV/95 ST</td>\n",
       "      <td>40.616104</td>\n",
       "      <td>-74.031143</td>\n",
       "      <td>BROWNSVILLE ROCKAWAY AV</td>\n",
       "      <td>40.656048</td>\n",
       "      <td>-73.907379</td>\n",
       "      <td>NYCT_430</td>\n",
       "      <td>40.635170</td>\n",
       "      <td>-73.960803</td>\n",
       "      <td>FOSTER AV/E 18 ST</td>\n",
       "      <td>approaching</td>\n",
       "      <td>76.0</td>\n",
       "      <td>2017-06-01 00:03:59</td>\n",
       "      <td>2017-06-01 00:06:14</td>\n",
       "      <td>-2.0</td>\n",
       "      <td>0</td>\n",
       "      <td>morning</td>\n",
       "      <td>3</td>\n",
       "      <td>0</td>\n",
       "      <td>249.356</td>\n",
       "    </tr>\n",
       "    <tr>\n",
       "      <th>1</th>\n",
       "      <td>2017-06-01 00:03:49</td>\n",
       "      <td>0</td>\n",
       "      <td>Bx10</td>\n",
       "      <td>E 206 ST/BAINBRIDGE AV</td>\n",
       "      <td>40.875008</td>\n",
       "      <td>-73.880142</td>\n",
       "      <td>RIVERDALE 263 ST</td>\n",
       "      <td>40.912376</td>\n",
       "      <td>-73.902534</td>\n",
       "      <td>NYCT_4223</td>\n",
       "      <td>40.886010</td>\n",
       "      <td>-73.912647</td>\n",
       "      <td>HENRY HUDSON PKY E/W 235 ST</td>\n",
       "      <td>at stop</td>\n",
       "      <td>5.0</td>\n",
       "      <td>2017-06-01 00:03:56</td>\n",
       "      <td>2017-06-01 00:00:53</td>\n",
       "      <td>3.0</td>\n",
       "      <td>0</td>\n",
       "      <td>night</td>\n",
       "      <td>3</td>\n",
       "      <td>0</td>\n",
       "      <td>16.405</td>\n",
       "    </tr>\n",
       "    <tr>\n",
       "      <th>2</th>\n",
       "      <td>2017-06-01 00:03:31</td>\n",
       "      <td>0</td>\n",
       "      <td>Q5</td>\n",
       "      <td>TEARDROP/LAYOVER</td>\n",
       "      <td>40.701748</td>\n",
       "      <td>-73.802399</td>\n",
       "      <td>ROSEDALE LIRR STA via MERRICK</td>\n",
       "      <td>40.666012</td>\n",
       "      <td>-73.735939</td>\n",
       "      <td>NYCT_8422</td>\n",
       "      <td>40.668002</td>\n",
       "      <td>-73.729348</td>\n",
       "      <td>HOOK CREEK BL/SUNRISE HY</td>\n",
       "      <td>&lt; 1 stop away</td>\n",
       "      <td>267.0</td>\n",
       "      <td>2017-06-01 00:04:03</td>\n",
       "      <td>2017-06-01 00:03:00</td>\n",
       "      <td>1.0</td>\n",
       "      <td>0</td>\n",
       "      <td>night</td>\n",
       "      <td>3</td>\n",
       "      <td>0</td>\n",
       "      <td>876.027</td>\n",
       "    </tr>\n",
       "    <tr>\n",
       "      <th>3</th>\n",
       "      <td>2017-06-01 00:03:40</td>\n",
       "      <td>0</td>\n",
       "      <td>M1</td>\n",
       "      <td>4 AV/E 10 ST</td>\n",
       "      <td>40.731342</td>\n",
       "      <td>-73.990288</td>\n",
       "      <td>HARLEM 147 ST via MADISON</td>\n",
       "      <td>40.821110</td>\n",
       "      <td>-73.935898</td>\n",
       "      <td>NYCT_3831</td>\n",
       "      <td>40.792897</td>\n",
       "      <td>-73.950023</td>\n",
       "      <td>MADISON AV/E 106 ST</td>\n",
       "      <td>approaching</td>\n",
       "      <td>73.0</td>\n",
       "      <td>2017-06-01 00:03:56</td>\n",
       "      <td>2017-06-01 00:02:35</td>\n",
       "      <td>1.0</td>\n",
       "      <td>0</td>\n",
       "      <td>night</td>\n",
       "      <td>3</td>\n",
       "      <td>0</td>\n",
       "      <td>239.513</td>\n",
       "    </tr>\n",
       "    <tr>\n",
       "      <th>4</th>\n",
       "      <td>2017-06-01 00:03:27</td>\n",
       "      <td>0</td>\n",
       "      <td>B82</td>\n",
       "      <td>STILLWELL TERMINAL BUS LOOP</td>\n",
       "      <td>40.577080</td>\n",
       "      <td>-73.981293</td>\n",
       "      <td>SPRING CRK TWRS SEAVIEW AV via KINGS HWY</td>\n",
       "      <td>40.642990</td>\n",
       "      <td>-73.878326</td>\n",
       "      <td>NYCT_6592</td>\n",
       "      <td>40.632258</td>\n",
       "      <td>-73.918318</td>\n",
       "      <td>FLATLANDS AV/RALPH AV</td>\n",
       "      <td>approaching</td>\n",
       "      <td>35.0</td>\n",
       "      <td>2017-06-01 00:03:56</td>\n",
       "      <td>2017-06-01 00:00:01</td>\n",
       "      <td>3.0</td>\n",
       "      <td>0</td>\n",
       "      <td>night</td>\n",
       "      <td>3</td>\n",
       "      <td>0</td>\n",
       "      <td>114.835</td>\n",
       "    </tr>\n",
       "  </tbody>\n",
       "</table>\n",
       "</div>"
      ],
      "text/plain": [
       "       RecordedAtTime DirectionRef PublishedLineName  \\\n",
       "0 2017-06-01 00:03:34            0                B8   \n",
       "1 2017-06-01 00:03:49            0              Bx10   \n",
       "2 2017-06-01 00:03:31            0                Q5   \n",
       "3 2017-06-01 00:03:40            0                M1   \n",
       "4 2017-06-01 00:03:27            0               B82   \n",
       "\n",
       "                    OriginName  OriginLat  OriginLong  \\\n",
       "0                   4 AV/95 ST  40.616104  -74.031143   \n",
       "1       E 206 ST/BAINBRIDGE AV  40.875008  -73.880142   \n",
       "2             TEARDROP/LAYOVER  40.701748  -73.802399   \n",
       "3                 4 AV/E 10 ST  40.731342  -73.990288   \n",
       "4  STILLWELL TERMINAL BUS LOOP  40.577080  -73.981293   \n",
       "\n",
       "                            DestinationName  DestinationLat  DestinationLong  \\\n",
       "0                   BROWNSVILLE ROCKAWAY AV       40.656048       -73.907379   \n",
       "1                          RIVERDALE 263 ST       40.912376       -73.902534   \n",
       "2             ROSEDALE LIRR STA via MERRICK       40.666012       -73.735939   \n",
       "3                 HARLEM 147 ST via MADISON       40.821110       -73.935898   \n",
       "4  SPRING CRK TWRS SEAVIEW AV via KINGS HWY       40.642990       -73.878326   \n",
       "\n",
       "  VehicleRef  VehicleLocation_Lat  VehicleLocation_Long  \\\n",
       "0   NYCT_430            40.635170            -73.960803   \n",
       "1  NYCT_4223            40.886010            -73.912647   \n",
       "2  NYCT_8422            40.668002            -73.729348   \n",
       "3  NYCT_3831            40.792897            -73.950023   \n",
       "4  NYCT_6592            40.632258            -73.918318   \n",
       "\n",
       "             NextStopPointName ArrivalProximityText  DistanceFromStop  \\\n",
       "0            FOSTER AV/E 18 ST          approaching              76.0   \n",
       "1  HENRY HUDSON PKY E/W 235 ST              at stop               5.0   \n",
       "2     HOOK CREEK BL/SUNRISE HY        < 1 stop away             267.0   \n",
       "3          MADISON AV/E 106 ST          approaching              73.0   \n",
       "4        FLATLANDS AV/RALPH AV          approaching              35.0   \n",
       "\n",
       "  ExpectedArrivalTime ScheduledArrivalTime  Time_delay  Late_Bus time_of_day  \\\n",
       "0 2017-06-01 00:03:59  2017-06-01 00:06:14        -2.0         0     morning   \n",
       "1 2017-06-01 00:03:56  2017-06-01 00:00:53         3.0         0       night   \n",
       "2 2017-06-01 00:04:03  2017-06-01 00:03:00         1.0         0       night   \n",
       "3 2017-06-01 00:03:56  2017-06-01 00:02:35         1.0         0       night   \n",
       "4 2017-06-01 00:03:56  2017-06-01 00:00:01         3.0         0       night   \n",
       "\n",
       "   day_of_week rush_hour  dist_from_stop_in_feet  \n",
       "0            3         0                 249.356  \n",
       "1            3         0                  16.405  \n",
       "2            3         0                 876.027  \n",
       "3            3         0                 239.513  \n",
       "4            3         0                 114.835  "
      ]
     },
     "execution_count": 80,
     "metadata": {},
     "output_type": "execute_result"
    }
   ],
   "source": [
    "mta.head()"
   ]
  },
  {
   "cell_type": "code",
   "execution_count": 491,
   "metadata": {},
   "outputs": [
    {
     "data": {
      "image/png": "[encoded data removed]",
      "text/plain": [
       "<Figure size 720x720 with 2 Axes>"
      ]
     },
     "metadata": {
      "needs_background": "light"
     },
     "output_type": "display_data"
    }
   ],
   "source": [
    "mta['winsor_Time_delay'] = winsorize(mta[\"Time_delay\"], (.1, .1))\n",
    "plt.figure(figsize=(10,10))\n",
    "plt.subplot(221)\n",
    "plt.boxplot(mtaa.Time_delay)\n",
    "plt.title('Time Delay')\n",
    "plt.subplot(222)\n",
    "plt.title('Winsorized Time Delay')\n",
    "plt.boxplot(mtaa.winsor_Time_delay) \n",
    "plt.show()"
   ]
  },
  {
   "cell_type": "code",
   "execution_count": 253,
   "metadata": {},
   "outputs": [],
   "source": [
    "# create target using winsorized feature\n",
    "mta['Late_Bus'] = np.where(mta.winsor_Time_delay>7, 1, 0)"
   ]
  },
  {
   "cell_type": "code",
   "execution_count": 239,
   "metadata": {},
   "outputs": [],
   "source": [
    "mta['day_of_week'] = mta.ScheduledArrivalTime.dt.dayofweek.astype('category')"
   ]
  },
  {
   "cell_type": "code",
   "execution_count": 502,
   "metadata": {},
   "outputs": [
    {
     "data": {
      "image/png": "[encoded data removed]",
      "text/plain": [
       "<Figure size 576x576 with 1 Axes>"
      ]
     },
     "metadata": {
      "needs_background": "light"
     },
     "output_type": "display_data"
    },
    {
     "data": {
      "image/png": "[encoded data removed]",
      "text/plain": [
       "<Figure size 576x576 with 1 Axes>"
      ]
     },
     "metadata": {
      "needs_background": "light"
     },
     "output_type": "display_data"
    }
   ],
   "source": [
    "mtaa[['Time_delay','day_of_week']].boxplot(by='day_of_week',figsize=(8,8))\n",
    "mtaa[['winsor_Time_delay','day_of_week']].boxplot(by='day_of_week',figsize=(8,8))\n",
    "plt.show()"
   ]
  },
  {
   "cell_type": "code",
   "execution_count": 98,
   "metadata": {},
   "outputs": [
    {
     "name": "stdout",
     "output_type": "stream",
     "text": [
      "There are 4470 busses that service 236 routes\n"
     ]
    }
   ],
   "source": [
    "print('There are',len(mta.VehicleRef.unique()),'busses that service',len(mta.PublishedLineName.unique()),'routes')"
   ]
  },
  {
   "cell_type": "code",
   "execution_count": 1,
   "metadata": {},
   "outputs": [
    {
     "ename": "NameError",
     "evalue": "name 'plt' is not defined",
     "output_type": "error",
     "traceback": [
      "\u001b[1;31m---------------------------------------------------------------------------\u001b[0m",
      "\u001b[1;31mNameError\u001b[0m                                 Traceback (most recent call last)",
      "\u001b[1;32m<ipython-input-1-dcc3dcf32809>\u001b[0m in \u001b[0;36m<module>\u001b[1;34m\u001b[0m\n\u001b[1;32m----> 1\u001b[1;33m \u001b[0mplt\u001b[0m\u001b[1;33m.\u001b[0m\u001b[0mfigure\u001b[0m\u001b[1;33m(\u001b[0m\u001b[0mfigsize\u001b[0m\u001b[1;33m=\u001b[0m\u001b[1;33m(\u001b[0m\u001b[1;36m15\u001b[0m\u001b[1;33m,\u001b[0m\u001b[1;36m15\u001b[0m\u001b[1;33m)\u001b[0m\u001b[1;33m)\u001b[0m\u001b[1;33m\u001b[0m\u001b[1;33m\u001b[0m\u001b[0m\n\u001b[0m\u001b[0;32m      2\u001b[0m \u001b[0mplt\u001b[0m\u001b[1;33m.\u001b[0m\u001b[0msubplot\u001b[0m\u001b[1;33m(\u001b[0m\u001b[1;36m221\u001b[0m\u001b[1;33m)\u001b[0m\u001b[1;33m\u001b[0m\u001b[1;33m\u001b[0m\u001b[0m\n\u001b[0;32m      3\u001b[0m \u001b[0msns\u001b[0m\u001b[1;33m.\u001b[0m\u001b[0mcountplot\u001b[0m\u001b[1;33m(\u001b[0m\u001b[0mx\u001b[0m\u001b[1;33m=\u001b[0m\u001b[0mmtaa\u001b[0m\u001b[1;33m[\u001b[0m\u001b[0mmtaa\u001b[0m\u001b[1;33m.\u001b[0m\u001b[0mLate_Bus\u001b[0m\u001b[1;33m==\u001b[0m\u001b[1;36m1\u001b[0m\u001b[1;33m]\u001b[0m\u001b[1;33m.\u001b[0m\u001b[0mScheduledArrivalTime\u001b[0m\u001b[1;33m.\u001b[0m\u001b[0mdt\u001b[0m\u001b[1;33m.\u001b[0m\u001b[0mday\u001b[0m\u001b[1;33m,\u001b[0m \u001b[0mdata\u001b[0m\u001b[1;33m=\u001b[0m\u001b[0mmtaa\u001b[0m\u001b[1;33m[\u001b[0m\u001b[0mmtaa\u001b[0m\u001b[1;33m.\u001b[0m\u001b[0mLate_Bus\u001b[0m\u001b[1;33m<=\u001b[0m\u001b[1;36m1\u001b[0m\u001b[1;33m]\u001b[0m\u001b[1;33m,\u001b[0m \u001b[0mpalette\u001b[0m\u001b[1;33m=\u001b[0m\u001b[1;34m\"Greens_d\"\u001b[0m\u001b[1;33m)\u001b[0m\u001b[1;33m\u001b[0m\u001b[1;33m\u001b[0m\u001b[0m\n\u001b[0;32m      4\u001b[0m \u001b[0mplt\u001b[0m\u001b[1;33m.\u001b[0m\u001b[0msubplot\u001b[0m\u001b[1;33m(\u001b[0m\u001b[1;36m222\u001b[0m\u001b[1;33m)\u001b[0m\u001b[1;33m\u001b[0m\u001b[1;33m\u001b[0m\u001b[0m\n\u001b[0;32m      5\u001b[0m \u001b[0msns\u001b[0m\u001b[1;33m.\u001b[0m\u001b[0mcountplot\u001b[0m\u001b[1;33m(\u001b[0m\u001b[0mx\u001b[0m\u001b[1;33m=\u001b[0m\u001b[1;34m'day_of_week'\u001b[0m\u001b[1;33m,\u001b[0m \u001b[0mdata\u001b[0m\u001b[1;33m=\u001b[0m\u001b[0mmtaa\u001b[0m\u001b[1;33m[\u001b[0m\u001b[0mmtaa\u001b[0m\u001b[1;33m.\u001b[0m\u001b[0mLate_Bus\u001b[0m\u001b[1;33m==\u001b[0m\u001b[1;36m1\u001b[0m\u001b[1;33m]\u001b[0m\u001b[1;33m,\u001b[0m \u001b[0mpalette\u001b[0m\u001b[1;33m=\u001b[0m\u001b[1;34m\"Greens_d\"\u001b[0m\u001b[1;33m)\u001b[0m\u001b[1;33m\u001b[0m\u001b[1;33m\u001b[0m\u001b[0m\n",
      "\u001b[1;31mNameError\u001b[0m: name 'plt' is not defined"
     ]
    }
   ],
   "source": [
    "plt.figure(figsize=(15,15))\n",
    "plt.subplot(221)\n",
    "sns.countplot(x=mtaa[mtaa.Late_Bus==1].ScheduledArrivalTime.dt.day, data=mtaa[mtaa.Late_Bus<=1], palette=\"Greens_d\")\n",
    "plt.subplot(222)\n",
    "sns.countplot(x='day_of_week', data=mtaa[mtaa.Late_Bus==1], palette=\"Greens_d\")\n",
    "plt.subplot(223)\n",
    "sns.countplot(x='time_of_day',  data=mtaa[mtaa.Late_Bus==1], palette=\"Greens_d\")\n",
    "plt.subplot(224)\n",
    "sns.countplot(x='hours',data=mtaa[mtaa.Late_Bus==1], palette=\"Greens_d\")\n",
    "plt.show() "
   ]
  },
  {
   "cell_type": "code",
   "execution_count": 547,
   "metadata": {
    "scrolled": false
   },
   "outputs": [
    {
     "data": {
      "image/png": "[encoded data removed]",
      "text/plain": [
       "<Figure size 1152x720 with 2 Axes>"
      ]
     },
     "metadata": {
      "needs_background": "light"
     },
     "output_type": "display_data"
    }
   ],
   "source": [
    "plt.figure(figsize=(16,10))\n",
    "plt.subplot(221)\n",
    "sns.barplot(y=\"Late_Bus\", x=\"DirectionRef\", data=mtaa, palette=\"Greens_d\", \n",
    "            orient='vertical').set_xticklabels(['Outbound','Inbound'])\n",
    "plt.title('Average Late Busses per Direction')\n",
    "\n",
    "plt.subplot(222)\n",
    "sns.lineplot(mtaa.ScheduledArrivalTime.dt.hour, mtaa.Late_Bus, hue=mtaa.DirectionRef )\n",
    "plt.legend(['Outbound','Inbound'])\n",
    "plt.title('Averge Late Busses')\n",
    "plt.show()"
   ]
  },
  {
   "cell_type": "code",
   "execution_count": 563,
   "metadata": {},
   "outputs": [
    {
     "data": {
      "text/plain": [
       "<matplotlib.axes._subplots.AxesSubplot at 0x24bb2acf860>"
      ]
     },
     "execution_count": 563,
     "metadata": {},
     "output_type": "execute_result"
    },
    {
     "ename": "ValueError",
     "evalue": "Image size of 390x71141 pixels is too large. It must be less than 2^16 in each direction.",
     "output_type": "error",
     "traceback": [
      "\u001b[1;31m---------------------------------------------------------------------------\u001b[0m",
      "\u001b[1;31mValueError\u001b[0m                                Traceback (most recent call last)",
      "\u001b[1;32mc:\\users\\keith\\appdata\\local\\programs\\python\\python37\\lib\\site-packages\\IPython\\core\\formatters.py\u001b[0m in \u001b[0;36m__call__\u001b[1;34m(self, obj)\u001b[0m\n\u001b[0;32m    339\u001b[0m                 \u001b[1;32mpass\u001b[0m\u001b[1;33m\u001b[0m\u001b[1;33m\u001b[0m\u001b[0m\n\u001b[0;32m    340\u001b[0m             \u001b[1;32melse\u001b[0m\u001b[1;33m:\u001b[0m\u001b[1;33m\u001b[0m\u001b[1;33m\u001b[0m\u001b[0m\n\u001b[1;32m--> 341\u001b[1;33m                 \u001b[1;32mreturn\u001b[0m \u001b[0mprinter\u001b[0m\u001b[1;33m(\u001b[0m\u001b[0mobj\u001b[0m\u001b[1;33m)\u001b[0m\u001b[1;33m\u001b[0m\u001b[1;33m\u001b[0m\u001b[0m\n\u001b[0m\u001b[0;32m    342\u001b[0m             \u001b[1;31m# Finally look for special method names\u001b[0m\u001b[1;33m\u001b[0m\u001b[1;33m\u001b[0m\u001b[1;33m\u001b[0m\u001b[0m\n\u001b[0;32m    343\u001b[0m             \u001b[0mmethod\u001b[0m \u001b[1;33m=\u001b[0m \u001b[0mget_real_method\u001b[0m\u001b[1;33m(\u001b[0m\u001b[0mobj\u001b[0m\u001b[1;33m,\u001b[0m \u001b[0mself\u001b[0m\u001b[1;33m.\u001b[0m\u001b[0mprint_method\u001b[0m\u001b[1;33m)\u001b[0m\u001b[1;33m\u001b[0m\u001b[1;33m\u001b[0m\u001b[0m\n",
      "\u001b[1;32mc:\\users\\keith\\appdata\\local\\programs\\python\\python37\\lib\\site-packages\\IPython\\core\\pylabtools.py\u001b[0m in \u001b[0;36m<lambda>\u001b[1;34m(fig)\u001b[0m\n\u001b[0;32m    242\u001b[0m \u001b[1;33m\u001b[0m\u001b[0m\n\u001b[0;32m    243\u001b[0m     \u001b[1;32mif\u001b[0m \u001b[1;34m'png'\u001b[0m \u001b[1;32min\u001b[0m \u001b[0mformats\u001b[0m\u001b[1;33m:\u001b[0m\u001b[1;33m\u001b[0m\u001b[1;33m\u001b[0m\u001b[0m\n\u001b[1;32m--> 244\u001b[1;33m         \u001b[0mpng_formatter\u001b[0m\u001b[1;33m.\u001b[0m\u001b[0mfor_type\u001b[0m\u001b[1;33m(\u001b[0m\u001b[0mFigure\u001b[0m\u001b[1;33m,\u001b[0m \u001b[1;32mlambda\u001b[0m \u001b[0mfig\u001b[0m\u001b[1;33m:\u001b[0m \u001b[0mprint_figure\u001b[0m\u001b[1;33m(\u001b[0m\u001b[0mfig\u001b[0m\u001b[1;33m,\u001b[0m \u001b[1;34m'png'\u001b[0m\u001b[1;33m,\u001b[0m \u001b[1;33m**\u001b[0m\u001b[0mkwargs\u001b[0m\u001b[1;33m)\u001b[0m\u001b[1;33m)\u001b[0m\u001b[1;33m\u001b[0m\u001b[1;33m\u001b[0m\u001b[0m\n\u001b[0m\u001b[0;32m    245\u001b[0m     \u001b[1;32mif\u001b[0m \u001b[1;34m'retina'\u001b[0m \u001b[1;32min\u001b[0m \u001b[0mformats\u001b[0m \u001b[1;32mor\u001b[0m \u001b[1;34m'png2x'\u001b[0m \u001b[1;32min\u001b[0m \u001b[0mformats\u001b[0m\u001b[1;33m:\u001b[0m\u001b[1;33m\u001b[0m\u001b[1;33m\u001b[0m\u001b[0m\n\u001b[0;32m    246\u001b[0m         \u001b[0mpng_formatter\u001b[0m\u001b[1;33m.\u001b[0m\u001b[0mfor_type\u001b[0m\u001b[1;33m(\u001b[0m\u001b[0mFigure\u001b[0m\u001b[1;33m,\u001b[0m \u001b[1;32mlambda\u001b[0m \u001b[0mfig\u001b[0m\u001b[1;33m:\u001b[0m \u001b[0mretina_figure\u001b[0m\u001b[1;33m(\u001b[0m\u001b[0mfig\u001b[0m\u001b[1;33m,\u001b[0m \u001b[1;33m**\u001b[0m\u001b[0mkwargs\u001b[0m\u001b[1;33m)\u001b[0m\u001b[1;33m)\u001b[0m\u001b[1;33m\u001b[0m\u001b[1;33m\u001b[0m\u001b[0m\n",
      "\u001b[1;32mc:\\users\\keith\\appdata\\local\\programs\\python\\python37\\lib\\site-packages\\IPython\\core\\pylabtools.py\u001b[0m in \u001b[0;36mprint_figure\u001b[1;34m(fig, fmt, bbox_inches, **kwargs)\u001b[0m\n\u001b[0;32m    126\u001b[0m \u001b[1;33m\u001b[0m\u001b[0m\n\u001b[0;32m    127\u001b[0m     \u001b[0mbytes_io\u001b[0m \u001b[1;33m=\u001b[0m \u001b[0mBytesIO\u001b[0m\u001b[1;33m(\u001b[0m\u001b[1;33m)\u001b[0m\u001b[1;33m\u001b[0m\u001b[1;33m\u001b[0m\u001b[0m\n\u001b[1;32m--> 128\u001b[1;33m     \u001b[0mfig\u001b[0m\u001b[1;33m.\u001b[0m\u001b[0mcanvas\u001b[0m\u001b[1;33m.\u001b[0m\u001b[0mprint_figure\u001b[0m\u001b[1;33m(\u001b[0m\u001b[0mbytes_io\u001b[0m\u001b[1;33m,\u001b[0m \u001b[1;33m**\u001b[0m\u001b[0mkw\u001b[0m\u001b[1;33m)\u001b[0m\u001b[1;33m\u001b[0m\u001b[1;33m\u001b[0m\u001b[0m\n\u001b[0m\u001b[0;32m    129\u001b[0m     \u001b[0mdata\u001b[0m \u001b[1;33m=\u001b[0m \u001b[0mbytes_io\u001b[0m\u001b[1;33m.\u001b[0m\u001b[0mgetvalue\u001b[0m\u001b[1;33m(\u001b[0m\u001b[1;33m)\u001b[0m\u001b[1;33m\u001b[0m\u001b[1;33m\u001b[0m\u001b[0m\n\u001b[0;32m    130\u001b[0m     \u001b[1;32mif\u001b[0m \u001b[0mfmt\u001b[0m \u001b[1;33m==\u001b[0m \u001b[1;34m'svg'\u001b[0m\u001b[1;33m:\u001b[0m\u001b[1;33m\u001b[0m\u001b[1;33m\u001b[0m\u001b[0m\n",
      "\u001b[1;32mc:\\users\\keith\\appdata\\local\\programs\\python\\python37\\lib\\site-packages\\matplotlib\\backend_bases.py\u001b[0m in \u001b[0;36mprint_figure\u001b[1;34m(self, filename, dpi, facecolor, edgecolor, orientation, format, bbox_inches, **kwargs)\u001b[0m\n\u001b[0;32m   2073\u001b[0m                     \u001b[0morientation\u001b[0m\u001b[1;33m=\u001b[0m\u001b[0morientation\u001b[0m\u001b[1;33m,\u001b[0m\u001b[1;33m\u001b[0m\u001b[1;33m\u001b[0m\u001b[0m\n\u001b[0;32m   2074\u001b[0m                     \u001b[0mbbox_inches_restore\u001b[0m\u001b[1;33m=\u001b[0m\u001b[0m_bbox_inches_restore\u001b[0m\u001b[1;33m,\u001b[0m\u001b[1;33m\u001b[0m\u001b[1;33m\u001b[0m\u001b[0m\n\u001b[1;32m-> 2075\u001b[1;33m                     **kwargs)\n\u001b[0m\u001b[0;32m   2076\u001b[0m             \u001b[1;32mfinally\u001b[0m\u001b[1;33m:\u001b[0m\u001b[1;33m\u001b[0m\u001b[1;33m\u001b[0m\u001b[0m\n\u001b[0;32m   2077\u001b[0m                 \u001b[1;32mif\u001b[0m \u001b[0mbbox_inches\u001b[0m \u001b[1;32mand\u001b[0m \u001b[0mrestore_bbox\u001b[0m\u001b[1;33m:\u001b[0m\u001b[1;33m\u001b[0m\u001b[1;33m\u001b[0m\u001b[0m\n",
      "\u001b[1;32mc:\\users\\keith\\appdata\\local\\programs\\python\\python37\\lib\\site-packages\\matplotlib\\backends\\backend_agg.py\u001b[0m in \u001b[0;36mprint_png\u001b[1;34m(self, filename_or_obj, *args, **kwargs)\u001b[0m\n\u001b[0;32m    508\u001b[0m \u001b[1;33m\u001b[0m\u001b[0m\n\u001b[0;32m    509\u001b[0m         \"\"\"\n\u001b[1;32m--> 510\u001b[1;33m         \u001b[0mFigureCanvasAgg\u001b[0m\u001b[1;33m.\u001b[0m\u001b[0mdraw\u001b[0m\u001b[1;33m(\u001b[0m\u001b[0mself\u001b[0m\u001b[1;33m)\u001b[0m\u001b[1;33m\u001b[0m\u001b[1;33m\u001b[0m\u001b[0m\n\u001b[0m\u001b[0;32m    511\u001b[0m         \u001b[0mrenderer\u001b[0m \u001b[1;33m=\u001b[0m \u001b[0mself\u001b[0m\u001b[1;33m.\u001b[0m\u001b[0mget_renderer\u001b[0m\u001b[1;33m(\u001b[0m\u001b[1;33m)\u001b[0m\u001b[1;33m\u001b[0m\u001b[1;33m\u001b[0m\u001b[0m\n\u001b[0;32m    512\u001b[0m \u001b[1;33m\u001b[0m\u001b[0m\n",
      "\u001b[1;32mc:\\users\\keith\\appdata\\local\\programs\\python\\python37\\lib\\site-packages\\matplotlib\\backends\\backend_agg.py\u001b[0m in \u001b[0;36mdraw\u001b[1;34m(self)\u001b[0m\n\u001b[0;32m    394\u001b[0m         \u001b[0mDraw\u001b[0m \u001b[0mthe\u001b[0m \u001b[0mfigure\u001b[0m \u001b[0musing\u001b[0m \u001b[0mthe\u001b[0m \u001b[0mrenderer\u001b[0m\u001b[1;33m.\u001b[0m\u001b[1;33m\u001b[0m\u001b[1;33m\u001b[0m\u001b[0m\n\u001b[0;32m    395\u001b[0m         \"\"\"\n\u001b[1;32m--> 396\u001b[1;33m         \u001b[0mself\u001b[0m\u001b[1;33m.\u001b[0m\u001b[0mrenderer\u001b[0m \u001b[1;33m=\u001b[0m \u001b[0mself\u001b[0m\u001b[1;33m.\u001b[0m\u001b[0mget_renderer\u001b[0m\u001b[1;33m(\u001b[0m\u001b[0mcleared\u001b[0m\u001b[1;33m=\u001b[0m\u001b[1;32mTrue\u001b[0m\u001b[1;33m)\u001b[0m\u001b[1;33m\u001b[0m\u001b[1;33m\u001b[0m\u001b[0m\n\u001b[0m\u001b[0;32m    397\u001b[0m         \u001b[1;31m# acquire a lock on the shared font cache\u001b[0m\u001b[1;33m\u001b[0m\u001b[1;33m\u001b[0m\u001b[1;33m\u001b[0m\u001b[0m\n\u001b[0;32m    398\u001b[0m         \u001b[0mRendererAgg\u001b[0m\u001b[1;33m.\u001b[0m\u001b[0mlock\u001b[0m\u001b[1;33m.\u001b[0m\u001b[0macquire\u001b[0m\u001b[1;33m(\u001b[0m\u001b[1;33m)\u001b[0m\u001b[1;33m\u001b[0m\u001b[1;33m\u001b[0m\u001b[0m\n",
      "\u001b[1;32mc:\\users\\keith\\appdata\\local\\programs\\python\\python37\\lib\\site-packages\\matplotlib\\backends\\backend_agg.py\u001b[0m in \u001b[0;36mget_renderer\u001b[1;34m(self, cleared)\u001b[0m\n\u001b[0;32m    415\u001b[0m \u001b[1;33m\u001b[0m\u001b[0m\n\u001b[0;32m    416\u001b[0m         \u001b[1;32mif\u001b[0m \u001b[0mneed_new_renderer\u001b[0m\u001b[1;33m:\u001b[0m\u001b[1;33m\u001b[0m\u001b[1;33m\u001b[0m\u001b[0m\n\u001b[1;32m--> 417\u001b[1;33m             \u001b[0mself\u001b[0m\u001b[1;33m.\u001b[0m\u001b[0mrenderer\u001b[0m \u001b[1;33m=\u001b[0m \u001b[0mRendererAgg\u001b[0m\u001b[1;33m(\u001b[0m\u001b[0mw\u001b[0m\u001b[1;33m,\u001b[0m \u001b[0mh\u001b[0m\u001b[1;33m,\u001b[0m \u001b[0mself\u001b[0m\u001b[1;33m.\u001b[0m\u001b[0mfigure\u001b[0m\u001b[1;33m.\u001b[0m\u001b[0mdpi\u001b[0m\u001b[1;33m)\u001b[0m\u001b[1;33m\u001b[0m\u001b[1;33m\u001b[0m\u001b[0m\n\u001b[0m\u001b[0;32m    418\u001b[0m             \u001b[0mself\u001b[0m\u001b[1;33m.\u001b[0m\u001b[0m_lastKey\u001b[0m \u001b[1;33m=\u001b[0m \u001b[0mkey\u001b[0m\u001b[1;33m\u001b[0m\u001b[1;33m\u001b[0m\u001b[0m\n\u001b[0;32m    419\u001b[0m         \u001b[1;32melif\u001b[0m \u001b[0mcleared\u001b[0m\u001b[1;33m:\u001b[0m\u001b[1;33m\u001b[0m\u001b[1;33m\u001b[0m\u001b[0m\n",
      "\u001b[1;32mc:\\users\\keith\\appdata\\local\\programs\\python\\python37\\lib\\site-packages\\matplotlib\\backends\\backend_agg.py\u001b[0m in \u001b[0;36m__init__\u001b[1;34m(self, width, height, dpi)\u001b[0m\n\u001b[0;32m     85\u001b[0m         \u001b[0mself\u001b[0m\u001b[1;33m.\u001b[0m\u001b[0mwidth\u001b[0m \u001b[1;33m=\u001b[0m \u001b[0mwidth\u001b[0m\u001b[1;33m\u001b[0m\u001b[1;33m\u001b[0m\u001b[0m\n\u001b[0;32m     86\u001b[0m         \u001b[0mself\u001b[0m\u001b[1;33m.\u001b[0m\u001b[0mheight\u001b[0m \u001b[1;33m=\u001b[0m \u001b[0mheight\u001b[0m\u001b[1;33m\u001b[0m\u001b[1;33m\u001b[0m\u001b[0m\n\u001b[1;32m---> 87\u001b[1;33m         \u001b[0mself\u001b[0m\u001b[1;33m.\u001b[0m\u001b[0m_renderer\u001b[0m \u001b[1;33m=\u001b[0m \u001b[0m_RendererAgg\u001b[0m\u001b[1;33m(\u001b[0m\u001b[0mint\u001b[0m\u001b[1;33m(\u001b[0m\u001b[0mwidth\u001b[0m\u001b[1;33m)\u001b[0m\u001b[1;33m,\u001b[0m \u001b[0mint\u001b[0m\u001b[1;33m(\u001b[0m\u001b[0mheight\u001b[0m\u001b[1;33m)\u001b[0m\u001b[1;33m,\u001b[0m \u001b[0mdpi\u001b[0m\u001b[1;33m)\u001b[0m\u001b[1;33m\u001b[0m\u001b[1;33m\u001b[0m\u001b[0m\n\u001b[0m\u001b[0;32m     88\u001b[0m         \u001b[0mself\u001b[0m\u001b[1;33m.\u001b[0m\u001b[0m_filter_renderers\u001b[0m \u001b[1;33m=\u001b[0m \u001b[1;33m[\u001b[0m\u001b[1;33m]\u001b[0m\u001b[1;33m\u001b[0m\u001b[1;33m\u001b[0m\u001b[0m\n\u001b[0;32m     89\u001b[0m \u001b[1;33m\u001b[0m\u001b[0m\n",
      "\u001b[1;31mValueError\u001b[0m: Image size of 390x71141 pixels is too large. It must be less than 2^16 in each direction."
     ]
    },
    {
     "data": {
      "text/plain": [
       "<Figure size 432x288 with 1 Axes>"
      ]
     },
     "metadata": {
      "needs_background": "light"
     },
     "output_type": "display_data"
    }
   ],
   "source": [
    "sns.lineplot(mtaa.ScheduledArrivalTime.dt.hour, mtaa.Late_Bus, hue=mtaa.VehicleRef )"
   ]
  },
  {
   "cell_type": "markdown",
   "metadata": {},
   "source": []
  },
  {
   "cell_type": "code",
   "execution_count": 442,
   "metadata": {},
   "outputs": [
    {
     "data": {
      "text/plain": [
       "Ttest_indResult(statistic=-1.9922847018747565, pvalue=0.046386610703439336)"
      ]
     },
     "execution_count": 442,
     "metadata": {},
     "output_type": "execute_result"
    }
   ],
   "source": [
    "stats.ttest_ind(mtaa[mtaa.DirectionRef==0].Late_Bus,mtaa[mtaa.DirectionRef==1].Late_Bus)"
   ]
  },
  {
   "cell_type": "code",
   "execution_count": 476,
   "metadata": {},
   "outputs": [
    {
     "data": {
      "image/png": "[encoded data removed]",
      "text/plain": [
       "<Figure size 576x432 with 1 Axes>"
      ]
     },
     "metadata": {
      "needs_background": "light"
     },
     "output_type": "display_data"
    }
   ],
   "source": [
    "plt.figure(figsize=(8,6))\n",
    "sns.barplot(mtaa.ScheduledArrivalTime.dt.day_name(), mtaa.Late_Bus,palette=\"Greens_d\")\n",
    "plt.title('Average Bus Delay by Weekday')\n",
    "plt.show()"
   ]
  },
  {
   "cell_type": "code",
   "execution_count": 3,
   "metadata": {},
   "outputs": [
    {
     "ename": "NameError",
     "evalue": "name 'mtaa' is not defined",
     "output_type": "error",
     "traceback": [
      "\u001b[1;31m---------------------------------------------------------------------------\u001b[0m",
      "\u001b[1;31mNameError\u001b[0m                                 Traceback (most recent call last)",
      "\u001b[1;32m<ipython-input-3-98c835496f34>\u001b[0m in \u001b[0;36m<module>\u001b[1;34m\u001b[0m\n\u001b[0;32m      1\u001b[0m \u001b[1;31m# Test between the means of the percentage of late busses of the days of the week\u001b[0m\u001b[1;33m\u001b[0m\u001b[1;33m\u001b[0m\u001b[1;33m\u001b[0m\u001b[0m\n\u001b[1;32m----> 2\u001b[1;33m \u001b[1;32mfor\u001b[0m \u001b[0mi\u001b[0m \u001b[1;32min\u001b[0m \u001b[0mrange\u001b[0m\u001b[1;33m(\u001b[0m\u001b[0mlen\u001b[0m\u001b[1;33m(\u001b[0m\u001b[0mmtaa\u001b[0m\u001b[1;33m.\u001b[0m\u001b[0mScheduledArrivalTime\u001b[0m\u001b[1;33m.\u001b[0m\u001b[0mdt\u001b[0m\u001b[1;33m.\u001b[0m\u001b[0mday_name\u001b[0m\u001b[1;33m(\u001b[0m\u001b[1;33m)\u001b[0m\u001b[1;33m.\u001b[0m\u001b[0munique\u001b[0m\u001b[1;33m(\u001b[0m\u001b[1;33m)\u001b[0m\u001b[1;33m)\u001b[0m\u001b[1;33m)\u001b[0m\u001b[1;33m:\u001b[0m\u001b[1;33m\u001b[0m\u001b[1;33m\u001b[0m\u001b[0m\n\u001b[0m\u001b[0;32m      3\u001b[0m         \u001b[1;32mfor\u001b[0m \u001b[0mj\u001b[0m \u001b[1;32min\u001b[0m \u001b[0mrange\u001b[0m\u001b[1;33m(\u001b[0m\u001b[0mi\u001b[0m\u001b[1;33m+\u001b[0m\u001b[1;36m1\u001b[0m\u001b[1;33m,\u001b[0m\u001b[1;36m7\u001b[0m\u001b[1;33m)\u001b[0m\u001b[1;33m:\u001b[0m\u001b[1;33m\u001b[0m\u001b[1;33m\u001b[0m\u001b[0m\n\u001b[0;32m      4\u001b[0m             \u001b[0mprint\u001b[0m\u001b[1;33m(\u001b[0m\u001b[0mmtaa\u001b[0m\u001b[1;33m.\u001b[0m\u001b[0mScheduledArrivalTime\u001b[0m\u001b[1;33m.\u001b[0m\u001b[0mdt\u001b[0m\u001b[1;33m.\u001b[0m\u001b[0mday_name\u001b[0m\u001b[1;33m(\u001b[0m\u001b[1;33m)\u001b[0m\u001b[1;33m.\u001b[0m\u001b[0munique\u001b[0m\u001b[1;33m(\u001b[0m\u001b[1;33m)\u001b[0m\u001b[1;33m[\u001b[0m\u001b[0mi\u001b[0m\u001b[1;33m]\u001b[0m\u001b[1;33m,\u001b[0m\u001b[1;34m' vs '\u001b[0m\u001b[1;33m,\u001b[0m\u001b[0mmtaa\u001b[0m\u001b[1;33m.\u001b[0m\u001b[0mScheduledArrivalTime\u001b[0m\u001b[1;33m.\u001b[0m\u001b[0mdt\u001b[0m\u001b[1;33m.\u001b[0m\u001b[0mday_name\u001b[0m\u001b[1;33m(\u001b[0m\u001b[1;33m)\u001b[0m\u001b[1;33m.\u001b[0m\u001b[0munique\u001b[0m\u001b[1;33m(\u001b[0m\u001b[1;33m)\u001b[0m\u001b[1;33m[\u001b[0m\u001b[0mj\u001b[0m\u001b[1;33m]\u001b[0m\u001b[1;33m)\u001b[0m\u001b[1;33m\u001b[0m\u001b[1;33m\u001b[0m\u001b[0m\n\u001b[0;32m      5\u001b[0m             print(stats.ttest_ind(\n",
      "\u001b[1;31mNameError\u001b[0m: name 'mtaa' is not defined"
     ]
    }
   ],
   "source": [
    "# Test between the means of the percentage of late busses of the days of the week\n",
    "for i in range(len(mtaa.ScheduledArrivalTime.dt.day_name().unique())):\n",
    "        for j in range(i+1,7):\n",
    "            print(mtaa.ScheduledArrivalTime.dt.day_name().unique()[i],' vs ',mtaa.ScheduledArrivalTime.dt.day_name().unique()[j]) \n",
    "            print(stats.ttest_ind(\n",
    "                mtaa[mtaa.ScheduledArrivalTime.dt.day_name()==mtaa.ScheduledArrivalTime.dt.day_name.unique()[i]]['Late_Bus'], \n",
    "                mtaa[mtaa.ScheduledArrivalTime.dt.day_name()==mtaa.ScheduledArrivalTime.dt.day_name.unique()[j]]['Late_Bus']))"
   ]
  },
  {
   "cell_type": "markdown",
   "metadata": {},
   "source": [
    "Days that have statistically significant differences in percentage of late busses.\n",
    "\n",
    "Monday vs Sunday<br/>\n",
    "Monday vs Tuesday<br/>\n",
    "Monday vs Wednesday<br/>\n",
    "Monday vs Thurday<br/>\n",
    "Monday vs Friday<br/>\n",
    "Monday vs Saturday<br/>\n",
    " \n",
    " \n",
    "\n",
    "   \n",
    " \n",
    " \n",
    " "
   ]
  },
  {
   "cell_type": "code",
   "execution_count": 393,
   "metadata": {},
   "outputs": [
    {
     "data": {
      "text/html": [
       "<div>\n",
       "<style scoped>\n",
       "    .dataframe tbody tr th:only-of-type {\n",
       "        vertical-align: middle;\n",
       "    }\n",
       "\n",
       "    .dataframe tbody tr th {\n",
       "        vertical-align: top;\n",
       "    }\n",
       "\n",
       "    .dataframe thead th {\n",
       "        text-align: right;\n",
       "    }\n",
       "</style>\n",
       "<table border=\"1\" class=\"dataframe\">\n",
       "  <thead>\n",
       "    <tr style=\"text-align: right;\">\n",
       "      <th></th>\n",
       "      <th>Time_delay</th>\n",
       "      <th>dist_from_stop_in_feet</th>\n",
       "    </tr>\n",
       "    <tr>\n",
       "      <th>ScheduledArrivalTime</th>\n",
       "      <th></th>\n",
       "      <th></th>\n",
       "    </tr>\n",
       "  </thead>\n",
       "  <tbody>\n",
       "    <tr>\n",
       "      <th>Friday</th>\n",
       "      <td>5.818905</td>\n",
       "      <td>807.473809</td>\n",
       "    </tr>\n",
       "    <tr>\n",
       "      <th>Monday</th>\n",
       "      <td>3.195730</td>\n",
       "      <td>740.696453</td>\n",
       "    </tr>\n",
       "    <tr>\n",
       "      <th>Saturday</th>\n",
       "      <td>6.511182</td>\n",
       "      <td>536.102821</td>\n",
       "    </tr>\n",
       "    <tr>\n",
       "      <th>Sunday</th>\n",
       "      <td>6.194323</td>\n",
       "      <td>641.113131</td>\n",
       "    </tr>\n",
       "    <tr>\n",
       "      <th>Thursday</th>\n",
       "      <td>5.246525</td>\n",
       "      <td>919.288156</td>\n",
       "    </tr>\n",
       "    <tr>\n",
       "      <th>Tuesday</th>\n",
       "      <td>4.619501</td>\n",
       "      <td>853.294078</td>\n",
       "    </tr>\n",
       "    <tr>\n",
       "      <th>Wednesday</th>\n",
       "      <td>5.597576</td>\n",
       "      <td>1214.244411</td>\n",
       "    </tr>\n",
       "  </tbody>\n",
       "</table>\n",
       "</div>"
      ],
      "text/plain": [
       "                      Time_delay  dist_from_stop_in_feet\n",
       "ScheduledArrivalTime                                    \n",
       "Friday                  5.818905              807.473809\n",
       "Monday                  3.195730              740.696453\n",
       "Saturday                6.511182              536.102821\n",
       "Sunday                  6.194323              641.113131\n",
       "Thursday                5.246525              919.288156\n",
       "Tuesday                 4.619501              853.294078\n",
       "Wednesday               5.597576             1214.244411"
      ]
     },
     "execution_count": 393,
     "metadata": {},
     "output_type": "execute_result"
    }
   ],
   "source": [
    "mtaa.groupby(mtaa.ScheduledArrivalTime.dt.day_name() ).mean()[[\"Time_delay\", \"dist_from_stop_in_feet\"]][:10]"
   ]
  },
  {
   "cell_type": "code",
   "execution_count": 20,
   "metadata": {},
   "outputs": [
    {
     "data": {
      "text/html": [
       "<div>\n",
       "<style scoped>\n",
       "    .dataframe tbody tr th:only-of-type {\n",
       "        vertical-align: middle;\n",
       "    }\n",
       "\n",
       "    .dataframe tbody tr th {\n",
       "        vertical-align: top;\n",
       "    }\n",
       "\n",
       "    .dataframe thead th {\n",
       "        text-align: right;\n",
       "    }\n",
       "</style>\n",
       "<table border=\"1\" class=\"dataframe\">\n",
       "  <thead>\n",
       "    <tr style=\"text-align: right;\">\n",
       "      <th></th>\n",
       "      <th>Late_Bus</th>\n",
       "      <th>Time_delay</th>\n",
       "    </tr>\n",
       "    <tr>\n",
       "      <th>ScheduledArrivalTime</th>\n",
       "      <th></th>\n",
       "      <th></th>\n",
       "    </tr>\n",
       "  </thead>\n",
       "  <tbody>\n",
       "    <tr>\n",
       "      <th>Friday</th>\n",
       "      <td>0.132552</td>\n",
       "      <td>6.128945</td>\n",
       "    </tr>\n",
       "    <tr>\n",
       "      <th>Monday</th>\n",
       "      <td>0.090278</td>\n",
       "      <td>4.275463</td>\n",
       "    </tr>\n",
       "    <tr>\n",
       "      <th>Saturday</th>\n",
       "      <td>0.132045</td>\n",
       "      <td>6.510467</td>\n",
       "    </tr>\n",
       "    <tr>\n",
       "      <th>Sunday</th>\n",
       "      <td>0.130045</td>\n",
       "      <td>6.594170</td>\n",
       "    </tr>\n",
       "    <tr>\n",
       "      <th>Thursday</th>\n",
       "      <td>0.124661</td>\n",
       "      <td>5.652213</td>\n",
       "    </tr>\n",
       "    <tr>\n",
       "      <th>Tuesday</th>\n",
       "      <td>0.087224</td>\n",
       "      <td>4.873464</td>\n",
       "    </tr>\n",
       "    <tr>\n",
       "      <th>Wednesday</th>\n",
       "      <td>0.126928</td>\n",
       "      <td>5.957295</td>\n",
       "    </tr>\n",
       "  </tbody>\n",
       "</table>\n",
       "</div>"
      ],
      "text/plain": [
       "                      Late_Bus  Time_delay\n",
       "ScheduledArrivalTime                      \n",
       "Friday                0.132552    6.128945\n",
       "Monday                0.090278    4.275463\n",
       "Saturday              0.132045    6.510467\n",
       "Sunday                0.130045    6.594170\n",
       "Thursday              0.124661    5.652213\n",
       "Tuesday               0.087224    4.873464\n",
       "Wednesday             0.126928    5.957295"
      ]
     },
     "execution_count": 20,
     "metadata": {},
     "output_type": "execute_result"
    }
   ],
   "source": [
    "mtaa.groupby(mtaa.ScheduledArrivalTime.dt.day_name()).mean()[['Late_Bus','Time_delay']]"
   ]
  },
  {
   "cell_type": "code",
   "execution_count": 351,
   "metadata": {},
   "outputs": [],
   "source": [
    "# \n",
    "mtaa['hours'] = mtaa.ScheduledArrivalTime.dt.hour"
   ]
  },
  {
   "cell_type": "code",
   "execution_count": 44,
   "metadata": {},
   "outputs": [],
   "source": [
    "mtaa['day_of_month'] = mtaa.ScheduledArrivalTime.dt.day"
   ]
  },
  {
   "cell_type": "code",
   "execution_count": 276,
   "metadata": {},
   "outputs": [],
   "source": [
    "mta['day'] = mta.ScheduledArrivalTime.dt.day"
   ]
  },
  {
   "cell_type": "code",
   "execution_count": 356,
   "metadata": {},
   "outputs": [],
   "source": [
    "mtaa = pd.concat([mtaa, pd.get_dummies(mtaa.day_of_week.astype('category'),drop_first=True),], axis=1)"
   ]
  },
  {
   "cell_type": "code",
   "execution_count": 299,
   "metadata": {},
   "outputs": [],
   "source": [
    "mtaa = pd.concat([mtaa, pd.get_dummies(mtaa.time_of_day.astype('category'),drop_first=True),], axis=1)"
   ]
  },
  {
   "cell_type": "code",
   "execution_count": 367,
   "metadata": {},
   "outputs": [],
   "source": [
    "mtaa = pd.concat([mtaa, pd.get_dummies(mtaa.hours.astype('category'),drop_first=True),], axis=1)"
   ]
  },
  {
   "cell_type": "code",
   "execution_count": 474,
   "metadata": {},
   "outputs": [
    {
     "data": {
      "image/png": "[encoded data removed]",
      "text/plain": [
       "<Figure size 432x288 with 1 Axes>"
      ]
     },
     "metadata": {
      "needs_background": "light"
     },
     "output_type": "display_data"
    }
   ],
   "source": [
    "mtaa['winsor_dist'] = winsorize(mtaa[\"dist_from_stop_in_feet\"], (.1, .1))\n",
    "plt.boxplot(winsorize(mta[\"dist_from_stop_in_feet\"], (.1, .1)))\n",
    "plt.title('Winsorized Distance from Stop')\n",
    "plt.show()"
   ]
  },
  {
   "cell_type": "code",
   "execution_count": 388,
   "metadata": {},
   "outputs": [
    {
     "name": "stdout",
     "output_type": "stream",
     "text": [
      "['winsor_dist', 'day', 'evening', 'morning', 'night', 1, 2, 3, 4, 5, 6, 7, 8, 9, 10, 11, 12, 13, 14, 15, 16, 17, 18, 19, 20, 21, 22, 23, 'Monday', 'Saturday', 'Sunday', 'Thursday', 'Tuesday', 'Wednesday']\n"
     ]
    }
   ],
   "source": [
    "features= [  'winsor_dist','day','evening', 'morning',\n",
    "       'night',1,2,3,4,5,6,7,8,9,10,11,12,13,14,15,16,17,18,19,20,21,22,23,'Monday',               'Saturday',\n",
    "                       'Sunday',               'Thursday',\n",
    "                      'Tuesday',              'Wednesday',]\n",
    "       \n",
    " \n",
    "# mta_sample = mta[mta.ScheduledArrivalTime.dt.day<27].sample(frac=.001,random_state=20)\n",
    "Y = mtaa['Late_Bus'] \n",
    "X = mtaa[features].astype(float)\n",
    "\n",
    "\n",
    "from sklearn.model_selection import train_test_split\n",
    "# Use train_test_split to create the necessary training and test groups\n",
    "X_train, X_test, y_train, y_test = train_test_split(X, Y, test_size=.2, random_state=20)\n",
    "\n",
    " # Automatic feature selection with SelectKbest\n",
    "import sklearn.feature_selection \n",
    "#from sklearn.feature_selection import f_regression\n",
    "select =sklearn.feature_selection.SelectKBest()\n",
    "selected_features = select.fit(X_train, y_train)\n",
    "indicies_selected = selected_features.get_support(indices=True)\n",
    "colnames_selected = [X.columns[i] for i in indicies_selected]\n",
    "X_selected = X[colnames_selected]\n",
    "print(colnames_selected)\n",
    "x_train_selected = X_train[colnames_selected]\n",
    "x_test_selected = X_test[colnames_selected]\n",
    "\n",
    "X = mtaa[colnames_selected]\n",
    "Y = mtaa['Late_Bus']\n",
    "\n",
    "from sklearn.preprocessing import StandardScaler\n",
    "scaler = StandardScaler()\n",
    "\n",
    "scaler.fit(x_train_selected) \n",
    "X_train = scaler.transform(x_train_selected)\n",
    "X_test = scaler.transform(x_test_selected)\n",
    "\n"
   ]
  },
  {
   "cell_type": "code",
   "execution_count": 389,
   "metadata": {},
   "outputs": [],
   "source": [
    " # Create balanced classes for the training set\n",
    "import imblearn\n",
    "from imblearn.over_sampling import RandomOverSampler\n",
    "\n",
    "ros = RandomOverSampler(random_state=20)\n",
    "X_train, y_train = ros.fit_sample(X_train, y_train)\n"
   ]
  },
  {
   "cell_type": "code",
   "execution_count": 390,
   "metadata": {},
   "outputs": [],
   "source": [
    "from sklearn.naive_bayes import MultinomialNB\n",
    "from sklearn.neighbors import KNeighborsClassifier\n",
    "from sklearn import tree\n",
    "from sklearn import ensemble\n",
    "from sklearn.model_selection import cross_val_score\n",
    "from sklearn.svm import SVC\n",
    "from sklearn import ensemble \n",
    "from sklearn.metrics import recall_score\n",
    "from sklearn.metrics import classification_report"
   ]
  },
  {
   "cell_type": "code",
   "execution_count": 391,
   "metadata": {
    "scrolled": false
   },
   "outputs": [
    {
     "name": "stdout",
     "output_type": "stream",
     "text": [
      "KNeighborsClassifier(algorithm='auto', leaf_size=30, metric='minkowski',\n",
      "           metric_params=None, n_jobs=None, n_neighbors=35, p=2,\n",
      "           weights='uniform')\n",
      "[[462 414]\n",
      " [ 95 190]]\n",
      "0.5970319634703196\n",
      "0.6666666666666666\n",
      "0.5615848406546081\n",
      "              precision    recall  f1-score   support\n",
      "\n",
      "           0       0.83      0.53      0.64       876\n",
      "           1       0.31      0.67      0.43       285\n",
      "\n",
      "   micro avg       0.56      0.56      0.56      1161\n",
      "   macro avg       0.57      0.60      0.54      1161\n",
      "weighted avg       0.70      0.56      0.59      1161\n",
      "\n",
      "\n",
      "DecisionTreeClassifier(class_weight=None, criterion='gini', max_depth=None,\n",
      "            max_features=None, max_leaf_nodes=100,\n",
      "            min_impurity_decrease=0.0, min_impurity_split=None,\n",
      "            min_samples_leaf=1, min_samples_split=2,\n",
      "            min_weight_fraction_leaf=0.0, presort=False, random_state=None,\n",
      "            splitter='best')\n",
      "[[519 357]\n",
      " [120 165]]\n",
      "0.5857065609228551\n",
      "0.5789473684210527\n",
      "0.5891472868217055\n",
      "              precision    recall  f1-score   support\n",
      "\n",
      "           0       0.81      0.59      0.69       876\n",
      "           1       0.32      0.58      0.41       285\n",
      "\n",
      "   micro avg       0.59      0.59      0.59      1161\n",
      "   macro avg       0.56      0.59      0.55      1161\n",
      "weighted avg       0.69      0.59      0.62      1161\n",
      "\n",
      "\n",
      "RandomForestClassifier(bootstrap=True, class_weight='balanced',\n",
      "            criterion='gini', max_depth=None, max_features='auto',\n",
      "            max_leaf_nodes=None, min_impurity_decrease=0.0,\n",
      "            min_impurity_split=None, min_samples_leaf=1,\n",
      "            min_samples_split=2, min_weight_fraction_leaf=0.0,\n",
      "            n_estimators=100, n_jobs=None, oob_score=False,\n",
      "            random_state=None, verbose=0, warm_start=False)\n",
      "[[667 209]\n",
      " [190  95]]\n",
      "0.5473744292237442\n",
      "0.3333333333333333\n",
      "0.6563307493540051\n",
      "              precision    recall  f1-score   support\n",
      "\n",
      "           0       0.78      0.76      0.77       876\n",
      "           1       0.31      0.33      0.32       285\n",
      "\n",
      "   micro avg       0.66      0.66      0.66      1161\n",
      "   macro avg       0.55      0.55      0.55      1161\n",
      "weighted avg       0.66      0.66      0.66      1161\n",
      "\n",
      "\n",
      "LogisticRegression(C=1.0, class_weight=None, dual=False, fit_intercept=True,\n",
      "          intercept_scaling=1, max_iter=100, multi_class='warn',\n",
      "          n_jobs=None, penalty='l2', random_state=None, solver='lbfgs',\n",
      "          tol=0.0001, verbose=0, warm_start=False)\n",
      "[[473 403]\n",
      " [ 93 192]]\n",
      "0.6068192742129296\n",
      "0.6736842105263158\n",
      "0.5727820844099913\n",
      "              precision    recall  f1-score   support\n",
      "\n",
      "           0       0.84      0.54      0.66       876\n",
      "           1       0.32      0.67      0.44       285\n",
      "\n",
      "   micro avg       0.57      0.57      0.57      1161\n",
      "   macro avg       0.58      0.61      0.55      1161\n",
      "weighted avg       0.71      0.57      0.60      1161\n",
      "\n",
      "\n",
      "SVC(C=1.0, cache_size=200, class_weight=None, coef0=0.0,\n",
      "  decision_function_shape='ovr', degree=3, gamma='auto', kernel='rbf',\n",
      "  max_iter=-1, probability=True, random_state=None, shrinking=True,\n",
      "  tol=0.001, verbose=False)\n",
      "[[479 397]\n",
      " [102 183]]\n",
      "0.5944544580629656\n",
      "0.6421052631578947\n",
      "0.570198105081826\n",
      "              precision    recall  f1-score   support\n",
      "\n",
      "           0       0.82      0.55      0.66       876\n",
      "           1       0.32      0.64      0.42       285\n",
      "\n",
      "   micro avg       0.57      0.57      0.57      1161\n",
      "   macro avg       0.57      0.59      0.54      1161\n",
      "weighted avg       0.70      0.57      0.60      1161\n",
      "\n",
      "\n",
      "GradientBoostingClassifier(criterion='friedman_mse', init=None,\n",
      "              learning_rate=0.1, loss='deviance', max_depth=3,\n",
      "              max_features=None, max_leaf_nodes=None,\n",
      "              min_impurity_decrease=0.0, min_impurity_split=None,\n",
      "              min_samples_leaf=1, min_samples_split=2,\n",
      "              min_weight_fraction_leaf=0.0, n_estimators=100,\n",
      "              n_iter_no_change=None, presort='auto', random_state=None,\n",
      "              subsample=1.0, tol=0.0001, validation_fraction=0.1,\n",
      "              verbose=0, warm_start=False)\n",
      "[[482 394]\n",
      " [ 96 189]]\n",
      "0.6066931026195626\n",
      "0.6631578947368421\n",
      "0.5779500430663221\n",
      "              precision    recall  f1-score   support\n",
      "\n",
      "           0       0.83      0.55      0.66       876\n",
      "           1       0.32      0.66      0.44       285\n",
      "\n",
      "   micro avg       0.58      0.58      0.58      1161\n",
      "   macro avg       0.58      0.61      0.55      1161\n",
      "weighted avg       0.71      0.58      0.61      1161\n",
      "\n",
      "\n"
     ]
    }
   ],
   "source": [
    "mnb = MultinomialNB() \n",
    "neighbors = KNeighborsClassifier(n_neighbors=35) \n",
    "decision_tree = tree.DecisionTreeClassifier(max_leaf_nodes=100)\n",
    "rfc = ensemble.RandomForestClassifier(n_estimators=100,class_weight='balanced') \n",
    "svc = SVC(probability=True, gamma='auto') \n",
    "lr = LogisticRegression(solver='lbfgs' ) \n",
    "clf = ensemble.GradientBoostingClassifier(n_estimators=100)\n",
    "models = [ neighbors, decision_tree, rfc, lr, svc, clf]\n",
    "for model in models:\n",
    "    print(str(model))\n",
    "    model.fit(X_train,y_train)\n",
    "    y_pred = model.predict(X_test)\n",
    "    print(confusion_matrix(y_test,y_pred)) \n",
    "    print(roc_auc_score(y_test,y_pred))\n",
    "    print(recall_score(y_test,y_pred))\n",
    "    print(model.score(X_test,y_test))\n",
    "    print(classification_report(y_test,y_pred))\n",
    "    print()"
   ]
  },
  {
   "cell_type": "code",
   "execution_count": null,
   "metadata": {},
   "outputs": [],
   "source": []
  },
  {
   "cell_type": "code",
   "execution_count": null,
   "metadata": {},
   "outputs": [],
   "source": []
  },
  {
   "cell_type": "code",
   "execution_count": null,
   "metadata": {},
   "outputs": [],
   "source": []
  }
 ],
 "metadata": {
  "kernelspec": {
   "display_name": "Python 3",
   "language": "python",
   "name": "python3"
  },
  "language_info": {
   "codemirror_mode": {
    "name": "ipython",
    "version": 3
   },
   "file_extension": ".py",
   "mimetype": "text/x-python",
   "name": "python",
   "nbconvert_exporter": "python",
   "pygments_lexer": "ipython3",
   "version": "3.7.0"
  }
 },
 "nbformat": 4,
 "nbformat_minor": 2
}
