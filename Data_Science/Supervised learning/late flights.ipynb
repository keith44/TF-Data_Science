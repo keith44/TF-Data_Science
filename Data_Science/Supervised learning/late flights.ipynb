{
 "cells": [
  {
   "cell_type": "code",
   "execution_count": 1,
   "metadata": {},
   "outputs": [],
   "source": [
    "import re\n",
    "import time\n",
    "import math\n",
    "%matplotlib inline\n",
    "import pandas as pd\n",
    "import numpy as np\n",
    "import seaborn as sns\n",
    "from matplotlib import pyplot as plt\n",
    "import matplotlib.gridspec as gridspec\n",
    "from scipy import stats\n",
    "from sklearn.model_selection import GridSearchCV\n",
    "from matplotlib import pyplot\n",
    "from sklearn.metrics import confusion_matrix\n",
    "from sklearn import linear_model\n",
    "from sklearn.linear_model import LogisticRegression\n",
    "from sklearn import preprocessing \n",
    "from sklearn.model_selection import cross_val_score\n",
    "from sklearn.decomposition import PCA\n"
   ]
  },
  {
   "cell_type": "code",
   "execution_count": 2,
   "metadata": {},
   "outputs": [],
   "source": [
    "# Load data\n",
    "arrivals = pd.read_csv('C:/Users/keith/Desktop/Thinkful/2008.csv',encoding = \"ISO-8859-1\")\n",
    "\n",
    "pd.set_option('display.max_columns', None) # disables trucated columns \n",
    "pd.set_option('display.max_rows', None) # disables trucated rows\n"
   ]
  },
  {
   "cell_type": "code",
   "execution_count": 3,
   "metadata": {},
   "outputs": [],
   "source": [
    "# dropping 'CancellationCode','Cancelled' columns\n",
    "\n",
    "variables_to_remove = ['CancellationCode','Cancelled','Diverted','FlightNum','TailNum']\n",
    "arrivals = arrivals.drop(variables_to_remove, 1)"
   ]
  },
  {
   "cell_type": "code",
   "execution_count": 4,
   "metadata": {},
   "outputs": [],
   "source": [
    "arrivals.fillna({'CarrierDelay':0,\n",
    "       'WeatherDelay':0, 'NASDelay':0, 'SecurityDelay':0, 'LateAircraftDelay':0}, inplace=True)"
   ]
  },
  {
   "cell_type": "code",
   "execution_count": 5,
   "metadata": {},
   "outputs": [],
   "source": [
    "arrivals.dropna(inplace=True)"
   ]
  },
  {
   "cell_type": "code",
   "execution_count": 6,
   "metadata": {},
   "outputs": [],
   "source": [
    "arrivals['Late_arrivals'] = np.where(arrivals['ArrDelay']>30, 1, 0)\n",
    "arrivals['Late_departures'] = np.where(arrivals['DepDelay']>30, 1, 0)"
   ]
  },
  {
   "cell_type": "code",
   "execution_count": 7,
   "metadata": {},
   "outputs": [
    {
     "data": {
      "text/plain": [
       "6855029"
      ]
     },
     "execution_count": 7,
     "metadata": {},
     "output_type": "execute_result"
    }
   ],
   "source": [
    "len(arrivals)"
   ]
  },
  {
   "cell_type": "code",
   "execution_count": 8,
   "metadata": {},
   "outputs": [],
   "source": [
    "arrivals['Day'] = arrivals['DayofMonth'] \n",
    "arrivals['date'] = pd.to_datetime(arrivals[['Year','Month','Day']])\n",
    "arrivals = arrivals.drop(['Year','DayofMonth','Day','Month'],1)"
   ]
  },
  {
   "cell_type": "code",
   "execution_count": 9,
   "metadata": {},
   "outputs": [],
   "source": [
    "arr_samp = arrivals.sample(frac=.001)"
   ]
  },
  {
   "cell_type": "code",
   "execution_count": 10,
   "metadata": {},
   "outputs": [],
   "source": [
    "bins=['2008-01-01','2008-03-19','2008-06-01','2008-09-23','2008-12-21','2008-12-31']\n",
    "bin_names = ['winter','spring','summer','fall','Winter']\n",
    "arrivals['seasons'] = pd.cut(arrivals.date, pd.to_datetime(bins),labels=bin_names)\n",
    "arrivals['seasons'] = arrivals['seasons'].str.lower()\n",
    "\n",
    "\n",
    "bins=[0,600,1159,1700,2000,2359]\n",
    "bin_names = ['night','morning','afternoon','evening','Night']\n",
    "arrivals['time_of_day'] = pd.cut(arrivals.ArrTime, bins,labels=bin_names)\n",
    "arrivals['time_of_day'] = arrivals['time_of_day'].str.lower()"
   ]
  },
  {
   "cell_type": "code",
   "execution_count": 17,
   "metadata": {},
   "outputs": [
    {
     "data": {
      "text/plain": [
       "3    2198147\n",
       "4    1647780\n",
       "0    1552056\n",
       "2    1438449\n",
       "1      18597\n",
       "Name: seasons, dtype: int64"
      ]
     },
     "execution_count": 17,
     "metadata": {},
     "output_type": "execute_result"
    }
   ],
   "source": [
    "arrivals.seasons.value_counts()"
   ]
  },
  {
   "cell_type": "code",
   "execution_count": 11,
   "metadata": {},
   "outputs": [],
   "source": [
    "arrivals['seasons'] = arrivals.seasons.astype(str)\n",
    "arrivals['time_of_day'] = arrivals.seasons.astype(str)"
   ]
  },
  {
   "cell_type": "code",
   "execution_count": 18,
   "metadata": {},
   "outputs": [
    {
     "name": "stdout",
     "output_type": "stream",
     "text": [
      "['4' '1' '2' '3' '0']\n",
      "['4' '1' '2' '3' '0']\n"
     ]
    }
   ],
   "source": [
    "from sklearn import preprocessing \n",
    "  \n",
    "# label_encoder object  \n",
    "label_encoder = preprocessing.LabelEncoder() \n",
    "\n",
    "arrivals['seasons'] = arrivals.seasons.astype(str)\n",
    "arrivals['time_of_day'] = arrivals.seasons.astype(str)\n",
    "  \n",
    "# Encode labels in column  \n",
    "arrivals['seasons']= label_encoder.fit_transform(arrivals['seasons']) \n",
    "arrivals['time_of_day']= label_encoder.fit_transform(arrivals['time_of_day']) \n",
    "arrivals['seasons']= label_encoder.inverse_transform(arrivals['seasons']) \n",
    "arrivals['time_of_day']= label_encoder.inverse_transform(arrivals['time_of_day']) \n",
    " \n",
    "print(arrivals['seasons'].unique())\n",
    "print(arrivals['time_of_day'].unique()) "
   ]
  },
  {
   "cell_type": "code",
   "execution_count": 13,
   "metadata": {},
   "outputs": [
    {
     "data": {
      "text/plain": [
       "6855"
      ]
     },
     "execution_count": 13,
     "metadata": {},
     "output_type": "execute_result"
    }
   ],
   "source": [
    "arr_samp = arrivals.sample(frac=.001)\n",
    "len(arr_samp)"
   ]
  },
  {
   "cell_type": "code",
   "execution_count": 14,
   "metadata": {},
   "outputs": [
    {
     "data": {
      "text/plain": [
       "6855029"
      ]
     },
     "execution_count": 14,
     "metadata": {},
     "output_type": "execute_result"
    }
   ],
   "source": [
    "len(arrivals)"
   ]
  },
  {
   "cell_type": "markdown",
   "metadata": {},
   "source": [
    "### Preprocessing"
   ]
  },
  {
   "cell_type": "code",
   "execution_count": 28,
   "metadata": {},
   "outputs": [
    {
     "name": "stderr",
     "output_type": "stream",
     "text": [
      "c:\\users\\keith\\appdata\\local\\programs\\python\\python37\\lib\\site-packages\\sklearn\\feature_selection\\univariate_selection.py:115: RuntimeWarning: divide by zero encountered in true_divide\n",
      "  f = msb / msw\n"
     ]
    },
    {
     "name": "stdout",
     "output_type": "stream",
     "text": [
      "['DepTime', 'ActualElapsedTime', 'DepDelay', 'TaxiOut', 'CarrierDelay', 'WeatherDelay', 'NASDelay', 'LateAircraftDelay', 'Late_arrivals', 'Late_departures']\n"
     ]
    },
    {
     "name": "stderr",
     "output_type": "stream",
     "text": [
      "c:\\users\\keith\\appdata\\local\\programs\\python\\python37\\lib\\site-packages\\sklearn\\preprocessing\\data.py:645: DataConversionWarning: Data with input dtype int32, float64 were all converted to float64 by StandardScaler.\n",
      "  return self.partial_fit(X, y)\n",
      "c:\\users\\keith\\appdata\\local\\programs\\python\\python37\\lib\\site-packages\\ipykernel_launcher.py:35: DataConversionWarning: Data with input dtype int32, float64 were all converted to float64 by StandardScaler.\n",
      "c:\\users\\keith\\appdata\\local\\programs\\python\\python37\\lib\\site-packages\\ipykernel_launcher.py:36: DataConversionWarning: Data with input dtype int32, float64 were all converted to float64 by StandardScaler.\n"
     ]
    }
   ],
   "source": [
    "features =  ['DayOfWeek', 'DepTime', 'CRSDepTime',   'CRSArrTime',\n",
    "             'ActualElapsedTime','CRSElapsedTime', 'AirTime','DepDelay',  \n",
    "             'Distance', 'TaxiIn', 'TaxiOut',   'CarrierDelay','WeatherDelay',\n",
    "             'NASDelay', 'SecurityDelay', 'LateAircraftDelay','Late_arrivals', \n",
    "             'Late_departures', 'seasons', 'time_of_day']\n",
    "\n",
    "Y = arrivals['ArrDelay'] \n",
    "X = arrivals[features]\n",
    "\n",
    "\n",
    "\n",
    "from sklearn.model_selection import train_test_split\n",
    "# Use train_test_split to create the necessary training and test groups\n",
    "X_train, X_test, y_train, y_test = train_test_split(X, Y, test_size=.2, random_state=20)\n",
    "\n",
    " # Automatic feature selection with SelectKbest\n",
    "import sklearn.feature_selection \n",
    "select =sklearn.feature_selection.SelectKBest()\n",
    "selected_features = select.fit(X_train, y_train)\n",
    "indicies_selected = selected_features.get_support(indices=True)\n",
    "colnames_selected = [X.columns[i] for i in indicies_selected]\n",
    "X_selected = X[colnames_selected]\n",
    "print(colnames_selected)\n",
    "x_train_selected = X_train[colnames_selected]\n",
    "x_test_selected = X_test[colnames_selected]\n",
    "\n",
    "X = arrivals[colnames_selected]\n",
    "Y = arrivals['ArrDelay']\n",
    "\n",
    "# Standardizing data\n",
    "from sklearn.preprocessing import StandardScaler\n",
    "scaler = StandardScaler()\n",
    "\n",
    "scaler.fit(x_train_selected) \n",
    "X_train = scaler.transform(x_train_selected)\n",
    "X_test = scaler.transform(x_test_selected)\n"
   ]
  },
  {
   "cell_type": "markdown",
   "metadata": {},
   "source": [
    "# MODELING"
   ]
  },
  {
   "cell_type": "markdown",
   "metadata": {},
   "source": [
    "### Linear regression"
   ]
  },
  {
   "cell_type": "code",
   "execution_count": 16,
   "metadata": {},
   "outputs": [
    {
     "name": "stdout",
     "output_type": "stream",
     "text": [
      "With 20% Holdout: 0.9539385333943197\n",
      "Testing on Sample: 0.9539397694393765\n",
      "\n",
      "[0.95321646 0.95186312 0.95495082 0.95526254 0.95411875 0.95504302\n",
      " 0.95295627 0.95335964 0.9542019  0.95417774]\n",
      "\n",
      "Coefficients: \n",
      " [-0.17606269 -0.36848373 13.40089317  3.65096973 12.6319223   5.9128595\n",
      " 11.60397072 12.93516619  1.81895477 -1.11677705]\n",
      "\n",
      "Intercept: \n",
      " 8.153396732029757\n",
      "\n",
      "R-squared:\n",
      "0.9539397694393765\n"
     ]
    }
   ],
   "source": [
    "# Instantiate and fit our model.\n",
    "regr = linear_model.LinearRegression()\n",
    "\n",
    "regr.fit(X_train,y_train)\n",
    "\n",
    "print('With 20% Holdout: ' + str(regr.fit(X_train, y_train).score(X_test, y_test)))\n",
    "print('Testing on Sample: ' + str(regr.fit(X_test, y_test).score(X_test, y_test)))\n",
    "print()\n",
    "from sklearn.model_selection import cross_val_score\n",
    "print(cross_val_score(regr, X_test, y_test, cv=10))\n",
    "\n",
    " \n",
    " \n",
    " \n",
    "# Inspect the results.\n",
    "print('\\nCoefficients: \\n', regr.coef_)\n",
    "print('\\nIntercept: \\n', regr.intercept_)\n",
    "print('\\nR-squared:')\n",
    "print(regr.score(X_test, y_test))"
   ]
  },
  {
   "cell_type": "code",
   "execution_count": 17,
   "metadata": {},
   "outputs": [
    {
     "data": {
      "image/png": "[encoded data removed]",
      "text/plain": [
       "<Figure size 432x288 with 1 Axes>"
      ]
     },
     "metadata": {
      "needs_background": "light"
     },
     "output_type": "display_data"
    },
    {
     "data": {
      "image/png": "[encoded data removed]",
      "text/plain": [
       "<Figure size 432x288 with 1 Axes>"
      ]
     },
     "metadata": {
      "needs_background": "light"
     },
     "output_type": "display_data"
    },
    {
     "name": "stdout",
     "output_type": "stream",
     "text": [
      "RMSE: 8.263887058520423\n"
     ]
    }
   ],
   "source": [
    "predicted = regr.predict(X_test) \n",
    "actual = y_test\n",
    "# Calculate the error \n",
    "residual = actual - predicted\n",
    "\n",
    " \n",
    "plt.hist(residual)\n",
    "plt.title('Residual counts')\n",
    "plt.xlabel('Residual')\n",
    "plt.ylabel('Count')\n",
    "plt.show()\n",
    "\n",
    "\n",
    "\n",
    "plt.scatter(predicted, residual)\n",
    "plt.xlabel('Predicted')\n",
    "plt.ylabel('Residual')\n",
    "plt.axhline(y=0)\n",
    "plt.title('Residual vs. Predicted')\n",
    "plt.show()\n",
    "print ('RMSE:',(((predicted - actual) ** 2).mean() ** .5) )  \n"
   ]
  },
  {
   "cell_type": "code",
   "execution_count": 239,
   "metadata": {},
   "outputs": [
    {
     "name": "stdout",
     "output_type": "stream",
     "text": [
      "{'copy_X': True, 'normalize': True}\n",
      "0.9988254755673102\n"
     ]
    }
   ],
   "source": [
    "# Tuning hyperparameters\n",
    "param_grid = dict(normalize=[True,False],copy_X=[True,False])\n",
    "grid = GridSearchCV(regr, param_grid, cv=5, scoring=\"r2\", return_train_score=True)\n",
    "grid.fit(X_train, y_train)\n",
    "\n",
    "\n",
    "print(grid.best_params_)\n",
    "print(grid.best_score_ )"
   ]
  },
  {
   "cell_type": "code",
   "execution_count": 18,
   "metadata": {},
   "outputs": [
    {
     "name": "stdout",
     "output_type": "stream",
     "text": [
      "With 20% Holdout: 0.9539385333943196\n",
      "Testing on Sample: 0.9539397694393765\n",
      "\n",
      "[0.95321646 0.95186312 0.95495082 0.95526254 0.95411875 0.95504302\n",
      " 0.95295627 0.95335964 0.9542019  0.95417774]\n",
      "\n",
      "Coefficients: \n",
      " [-0.17606269 -0.36848373 13.40089317  3.65096973 12.6319223   5.9128595\n",
      " 11.60397072 12.93516619  1.81895477 -1.11677705]\n",
      "\n",
      "Intercept: \n",
      " 8.153396732029757\n",
      "\n",
      "R-squared:\n",
      "0.9539397694393765\n"
     ]
    }
   ],
   "source": [
    "# Instantiate and fit our model.\n",
    " \n",
    "regr = linear_model.LinearRegression(copy_X=True, normalize=True) \n",
    "regr.fit(X_train,y_train)\n",
    "\n",
    "\n",
    "print('With 20% Holdout: ' + str(regr.fit(X_train, y_train).score(X_test, y_test)))\n",
    "print('Testing on Sample: ' + str(regr.fit( X_test , y_test).score(X_test, y_test)))\n",
    "print()\n",
    "from sklearn.model_selection import cross_val_score\n",
    "print(cross_val_score(regr, X_test, y_test, cv=10))\n",
    " \n",
    " \n",
    " \n",
    "# Inspect the results.\n",
    "print('\\nCoefficients: \\n', regr.coef_)\n",
    "print('\\nIntercept: \\n', regr.intercept_)\n",
    "print('\\nR-squared:')\n",
    "print(regr.score(X_test, y_test))\n"
   ]
  },
  {
   "cell_type": "code",
   "execution_count": 19,
   "metadata": {},
   "outputs": [
    {
     "data": {
      "image/png": "[encoded data removed]",
      "text/plain": [
       "<Figure size 432x288 with 1 Axes>"
      ]
     },
     "metadata": {
      "needs_background": "light"
     },
     "output_type": "display_data"
    },
    {
     "data": {
      "image/png": "[encoded data removed]",
      "text/plain": [
       "<Figure size 432x288 with 1 Axes>"
      ]
     },
     "metadata": {
      "needs_background": "light"
     },
     "output_type": "display_data"
    },
    {
     "name": "stdout",
     "output_type": "stream",
     "text": [
      "RMSE: 8.263887058520421\n"
     ]
    }
   ],
   "source": [
    "predicted = regr.predict(X_test) \n",
    "actual = y_test\n",
    "# Calculate the error \n",
    "residual = actual - predicted\n",
    "\n",
    " \n",
    "plt.hist(residual)\n",
    "plt.title('Residual counts')\n",
    "plt.xlabel('Residual')\n",
    "plt.ylabel('Count')\n",
    "plt.show()\n",
    "\n",
    "\n",
    "\n",
    "plt.scatter(predicted, residual)\n",
    "plt.xlabel('Predicted')\n",
    "plt.ylabel('Residual')\n",
    "plt.axhline(y=0)\n",
    "plt.title('Residual vs. Predicted')\n",
    "plt.show()\n",
    "print ('RMSE:',(((predicted - actual) ** 2).mean() ** .5) )  \n",
    " "
   ]
  },
  {
   "cell_type": "markdown",
   "metadata": {},
   "source": [
    " ### KNN regression\n",
    " "
   ]
  },
  {
   "cell_type": "code",
   "execution_count": null,
   "metadata": {},
   "outputs": [],
   "source": [
    "from sklearn import neighbors\n",
    "# Build our model.\n",
    "knn = neighbors.KNeighborsRegressor(n_neighbors=10) \n",
    "knn.fit(X_train, y_train)\n",
    "\n",
    "\n",
    "print('With 20% Holdout: ' + str(knn.fit(X_train, y_train).score(X_test, y_test)))\n",
    "print('Testing on Sample: ' + str(knn.fit( X_test , y_test).score(X_test, y_test)))\n",
    "print() \n",
    "print(cross_val_score(knn, X_test, y_test, cv=10))\n",
    "\n",
    " "
   ]
  },
  {
   "cell_type": "code",
   "execution_count": null,
   "metadata": {},
   "outputs": [],
   "source": [
    "param_grid = dict(leaf_size=range(1,30),p=(1,2),n_neighbors=range(1,12),weights=['distance','uniform'])\n",
    "grid = GridSearchCV(knn, param_grid, cv=3, scoring=\"r2\", return_train_score=True,n_jobs = -1)\n",
    "grid.fit(X_train, y_train)\n",
    "\n",
    "\n",
    "print(grid.best_params_)\n",
    "print(grid.best_score_ )"
   ]
  },
  {
   "cell_type": "code",
   "execution_count": null,
   "metadata": {},
   "outputs": [],
   "source": [
    "#fit with new parameters\n",
    "knn = neighbors.KNeighborsRegressor(n_neighbors=1,p=1,leaf_size=1,weights='distance') \n",
    "knn.fit(X_train, y_train)\n",
    "\n",
    "\n",
    "print('With 20% Holdout: ' + str(knn.fit(X_train, y_train).score(X_test, y_test)))\n",
    "print('Testing on Sample: ' + str(knn.fit( X_test , y_test).score(X_test, y_test)))\n",
    "print() \n",
    "print(cross_val_score(knn, X_test, y_test, cv=10))"
   ]
  },
  {
   "cell_type": "code",
   "execution_count": null,
   "metadata": {},
   "outputs": [],
   "source": [
    "predicted = knn.predict(X_test) \n",
    "actual = y_test\n",
    "# Calculate the error \n",
    "residual = actual - predicted\n",
    "\n",
    " \n",
    "plt.hist(residual)\n",
    "plt.title('Residual counts')\n",
    "plt.xlabel('Residual')\n",
    "plt.ylabel('Count')\n",
    "plt.show()\n",
    "\n",
    "\n",
    "\n",
    "plt.scatter(predicted, residual)\n",
    "plt.xlabel('Predicted')\n",
    "plt.ylabel('Residual')\n",
    "plt.axhline(y=0)\n",
    "plt.title('Residual vs. Predicted')\n",
    "plt.show()\n",
    "print ('RMSE:',(((predicted - actual) ** 2).mean() ** .5) )  \n",
    " "
   ]
  },
  {
   "cell_type": "markdown",
   "metadata": {},
   "source": [
    "### Decision Trees"
   ]
  },
  {
   "cell_type": "code",
   "execution_count": 30,
   "metadata": {},
   "outputs": [
    {
     "name": "stdout",
     "output_type": "stream",
     "text": [
      "With 20% Holdout: 0.7639949575145674\n",
      "Testing on Sample: 0.7640757602834478\n",
      "\n",
      "[0.76833003 0.76420115 0.7581803  0.76068991 0.76873021 0.75409107\n",
      " 0.77119527 0.76507335 0.75975095 0.77125007]\n"
     ]
    }
   ],
   "source": [
    "from sklearn.tree import DecisionTreeRegressor\n",
    "# Fit regression tree model\n",
    "regr_t = DecisionTreeRegressor(max_depth=2,random_state=20) \n",
    "regr_t.fit(X_train, y_train)\n",
    "\n",
    "\n",
    "print('With 20% Holdout: ' + str(regr_t.fit(X_train, y_train).score(X_test, y_test)))\n",
    "print('Testing on Sample: ' + str(regr_t.fit( X_test , y_test).score(X_test, y_test)))\n",
    "print() \n",
    "print(cross_val_score(regr_t, X_test, y_test, cv=10))\n",
    "\n",
    " "
   ]
  },
  {
   "cell_type": "code",
   "execution_count": 41,
   "metadata": {},
   "outputs": [
    {
     "data": {
      "image/png": "[encoded data removed]",
      "text/plain": [
       "<Figure size 432x288 with 1 Axes>"
      ]
     },
     "metadata": {
      "needs_background": "light"
     },
     "output_type": "display_data"
    },
    {
     "data": {
      "image/png": "[encoded data removed]",
      "text/plain": [
       "<Figure size 432x288 with 1 Axes>"
      ]
     },
     "metadata": {
      "needs_background": "light"
     },
     "output_type": "display_data"
    },
    {
     "name": "stdout",
     "output_type": "stream",
     "text": [
      "RMSE: 7.422066187547405\n"
     ]
    }
   ],
   "source": [
    "predicted = regr_t.predict(X_test) \n",
    "actual = y_test\n",
    "# Calculate the error \n",
    "residual = actual - predicted\n",
    "\n",
    " \n",
    "plt.hist(residual)\n",
    "plt.title('Residual counts')\n",
    "plt.xlabel('Residual')\n",
    "plt.ylabel('Count')\n",
    "plt.show()\n",
    "\n",
    "\n",
    "\n",
    "plt.scatter(predicted, residual)\n",
    "plt.xlabel('Predicted')\n",
    "plt.ylabel('Residual')\n",
    "plt.axhline(y=0)\n",
    "plt.title('Residual vs. Predicted')\n",
    "plt.show()\n",
    "print ('RMSE:',(((predicted - actual) ** 2).mean() ** .5) )  \n",
    " "
   ]
  },
  {
   "cell_type": "code",
   "execution_count": 36,
   "metadata": {},
   "outputs": [
    {
     "name": "stdout",
     "output_type": "stream",
     "text": [
      "{'max_depth': 15}\n",
      "0.9607028641769348\n"
     ]
    }
   ],
   "source": [
    "param_grid = dict(max_depth=range(1,5),max_leaf_nodes=range(6,20),max_features=['sqrt',4])\n",
    "grid = GridSearchCV(regr_t, param_grid, cv=3, scoring=\"r2\", return_train_score=True,n_jobs = -1)\n",
    "grid.fit(X_train, y_train)\n",
    "\n",
    "\n",
    "print(grid.best_params_)\n",
    "print(grid.best_score_ )"
   ]
  },
  {
   "cell_type": "code",
   "execution_count": 38,
   "metadata": {},
   "outputs": [
    {
     "name": "stdout",
     "output_type": "stream",
     "text": [
      "With 20% Holdout: 0.9611891002965023\n",
      "Testing on Sample: 0.9628458776260728\n",
      "\n",
      "[0.95896373 0.95824178 0.96034944 0.96115901 0.95975676 0.96085604\n",
      " 0.95880463 0.95899422 0.95971846 0.9595333 ]\n"
     ]
    }
   ],
   "source": [
    "regr_t = DecisionTreeRegressor(max_depth=15, random_state=20) \n",
    "regr_t.fit(X_train, y_train)\n",
    "\n",
    "\n",
    "print('With 20% Holdout: ' + str(regr_t.fit(X_train, y_train).score(X_test, y_test)))\n",
    "print('Testing on Sample: ' + str(regr_t.fit( X_test , y_test).score(X_test, y_test)))\n",
    "print() \n",
    "print(cross_val_score(regr_t, X_test, y_test, cv=10))\n",
    "\n",
    " "
   ]
  },
  {
   "cell_type": "code",
   "execution_count": 42,
   "metadata": {},
   "outputs": [
    {
     "data": {
      "image/png": "[encoded data removed]",
      "text/plain": [
       "<Figure size 432x288 with 1 Axes>"
      ]
     },
     "metadata": {
      "needs_background": "light"
     },
     "output_type": "display_data"
    },
    {
     "data": {
      "image/png": "[encoded data removed]",
      "text/plain": [
       "<Figure size 432x288 with 1 Axes>"
      ]
     },
     "metadata": {
      "needs_background": "light"
     },
     "output_type": "display_data"
    },
    {
     "name": "stdout",
     "output_type": "stream",
     "text": [
      "RMSE: 7.422066187547405\n"
     ]
    }
   ],
   "source": [
    "predicted = regr_t.predict(X_test) \n",
    "actual = y_test\n",
    "# Calculate the error \n",
    "residual = actual - predicted\n",
    "\n",
    " \n",
    "plt.hist(residual)\n",
    "plt.title('Residual counts')\n",
    "plt.xlabel('Residual')\n",
    "plt.ylabel('Count')\n",
    "plt.show()\n",
    "\n",
    "\n",
    "\n",
    "plt.scatter(predicted, residual)\n",
    "plt.xlabel('Predicted')\n",
    "plt.ylabel('Residual')\n",
    "plt.axhline(y=0)\n",
    "plt.title('Residual vs. Predicted')\n",
    "plt.show()\n",
    "print ('RMSE:',(((predicted - actual) ** 2).mean() ** .5) )  \n",
    " "
   ]
  },
  {
   "cell_type": "code",
   "execution_count": 26,
   "metadata": {},
   "outputs": [
    {
     "data": {
      "text/plain": [
       "<matplotlib.axes._subplots.AxesSubplot at 0x17619acaeb8>"
      ]
     },
     "execution_count": 26,
     "metadata": {},
     "output_type": "execute_result"
    },
    {
     "data": {
      "image/png": "[encoded data removed]",
      "text/plain": [
       "<Figure size 432x288 with 2 Axes>"
      ]
     },
     "metadata": {
      "needs_background": "light"
     },
     "output_type": "display_data"
    }
   ],
   "source": [
    "sns.heatmap(arrivals[arrivals.Late_arrivals==1][features].corr())"
   ]
  },
  {
   "cell_type": "code",
   "execution_count": null,
   "metadata": {},
   "outputs": [],
   "source": []
  },
  {
   "cell_type": "code",
   "execution_count": 50,
   "metadata": {},
   "outputs": [
    {
     "data": {
      "text/plain": [
       "2057"
      ]
     },
     "execution_count": 50,
     "metadata": {},
     "output_type": "execute_result"
    }
   ],
   "source": [
    "arr = arrivals.sample(frac=.0003)\n",
    "len(arr)"
   ]
  },
  {
   "cell_type": "code",
   "execution_count": 29,
   "metadata": {},
   "outputs": [
    {
     "name": "stdout",
     "output_type": "stream",
     "text": [
      "['DayOfWeek', 'DepTime', 'ActualElapsedTime', 'CRSElapsedTime', 'DepDelay', 'TaxiIn', 'TaxiOut', 'SecurityDelay', 'Late_departures']\n"
     ]
    },
    {
     "name": "stderr",
     "output_type": "stream",
     "text": [
      "c:\\users\\keith\\appdata\\local\\programs\\python\\python37\\lib\\site-packages\\sklearn\\preprocessing\\data.py:645: DataConversionWarning: Data with input dtype int32, int64, float64 were all converted to float64 by StandardScaler.\n",
      "  return self.partial_fit(X, y)\n",
      "c:\\users\\keith\\appdata\\local\\programs\\python\\python37\\lib\\site-packages\\ipykernel_launcher.py:32: DataConversionWarning: Data with input dtype int32, int64, float64 were all converted to float64 by StandardScaler.\n",
      "c:\\users\\keith\\appdata\\local\\programs\\python\\python37\\lib\\site-packages\\ipykernel_launcher.py:33: DataConversionWarning: Data with input dtype int32, int64, float64 were all converted to float64 by StandardScaler.\n"
     ]
    }
   ],
   "source": [
    "features =  ['DayOfWeek', 'DepTime','ActualElapsedTime','CRSElapsedTime','DepDelay',\n",
    "             'TaxiIn', 'TaxiOut','SecurityDelay','Late_departures' ]\n",
    "\n",
    "Y = arrivals['ArrDelay'] \n",
    "X = arrivals[features]\n",
    "\n",
    "\n",
    "\n",
    "from sklearn.model_selection import train_test_split\n",
    "# Use train_test_split to create the necessary training and test groups\n",
    "X_train, X_test, y_train, y_test = train_test_split(X, Y, test_size=.2, random_state=20)\n",
    "\n",
    " # Automatic feature selection with SelectKbest\n",
    "import sklearn.feature_selection \n",
    "select =sklearn.feature_selection.SelectKBest(k=\"all\")\n",
    "selected_features = select.fit(X_train, y_train)\n",
    "indicies_selected = selected_features.get_support(indices=True)\n",
    "colnames_selected = [X.columns[i] for i in indicies_selected]\n",
    "X_selected = X[colnames_selected]\n",
    "print(colnames_selected)\n",
    "x_train_selected = X_train[colnames_selected]\n",
    "x_test_selected = X_test[colnames_selected]\n",
    "\n",
    "X = arrivals[colnames_selected]\n",
    "Y = arrivals['ArrDelay']\n",
    "\n",
    "# Standardizing data\n",
    "from sklearn.preprocessing import StandardScaler\n",
    "scaler = StandardScaler()\n",
    "\n",
    "scaler.fit(x_train_selected) \n",
    "X_train = scaler.transform(x_train_selected)\n",
    "X_test = scaler.transform(x_test_selected)\n"
   ]
  },
  {
   "cell_type": "code",
   "execution_count": null,
   "metadata": {},
   "outputs": [],
   "source": []
  },
  {
   "cell_type": "code",
   "execution_count": null,
   "metadata": {},
   "outputs": [],
   "source": []
  },
  {
   "cell_type": "code",
   "execution_count": null,
   "metadata": {},
   "outputs": [],
   "source": []
  },
  {
   "cell_type": "code",
   "execution_count": null,
   "metadata": {},
   "outputs": [],
   "source": []
  },
  {
   "cell_type": "code",
   "execution_count": null,
   "metadata": {},
   "outputs": [],
   "source": []
  },
  {
   "cell_type": "markdown",
   "metadata": {},
   "source": [
    "### Random forrest"
   ]
  },
  {
   "cell_type": "code",
   "execution_count": null,
   "metadata": {},
   "outputs": [
    {
     "name": "stderr",
     "output_type": "stream",
     "text": [
      "c:\\users\\keith\\appdata\\local\\programs\\python\\python37\\lib\\site-packages\\sklearn\\ensemble\\forest.py:246: FutureWarning: The default value of n_estimators will change from 10 in version 0.20 to 100 in 0.22.\n",
      "  \"10 in version 0.20 to 100 in 0.22.\", FutureWarning)\n"
     ]
    }
   ],
   "source": [
    "from sklearn import ensemble\n",
    "rfrg = ensemble.RandomForestRegressor(criterion='mse',random_state=20, max_features='sqrt') \n",
    "rfrg.fit(X_train,y_train)\n",
    "\n",
    "\n",
    "print('With 20% Holdout: ' + str(rfrg.fit(X_train, y_train).score(X_test, y_test)))\n",
    "print('Testing on Sample: ' + str(rfrg.fit( X_test , y_test).score(X_test, y_test)))\n",
    "print() \n",
    "print(cross_val_score(rfrg, X_test, y_test, cv=10))\n",
    "\n"
   ]
  },
  {
   "cell_type": "code",
   "execution_count": 53,
   "metadata": {},
   "outputs": [
    {
     "data": {
      "image/png": "[encoded data removed]",
      "text/plain": [
       "<Figure size 432x288 with 1 Axes>"
      ]
     },
     "metadata": {
      "needs_background": "light"
     },
     "output_type": "display_data"
    },
    {
     "data": {
      "image/png": "[encoded data removed]",
      "text/plain": [
       "<Figure size 432x288 with 1 Axes>"
      ]
     },
     "metadata": {
      "needs_background": "light"
     },
     "output_type": "display_data"
    },
    {
     "name": "stdout",
     "output_type": "stream",
     "text": [
      "RMSE: 5.754595435705344\n"
     ]
    }
   ],
   "source": [
    "predicted = rfrg.predict(X_test) \n",
    "actual = y_test\n",
    "# Calculate the error \n",
    "residual = actual - predicted\n",
    "\n",
    " \n",
    "plt.hist(residual)\n",
    "plt.title('Residual counts')\n",
    "plt.xlabel('Residual')\n",
    "plt.ylabel('Count')\n",
    "plt.show()\n",
    "\n",
    "\n",
    "\n",
    "plt.scatter(predicted, residual)\n",
    "plt.xlabel('Predicted')\n",
    "plt.ylabel('Residual')\n",
    "plt.axhline(y=0)\n",
    "plt.title('Residual vs. Predicted')\n",
    "plt.show()\n",
    "print ('RMSE:',(((predicted - actual) ** 2).mean() ** .5) )  \n",
    " "
   ]
  },
  {
   "cell_type": "code",
   "execution_count": 58,
   "metadata": {},
   "outputs": [
    {
     "name": "stdout",
     "output_type": "stream",
     "text": [
      "{'max_depth': 4, 'max_features': 'auto', 'max_leaf_nodes': 19}\n",
      "0.9059995063014368\n"
     ]
    }
   ],
   "source": [
    "param_grid = dict(max_depth=range(1,5),max_leaf_nodes=range(6,20),max_features=['sqrt',4,'auto'])\n",
    "grid = GridSearchCV(rfrg, param_grid, cv=3, scoring=\"r2\", return_train_score=True,n_jobs = -1)\n",
    "grid.fit(X_train, y_train)\n",
    "\n",
    "\n",
    "print(grid.best_params_)\n",
    "print(grid.best_score_ )"
   ]
  },
  {
   "cell_type": "code",
   "execution_count": null,
   "metadata": {},
   "outputs": [],
   "source": []
  },
  {
   "cell_type": "code",
   "execution_count": 59,
   "metadata": {},
   "outputs": [
    {
     "name": "stdout",
     "output_type": "stream",
     "text": [
      "With 20% Holdout: 0.9454983039100718\n",
      "Testing on Sample: 0.959472709426474\n",
      "\n",
      "[0.91015529 0.891812   0.95165518 0.91722896 0.80422173 0.94674568\n",
      " 0.96969436 0.83385141 0.79114769 0.95532728]\n"
     ]
    },
    {
     "name": "stderr",
     "output_type": "stream",
     "text": [
      "c:\\users\\keith\\appdata\\local\\programs\\python\\python37\\lib\\site-packages\\sklearn\\ensemble\\forest.py:246: FutureWarning: The default value of n_estimators will change from 10 in version 0.20 to 100 in 0.22.\n",
      "  \"10 in version 0.20 to 100 in 0.22.\", FutureWarning)\n"
     ]
    }
   ],
   "source": [
    "rfrg = ensemble.RandomForestRegressor(criterion='mse',random_state=20, max_features= 'auto',max_leaf_nodes=19,max_depth=4) \n",
    "rfrg.fit(X_train,y_train)\n",
    "\n",
    "\n",
    "print('With 20% Holdout: ' + str(rfrg.fit(X_train, y_train).score(X_test, y_test)))\n",
    "print('Testing on Sample: ' + str(rfrg.fit( X_test , y_test).score(X_test, y_test)))\n",
    "print() \n",
    "print(cross_val_score(rfrg, X_test, y_test, cv=10))\n",
    "\n"
   ]
  },
  {
   "cell_type": "markdown",
   "metadata": {},
   "source": [
    "### Support Vector Machine"
   ]
  },
  {
   "cell_type": "code",
   "execution_count": 65,
   "metadata": {},
   "outputs": [
    {
     "name": "stdout",
     "output_type": "stream",
     "text": [
      "With 20% Holdout: 0.954583471947925\n",
      "Testing on Sample: 0.9548753796184486\n",
      "\n",
      "[0.97744062 0.92191567 0.96463191 0.94406723 0.86010802 0.96610919\n",
      " 0.96757602 0.88781326 0.82685043 0.98151151]\n"
     ]
    }
   ],
   "source": [
    "from sklearn.svm import SVR\n",
    "\n",
    "# Instantiate our model and fit the data.\n",
    "svm = SVR(kernel = 'linear')\n",
    "svm.fit(X_train, y_train)\n",
    "\n",
    "\n",
    "print('With 20% Holdout: ' + str(svm.fit(X_train, y_train).score(X_test, y_test)))\n",
    "print('Testing on Sample: ' + str(svm.fit( X_test , y_test).score(X_test, y_test)))\n",
    "print() \n",
    "print(cross_val_score(svm, X_test, y_test, cv=10))\n"
   ]
  },
  {
   "cell_type": "code",
   "execution_count": 70,
   "metadata": {},
   "outputs": [
    {
     "name": "stdout",
     "output_type": "stream",
     "text": [
      "{'C': 0.4}\n",
      "0.9440042997770701\n"
     ]
    }
   ],
   "source": [
    "param_grid = dict(C=np.arange(.1,5,.1))\n",
    "grid = GridSearchCV(svm, param_grid, cv=3, scoring=\"r2\", return_train_score=True,n_jobs = -1)\n",
    "grid.fit(X_train, y_train)\n",
    "\n",
    "\n",
    "print(grid.best_params_)\n",
    "print(grid.best_score_ )"
   ]
  },
  {
   "cell_type": "code",
   "execution_count": null,
   "metadata": {},
   "outputs": [],
   "source": [
    "# Instantiate our model and fit the data.\n",
    "svm = SVC(kernel = 'linear')\n",
    "svm.fit(X_train, y_train)\n",
    "\n",
    "print('With 20% Holdout: ' + str(regr_t.fit(X_train, y_train).score(X_test, y_test)))\n",
    "print('Testing on Sample: ' + str(regr_t.fit( X_test , y_test).score(X_test, y_test)))\n",
    "print() \n",
    "print(cross_val_score(knn, X_test, y_test, cv=10))\n"
   ]
  },
  {
   "cell_type": "markdown",
   "metadata": {},
   "source": [
    "### Gradient boost"
   ]
  },
  {
   "cell_type": "code",
   "execution_count": 109,
   "metadata": {},
   "outputs": [
    {
     "name": "stdout",
     "output_type": "stream",
     "text": [
      "With 20% Holdout: 0.9536234556860633\n",
      "Testing on Sample: 0.9831940998091913\n",
      "\n",
      "[0.94094351 0.88121867 0.95405254 0.91896371 0.84306729 0.95370319\n",
      " 0.95443788 0.8025614  0.83978643 0.97036166]\n"
     ]
    }
   ],
   "source": [
    "from sklearn import ensemble \n",
    " \n",
    "# Initialize and fit the model.\n",
    "clf = ensemble.GradientBoostingRegressor(n_estimators=500,max_depth=2,\n",
    "                                          loss='ls', random_state=20) \n",
    "clf.fit(X_train, y_train)\n",
    "\n",
    "\n",
    "print('With 20% Holdout: ' + str(clf.fit(X_train, y_train).score(X_test, y_test)))\n",
    "print('Testing on Sample: ' + str(clf.fit( X_test , y_test).score(X_test, y_test)))\n",
    "print() \n",
    "print(cross_val_score(clf, X_test, y_test, cv=10))\n"
   ]
  },
  {
   "cell_type": "code",
   "execution_count": 110,
   "metadata": {},
   "outputs": [
    {
     "name": "stdout",
     "output_type": "stream",
     "text": [
      "{'loss': 'lad', 'max_depth': 4, 'n_estimators': 900}\n",
      "0.9282613089046902\n"
     ]
    }
   ],
   "source": [
    "param_grid = dict(n_estimators=np.arange(100,1000,100),max_depth=range(1,8),loss=['ls', 'lad', 'huber', 'quantile'])\n",
    "grid = GridSearchCV(clf, param_grid, cv=3, scoring=\"r2\", return_train_score=True,n_jobs = -1)\n",
    "grid.fit(X_train, y_train)\n",
    "\n",
    "\n",
    "print(grid.best_params_)\n",
    "print(grid.best_score_ )"
   ]
  },
  {
   "cell_type": "code",
   "execution_count": 111,
   "metadata": {},
   "outputs": [
    {
     "name": "stdout",
     "output_type": "stream",
     "text": [
      "With 20% Holdout: 0.9526719380091636\n",
      "Testing on Sample: 0.9760385746562613\n",
      "\n",
      "[0.9327004  0.88738131 0.93486296 0.93493243 0.84890101 0.96501044\n",
      " 0.95123213 0.88212067 0.8275424  0.94356057]\n"
     ]
    }
   ],
   "source": [
    "# Initialize and fit the model.\n",
    "clf = ensemble.GradientBoostingRegressor(loss='lad', max_depth=4, n_estimators=900,random_state=20) \n",
    "clf.fit(X_train, y_train)\n",
    "\n",
    "\n",
    "print('With 20% Holdout: ' + str(clf.fit(X_train, y_train).score(X_test, y_test)))\n",
    "print('Testing on Sample: ' + str(clf.fit( X_test , y_test).score(X_test, y_test)))\n",
    "print() \n",
    "print(cross_val_score(clf, X_test, y_test, cv=10))\n",
    "\n"
   ]
  },
  {
   "cell_type": "code",
   "execution_count": 107,
   "metadata": {},
   "outputs": [
    {
     "data": {
      "image/png": "[encoded data removed]",
      "text/plain": [
       "<Figure size 432x288 with 1 Axes>"
      ]
     },
     "metadata": {
      "needs_background": "light"
     },
     "output_type": "display_data"
    },
    {
     "data": {
      "image/png": "[encoded data removed]",
      "text/plain": [
       "<Figure size 432x288 with 1 Axes>"
      ]
     },
     "metadata": {
      "needs_background": "light"
     },
     "output_type": "display_data"
    },
    {
     "name": "stdout",
     "output_type": "stream",
     "text": [
      "RMSE: 5556674.6340061715\n"
     ]
    }
   ],
   "source": [
    "predicted = clf.predict(X_test) \n",
    "actual = y_test\n",
    "# Calculate the error \n",
    "residual = actual - predicted\n",
    "\n",
    " \n",
    "plt.hist(residual)\n",
    "plt.title('Residual counts')\n",
    "plt.xlabel('Residual')\n",
    "plt.ylabel('Count')\n",
    "plt.show()\n",
    "\n",
    "\n",
    "\n",
    "plt.scatter(predicted, residual)\n",
    "plt.xlabel('Predicted')\n",
    "plt.ylabel('Residual')\n",
    "plt.axhline(y=0)\n",
    "plt.title('Residual vs. Predicted')\n",
    "plt.show()\n",
    "print ('RMSE:',(((predicted - actual) ** 2).mean() ** .5) )  \n",
    " "
   ]
  },
  {
   "cell_type": "code",
   "execution_count": 99,
   "metadata": {},
   "outputs": [
    {
     "data": {
      "text/plain": [
       "(array([1.599e+03, 2.700e+01, 7.000e+00, 5.000e+00, 2.000e+00, 2.000e+00,\n",
       "        2.000e+00, 0.000e+00, 0.000e+00, 1.000e+00]),\n",
       " array([     0. ,  11628.1,  23256.2,  34884.3,  46512.4,  58140.5,\n",
       "         69768.6,  81396.7,  93024.8, 104652.9, 116281. ]),\n",
       " <a list of 10 Patch objects>)"
      ]
     },
     "execution_count": 99,
     "metadata": {},
     "output_type": "execute_result"
    },
    {
     "data": {
      "image/png": "[encoded data removed]",
      "text/plain": [
       "<Figure size 432x288 with 1 Axes>"
      ]
     },
     "metadata": {
      "needs_background": "light"
     },
     "output_type": "display_data"
    }
   ],
   "source": [
    "plt.hist(y_train**2)"
   ]
  },
  {
   "cell_type": "code",
   "execution_count": null,
   "metadata": {},
   "outputs": [],
   "source": [
    "from sklearn import preprocessing \n",
    "  \n",
    "# label_encoder object  \n",
    "label_encoder = preprocessing.LabelEncoder() \n",
    "  \n",
    "# Encode labels in column  \n",
    "arrivals['seasons']= label_encoder.fit_transform(arrivals['seasons']) \n",
    "arrivals['time_of_day']= label_encoder.fit_transform(arrivals['time_of_day']) \n",
    " \n",
    "print(arrivals['seasons'].unique())\n",
    "print(arrivals['time_of_day'].unique()) \n"
   ]
  }
 ],
 "metadata": {
  "kernelspec": {
   "display_name": "Python 3",
   "language": "python",
   "name": "python3"
  },
  "language_info": {
   "codemirror_mode": {
    "name": "ipython",
    "version": 3
   },
   "file_extension": ".py",
   "mimetype": "text/x-python",
   "name": "python",
   "nbconvert_exporter": "python",
   "pygments_lexer": "ipython3",
   "version": "3.7.2"
  }
 },
 "nbformat": 4,
 "nbformat_minor": 2
}
