{
 "cells": [
  {
   "cell_type": "code",
   "execution_count": 87,
   "metadata": {},
   "outputs": [],
   "source": [
    "import re\n",
    "import time\n",
    "import math\n",
    "%matplotlib inline\n",
    "import pandas as pd\n",
    "import numpy as np\n",
    "import seaborn as sns\n",
    "from matplotlib import pyplot as plt\n",
    "from scipy import stats\n",
    "from sklearn.model_selection import GridSearchCV\n",
    "from matplotlib import pyplot\n",
    "from sklearn.metrics import confusion_matrix\n",
    "from sklearn import linear_model\n",
    "from sklearn.linear_model import LogisticRegression\n",
    "from sklearn import preprocessing \n",
    "from sklearn.model_selection import cross_val_score\n",
    "from sklearn.decomposition import PCA"
   ]
  },
  {
   "cell_type": "code",
   "execution_count": 88,
   "metadata": {},
   "outputs": [
    {
     "name": "stderr",
     "output_type": "stream",
     "text": [
      "c:\\users\\keith\\appdata\\local\\programs\\python\\python37\\lib\\site-packages\\IPython\\core\\interactiveshell.py:3020: DtypeWarning: Columns (14) have mixed types. Specify dtype option on import or set low_memory=False.\n",
      "  interactivity=interactivity, compiler=compiler, result=result)\n"
     ]
    }
   ],
   "source": [
    "# Load data \n",
    "#mta = pd.read_csv('C:/Users/keith/Desktop/Thinkful/mta_1706.csv',encoding = \"ISO-8859-1\",error_bad_lines=False)\n",
    "cols = pd.read_csv('C:/Users/keith/Desktop/Thinkful/mta_1706.csv', nrows=1).columns\n",
    "mta = pd.read_csv('C:/Users/keith/Desktop/Thinkful/mta_1706.csv', usecols=cols)"
   ]
  },
  {
   "cell_type": "code",
   "execution_count": 89,
   "metadata": {},
   "outputs": [
    {
     "name": "stdout",
     "output_type": "stream",
     "text": [
      "<class 'pandas.core.frame.DataFrame'>\n",
      "RangeIndex: 6730856 entries, 0 to 6730855\n",
      "Data columns (total 17 columns):\n",
      "RecordedAtTime               object\n",
      "DirectionRef                 int64\n",
      "PublishedLineName            object\n",
      "OriginName                   object\n",
      "OriginLat                    float64\n",
      "OriginLong                   float64\n",
      "DestinationName              object\n",
      "DestinationLat               float64\n",
      "DestinationLong              float64\n",
      "VehicleRef                   object\n",
      "VehicleLocation.Latitude     float64\n",
      "VehicleLocation.Longitude    float64\n",
      "NextStopPointName            object\n",
      "ArrivalProximityText         object\n",
      "DistanceFromStop             object\n",
      "ExpectedArrivalTime          object\n",
      "ScheduledArrivalTime         object\n",
      "dtypes: float64(6), int64(1), object(10)\n",
      "memory usage: 873.0+ MB\n"
     ]
    }
   ],
   "source": [
    " mta.info()"
   ]
  },
  {
   "cell_type": "code",
   "execution_count": 120,
   "metadata": {},
   "outputs": [
    {
     "data": {
      "text/plain": [
       "(6730856, 17)"
      ]
     },
     "execution_count": 120,
     "metadata": {},
     "output_type": "execute_result"
    }
   ],
   "source": [
    "mta.shape"
   ]
  },
  {
   "cell_type": "code",
   "execution_count": 91,
   "metadata": {},
   "outputs": [
    {
     "data": {
      "text/plain": [
       "Index(['RecordedAtTime', 'DirectionRef', 'PublishedLineName', 'OriginName',\n",
       "       'OriginLat', 'OriginLong', 'DestinationName', 'DestinationLat',\n",
       "       'DestinationLong', 'VehicleRef', 'VehicleLocation.Latitude',\n",
       "       'VehicleLocation.Longitude', 'NextStopPointName',\n",
       "       'ArrivalProximityText', 'DistanceFromStop', 'ExpectedArrivalTime',\n",
       "       'ScheduledArrivalTime'],\n",
       "      dtype='object')"
      ]
     },
     "execution_count": 91,
     "metadata": {},
     "output_type": "execute_result"
    }
   ],
   "source": [
    "mta.columns"
   ]
  },
  {
   "cell_type": "code",
   "execution_count": 225,
   "metadata": {
    "scrolled": true
   },
   "outputs": [
    {
     "data": {
      "text/html": [
       "<div>\n",
       "<style scoped>\n",
       "    .dataframe tbody tr th:only-of-type {\n",
       "        vertical-align: middle;\n",
       "    }\n",
       "\n",
       "    .dataframe tbody tr th {\n",
       "        vertical-align: top;\n",
       "    }\n",
       "\n",
       "    .dataframe thead th {\n",
       "        text-align: right;\n",
       "    }\n",
       "</style>\n",
       "<table border=\"1\" class=\"dataframe\">\n",
       "  <thead>\n",
       "    <tr style=\"text-align: right;\">\n",
       "      <th></th>\n",
       "      <th>RecordedAtTime</th>\n",
       "      <th>DirectionRef</th>\n",
       "      <th>PublishedLineName</th>\n",
       "      <th>OriginName</th>\n",
       "      <th>OriginLat</th>\n",
       "      <th>OriginLong</th>\n",
       "      <th>DestinationName</th>\n",
       "      <th>DestinationLat</th>\n",
       "      <th>DestinationLong</th>\n",
       "      <th>VehicleRef</th>\n",
       "      <th>VehicleLocation.Latitude</th>\n",
       "      <th>VehicleLocation.Longitude</th>\n",
       "      <th>NextStopPointName</th>\n",
       "      <th>ArrivalProximityText</th>\n",
       "      <th>DistanceFromStop</th>\n",
       "      <th>ExpectedArrivalTime</th>\n",
       "      <th>ScheduledArrivalTime</th>\n",
       "    </tr>\n",
       "  </thead>\n",
       "  <tbody>\n",
       "    <tr>\n",
       "      <th>0</th>\n",
       "      <td>2017-06-01 00:03:34</td>\n",
       "      <td>0</td>\n",
       "      <td>B8</td>\n",
       "      <td>4 AV/95 ST</td>\n",
       "      <td>40.616104</td>\n",
       "      <td>-74.031143</td>\n",
       "      <td>BROWNSVILLE ROCKAWAY AV</td>\n",
       "      <td>40.656048</td>\n",
       "      <td>-73.907379</td>\n",
       "      <td>NYCT_430</td>\n",
       "      <td>40.635170</td>\n",
       "      <td>-73.960803</td>\n",
       "      <td>FOSTER AV/E 18 ST</td>\n",
       "      <td>approaching</td>\n",
       "      <td>76</td>\n",
       "      <td>2017-06-01 00:03:59</td>\n",
       "      <td>24:06:14</td>\n",
       "    </tr>\n",
       "    <tr>\n",
       "      <th>1</th>\n",
       "      <td>2017-06-01 00:03:43</td>\n",
       "      <td>1</td>\n",
       "      <td>S61</td>\n",
       "      <td>ST GEORGE FERRY/S61 &amp; S91</td>\n",
       "      <td>40.643169</td>\n",
       "      <td>-74.073494</td>\n",
       "      <td>S I MALL YUKON AV</td>\n",
       "      <td>40.575935</td>\n",
       "      <td>-74.167686</td>\n",
       "      <td>NYCT_8263</td>\n",
       "      <td>40.590802</td>\n",
       "      <td>-74.158340</td>\n",
       "      <td>MERRYMOUNT ST/TRAVIS AV</td>\n",
       "      <td>approaching</td>\n",
       "      <td>62</td>\n",
       "      <td>2017-06-01 00:03:56</td>\n",
       "      <td>23:58:02</td>\n",
       "    </tr>\n",
       "    <tr>\n",
       "      <th>2</th>\n",
       "      <td>2017-06-01 00:03:49</td>\n",
       "      <td>0</td>\n",
       "      <td>Bx10</td>\n",
       "      <td>E 206 ST/BAINBRIDGE AV</td>\n",
       "      <td>40.875008</td>\n",
       "      <td>-73.880142</td>\n",
       "      <td>RIVERDALE 263 ST</td>\n",
       "      <td>40.912376</td>\n",
       "      <td>-73.902534</td>\n",
       "      <td>NYCT_4223</td>\n",
       "      <td>40.886010</td>\n",
       "      <td>-73.912647</td>\n",
       "      <td>HENRY HUDSON PKY E/W 235 ST</td>\n",
       "      <td>at stop</td>\n",
       "      <td>5</td>\n",
       "      <td>2017-06-01 00:03:56</td>\n",
       "      <td>24:00:53</td>\n",
       "    </tr>\n",
       "    <tr>\n",
       "      <th>3</th>\n",
       "      <td>2017-06-01 00:03:31</td>\n",
       "      <td>0</td>\n",
       "      <td>Q5</td>\n",
       "      <td>TEARDROP/LAYOVER</td>\n",
       "      <td>40.701748</td>\n",
       "      <td>-73.802399</td>\n",
       "      <td>ROSEDALE LIRR STA via MERRICK</td>\n",
       "      <td>40.666012</td>\n",
       "      <td>-73.735939</td>\n",
       "      <td>NYCT_8422</td>\n",
       "      <td>40.668002</td>\n",
       "      <td>-73.729348</td>\n",
       "      <td>HOOK CREEK BL/SUNRISE HY</td>\n",
       "      <td>&lt; 1 stop away</td>\n",
       "      <td>267</td>\n",
       "      <td>2017-06-01 00:04:03</td>\n",
       "      <td>24:03:00</td>\n",
       "    </tr>\n",
       "    <tr>\n",
       "      <th>4</th>\n",
       "      <td>2017-06-01 00:03:22</td>\n",
       "      <td>1</td>\n",
       "      <td>Bx1</td>\n",
       "      <td>RIVERDALE AV/W 231 ST</td>\n",
       "      <td>40.881187</td>\n",
       "      <td>-73.909340</td>\n",
       "      <td>MOTT HAVEN 136 ST via CONCOURSE</td>\n",
       "      <td>40.809654</td>\n",
       "      <td>-73.928360</td>\n",
       "      <td>NYCT_4710</td>\n",
       "      <td>40.868134</td>\n",
       "      <td>-73.893032</td>\n",
       "      <td>GRAND CONCOURSE/E 196 ST</td>\n",
       "      <td>at stop</td>\n",
       "      <td>11</td>\n",
       "      <td>2017-06-01 00:03:56</td>\n",
       "      <td>23:59:38</td>\n",
       "    </tr>\n",
       "  </tbody>\n",
       "</table>\n",
       "</div>"
      ],
      "text/plain": [
       "        RecordedAtTime  DirectionRef PublishedLineName  \\\n",
       "0  2017-06-01 00:03:34             0                B8   \n",
       "1  2017-06-01 00:03:43             1               S61   \n",
       "2  2017-06-01 00:03:49             0              Bx10   \n",
       "3  2017-06-01 00:03:31             0                Q5   \n",
       "4  2017-06-01 00:03:22             1               Bx1   \n",
       "\n",
       "                  OriginName  OriginLat  OriginLong  \\\n",
       "0                 4 AV/95 ST  40.616104  -74.031143   \n",
       "1  ST GEORGE FERRY/S61 & S91  40.643169  -74.073494   \n",
       "2     E 206 ST/BAINBRIDGE AV  40.875008  -73.880142   \n",
       "3           TEARDROP/LAYOVER  40.701748  -73.802399   \n",
       "4      RIVERDALE AV/W 231 ST  40.881187  -73.909340   \n",
       "\n",
       "                   DestinationName  DestinationLat  DestinationLong  \\\n",
       "0          BROWNSVILLE ROCKAWAY AV       40.656048       -73.907379   \n",
       "1                S I MALL YUKON AV       40.575935       -74.167686   \n",
       "2                 RIVERDALE 263 ST       40.912376       -73.902534   \n",
       "3    ROSEDALE LIRR STA via MERRICK       40.666012       -73.735939   \n",
       "4  MOTT HAVEN 136 ST via CONCOURSE       40.809654       -73.928360   \n",
       "\n",
       "  VehicleRef  VehicleLocation.Latitude  VehicleLocation.Longitude  \\\n",
       "0   NYCT_430                 40.635170                 -73.960803   \n",
       "1  NYCT_8263                 40.590802                 -74.158340   \n",
       "2  NYCT_4223                 40.886010                 -73.912647   \n",
       "3  NYCT_8422                 40.668002                 -73.729348   \n",
       "4  NYCT_4710                 40.868134                 -73.893032   \n",
       "\n",
       "             NextStopPointName ArrivalProximityText DistanceFromStop  \\\n",
       "0            FOSTER AV/E 18 ST          approaching               76   \n",
       "1      MERRYMOUNT ST/TRAVIS AV          approaching               62   \n",
       "2  HENRY HUDSON PKY E/W 235 ST              at stop                5   \n",
       "3     HOOK CREEK BL/SUNRISE HY        < 1 stop away              267   \n",
       "4     GRAND CONCOURSE/E 196 ST              at stop               11   \n",
       "\n",
       "   ExpectedArrivalTime ScheduledArrivalTime  \n",
       "0  2017-06-01 00:03:59             24:06:14  \n",
       "1  2017-06-01 00:03:56             23:58:02  \n",
       "2  2017-06-01 00:03:56             24:00:53  \n",
       "3  2017-06-01 00:04:03             24:03:00  \n",
       "4  2017-06-01 00:03:56             23:59:38  "
      ]
     },
     "execution_count": 225,
     "metadata": {},
     "output_type": "execute_result"
    }
   ],
   "source": [
    "mta.head()\n",
    "#pd.set_option('display.max_columns', None) # disables trucated columns \n",
    "#pd.set_option('display.max_rows', None) # disables trucated rows\n",
    "   "
   ]
  },
  {
   "cell_type": "code",
   "execution_count": 252,
   "metadata": {},
   "outputs": [
    {
     "ename": "KeyboardInterrupt",
     "evalue": "",
     "output_type": "error",
     "traceback": [
      "\u001b[1;31m---------------------------------------------------------------------------\u001b[0m",
      "\u001b[1;31mKeyboardInterrupt\u001b[0m                         Traceback (most recent call last)",
      "\u001b[1;32m<ipython-input-252-dd00bdfe2a18>\u001b[0m in \u001b[0;36m<module>\u001b[1;34m\u001b[0m\n\u001b[0;32m      1\u001b[0m \u001b[0ml\u001b[0m\u001b[1;33m=\u001b[0m\u001b[1;33m[\u001b[0m\u001b[1;33m]\u001b[0m\u001b[1;33m\u001b[0m\u001b[1;33m\u001b[0m\u001b[0m\n\u001b[0;32m      2\u001b[0m \u001b[1;32mfor\u001b[0m \u001b[0mi\u001b[0m \u001b[1;32min\u001b[0m \u001b[0mrange\u001b[0m\u001b[1;33m(\u001b[0m\u001b[0mlen\u001b[0m\u001b[1;33m(\u001b[0m\u001b[0mmta\u001b[0m\u001b[1;33m.\u001b[0m\u001b[0mScheduledArrivalTime\u001b[0m\u001b[1;33m)\u001b[0m\u001b[1;33m)\u001b[0m\u001b[1;33m:\u001b[0m\u001b[1;33m\u001b[0m\u001b[1;33m\u001b[0m\u001b[0m\n\u001b[1;32m----> 3\u001b[1;33m     \u001b[1;32mif\u001b[0m \u001b[0mlen\u001b[0m\u001b[1;33m(\u001b[0m\u001b[0mmta\u001b[0m\u001b[1;33m.\u001b[0m\u001b[0mScheduledArrivalTime\u001b[0m\u001b[1;33m.\u001b[0m\u001b[0mastype\u001b[0m\u001b[1;33m(\u001b[0m\u001b[1;34m'str'\u001b[0m\u001b[1;33m)\u001b[0m\u001b[1;33m[\u001b[0m\u001b[0mi\u001b[0m\u001b[1;33m]\u001b[0m\u001b[1;33m.\u001b[0m\u001b[0msplit\u001b[0m\u001b[1;33m(\u001b[0m\u001b[1;33m)\u001b[0m\u001b[1;33m)\u001b[0m\u001b[1;33m==\u001b[0m\u001b[1;36m2\u001b[0m\u001b[1;33m:\u001b[0m\u001b[1;33m\u001b[0m\u001b[1;33m\u001b[0m\u001b[0m\n\u001b[0m\u001b[0;32m      4\u001b[0m         \u001b[0ml\u001b[0m\u001b[1;33m.\u001b[0m\u001b[0mappend\u001b[0m\u001b[1;33m(\u001b[0m\u001b[0mi\u001b[0m\u001b[1;33m)\u001b[0m\u001b[1;33m\u001b[0m\u001b[1;33m\u001b[0m\u001b[0m\n\u001b[0;32m      5\u001b[0m \u001b[1;33m\u001b[0m\u001b[0m\n",
      "\u001b[1;31mKeyboardInterrupt\u001b[0m: "
     ]
    }
   ],
   "source": [
    "l=[]\n",
    "for i in range(len(mta.ScheduledArrivalTime)):\n",
    "    if len(mta.ScheduledArrivalTime.astype('str')[i].split())==2:\n",
    "        l.append(i)\n"
   ]
  }
 ],
 "metadata": {
  "kernelspec": {
   "display_name": "Python 3",
   "language": "python",
   "name": "python3"
  },
  "language_info": {
   "codemirror_mode": {
    "name": "ipython",
    "version": 3
   },
   "file_extension": ".py",
   "mimetype": "text/x-python",
   "name": "python",
   "nbconvert_exporter": "python",
   "pygments_lexer": "ipython3",
   "version": "3.7.2"
  }
 },
 "nbformat": 4,
 "nbformat_minor": 2
}
